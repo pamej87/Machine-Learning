{
 "cells": [
  {
   "cell_type": "markdown",
   "metadata": {},
   "source": [
    "\n",
    "<i style= 'color: green; font-size:1.5em'> Pamela Jaramillo\n",
    "<!---line--->\n",
    "<i style= 'color: green; font-size:1em'> Práctica 4"
   ]
  },
  {
   "cell_type": "markdown",
   "metadata": {},
   "source": [
    "# Análisis de sentimientos con reviews de productos de Amazon España (opcional)"
   ]
  },
  {
   "cell_type": "markdown",
   "metadata": {},
   "source": [
    "Si has hecho ya el ejercicio de web scraping con `Requests` y `BeautifulSoup` habrás visto cómo extraer datos de una página web.\n",
    "\n",
    "El dataset que utilizarás en este ejercicio (que no es obligatorio entregar) lo he generado utilizando `Scrapy` y `BeautifulSoup`, y contiene unas $700.000$ entradas con dos columnas: el número de estrellas dadas por un usuario a un determinado producto y el comentario sobre dicho producto; exactamente igual que en el ejercico de scraping.\n",
    "\n",
    "Ahora, tu objetivo es utilizar técnicas de procesamiento de lenguaje natural para hacer un clasificador que sea capaz de distinguir (¡y predecir!) si un comentario es positivo o negativo.\n",
    "\n",
    "Es un ejercicio MUY complicado, más que nada porque versa sobre técnicas que no hemos visto en clase. Así que si quieres resolverlo, te va a tocar estudiar y *buscar por tu cuenta*; exactamente igual que como sería en un puesto de trabajo. Dicho esto, daré un par de pistas:\n",
    "\n",
    "+ El número de estrellas que un usuario da a un producto es el indicador de si a dicho usuario le ha gustado el producto o no. Una persona que da 5 estrellas (el máximo) a un producto probablemente esté contento con él, y el comentario será por tanto positivo; mientras que cuando una persona da 1 estrella a un producto es porque no está satisfecha... \n",
    "+ Teniendo el número de estrellas podríamos resolver el problema como si fuera de regresión; pero vamos a establecer una regla para convertirlo en problema de clasificación: *si una review tiene 4 o más estrellas, se trata de una review positiva; y será negativa si tiene menos de 4 estrellas*. Así que probablemente te toque transformar el número de estrellas en otra variable que sea *comentario positivo/negativo*.\n",
    "\n",
    "Y... poco más. Lo más complicado será convertir el texto de cada review en algo que un clasificador pueda utilizar y entender (puesto que los modelos no entienden de palabras, sino de números). Aquí es donde te toca investigar las técnicas para hacerlo. El ejercicio se puede conseguir hacer, y obtener buenos resultados, utilizando únicamente Numpy, pandas y Scikit-Learn; pero siéntete libre de utilizar las bibliotecas que quieras.\n",
    "\n",
    "Ahora escribiré una serie de *keywords* que probablemente te ayuden a saber qué buscar:\n",
    "\n",
    "`bag of words, tokenizer, tf, idf, tf-idf, sklearn.feature_extraction, scipy.sparse, NLTK (opcional), stemmer, lemmatizer, stop-words removal, bigrams, trigrams`\n",
    "\n",
    "No te desesperes si te encuentras muy perdido/a y no consigues sacar nada. Tras la fecha de entrega os daré un ejemplo de solución explicado con todo el detalle posible.\n",
    "\n",
    "¡Ánimo y buena suerte!"
   ]
  },
  {
   "cell_type": "code",
   "execution_count": 2,
   "metadata": {},
   "outputs": [],
   "source": [
    "import pandas as pd\n",
    "import numpy as np\n",
    "import re\n",
    "import nltk \n",
    "import matplotlib.pyplot as plt\n",
    "%matplotlib inline\n",
    "import pickle \n",
    "\n",
    "#-------REPRESENT TEXT TO NUMERICAL WORDS--------------\n",
    "from nltk.corpus import stopwords\n",
    "from sklearn.feature_extraction.text import TfidfVectorizer\n",
    "\n",
    "#-------TRAIN TEST SPLIT--------------\n",
    "\n",
    "from sklearn.model_selection import train_test_split\n",
    "\n",
    "#-------MODELOS DE CLASIFICACIÓN--------------\n",
    "\n",
    "from sklearn.ensemble import RandomForestClassifier as RFC\n",
    "from sklearn.model_selection import GridSearchCV as GSC\n",
    "from sklearn.linear_model import SGDClassifier as SGDC\n",
    "from sklearn.neural_network import MLPClassifier as MLP\n",
    "from sklearn.linear_model import LogisticRegression as LR\n",
    "from sklearn.ensemble import GradientBoostingClassifier as GBC\n",
    "from sklearn.naive_bayes import MultinomialNB as MNB\n",
    "from sklearn.svm import LinearSVC as SVC\n",
    "\n",
    "#-------MÉTRICAS DE CLASIFICACIÓN--------------\n",
    "\n",
    "from sklearn.metrics import recall_score\n",
    "from sklearn.metrics import precision_score\n",
    "from sklearn.metrics import f1_score\n",
    "from sklearn.metrics import roc_auc_score\n",
    "from sklearn.metrics import roc_curve\n",
    "from sklearn.metrics import confusion_matrix\n",
    "from sklearn.metrics import classification_report\n",
    "from sklearn.metrics import classification_report, confusion_matrix, accuracy_score\n",
    "\n",
    "from sklearn.preprocessing import StandardScaler\n",
    "#PIPELINE\n",
    "from sklearn.pipeline import Pipeline\n",
    "#FEATURES SELECTION\n",
    "from sklearn.feature_selection import RFECV\n",
    "from sklearn.feature_selection import SelectKBest as SKB\n",
    "\n"
   ]
  },
  {
   "cell_type": "code",
   "execution_count": 3,
   "metadata": {},
   "outputs": [],
   "source": [
    "#FUNCIONES\n",
    "def metricas(modelo,x,y):\n",
    "    Accuracy=(round(((modelo.score(x,y))*100),2))\n",
    "    Recall=round(((recall_score(y_pred=modelo.predict(x),y_true =y))*100),2)\n",
    "    precision=round(((precision_score(y_pred=modelo.predict(x),y_true =y))*100),2)\n",
    "    print('Accuracy:%s'%Accuracy)\n",
    "    print('   Acierto un %s%% de veces'%(Accuracy))\n",
    "    print('Recall:%s'%Recall)\n",
    "    print(\"   Capto el %s%% de comentarios positivos\" %(Recall))\n",
    "    print('Precisión:%s'%precision)\n",
    "    print(\"   Cuando predigo un comentario positivo lo hago con un %s%% de fiabilidad\" %(precision))      \n",
    "    print('\\n')\n",
    "    print('Matriz de confusión')\n",
    "    confusion=confusion_matrix(y_true=y, y_pred=modelo.predict(x))\n",
    "    return confusion\n",
    "    print('Predigo %s veces que es un comentario positivo cuando es negativo y predigo %s veces que es negativo cuando es positivo' %(confusion[0,1],\n",
    "                                                                                                       confusion[1,0]))"
   ]
  },
  {
   "cell_type": "code",
   "execution_count": 2,
   "metadata": {},
   "outputs": [],
   "source": [
    "df_amazon= pd.read_csv('amazon_es_reviews/amazon_es_reviews.csv', sep=';', header=0,encoding='ISO-8859-1')"
   ]
  },
  {
   "cell_type": "code",
   "execution_count": 3,
   "metadata": {},
   "outputs": [
    {
     "data": {
      "text/html": [
       "<div>\n",
       "<style scoped>\n",
       "    .dataframe tbody tr th:only-of-type {\n",
       "        vertical-align: middle;\n",
       "    }\n",
       "\n",
       "    .dataframe tbody tr th {\n",
       "        vertical-align: top;\n",
       "    }\n",
       "\n",
       "    .dataframe thead th {\n",
       "        text-align: right;\n",
       "    }\n",
       "</style>\n",
       "<table border=\"1\" class=\"dataframe\">\n",
       "  <thead>\n",
       "    <tr style=\"text-align: right;\">\n",
       "      <th></th>\n",
       "      <th>comentario</th>\n",
       "      <th>estrellas</th>\n",
       "    </tr>\n",
       "  </thead>\n",
       "  <tbody>\n",
       "    <tr>\n",
       "      <th>0</th>\n",
       "      <td>Para chicas es perfecto, ya que la esfera no e...</td>\n",
       "      <td>4.0</td>\n",
       "    </tr>\n",
       "    <tr>\n",
       "      <th>1</th>\n",
       "      <td>Muy floja la cuerda y el anclaje es de mala ca...</td>\n",
       "      <td>1.0</td>\n",
       "    </tr>\n",
       "    <tr>\n",
       "      <th>2</th>\n",
       "      <td>Razonablemente bien escrito, bien ambientado, ...</td>\n",
       "      <td>3.0</td>\n",
       "    </tr>\n",
       "    <tr>\n",
       "      <th>3</th>\n",
       "      <td>Hola! No suel o escribir muchas opiniones sobr...</td>\n",
       "      <td>5.0</td>\n",
       "    </tr>\n",
       "    <tr>\n",
       "      <th>4</th>\n",
       "      <td>A simple vista m parecia una buena camara pero...</td>\n",
       "      <td>1.0</td>\n",
       "    </tr>\n",
       "    <tr>\n",
       "      <th>5</th>\n",
       "      <td>NI para pasar el rato, los personajes no tiene...</td>\n",
       "      <td>1.0</td>\n",
       "    </tr>\n",
       "    <tr>\n",
       "      <th>6</th>\n",
       "      <td>el fabricante decia que es compatible con la d...</td>\n",
       "      <td>2.0</td>\n",
       "    </tr>\n",
       "    <tr>\n",
       "      <th>7</th>\n",
       "      <td>el libro estÃ¡ en muy buenas condiciones, pero...</td>\n",
       "      <td>3.0</td>\n",
       "    </tr>\n",
       "    <tr>\n",
       "      <th>8</th>\n",
       "      <td>buen aspecto, pero le falta fortaleza. util pa...</td>\n",
       "      <td>3.0</td>\n",
       "    </tr>\n",
       "    <tr>\n",
       "      <th>9</th>\n",
       "      <td>Explica de forma simple y sencilla los pensami...</td>\n",
       "      <td>5.0</td>\n",
       "    </tr>\n",
       "    <tr>\n",
       "      <th>10</th>\n",
       "      <td>RelaciÃ³n calidad precio buena, el sonido no e...</td>\n",
       "      <td>3.0</td>\n",
       "    </tr>\n",
       "    <tr>\n",
       "      <th>11</th>\n",
       "      <td>el funcionamiento del producto es  correcto , ...</td>\n",
       "      <td>5.0</td>\n",
       "    </tr>\n",
       "    <tr>\n",
       "      <th>12</th>\n",
       "      <td>Esta bien aunque es muy diferente de como esta...</td>\n",
       "      <td>1.0</td>\n",
       "    </tr>\n",
       "    <tr>\n",
       "      <th>13</th>\n",
       "      <td>Y si es en 3d GENIAL, tanto para niÃ±os como p...</td>\n",
       "      <td>5.0</td>\n",
       "    </tr>\n",
       "    <tr>\n",
       "      <th>14</th>\n",
       "      <td>Considero esta historia muy entretenida y llen...</td>\n",
       "      <td>5.0</td>\n",
       "    </tr>\n",
       "    <tr>\n",
       "      <th>15</th>\n",
       "      <td>Cuando van a mandarlo. Para que sirve la previ...</td>\n",
       "      <td>1.0</td>\n",
       "    </tr>\n",
       "    <tr>\n",
       "      <th>16</th>\n",
       "      <td>recomendada si eres un amante de lo clasico, l...</td>\n",
       "      <td>4.0</td>\n",
       "    </tr>\n",
       "    <tr>\n",
       "      <th>17</th>\n",
       "      <td>En estÃ©tica y comodidad se ajustan a lo que e...</td>\n",
       "      <td>4.0</td>\n",
       "    </tr>\n",
       "    <tr>\n",
       "      <th>18</th>\n",
       "      <td>Esta marca tiene demasiado renombre para la ca...</td>\n",
       "      <td>3.0</td>\n",
       "    </tr>\n",
       "    <tr>\n",
       "      <th>19</th>\n",
       "      <td>Una mujer millonaria (Elizabeth Taylor ) ve de...</td>\n",
       "      <td>3.0</td>\n",
       "    </tr>\n",
       "  </tbody>\n",
       "</table>\n",
       "</div>"
      ],
      "text/plain": [
       "                                           comentario  estrellas\n",
       "0   Para chicas es perfecto, ya que la esfera no e...        4.0\n",
       "1   Muy floja la cuerda y el anclaje es de mala ca...        1.0\n",
       "2   Razonablemente bien escrito, bien ambientado, ...        3.0\n",
       "3   Hola! No suel o escribir muchas opiniones sobr...        5.0\n",
       "4   A simple vista m parecia una buena camara pero...        1.0\n",
       "5   NI para pasar el rato, los personajes no tiene...        1.0\n",
       "6   el fabricante decia que es compatible con la d...        2.0\n",
       "7   el libro estÃ¡ en muy buenas condiciones, pero...        3.0\n",
       "8   buen aspecto, pero le falta fortaleza. util pa...        3.0\n",
       "9   Explica de forma simple y sencilla los pensami...        5.0\n",
       "10  RelaciÃ³n calidad precio buena, el sonido no e...        3.0\n",
       "11  el funcionamiento del producto es  correcto , ...        5.0\n",
       "12  Esta bien aunque es muy diferente de como esta...        1.0\n",
       "13  Y si es en 3d GENIAL, tanto para niÃ±os como p...        5.0\n",
       "14  Considero esta historia muy entretenida y llen...        5.0\n",
       "15  Cuando van a mandarlo. Para que sirve la previ...        1.0\n",
       "16  recomendada si eres un amante de lo clasico, l...        4.0\n",
       "17  En estÃ©tica y comodidad se ajustan a lo que e...        4.0\n",
       "18  Esta marca tiene demasiado renombre para la ca...        3.0\n",
       "19  Una mujer millonaria (Elizabeth Taylor ) ve de...        3.0"
      ]
     },
     "execution_count": 3,
     "metadata": {},
     "output_type": "execute_result"
    }
   ],
   "source": [
    "df_amazon.head(20)"
   ]
  },
  {
   "cell_type": "markdown",
   "metadata": {},
   "source": [
    "<a style='color:blue'> Creación de una nueva variable, según número de estrellas"
   ]
  },
  {
   "cell_type": "code",
   "execution_count": 4,
   "metadata": {},
   "outputs": [],
   "source": [
    "valoracion=[]\n",
    "for x in df_amazon['estrellas']:\n",
    "    if x >=4:\n",
    "        n=1\n",
    "    else:\n",
    "        n=0\n",
    "        \n",
    "    valoracion.append(n)\n",
    "#1: comentarios positivos\n",
    "#0: comentarios negativos"
   ]
  },
  {
   "cell_type": "code",
   "execution_count": 5,
   "metadata": {},
   "outputs": [],
   "source": [
    "df_amazon['valoracion']=valoracion"
   ]
  },
  {
   "cell_type": "code",
   "execution_count": 6,
   "metadata": {},
   "outputs": [
    {
     "data": {
      "text/html": [
       "<div>\n",
       "<style scoped>\n",
       "    .dataframe tbody tr th:only-of-type {\n",
       "        vertical-align: middle;\n",
       "    }\n",
       "\n",
       "    .dataframe tbody tr th {\n",
       "        vertical-align: top;\n",
       "    }\n",
       "\n",
       "    .dataframe thead th {\n",
       "        text-align: right;\n",
       "    }\n",
       "</style>\n",
       "<table border=\"1\" class=\"dataframe\">\n",
       "  <thead>\n",
       "    <tr style=\"text-align: right;\">\n",
       "      <th></th>\n",
       "      <th>comentario</th>\n",
       "      <th>estrellas</th>\n",
       "      <th>valoracion</th>\n",
       "    </tr>\n",
       "  </thead>\n",
       "  <tbody>\n",
       "    <tr>\n",
       "      <th>0</th>\n",
       "      <td>Para chicas es perfecto, ya que la esfera no e...</td>\n",
       "      <td>4.0</td>\n",
       "      <td>1</td>\n",
       "    </tr>\n",
       "    <tr>\n",
       "      <th>1</th>\n",
       "      <td>Muy floja la cuerda y el anclaje es de mala ca...</td>\n",
       "      <td>1.0</td>\n",
       "      <td>0</td>\n",
       "    </tr>\n",
       "    <tr>\n",
       "      <th>2</th>\n",
       "      <td>Razonablemente bien escrito, bien ambientado, ...</td>\n",
       "      <td>3.0</td>\n",
       "      <td>0</td>\n",
       "    </tr>\n",
       "    <tr>\n",
       "      <th>3</th>\n",
       "      <td>Hola! No suel o escribir muchas opiniones sobr...</td>\n",
       "      <td>5.0</td>\n",
       "      <td>1</td>\n",
       "    </tr>\n",
       "    <tr>\n",
       "      <th>4</th>\n",
       "      <td>A simple vista m parecia una buena camara pero...</td>\n",
       "      <td>1.0</td>\n",
       "      <td>0</td>\n",
       "    </tr>\n",
       "    <tr>\n",
       "      <th>5</th>\n",
       "      <td>NI para pasar el rato, los personajes no tiene...</td>\n",
       "      <td>1.0</td>\n",
       "      <td>0</td>\n",
       "    </tr>\n",
       "    <tr>\n",
       "      <th>6</th>\n",
       "      <td>el fabricante decia que es compatible con la d...</td>\n",
       "      <td>2.0</td>\n",
       "      <td>0</td>\n",
       "    </tr>\n",
       "    <tr>\n",
       "      <th>7</th>\n",
       "      <td>el libro estÃ¡ en muy buenas condiciones, pero...</td>\n",
       "      <td>3.0</td>\n",
       "      <td>0</td>\n",
       "    </tr>\n",
       "    <tr>\n",
       "      <th>8</th>\n",
       "      <td>buen aspecto, pero le falta fortaleza. util pa...</td>\n",
       "      <td>3.0</td>\n",
       "      <td>0</td>\n",
       "    </tr>\n",
       "    <tr>\n",
       "      <th>9</th>\n",
       "      <td>Explica de forma simple y sencilla los pensami...</td>\n",
       "      <td>5.0</td>\n",
       "      <td>1</td>\n",
       "    </tr>\n",
       "    <tr>\n",
       "      <th>10</th>\n",
       "      <td>RelaciÃ³n calidad precio buena, el sonido no e...</td>\n",
       "      <td>3.0</td>\n",
       "      <td>0</td>\n",
       "    </tr>\n",
       "    <tr>\n",
       "      <th>11</th>\n",
       "      <td>el funcionamiento del producto es  correcto , ...</td>\n",
       "      <td>5.0</td>\n",
       "      <td>1</td>\n",
       "    </tr>\n",
       "    <tr>\n",
       "      <th>12</th>\n",
       "      <td>Esta bien aunque es muy diferente de como esta...</td>\n",
       "      <td>1.0</td>\n",
       "      <td>0</td>\n",
       "    </tr>\n",
       "    <tr>\n",
       "      <th>13</th>\n",
       "      <td>Y si es en 3d GENIAL, tanto para niÃ±os como p...</td>\n",
       "      <td>5.0</td>\n",
       "      <td>1</td>\n",
       "    </tr>\n",
       "    <tr>\n",
       "      <th>14</th>\n",
       "      <td>Considero esta historia muy entretenida y llen...</td>\n",
       "      <td>5.0</td>\n",
       "      <td>1</td>\n",
       "    </tr>\n",
       "    <tr>\n",
       "      <th>15</th>\n",
       "      <td>Cuando van a mandarlo. Para que sirve la previ...</td>\n",
       "      <td>1.0</td>\n",
       "      <td>0</td>\n",
       "    </tr>\n",
       "    <tr>\n",
       "      <th>16</th>\n",
       "      <td>recomendada si eres un amante de lo clasico, l...</td>\n",
       "      <td>4.0</td>\n",
       "      <td>1</td>\n",
       "    </tr>\n",
       "    <tr>\n",
       "      <th>17</th>\n",
       "      <td>En estÃ©tica y comodidad se ajustan a lo que e...</td>\n",
       "      <td>4.0</td>\n",
       "      <td>1</td>\n",
       "    </tr>\n",
       "    <tr>\n",
       "      <th>18</th>\n",
       "      <td>Esta marca tiene demasiado renombre para la ca...</td>\n",
       "      <td>3.0</td>\n",
       "      <td>0</td>\n",
       "    </tr>\n",
       "    <tr>\n",
       "      <th>19</th>\n",
       "      <td>Una mujer millonaria (Elizabeth Taylor ) ve de...</td>\n",
       "      <td>3.0</td>\n",
       "      <td>0</td>\n",
       "    </tr>\n",
       "    <tr>\n",
       "      <th>20</th>\n",
       "      <td>Es una pena que las piezas y el tablero sean d...</td>\n",
       "      <td>2.0</td>\n",
       "      <td>0</td>\n",
       "    </tr>\n",
       "    <tr>\n",
       "      <th>21</th>\n",
       "      <td>DiseÃ±o muy bonito y buen precio. Montaje dema...</td>\n",
       "      <td>3.0</td>\n",
       "      <td>0</td>\n",
       "    </tr>\n",
       "    <tr>\n",
       "      <th>22</th>\n",
       "      <td>Cumple su funciÃ³n perfectamente y por el prec...</td>\n",
       "      <td>5.0</td>\n",
       "      <td>1</td>\n",
       "    </tr>\n",
       "    <tr>\n",
       "      <th>23</th>\n",
       "      <td>La silla es de buena calidad y buen acabado si...</td>\n",
       "      <td>2.0</td>\n",
       "      <td>0</td>\n",
       "    </tr>\n",
       "    <tr>\n",
       "      <th>24</th>\n",
       "      <td>Todo satisfactorio,y el plazo de entrega antes...</td>\n",
       "      <td>5.0</td>\n",
       "      <td>1</td>\n",
       "    </tr>\n",
       "    <tr>\n",
       "      <th>25</th>\n",
       "      <td>El producto es como en la foto, es de fÃ¡cil m...</td>\n",
       "      <td>5.0</td>\n",
       "      <td>1</td>\n",
       "    </tr>\n",
       "    <tr>\n",
       "      <th>26</th>\n",
       "      <td>No tiene ninguna pega destacable aunque una ve...</td>\n",
       "      <td>4.0</td>\n",
       "      <td>1</td>\n",
       "    </tr>\n",
       "    <tr>\n",
       "      <th>27</th>\n",
       "      <td>hace su cometido principal que es moler, pero ...</td>\n",
       "      <td>1.0</td>\n",
       "      <td>0</td>\n",
       "    </tr>\n",
       "    <tr>\n",
       "      <th>28</th>\n",
       "      <td>Como  los DVD de las otras temporadas eran de ...</td>\n",
       "      <td>3.0</td>\n",
       "      <td>0</td>\n",
       "    </tr>\n",
       "    <tr>\n",
       "      <th>29</th>\n",
       "      <td>EstÃ  bien y cumple su funcion. Le falta un ci...</td>\n",
       "      <td>3.0</td>\n",
       "      <td>0</td>\n",
       "    </tr>\n",
       "    <tr>\n",
       "      <th>...</th>\n",
       "      <td>...</td>\n",
       "      <td>...</td>\n",
       "      <td>...</td>\n",
       "    </tr>\n",
       "    <tr>\n",
       "      <th>702416</th>\n",
       "      <td>Muy buena reflexiÃ³n sobre los acontecimientos...</td>\n",
       "      <td>3.0</td>\n",
       "      <td>0</td>\n",
       "    </tr>\n",
       "    <tr>\n",
       "      <th>702417</th>\n",
       "      <td>Funcionan y son cÃ³modas. Muy satisfecha con l...</td>\n",
       "      <td>5.0</td>\n",
       "      <td>1</td>\n",
       "    </tr>\n",
       "    <tr>\n",
       "      <th>702418</th>\n",
       "      <td>Perfecto! Lo mejor de Mr Bean y con subtÃ­tulo...</td>\n",
       "      <td>5.0</td>\n",
       "      <td>1</td>\n",
       "    </tr>\n",
       "    <tr>\n",
       "      <th>702419</th>\n",
       "      <td>Es muy pequeÃ±o....no creia que fuese asÃ­...m...</td>\n",
       "      <td>1.0</td>\n",
       "      <td>0</td>\n",
       "    </tr>\n",
       "    <tr>\n",
       "      <th>702420</th>\n",
       "      <td>Muy rapida, facil de instalar y de reconocer p...</td>\n",
       "      <td>5.0</td>\n",
       "      <td>1</td>\n",
       "    </tr>\n",
       "    <tr>\n",
       "      <th>702421</th>\n",
       "      <td>Muy buena la relaciÃ³n calidad precio.  Eso sÃ...</td>\n",
       "      <td>4.0</td>\n",
       "      <td>1</td>\n",
       "    </tr>\n",
       "    <tr>\n",
       "      <th>702422</th>\n",
       "      <td>Eficiente, de atractivo aspecto. Calor amplio ...</td>\n",
       "      <td>4.0</td>\n",
       "      <td>1</td>\n",
       "    </tr>\n",
       "    <tr>\n",
       "      <th>702423</th>\n",
       "      <td>Pague por el 5.92â¬ y gastos de envio gratis ...</td>\n",
       "      <td>5.0</td>\n",
       "      <td>1</td>\n",
       "    </tr>\n",
       "    <tr>\n",
       "      <th>702424</th>\n",
       "      <td>un post venta malo de tp-link,te lian con la c...</td>\n",
       "      <td>1.0</td>\n",
       "      <td>0</td>\n",
       "    </tr>\n",
       "    <tr>\n",
       "      <th>702425</th>\n",
       "      <td>Los llevo usando mas de un aÃ±o y se oxidan.A ...</td>\n",
       "      <td>2.0</td>\n",
       "      <td>0</td>\n",
       "    </tr>\n",
       "    <tr>\n",
       "      <th>702426</th>\n",
       "      <td>La funda al menos sirve para proteger el mÃ³vi...</td>\n",
       "      <td>2.0</td>\n",
       "      <td>0</td>\n",
       "    </tr>\n",
       "    <tr>\n",
       "      <th>702427</th>\n",
       "      <td>Buen producto , de momento hace su funciÃ³n. y...</td>\n",
       "      <td>3.0</td>\n",
       "      <td>0</td>\n",
       "    </tr>\n",
       "    <tr>\n",
       "      <th>702428</th>\n",
       "      <td>Muy cortito, pero eso lo hace fÃ¡cil de leer. ...</td>\n",
       "      <td>3.0</td>\n",
       "      <td>0</td>\n",
       "    </tr>\n",
       "    <tr>\n",
       "      <th>702429</th>\n",
       "      <td>Es una muÃ±eca sin sentido porque su supuesta ...</td>\n",
       "      <td>1.0</td>\n",
       "      <td>0</td>\n",
       "    </tr>\n",
       "    <tr>\n",
       "      <th>702430</th>\n",
       "      <td>Producto de calidad media a precio adecuado. E...</td>\n",
       "      <td>3.0</td>\n",
       "      <td>0</td>\n",
       "    </tr>\n",
       "    <tr>\n",
       "      <th>702431</th>\n",
       "      <td>son preciosas, parecen reales. Es un acabado p...</td>\n",
       "      <td>5.0</td>\n",
       "      <td>1</td>\n",
       "    </tr>\n",
       "    <tr>\n",
       "      <th>702432</th>\n",
       "      <td>Es muy malo la camara va temblando todo el rat...</td>\n",
       "      <td>1.0</td>\n",
       "      <td>0</td>\n",
       "    </tr>\n",
       "    <tr>\n",
       "      <th>702433</th>\n",
       "      <td>DevolvÃ­ la funda porque no me gustÃ³ demasiad...</td>\n",
       "      <td>2.0</td>\n",
       "      <td>0</td>\n",
       "    </tr>\n",
       "    <tr>\n",
       "      <th>702434</th>\n",
       "      <td>Parece ser que ya a mi marido no se le empaÃ±a...</td>\n",
       "      <td>5.0</td>\n",
       "      <td>1</td>\n",
       "    </tr>\n",
       "    <tr>\n",
       "      <th>702435</th>\n",
       "      <td>He comprado e instalado, antes de este, 3 vent...</td>\n",
       "      <td>1.0</td>\n",
       "      <td>0</td>\n",
       "    </tr>\n",
       "    <tr>\n",
       "      <th>702436</th>\n",
       "      <td>Ne a llegado andes de lo previsto. No faltaba ...</td>\n",
       "      <td>5.0</td>\n",
       "      <td>1</td>\n",
       "    </tr>\n",
       "    <tr>\n",
       "      <th>702437</th>\n",
       "      <td>Es DE LEJOS la mejor reproducciÃ³n que he vist...</td>\n",
       "      <td>5.0</td>\n",
       "      <td>1</td>\n",
       "    </tr>\n",
       "    <tr>\n",
       "      <th>702438</th>\n",
       "      <td>El libro esta bien, aunque no se muy bien que ...</td>\n",
       "      <td>3.0</td>\n",
       "      <td>0</td>\n",
       "    </tr>\n",
       "    <tr>\n",
       "      <th>702439</th>\n",
       "      <td>El paquete es muy rÃ¡pido llegÃ³ a mi casa sol...</td>\n",
       "      <td>5.0</td>\n",
       "      <td>1</td>\n",
       "    </tr>\n",
       "    <tr>\n",
       "      <th>702440</th>\n",
       "      <td>Le ha encantado a mi niÃ±a de 4 aÃ±os, tiene u...</td>\n",
       "      <td>4.0</td>\n",
       "      <td>1</td>\n",
       "    </tr>\n",
       "    <tr>\n",
       "      <th>702441</th>\n",
       "      <td>Nada a destacar. Muy bien. Envio correcto rapi...</td>\n",
       "      <td>5.0</td>\n",
       "      <td>1</td>\n",
       "    </tr>\n",
       "    <tr>\n",
       "      <th>702442</th>\n",
       "      <td>A falta de probarlo, presenta signos de haber ...</td>\n",
       "      <td>3.0</td>\n",
       "      <td>0</td>\n",
       "    </tr>\n",
       "    <tr>\n",
       "      <th>702443</th>\n",
       "      <td>Si es un simple cargador muy bien de precio y ...</td>\n",
       "      <td>3.0</td>\n",
       "      <td>0</td>\n",
       "    </tr>\n",
       "    <tr>\n",
       "      <th>702444</th>\n",
       "      <td>Si el producto no estÃ¡ mal , lo Ãºnico que no...</td>\n",
       "      <td>4.0</td>\n",
       "      <td>1</td>\n",
       "    </tr>\n",
       "    <tr>\n",
       "      <th>702445</th>\n",
       "      <td>Creo que es un aparato excelente y cumple toda...</td>\n",
       "      <td>5.0</td>\n",
       "      <td>1</td>\n",
       "    </tr>\n",
       "  </tbody>\n",
       "</table>\n",
       "<p>702446 rows × 3 columns</p>\n",
       "</div>"
      ],
      "text/plain": [
       "                                               comentario  estrellas  \\\n",
       "0       Para chicas es perfecto, ya que la esfera no e...        4.0   \n",
       "1       Muy floja la cuerda y el anclaje es de mala ca...        1.0   \n",
       "2       Razonablemente bien escrito, bien ambientado, ...        3.0   \n",
       "3       Hola! No suel o escribir muchas opiniones sobr...        5.0   \n",
       "4       A simple vista m parecia una buena camara pero...        1.0   \n",
       "5       NI para pasar el rato, los personajes no tiene...        1.0   \n",
       "6       el fabricante decia que es compatible con la d...        2.0   \n",
       "7       el libro estÃ¡ en muy buenas condiciones, pero...        3.0   \n",
       "8       buen aspecto, pero le falta fortaleza. util pa...        3.0   \n",
       "9       Explica de forma simple y sencilla los pensami...        5.0   \n",
       "10      RelaciÃ³n calidad precio buena, el sonido no e...        3.0   \n",
       "11      el funcionamiento del producto es  correcto , ...        5.0   \n",
       "12      Esta bien aunque es muy diferente de como esta...        1.0   \n",
       "13      Y si es en 3d GENIAL, tanto para niÃ±os como p...        5.0   \n",
       "14      Considero esta historia muy entretenida y llen...        5.0   \n",
       "15      Cuando van a mandarlo. Para que sirve la previ...        1.0   \n",
       "16      recomendada si eres un amante de lo clasico, l...        4.0   \n",
       "17      En estÃ©tica y comodidad se ajustan a lo que e...        4.0   \n",
       "18      Esta marca tiene demasiado renombre para la ca...        3.0   \n",
       "19      Una mujer millonaria (Elizabeth Taylor ) ve de...        3.0   \n",
       "20      Es una pena que las piezas y el tablero sean d...        2.0   \n",
       "21      DiseÃ±o muy bonito y buen precio. Montaje dema...        3.0   \n",
       "22      Cumple su funciÃ³n perfectamente y por el prec...        5.0   \n",
       "23      La silla es de buena calidad y buen acabado si...        2.0   \n",
       "24      Todo satisfactorio,y el plazo de entrega antes...        5.0   \n",
       "25      El producto es como en la foto, es de fÃ¡cil m...        5.0   \n",
       "26      No tiene ninguna pega destacable aunque una ve...        4.0   \n",
       "27      hace su cometido principal que es moler, pero ...        1.0   \n",
       "28      Como  los DVD de las otras temporadas eran de ...        3.0   \n",
       "29      EstÃ  bien y cumple su funcion. Le falta un ci...        3.0   \n",
       "...                                                   ...        ...   \n",
       "702416  Muy buena reflexiÃ³n sobre los acontecimientos...        3.0   \n",
       "702417  Funcionan y son cÃ³modas. Muy satisfecha con l...        5.0   \n",
       "702418  Perfecto! Lo mejor de Mr Bean y con subtÃ­tulo...        5.0   \n",
       "702419  Es muy pequeÃ±o....no creia que fuese asÃ­...m...        1.0   \n",
       "702420  Muy rapida, facil de instalar y de reconocer p...        5.0   \n",
       "702421  Muy buena la relaciÃ³n calidad precio.  Eso sÃ...        4.0   \n",
       "702422  Eficiente, de atractivo aspecto. Calor amplio ...        4.0   \n",
       "702423  Pague por el 5.92â¬ y gastos de envio gratis ...        5.0   \n",
       "702424  un post venta malo de tp-link,te lian con la c...        1.0   \n",
       "702425  Los llevo usando mas de un aÃ±o y se oxidan.A ...        2.0   \n",
       "702426  La funda al menos sirve para proteger el mÃ³vi...        2.0   \n",
       "702427  Buen producto , de momento hace su funciÃ³n. y...        3.0   \n",
       "702428  Muy cortito, pero eso lo hace fÃ¡cil de leer. ...        3.0   \n",
       "702429  Es una muÃ±eca sin sentido porque su supuesta ...        1.0   \n",
       "702430  Producto de calidad media a precio adecuado. E...        3.0   \n",
       "702431  son preciosas, parecen reales. Es un acabado p...        5.0   \n",
       "702432  Es muy malo la camara va temblando todo el rat...        1.0   \n",
       "702433  DevolvÃ­ la funda porque no me gustÃ³ demasiad...        2.0   \n",
       "702434  Parece ser que ya a mi marido no se le empaÃ±a...        5.0   \n",
       "702435  He comprado e instalado, antes de este, 3 vent...        1.0   \n",
       "702436  Ne a llegado andes de lo previsto. No faltaba ...        5.0   \n",
       "702437  Es DE LEJOS la mejor reproducciÃ³n que he vist...        5.0   \n",
       "702438  El libro esta bien, aunque no se muy bien que ...        3.0   \n",
       "702439  El paquete es muy rÃ¡pido llegÃ³ a mi casa sol...        5.0   \n",
       "702440  Le ha encantado a mi niÃ±a de 4 aÃ±os, tiene u...        4.0   \n",
       "702441  Nada a destacar. Muy bien. Envio correcto rapi...        5.0   \n",
       "702442  A falta de probarlo, presenta signos de haber ...        3.0   \n",
       "702443  Si es un simple cargador muy bien de precio y ...        3.0   \n",
       "702444  Si el producto no estÃ¡ mal , lo Ãºnico que no...        4.0   \n",
       "702445  Creo que es un aparato excelente y cumple toda...        5.0   \n",
       "\n",
       "        valoracion  \n",
       "0                1  \n",
       "1                0  \n",
       "2                0  \n",
       "3                1  \n",
       "4                0  \n",
       "5                0  \n",
       "6                0  \n",
       "7                0  \n",
       "8                0  \n",
       "9                1  \n",
       "10               0  \n",
       "11               1  \n",
       "12               0  \n",
       "13               1  \n",
       "14               1  \n",
       "15               0  \n",
       "16               1  \n",
       "17               1  \n",
       "18               0  \n",
       "19               0  \n",
       "20               0  \n",
       "21               0  \n",
       "22               1  \n",
       "23               0  \n",
       "24               1  \n",
       "25               1  \n",
       "26               1  \n",
       "27               0  \n",
       "28               0  \n",
       "29               0  \n",
       "...            ...  \n",
       "702416           0  \n",
       "702417           1  \n",
       "702418           1  \n",
       "702419           0  \n",
       "702420           1  \n",
       "702421           1  \n",
       "702422           1  \n",
       "702423           1  \n",
       "702424           0  \n",
       "702425           0  \n",
       "702426           0  \n",
       "702427           0  \n",
       "702428           0  \n",
       "702429           0  \n",
       "702430           0  \n",
       "702431           1  \n",
       "702432           0  \n",
       "702433           0  \n",
       "702434           1  \n",
       "702435           0  \n",
       "702436           1  \n",
       "702437           1  \n",
       "702438           0  \n",
       "702439           1  \n",
       "702440           1  \n",
       "702441           1  \n",
       "702442           0  \n",
       "702443           0  \n",
       "702444           1  \n",
       "702445           1  \n",
       "\n",
       "[702446 rows x 3 columns]"
      ]
     },
     "execution_count": 6,
     "metadata": {},
     "output_type": "execute_result"
    }
   ],
   "source": [
    "df_amazon"
   ]
  },
  {
   "cell_type": "code",
   "execution_count": 5,
   "metadata": {},
   "outputs": [],
   "source": [
    "features = df_amazon.iloc[:, 0].values\n",
    "target = df_amazon.iloc[:, 2].values"
   ]
  },
  {
   "cell_type": "code",
   "execution_count": 4,
   "metadata": {},
   "outputs": [
    {
     "data": {
      "text/plain": [
       "702446"
      ]
     },
     "execution_count": 4,
     "metadata": {},
     "output_type": "execute_result"
    }
   ],
   "source": [
    "len(features)"
   ]
  },
  {
   "cell_type": "code",
   "execution_count": 6,
   "metadata": {},
   "outputs": [
    {
     "data": {
      "text/html": [
       "<div>\n",
       "<style scoped>\n",
       "    .dataframe tbody tr th:only-of-type {\n",
       "        vertical-align: middle;\n",
       "    }\n",
       "\n",
       "    .dataframe tbody tr th {\n",
       "        vertical-align: top;\n",
       "    }\n",
       "\n",
       "    .dataframe thead th {\n",
       "        text-align: right;\n",
       "    }\n",
       "</style>\n",
       "<table border=\"1\" class=\"dataframe\">\n",
       "  <thead>\n",
       "    <tr style=\"text-align: right;\">\n",
       "      <th></th>\n",
       "      <th>comentario</th>\n",
       "      <th>estrellas</th>\n",
       "      <th>valoracion</th>\n",
       "      <th>comentarios_limpios</th>\n",
       "    </tr>\n",
       "  </thead>\n",
       "  <tbody>\n",
       "    <tr>\n",
       "      <th>0</th>\n",
       "      <td>Para chicas es perfecto, ya que la esfera no e...</td>\n",
       "      <td>4.0</td>\n",
       "      <td>1</td>\n",
       "      <td>para chicas es perfecto ya que la esfera no es...</td>\n",
       "    </tr>\n",
       "    <tr>\n",
       "      <th>1</th>\n",
       "      <td>Muy floja la cuerda y el anclaje es de mala ca...</td>\n",
       "      <td>1.0</td>\n",
       "      <td>0</td>\n",
       "      <td>muy floja la cuerda y el anclaje es de mala ca...</td>\n",
       "    </tr>\n",
       "    <tr>\n",
       "      <th>2</th>\n",
       "      <td>Razonablemente bien escrito, bien ambientado, ...</td>\n",
       "      <td>3.0</td>\n",
       "      <td>0</td>\n",
       "      <td>razonablemente bien escrito bien ambientado qu...</td>\n",
       "    </tr>\n",
       "    <tr>\n",
       "      <th>3</th>\n",
       "      <td>Hola! No suel o escribir muchas opiniones sobr...</td>\n",
       "      <td>5.0</td>\n",
       "      <td>1</td>\n",
       "      <td>hola no suel o escribir muchas opiniones sobre...</td>\n",
       "    </tr>\n",
       "    <tr>\n",
       "      <th>4</th>\n",
       "      <td>A simple vista m parecia una buena camara pero...</td>\n",
       "      <td>1.0</td>\n",
       "      <td>0</td>\n",
       "      <td>a simple vista m parecia una buena camara pero...</td>\n",
       "    </tr>\n",
       "  </tbody>\n",
       "</table>\n",
       "</div>"
      ],
      "text/plain": [
       "                                          comentario  estrellas  valoracion  \\\n",
       "0  Para chicas es perfecto, ya que la esfera no e...        4.0           1   \n",
       "1  Muy floja la cuerda y el anclaje es de mala ca...        1.0           0   \n",
       "2  Razonablemente bien escrito, bien ambientado, ...        3.0           0   \n",
       "3  Hola! No suel o escribir muchas opiniones sobr...        5.0           1   \n",
       "4  A simple vista m parecia una buena camara pero...        1.0           0   \n",
       "\n",
       "                                 comentarios_limpios  \n",
       "0  para chicas es perfecto ya que la esfera no es...  \n",
       "1  muy floja la cuerda y el anclaje es de mala ca...  \n",
       "2  razonablemente bien escrito bien ambientado qu...  \n",
       "3  hola no suel o escribir muchas opiniones sobre...  \n",
       "4  a simple vista m parecia una buena camara pero...  "
      ]
     },
     "execution_count": 6,
     "metadata": {},
     "output_type": "execute_result"
    }
   ],
   "source": [
    "df_amazon.head()"
   ]
  },
  {
   "cell_type": "markdown",
   "metadata": {},
   "source": [
    "<a style='color:blue'> Limpieza de comentarios"
   ]
  },
  {
   "cell_type": "code",
   "execution_count": 9,
   "metadata": {},
   "outputs": [],
   "source": [
    "#Limpiamos los comentarios quitando caracteres que puedan afectar a la predicción\n",
    "features_limpias2=[]\n",
    "for sentence in range(0, len(features)):\n",
    "    features_limpias = re.sub('Ã¡','a', str(features[sentence])) #sustituir caracteres (vocales con tilde) por vocales \n",
    "    features_limpias= re.sub('Ã©','e', features_limpias)\n",
    "    features_limpias= re.sub('Ã³','o', features_limpias)\n",
    "    features_limpias= re.sub('Ãº','u', features_limpias)\n",
    "    features_limpias= re.sub('Ã±','ñ', features_limpias)#sustituir caracteres por ñ \n",
    "    features_limpias= re.sub('\\W',' ', features_limpias)#sustituir caracteres especiales por espacios en blanco \n",
    "    features_limpias= re.sub('Ã ','i', features_limpias)#sustituir caracteres (vocales con tilde) por vocales\n",
    "    features_limpias = re.sub(r'\\s+', ' ', features_limpias, flags=re.I)#sustituir doble espacio por un espacio \n",
    "    features_limpias = features_limpias.lower() #convertir todo a minusculas\n",
    "    features_limpias2.append(features_limpias)\n",
    "\n",
    "\n"
   ]
  },
  {
   "cell_type": "code",
   "execution_count": 20,
   "metadata": {},
   "outputs": [
    {
     "data": {
      "text/plain": [
       "702446"
      ]
     },
     "execution_count": 20,
     "metadata": {},
     "output_type": "execute_result"
    }
   ],
   "source": [
    "len(features_limpias2)"
   ]
  },
  {
   "cell_type": "code",
   "execution_count": 19,
   "metadata": {},
   "outputs": [
    {
     "data": {
      "text/plain": [
       "['para chicas es perfecto ya que la esfera no es muy grande y la correa se adapta a las muñecas mas finas un pelin gordo para mi gusto la carga por movimiento no dura mucho despues de 1 2 dias sin llevarlo se para ',\n",
       " 'muy floja la cuerda y el anclaje es de mala calidad el metal se dobla muy facilmente no lo recomiendo',\n",
       " 'razonablemente bien escrito bien ambientado quizas previsible pero historia interesante los personajes estan muy bien dibujados me parece un libro recomendable ',\n",
       " 'hola no suel o escribir muchas opiniones sobre los productos que compro pero la verdad este producto lo merece yo estaba desencantado con las maquinas de afeitar porque hace años me compre una philips con cuchillas rotatorias yo tengo la piel extremadamente sensible y al usar esa afeitadora me hice polvo la cara vamos en carne viva me la deje la volvi a usar otra vez mas y fue mas de lo mismo a parte de no apurar bien la barba asi que despues de esta mala experiencia me pase a las cuchillas gillette mach3 que la verdad me iban mejor pero tambien me dejaban la cara con un ardor que me duraba un dia hace varias semanas leyendo mucho en foros y demas vi que las afeitadoras con cuchillas en laminas funcionan mejor para pieles muy delicadas y ademas apuran mas asi que me dedique a investigar y me decidi a comprar una de estas mi duda era si comprar una braun o panasonic y obviamente me decidi por la segunda para conseguir las prestaciones y potencia de la panasonic en braun tenia que pagar el doble y como no sabia si finalmente me iba a ir bien me decidi por esta panasonic mi experiencia despues de varias semanas de uso es excelente una maquina con muy buena calidad de materiales robusta muy ergonomica el resultado del apurado es buenisimo es muy potente y encima la bateria carga en tan solo una hora y ya llevo cinco afeitadas y sigue con bateria una maravilla se limpia super facil y la puedes usar en seco y en mojado debajo de la ducha o con espuma o gel de afeitar ah y lo mas lo mas importante es que no me ha dañado nada en absoluto la piel ni rojeces ni escozor trae un recortador de patillas y bigote pero eso aun no lo he usado afeita muy bien tanto en cuello y cara sin duda la recomiendo al cien por cien es una pasada nada que ver con el mal apurado de las cuchillas rotatorias de las philips ',\n",
       " 'a simple vista m parecia una buena camara pero m decepcione muxo cuando en el primer baño le entro agua y adios la camara y eso k la probe primero en el acuario d casa m yeve una gran decepcion ',\n",
       " 'ni para pasar el rato los personajes no tienen ningun sentido sus dialogos son sosos la protagonista le falta cinco hervores la narrativa no existe y la fiabilidad historica totalmente nula ',\n",
       " 'el fabricante decia que es compatible con la d610 pero no hay manera igual hago algo mal pero con la compacta si me funciona ',\n",
       " 'el libro esta en muy buenas condiciones pero no incluye el cd audio por lo que solo me ha servido a medias',\n",
       " 'buen aspecto pero le falta fortaleza util para marcar corte circular la veo con poca fuerza y resistencia tengo que hacer mas pruebas ',\n",
       " 'explica de forma simple y sencilla los pensamientos de los grandes filosofos y las grandes corrientes permitiendo entender conceptos como fueron evolucionando paso a paso en una historia muy simple y entretenida',\n",
       " 'relacion calidad precio buena el sonido no es su fuerte el manos libres se escucha perfectamente el lector de usb funciona bien la conexion de la radio y el movil es muy sencilla y conectar la radio tambien',\n",
       " 'el funcionamiento del producto es correcto tiene un buen diseño el tamaño es correcto y calidad y precio acorde a lo esperado',\n",
       " 'esta bien aunque es muy diferente de como esta presentdo y para lo poquito que es es un poco caro',\n",
       " 'y si es en 3d genial tanto para niños como para concienciar a muxos mayores la peli tiene muy bueno efectos y para ser de dibujos muy buena calidad',\n",
       " 'considero esta historia muy entretenida y llena de creatividad contada en un lenguaje claro armonioso y fluido denota que la autora posee un vasto conocimiento sobre la cultura de los pueblos nordicos desde que empece a leerla me cautivo conocer el destino de ivarr si me gusto el desarrollo y el descenlace ',\n",
       " 'cuando van a mandarlo para que sirve la prevision no he recibido informacion de plazos de entrega caso de fijarse una fecha prevista se deberia cumplir no se si es culpa de la editorial pero no creo que sea muy buena politica de cara al cliente no vuelvo a hacer caso ',\n",
       " 'recomendada si eres un amante de lo clasico la edicion esta bien contiene la peli con un par de idiomas o tres mas un apr de contenidos extras lo maloq ue no hay una edicion en bd',\n",
       " 'en estetica y comodidad se ajustan a lo que esperaba un calzado que resulta mas comodo cuanto mas lo usas ',\n",
       " 'esta marca tiene demasiado renombre para la calidad el diseño tipico sobrio de su encuadernacion esta bien pero las hojas tienen demasiado poco gramaje se puede transparentar si escribes con tinta cuidado con los tamaños aunque ponga tamaño grande en realidad es como un a5',\n",
       " 'una mujer millonaria elizabeth taylor ve desde su ventana un asesinato en un viejo caseron que tiene enfrente ni su marido laurence harvey ni su mejor amiga la creen como asimismo la policia a la cual recurre insistentemente pero ella sigue insistiendo hasta la exasperacion con la policia que finalmente cree que la mujer alucina y no esta en sus cabales aunque la pelicula deja un monton de cabos sueltos no se puede negar que entretiene y maximo en los ultimos 20 minutos en que da un giro bastante inesperado no es ninguna obra maestra ni mucho menos pero si quiere pasar el rato sin mas con esta pelicula lo conseguira ',\n",
       " 'es una pena que las piezas y el tablero sean de carton se les doblan las esquinas con facilidad siendo un juego de viaje ',\n",
       " 'diseño muy bonito y buen precio montaje demasiado complejo y en mi opinion en algunas partes se podria mejorar tornillos atornillados directamente al chasis de plastico el tamaño es bastante pequeño justo para de 2 3 años ',\n",
       " 'cumple su funcion perfectamente y por el precio es estupendo lo uso como micro para el pc para hablar por skype y similares se oye claro y sin ruidos si no se requiere un equipo profesional lo recomiendo sobre todo para uso de oficina o casa no he probado en exteriores asi que no se como de sensible es a ruidos ambientales ',\n",
       " 'la silla es de buena calidad y buen acabado sin embargo he tenido devolverla por encontrar un defecto que impedia su normal funcionamiento no tuve problemas con amazon para devolverlo ',\n",
       " 'todo satisfactorio y el plazo de entrega antes de lo estipulado muy recomendable y cumple todas las caracteristicas anunciadas muy contento',\n",
       " 'el producto es como en la foto es de facil manejo y buena calidad recomendable 100 sin duda lo volvere a comprar ',\n",
       " 'no tiene ninguna pega destacable aunque una vez puesto en alguna zona queda un poquito torcido los huecos para camara conexion cable cargador coinciden perfectamente el boton de bloquear pantalla y las flechitas para subir y bajar el volumen tambien los cubre la funda con lo que ahora estan algo mas duros al pulsarlos esperaba que la funda fuese algo mas blandita o elastica para amortiguar las caidas pero es bastante rigida por lo menos algo mas protegido quedara por que el movil sin funda da sensacion de que si se te cae se rajara por todos lados de hecho se me callo de no mucha altura el movil sin funda y se rajo la pantalla aunque siga siendo funcional ',\n",
       " 'hace su cometido principal que es moler pero el lumbreras que lo ha diseñado deberia de haber pensado que la tapa al sacarla derrama el cafe del interior pues lleva la un lengã¼eta que entra dentro del molinillo por lo cual es un engorro y de ahi el darle solo una estrella el envio y embalaje 5 estrellas ',\n",
       " 'como los dvd de las otras temporadas eran de region 0 pedimos este producto a pesar del aviso relativo a la region que aparece en alguna opinion de usuario nos llego un disco sin indicacion de region asi que antes de abrirlo escribimos al proveedor a traves de amazon nos indico que lo probasemos y nos insistio en que podriamos devolverlo si no funcionaba y tengo que decir que a nosotros si nos funciona y que la atencion de marvelio ha sido impecable el unico fallo es que el doblaje es a español sudamericano lo que suena un poco raro aqui pero por lo demas esta perfecto ',\n",
       " 'esti bien y cumple su funcion le falta un cierre y seria perfecta b b b b b b b b',\n",
       " 'producto 100 recomendable ideal para mi ordenador toshiba serie c55 es perfecta y los bolsillos laterales vienen genial para guardar el cargadoro el raton ',\n",
       " 'el dia 5 de septiembre realize este pedido y pague unos 10â por gastos de envio en lugar de los gastos de envio estandar para que me lo enviaran al dia siguiente el paquete ha llegado a los 4 dias por lo que me gustaria que me devolviesen los gastos de envio o me los equiparasen a los gastos de envio estandar ya que el producto no llego en el dia que tenia que llegar jueves 6 de septiembre gracias por lo demas el producto se adecuo a las necesidades ',\n",
       " 'muy recomendable para los que viajan y no quieren cargar con pesados tripodes es super resistente aguanta el peso de las camaras reflex con objetivos medio pesados y se adapta a cualquier sitio donde lo puedas colocar super recomendable ',\n",
       " 'der preis war via germany gã¼nstiger und die belieferung trotzdem sehr schnell werde wieder bei ihnen kaufen und soie weiterempfehlen ',\n",
       " 'la hemos comprado para un nokia 5800 ya que la bateria original apenas duraba unas horas tras 3 años de funcionamiento esta bateria dura sorprendentemente poco 1 dia aunque dudamos si es la bateria la que dura tan poco o el propio movil el que se funde la bateria tan rapidamente ',\n",
       " 'ha unos 10 metros no funciona el trato postventa ha sido horrible pedi devolver uno de los dos productos que les compre y me estuvieron dando vueltas durante 5 dias al final permitieron la devolucion pero no me han dado ninguna facilidad ni explicacion de como hacer la devolucion lo tuve que enviar contra reembolso y ahora no se hacen cargo aconsejo no comprar nada a este vendedor como tengas que devolverlo estas perdido it has about 10 meters not working the sales deal has been horrible i asked return one of the two products i bought them and i were wandering around for 5 days in the end allowed the return but i have not given any explanation of how easily or make a refund i had to send cod and do not take care now i advise you not to buy anything from the seller as you have to return these lost ',\n",
       " 'el primer contacto con la maquinilla de afeitar es bueno es robusta y buena al tacto estilo goma el cabezal se desmonta con mucha facilidad para limpiar y el hecho de que pueda mojarse hace mucho mas sencilla la limpieza el afeitado en seco es muy bueno apura muy bien y el cabezal flexible se adapta muy bien a las curvas de la cara cuello barbilla ectâ mi piel es bastante sensible al afeitado y es cierto que al apurar tanto noto algo mas de irritacion que con mi anterior maquinilla apuraba mucho menos el cuello es la zona que mas cuesta afeitar se necesitan varias pasadas y estirar un poco la piel pero el acabado en esta zona tambien es muy bueno le doy un 8 5 al afeitado en seco el afeitado en mojado me gusta mas que en seco ya que la maquinilla desliza muy bien y la sensacion de humedad es buena y agradable y otro punto importante es que irrita menos que en seco le doy un 9 en afeitado en mojado con espuma o gel es donde se le saca el maximo partido a la maquinilla sobre todo para la gente de piel sensible la sensacion en cada pasada es muy buena y desliza y afeita realmente bien con la espuma la irritacion es minima y el acabado perfecto sin duda esta sera la forma como la usare un 10 para el afeitado con espuma o gel incorpora un cortapatillas muy potente y preciso yo lo uso tanto para las patillas como cuando tengo la barba demasiado larga para pasarlo antes de empezar a afeitar por ultimo carga muy rapido y cada carga dura para unos 3 afeitados en mi caso trae un cepillo para limpiar el unico punto negativo que le veo es que no traiga una funda o bolsa para guadarla viaje o alguna base de carga mi conclusion muy buena maquina de afeitar no te arrepentiras si tienes piel sensible o si te gusta afeitarte con espuma mojado ',\n",
       " 'eran para mi hija y no han durado ni dos semanas ya estan desarmados e irreconocibles ojala fueran mas resistentes',\n",
       " 'el producto responde a las expectativas que yo tenia muy util para quien viaja frecuentemente y de un tamaño perfectamente portable por ejemplo en la bolsa del ordenador',\n",
       " 'buenos dias hice el pedido en numero 38 equivalente a 7 us y me ha llegado en 6 5 es decir mucho mas pequeñas que debo hacer ',\n",
       " 'la funda es tal y como se muestra en las imagenes algo a mejorar la tira para colgar deberia ser un poco mas consistente y quizas si tubiera 2 cremalleras seria mas comodo yo la compre para una canon g15 y el tamaño es ideal aunque si llevas la correa de la camara para colgarla al cuello sin funda en el momento de guardarla en la funda queda un poco justa ',\n",
       " 'lo uso en mi ordenador a unos 20 metros del router y coje casi toda la señal va perfecto facil instalacion y el cd no es necesario por lo menos en mi caso',\n",
       " 'buenas necesitaria saber que tal viene de tamaño para una cama de 90i1 90 si queda bien para arremeterla o no muchas gracias un saludo rebeca',\n",
       " 'after manually installing with the official microsoft drivers it worked nicely i gave it 4 stars because the range is very small about 1 meter farther than that it randomly disconnects ',\n",
       " 'lo quite perfectamente instalado dejo muchas burbujas de aire y los lados quedaron sin adhesivo una mala compra creo que estaba defectuoso no merecia la pena reclamar y perdi el dinero ',\n",
       " 'tengo compañeros i todos me an dicho que diran un monton i que son super buenas estaba dudando entre estas o algunas de otra marca mas bartas pero al fianr me e comprado estas i no me arepiento en absoluto una calidad premium i te duran 15 años son una pasada vale la pena cada euro que te gastes en ellas ademas super bien de precio el envio rapido en 10 dias o ante las tienes en tu casas ',\n",
       " 'compatible con brother 6920 moderna comprada en mayo 2015 buena calidad precio insuperable de momento he probado el negro y el amarillo y va perfectamente los reconoce automaticamente y no hace falta ni apagarla y encenderla ni nada por el estilo el plazo de entrega no es muy rapida y no funciona con amazon premium creo recordar que una semana por lo que recomiendo prever el pedido antes de quedarse sin tinta volveria a comprarlos sin duda ',\n",
       " 'creo que es engañoso no es para hornos compre varias y ahora voy aponer la segunda bombilla a ver lo que dura ',\n",
       " 'he usado varias veces y me funcionaba bien pero la tapa no es como yo imaginaba no tiene un clic para cerrar sino solo se pone encima ',\n",
       " 'unos moldes perfectamente eficientes cumplen su funcion son bonitos se limpian facilmente y ademas vienen 12 unidades importante muy satisfecha ',\n",
       " 'despues de probarlo unas veces funcionaba al tiempo dejo de funcionar lleva las pilas nuevas y aparentemente estan bien en su caja',\n",
       " 'la funda no corresponde con la descripcion es toda de plastico y de mala calidad vamos que con 3â ya estaria bien pagada recomiendo no comprarla ',\n",
       " 'no cumple con las expectativas pesa muchisimo y a la hora de devolver el producto te piden 17 euros y no hacen mas que ponerte problemas ',\n",
       " 'es poco basto en los acabados pero buena relacion calidad precio se acerca a lo que esperaba un saludo',\n",
       " 'tiene una buena respuesta en sonido pero los inconvenientes de incomodidad mucha opresion llegan a molestar y cable corto limitando el movimiento ',\n",
       " 'genial pelicula francesa comedia drama que muestra las 2 caras de la sociedad incomprensible que no haya sido nominada a los oscar ',\n",
       " 'normalillo para las caracteristicas tecnicas que tiene deberia de tener un menu mas completo y mover mas rapido las aplicaciones ',\n",
       " 'a pesar de que en las especificaciones del producto viene claramente que el paquete trae consigo el recogecables no es asi los auriculares estan bien el sonido es bueno ademas tiene tres tipos de fundas por si tu oido es mas estrecho o mas ancho para un mejor ajuste si no fuese por mi enfado le daria cuatro estrellas ',\n",
       " 'esta muy bien y muy completa el envio muy rapido genial todo a mi hija le a encantado y las amigas',\n",
       " 'es bonito pero se le ha empezado a despellejar muy rapido la capa mas externa pero por lo demas protege bien',\n",
       " 'me encanta el color y su facilidad de uso comodo a la hora de llevarlo en uso y recogido en poco espacio al trasportarlo sin usar ',\n",
       " 'por precaucion no descargue la novela completa sino el fragmento gratuito y me alegro de haber sido prudente es una edicion chapucera con el texto sin justificar y omision de guiones de dialogo no merece la pena por las referencias de otros clientes parece que el descuido en la edicion electronica de obras literarias antiguas es un problema frecuente creo que la industria editorial en español esta incorporando el formato electronico de manera lenta y mejorable y se diria que algunas empresas lamentablemente parecen reacias al formato kindle de lev tolstoi descargue y lei recientemente una impecable edicion de ana karenina que merecia los 2 84 â que me costo e incluso mas dinero en cambio en esta edicion de guerra y paz no pienso gastar ni un centimo prefiero acudir a una biblioteca publica en busca de una edicion decente en papel desaconsejo a todos la descarga de esta version tan deficiente no malgasten su dinero ',\n",
       " 'muy buena calidad al realizar puesta de bombilla da luz calidad amarilla muy facil de instalar se realiza instalacion roscando aporta una iluminacion bastante buena ',\n",
       " 'va sobrada para arrastrar muchos hdd i o ssd 2 targetas graficas etc un poco cara 169â me costo hace un año no se si no funciona el ventilador o es que no lo necesita nunca se ha puesto en narcha supongo lo segundo ',\n",
       " 'el producto al instalarlo ocasiona fallos en el pc que lo bloquea e impide su correcto uso muy mala calidad',\n",
       " 'muy buen producto resistente util y mejor que el original de samsung lo he probado estos dias y no puedo tener mas que buenos comentarios de el recomendable ',\n",
       " 'calidad precio muy razonable las maletas las he utilizado en un par de viajes y de momento estan intactas son bastante livianas y las ruedas son grandes lo que las hace faciles de arrastrar dos pegas a la maleta de mano se le bloqueo el seguro y no se pudo abrir con la contraseña asi que la utilizamos sin contraseña las cremalleras son bastante delicadas y si la maleta va muy llena son dificiles de cerrar ',\n",
       " 'sobre la pelicula poco que añadir si te gusta la saga solo reflejar que esta caja incluye la pelicula en dvd y blu ray',\n",
       " 'muy facil de configurar conectar los cables y listo es pequeño y no molesta nada de nada la velocidad es la prometida ',\n",
       " 'han llegado rapido pero son mas grandes de lo que esperaba medida ideal para hacer bolsos tendre que pedir de nuevo ',\n",
       " 'los compre para mi playstation 4 funcionan perfectamente tanto el micro como los auriculares la calidad del sonido al jugar es estupenda y gran precio en las tiendas valen el doble ',\n",
       " 'la calidad sonora de este disco es excepcional aunque no te guste supertramp que no es mi caso amaras este disco una experiencia musical como pocas ',\n",
       " 'buen producto animan muy bien las fiestas a bajo precio y muy accequibles bien bien bien bien bien bien bien',\n",
       " 'es un bañador comodo seca rapido no hace globos al introducirte en el agua el diseño esta bien unos bolsillos enormes llevo tres dias bañandome con el a todas hioras y hasta ahora perfecto se lo recomiendo a todos ',\n",
       " 'adoro a patty poseo tres de sus mejores discos horses wave y dream of life pero lo que realmente me sorprendio de esta biografia es el talento impecable para narrar su propia vida aun sin ser conocedor ni seguidor de la artista es una agradable recomendacion para cualquiera ',\n",
       " 'sinceramente no he leido este libro pero llevo siguiendo a este autor durante muchos años y es pavoroso como ha ido haciendo predicciones absolutamente erroneas una tras otra con decir que era el economista de referencia de zapatero no hace falta añadir mas pero lo hare aqui dejo algunas de sus joyas hay señales de que saldremos de la recesion a finales de este año jose carlos diez 2009 españa saldra antes de la crisis que europa el panorama es muy malo en alemania jose carlos diez 2009 el paro no superara significativamente el 19 yes we can jose carlos diez 2009 hay señales de que españa esta saliendo del tunel la economia ya esta en fase de reconstruccion jose carlos diez 2009 lo peor de la recesion en españa ha pasado jose carlos diez 2009 en el segundo trimestre de 2009 entramos en clara fase de salida de la recesion jose carlos diez 2009 la probabilidad de ver una caida significativa del precio de la vivienda esta proxima a cero jose carlos diez 2006 ',\n",
       " 'me ha gustado aunque pensaba que iba a ser mas grande por comentarios que habia leido creo que esta muy bien ',\n",
       " 'no estoy del todo satisfecha para el precio la tela es muy fina el toque de blanco que aparecen en la foto de la cremallera y los cordones no son asi es todo en negro queda mejor en la foto ',\n",
       " 'nada mas recibir el paquete mi hijo se ha dedicado a pegar por toda su habitacion naves y planetas a tutiplen y las que no le acababan de convencer las ha despegado y vuelto a pegar sin problemas ',\n",
       " 'es un poco endeble al segundo dia de uso la niña partio la bandeja porque es muy fina estructura se ve regular de calidad',\n",
       " 'es una gozada todo lo necesario bien organizado por lo que no hay que volverse loco buscando una herramienta ocupa muy poco espacio ',\n",
       " 'la idea era probar otro diseño de cable que evitara doblarse y estropearse tan pronto a dia de hoy y sabiendo que llevo poco tiempo con el he de decir que me convence gratamente buen precio y calidad ',\n",
       " 'muy buen pack de esta fantastica trilogia muy buen precio totalmente en español aunque la calidad blu ray no es de lo mejorcito pasable ',\n",
       " 'muy buen precio y buena calidad aunque no suelo imprimir en calidad de foto solo papeles de trabajo el tiempo de entrega rapidisimo es la segunda vez que compro con este distribuidor lo unico que no me gusta es que no puedes hacer los packs a tu gusto',\n",
       " 'funciona bien tal como se espera el mando funciona correctamente y la tira se pega lo suficiente muy facil instalacion',\n",
       " 'llevo 3 semanas y aun no he conseguido conectarlo lo han intentado 3 personas mas entendidas no aconsejo su compra',\n",
       " 'tal y como se describia para los marioadictos falta algun personaje pero ya avisa de que son 6 figuras entonces muy buena calidad y el servicio con amazon premium simplemente excelente llego en 3 dias ',\n",
       " 'funciona bien sin mas es un cargador necesario para el sony xperia z1 compact ya que otros no cargan bien',\n",
       " 'buena carcasa para proteger los goolpes de la camara y usar como camara normal pero cuidado con el agua no la salva',\n",
       " 'estan bien son irrompibles y seguros el unico pero es que son un poco pequeños aunque juega mucho con ellos igual nose si los hay mayores en otras marcas pero serian ideales ',\n",
       " 'como todas las figuras de esta marca bien hecha bien acabada a los niños les encanta ',\n",
       " 'el libro promete lo que el resto de libros de la serie deporte y erotismo eso si espero que el resto de libros contengan algo que los diferencie y no sea mas de lo mismo ',\n",
       " 'very good quality and arrived very fast perfect product description and product arrived in very good comditions get coffee warm for very long time ',\n",
       " 'no tiene nada de especial es un listado de sumas que le podria haber hecho yo en casa a mi hija pense que seria algo creativo e innovador horrible ',\n",
       " 'redjack producto no funciona ni iphone 6 plus ni iphone 4 queirio volver mi dinero yo descargue app de redjack en apple store pero no ahi manera de funcionar estas hardware',\n",
       " 'i like it good price easy to aply easy to clean they work very well im satisfied with my purchase ',\n",
       " 'el regalo que mas ha gustado funciona muy bien y todos quieren otro me ha gustado mucho regalarlo un acierto ',\n",
       " 'despues de comprar el flash no funcionaba por lo cual me decian que tenai que mandarlo a ellos para que me lo repararan le dije que no que el flash era nuevo y me dieron el contacto de que son distribuidores autorizados en españa pero evidentemente ellos no cubre garantia de flashes que no se les haya comprado asi que exigi que me devolvieran el dinero y termine comprandolo en proflash que tengo dos año de garantia en españa y envian desde españa aunque cueste un poco mas caro merece la pena ',\n",
       " 'compramos esta pizarra para reyes y nos llevamos una decepcion pues las tizas que compre en los chinos no escriben en ella es de un material plastico brillante y apenas se nota el trazo siguiendo las recomendaciones de otros compradores quiero agradecer a todos ellos su rapida respuesta he comprado otras tizas en concreto de la marca giotto y escriben mucho mejor aun asi no es la tipica pizarra verde y aunque el precio es muy economico no la volveria a comprar ',\n",
       " 'supongo que no es uno de los mejores pero me hace la funcion de protegerlo y ademas tiene un compartimento en la solapa para guardar cualquier tipo de apuntes ',\n",
       " 'no me los detecta solo puedo imprimir una pagina y tengo que volver a sacarlo meterlo no va con ningun color ',\n",
       " 'la unica pega por poner alguna que se ensucian muy rapido lo bueno que se adaptan muy bien y el plastico se ve de calidad y duradero',\n",
       " 'cuidado porque los de 6 18 meses no pueden ponerse hacia arriba o hacia abajo indistintamente como los de 0 6 meses por eso los compraba porque era una de las funciones de los avent que me gustaban',\n",
       " 'lo uso para llevarlo y usarlo en la bolsa de mi bici de carretera un multiusos para salir del paso con el minimo tamaño de almacenaje',\n",
       " 'encara que no es el mã²bil mes adequat per fer esport jo lâ he dut en alguna de les meves excursions i m ha anat la mar de be ',\n",
       " 'aunque no es la mejor de su serie el hecho de que incluyera las vegas y gran cañon es de agradecer ya que la de usa completa no es manejable ',\n",
       " 'en dos dias de ir a la playa ya se esta arrugando y pierde color no obstante sigue teniendo la misma flotabilidad le pongo un ok',\n",
       " 'se adapta muy bien lo unico que falla es que no tiene el cartoncito para quitar las burbujas lo demas genial',\n",
       " 'gran variedad de mandalas con complicacion ya que es para adultos lo mejor es que puedes pintar con rotuladores ya que no traspasa y hay un mandala por pagina ',\n",
       " 'yo tube mala suerte y me ha venido defectuosa voy a dar otra oportunidad porque se que es un buen producto y la estan recomendando por todos los canales de tecnologia movil por su precio y efectividad esperemos que la seguna venga mejor y pueda poner 5 estrellas',\n",
       " 'destacaria la calidad de los materiales y como unico detalle que esta funda tapa el boton frontal y cubre justo hasta la pantalla pero todos los botones que estan tapados estan muy bien compensados con los equivalentes de la funda ',\n",
       " 'excelente objetivo lo tiene todo es ligero barato gran calidad de imagen y es incluso bonito totalmente recomendable no te arrepentiras de comprarlo ',\n",
       " 'se pega genial a todo parece que lleva pegamento pero no lo puedes quitar bien aunque se pega incluso sin ventosa mejor imposible ',\n",
       " 'se ven de buena calidad y muy suaves pero un poco decepcionada les hizo un agujero la primera vez que se las puso ',\n",
       " 'aunque queria algo simple y barato la verdad es que pude que por un poco mas puedas tener uno con algo mas de movilidad puedes moverlo lateralmente pero para hacerlo en la vertical tienes que tirar de tuerca pensaba que tendria menos separacion con la pared pero queda a una distancia notable que me viene bien para los cables pero no es lo que esperaba buen soporte sin mas y muy barato ',\n",
       " 'mala calidad muy flojo se acopla mal no me ha gustado es flojo proteje poco de ve fe mala calidad ',\n",
       " 'no he sido capaz de configurarlo ni en mac ni en win ni el el smartphone las instrucciones son dos imagenes pequeñas y no fui capaz de resolver nada utilizando el manual web hace ruido y se calienta ',\n",
       " 'de muy facil lectura se regocija mas en curiosidades y anecdotas que en un analisis economico algo mas profundo que he hechado de menos encualquier caso es entretenido ',\n",
       " 'envio excellente desde españa a reino unido llego en 5 dias solo he probado la maquina un par de veces y hay zonas en las que si he visto resultados el unico inconveniente es que por ejemplo en las axilas es complicado que los 4 sensores toquen la piel entonces cuesta bastante dar el disparo de primeras pero las piernas me las he llegado a hacer en menos de 5 minuto cada una pense que la potencia seria ridicula pero tengo que decir que no he pasado de la potencia 3 de 5 siendo honesta y por el precio hace muy bien su funcion ',\n",
       " 'la pantalla es muy buena tanto por resolucion como en exteriores y el tamaño hace que ver cualquier cosa ahi sea una maravilla',\n",
       " 'aunque a una bateria se la debe juzgar cuando llega al fin de su vida util pienso que esta durara bastante por ser un producto canon',\n",
       " 'muy mala calidad producto malisimo inaceptable la verdad me sorprende tan baja calidad una autentica compra de basura pura ',\n",
       " 'realiza su funcion correctamente es clase 10 que es lo que buscaba lo que le da tasas de escritura lectura bastante rapidas marca kingston una marca conocida y con la que he trabajado en muchas ocasiones nunca he tenido percances ',\n",
       " 'por la facilidad de las memorias directas sin embargo hecho de menos el boton directo de 112 y la identificacion de llamadas entrantes ',\n",
       " 'estas versiones son sacadas de la serie barbie life in the dreamhouse y son preciosas un poco mas grandes que las normales pero con pestañitas y unos vestidos muy bonitos ',\n",
       " 'explica detalladamente los ejercicios y ofrece fundamentos solidos del valor de de la meditacion en la vida practica es un llamado a abandonar el modo piloto automatico',\n",
       " 'este reproductor de cd es totalmente desaconsejable nadie deberia comprarlo el sonido es totalmente deficiente yo necesito estar en un lugar con absoluto silencio para poder oir la musica la pantalla es dificilmente legible incluso usando las gafas para ver de cerca he tenido otros discmans y desde luego jamas ninguno tan malo como este â felicidades philips os habeis lucido ',\n",
       " 'es una funda bonita y buena pero aunque dice que es compatible con kindle 2013 no lo es deben decirlo',\n",
       " 'estoy super descontenta con la compra de este producto porque hoy lo he utilizado por primera vez para hacer un bizcocho y no encaja bien la base con el molde y se sale toda la mezcla de la masa por las ranuras de encaje',\n",
       " 'weno pues yo compre una manguera de estas y a la que la probe me rebento por donde sale el agua me puse en contacto con la empresa en cuestion y no tuve ningun problema en que se me rembolsara el dinero cosa importante ya que sabemos que el comprar por internet tiene el riesgo de que lo que compremos no salga como uno espera y la otra parte con nuestro dinero en mano se limpie las manos o hacerse los longuis descontento xq la manguera me vino defectuoso pero muy contento con el trato y servicio de la empresa que quizas sea lo mas importante ya que si la empresa no es seria y profesional dificilmente el producto sea del agrado del comprador saludos',\n",
       " 'de momento contenta aunque me esperaba cupiera mas cantidad de ropa ya que mi lavadora es de 8 kilos pero buena relacion calidad precio ',\n",
       " 'muele bien pero no llega a pulverizar segun el punto de moler que quieras te puede valer cumple su funcion',\n",
       " 'la primera vez que pruebo los lapices prismacolor y son inmejorables pintan muy bien y uniforme vale la pena pagar lo que valen',\n",
       " 'adquiri este aparato para mi pareja en especial porque ella tiene un xperia z1 no puedo estar mas contento con este regalo la bateria dura unos 5 dias tiene multitud de funciones y sobretodo pesa muy poco de vez en cuando se desconecta y conecta igualmente se va actualizando el firmware por parte de sony asi que van eliminado bugs bajo mi punto de vista estos articulos deben pesar poco y aunque aun esta la tecnologia un poco verde sin duda en un futuro no muy lejano llevaremos aparatos de este tipo todo el mundo ',\n",
       " 'es muy grande perfecto para un bar local o para un gimnasio pero no para una casa iste lo tuve que devolver porque no funcionaba bien otros modelos de os funcionan mucho mejor ',\n",
       " 'de lo unico que tengo que hablar mal es de que este movil viene incluido un cable hdmi y no vino con el paquete ',\n",
       " 'suficiente para hacer algo de ejercicio sin ninguna pretension mas facil de montar y parece resitente entrega rapida y sin problemas',\n",
       " 'la verdad es que no cumple con las expectativas con las que me lo habian descrito para mi gusto se queda bastante corta',\n",
       " 'cumple con las caracteristicas indicadas por el proveedor es un funda rigida dura y de buena calidad dispone de un bolsillo para guardar el cable de conexion del disco duro ',\n",
       " 'se le coge el aire enseguida es lo que se espera hace una pequeña bola en un momento poco mas suficiente',\n",
       " 'la funda en si no esta mal pero la pinza es de plastico y me duro menos de dos minutos creia que podia aguantar una carrerita pero comprobe que no tendremos que buscar otro sistema',\n",
       " 'la tableta es fantastica y mucho mas economica que un ipad es increible como se sincroniza con las aplicaciones google gmail chrome calendario mapas contactos ',\n",
       " 'el cd1 es maravilloso un recopilatorio muy bien seleccionado el cd2 son 2 albums tediosos y aburridos tal vez le de algunas escuchas mas pero no me han gustado nada la presentacion correcta con un comentario y algunas fotos y viene en edicion cristal 5 estrellas por el recopilatorio y 2 por los otros discos hay cientos de recopilatorios de sam cooke y seguramente algunos mejores que este eso si por menos de 4 euros lo dudo ',\n",
       " 'el gusanillo le llamamos mi hija se lo pasa muy bien cuando come dando vueltas y jugando con el la unica pega que le veo que se despega del sitio',\n",
       " 'no sujeta bien el cuello ni tiene suficiente apoyo para la cabeza aparatosa en su uso y transporte por no tener una bolsa donde recogerla ',\n",
       " 'producto sencillo robusto no ocupa nada y muy manejable no tiene excesivo aumento pero depende para que se agradece su poco peso y volumen',\n",
       " 'aun no lo he leido es un rollo tener que continuar comprando para acabar la historia soy persona fiel de autores no por dejarme a medias me va a enganchar mas por ejemplo me encanta johann lindsey y acaba sus libros aunque siga una saga mejor mejorar eso ',\n",
       " 'pensaba que era mas grande y es muy pequeño aunque para el precio que es esta bien espero que le guste a la niña ',\n",
       " 'escribo mi experiencia en este caso en concreto pedi el terminal en color blanco pero me llego de una tonalidad azul oscuro el problema es que era para un regalo en dos dias despues de la entrega estimada asi que escribi a atencion al cliente y ellos me llamaron muy educadamente no me pusieron ningun tipo de problema la operadora me dijo que abriera la caja del producto para verificar que no era blanco entendiendo que era un regalo le dije que esperaria a entregarlo y si le gustaba en ese color que no fuera blanco me lo quedaria me dijeron que si no era el caso me lo cambiarian sin problema alguno asi que mi experiencia en esta compra no fue del todo negativa porque no hubo ningun problema en ningun caso el telefono se lo quedaron en azul al final espero que os sirva esta valoracion mas que nada porque si os pasara algo parecido pensad que el servicio de atencion al cliente es genial y no habra problema alguno o esa es la impresion que me dieron los de amazon un saludo y espero que os sirva mi experiencia ',\n",
       " 'por el precio de este articulo tampoco podemos pedir mucho mas pero no espereis gran cosa si lo comprais no tiene empuñadura termina en la varilla metalica la cual araña un poco si no tienes cuidado y da la impresion que no resistira mucho despues de un uso intensivo o despues de unos cuantos usos ',\n",
       " 'estoy muy contenta han llegado en plazo y cogiendo una talla menos quedan perfectas me compre otras mas grandes las devolvi y todo sin incidencias sin duda para seguir comprando en amazon',\n",
       " 'se ajusta perfectamente y el tacto es agradable ademas es muy bonita y barata compra recomendada hace al movil mas vistoso ',\n",
       " 'geniales comodas calientes y talla perfecta al tener la suela dura no se deforman incoveniente que al ser de lana le salen bolitas las recomiendo',\n",
       " 'configuracion sencillisima y rapida repeticion de senal potente y alcance estupendo me ha solucionado los problemas de conectividad en mi casa que otros repetidores no conseguian en resumen una compra escelente',\n",
       " 'buen producto relacion precio con calidad el problema es que los carretes para la camara fujifilm insta mini son muy elevados ',\n",
       " 'os cuento mi experiencia con esta gente compramos un reloj en abril del año pasado al principio funcionaba perfectamente pero en el mes de septiembre dejo de funcionar me pongo en contacto con la empresa ya que el producto esta en garantia pero no se quieren hacer cargo quieren que lo envie a una direccion de barcelona no estoy de acuerdo yo les he comprado el reloj a ellos y son los que se tienen que hacer cargo del producto ante la negativa de que pueda ejercer mi derecho como consumidora la ocu intenta mediar con ellos desde el mes de noviembre no se han dignado ni a contestar los muy sinvergã¼enzas en las multiples ocasiones que se han puesto en contacto con ellos al final nos quedamos sin reloj e iremos a consumo a ponerles una reclamacion como dios manda que eso si que queda ya que al ser una empresa por internet no tienen cartas de reclamacion ',\n",
       " 'no era lo que esperaba esta bien pero el acabado final no queda bien y no seca con totalidad es un cemento para lo que es maquetas en cambio lo mio es algo mas complejo ',\n",
       " 'con 40 años y usando afeitadoras electricas desde los 16 puedo decir que llevo usando philips mas de 20 años aunque en realidad esta es mi tercera afeitadora philips hasta ahora me han durado años y años y las cuchillas tambien la primera impresion es la delicadeza de su afeitado es muy suave aunque para conseguir un buen afeitado hay que hacer varias pasadas igual que con modelos anteriores pero no me irrita la piel nada en absoluto es muy facil de limpiar es ligera mas silenciosa que mis antiguas maquinas la pega es el precio hasta ahora a mi me compensa siempre y cuando me dure los años que me han durado otras ',\n",
       " 'muy practico para que el niño pueda estar en cualquier sitio de la casa con sus juguetes mientras no se aguanta sentado es estable seguro y la superficie es blandita para no hacer daño ',\n",
       " 'despues de un par de semanas de uso cumple perfectamente su cometido facil de usar y limpiar y ademas buen precio ',\n",
       " 'corre un monton si tendria q ponerle una pega seria al mando tiene poco recorrido para girar hacia derecha e izquierda y necesitas mucho espacio para dar la vuelta',\n",
       " 'la tablet no se queda en las posiciones que aparecen en las fotos pero a mi no me importa con el tiempo se le han despegado los bordes nada que no se arregle con pegamento para mi no esta mal porque solo busco una funda que proteja la tablet y eso lo hace bien ',\n",
       " 'en superficies duras la aspiradora va muy bien en alfombras tiene una menor eficacia de aspirado pero es muy comoda de limpiar y a coste cero lo cual es algo importante para mi detesto el engorro de cambiar las bolsas y estar pendiente de comprarlas ',\n",
       " 'muy util las 100 primeras paginas la parte psicologica deja mucho que desear haciendo constante referencia a que acudas a un especialista ',\n",
       " 'pequeño nitido y luminoso un objetivo magnifico desde macro hasta infinito buenos colores y un autofocus suficientemente rapido excelente relacion calidad precio ',\n",
       " 'lo compre por probar suerte ya que en ninguna parte de las caracteristicas ni en la propia web del fabricante establece su incompatibilidad con cacharros apple nada ni con iphone 6plus ni con iphone 5 ni con ipad no es un producto para apple 12â a la basura ',\n",
       " 'la calidad del producto parece buena y el envio es rapido pero no sirve para la gopro hero al ser la backdoor que envian mas grande que decepcion deberian dejar mas claro para que modelos sirve ya que en mi caso pense que la go pro hero 1 era la misma que la gopro hero a secas dinero tirado ',\n",
       " 'cumple a la perfeccion su funcion proteger el macbook air encaja muy bien y apenas le añade peso al portatil envio en tiempo ',\n",
       " 'son comodos pero muy grandes pareces espinete con ellos suena algo con la tarima y no es la tarima son estos crocs tengo otros y no suenan nada',\n",
       " 'le faltan sistemas de seguridad en las posiciones 2 3 4 no se quedan fijas y es demasiado endeble la mesa baila deberia estar fabricada con melamina mas gruesa',\n",
       " 'como indico arriba el reloj es de buena calidad pero peca de ruidoso hay noches que llega a ser molesto por lo demas es muy chulo y trae luz de fondo que pocos relojes analogicos la incluyen ',\n",
       " 'la proxima vez elegire algo de bisuteria que tenga mas presencia por el precio que tiene no se puede esperar un joyon',\n",
       " 'el producto cumple con su finalidad el unico problema es que se queda un poco grande debido al peso pero es lo normal ',\n",
       " 'es lo que promete y tal y como se ve en la foto se echa en falta un algo para sujetar los cables pero es funcional como soporte ',\n",
       " 'tras las todas las buenas opiniones de este producto lamento informar que en un principio me parecio perfecto e iba estupendo pero la semana pasada al desconetar el iphone tras su carga sorpresa la parte que conecta al movil se quedo dentro y se solto totalmente del resto del cable realmente compro este tipo de cosas por aca unicamente por la confianza que tengo en amazon no siendo mas procedo a la devolucion ',\n",
       " 'compre este producto por 85 euros relacion calidad precio muy acertada hoy en dia es complicado tener un movil libre por menos de 100 euros tiene todo lo necesario para cualquier persona que no le de mucha caña al movil no es lo mas rapido del mercado pero suficiente para aplicaciones basicas de redes sociales y por supuesto whatsapp la camara con buena luz hace muestra unos detalles decentes y la pantalla responde bastante bien con un tamaño muy acertado pues podremos manejar el movil con una sola mano sin problema es como digo un movil para un uso muy basico pero que funciona muy bien para un usuario poco exigente ',\n",
       " 'esta muy bien son copias de los originales en la foto parece mas grandes de lo que son pero para jugar con los niños es ideal',\n",
       " 'una tablet con una resolucion de pantalla impresionante estupenda para bajar apps y en especial para la lectura y estudiar el pedido me llego en el tiempo estimado por contra debo decir que las huellas se notan mucho en la pantalla y al tacto da una sensacion de que el plastico posterior con el tiempo se puede deteriorar notablemente al ser puro android no tiene carpeta mis documentos y tienes que bajar una app especialmente para poder abrir archivos un precio justo para una tablet de una calidad superior al ipad mini',\n",
       " 'el producto no es original samsung y los bordes de la tapa se despegan con el uso cumple con su cometido sin mas',\n",
       " 'hay papeles que necesitaba triturar justo lo que que queria he utilizado con papel y tarjeta facil de utilizar no haria falta instrucciones de uso',\n",
       " 'la camara esta muy bien lo malo es que intento registrarme en nikonistas con el numero de serie y no me deja me dice que el producto no existe o ya esta registrado asi que estoy esperando soluciones por parte de amazon pero nada de nada si me la cambiaron por otra pero fue lo mismo estoy esperando una llamada para solucionarlo pero de momento nada he llamado ya en 3 o 4 ocasiones y la respuesta es que espere espero respuesta ',\n",
       " 'no sirven para nada hay que acercarse tanto al objeto que no se pueden usar no se puede modificar el enfoque un desastre',\n",
       " 'de facil manejo y con muchas prestaciones responde a las necesidades de un aparato microondas y de un horno convencional con combinaciones de ambos',\n",
       " 'espectacular y re divertido para pasarla bien en familia o con amigos horas y horas de diversion gracias a los muchos suplementos que añaden nuevas caracteristicas al juego ð ð ',\n",
       " 'un teclado muy comodo para escribir a pesar de sus dimensiones respuesta muy rapida tanto el touchpad como las teclas ',\n",
       " 'un juego divertido de skate para xbox 360 es un regalo para mi hijo y le ha encantado muy bien',\n",
       " 'la mejor funda sin ninguna duda la funda de gel de la linea s es la mejor para los golpes y el precio que tiene amazon es inmejorable',\n",
       " 'genial mi hijo esta muy contento le va muy bien para jugar al lol minecraft gta v dos amigos suyos se han comprado ambos el mismo modelo totalmente recomandable y a un precio excelente ',\n",
       " 'la señal wifi un tanto corta la potencia del procesador permite tener varias aplicaciones abiertas para tener mas informacion es necesario una tarjeta micro ',\n",
       " 'la compre para mi hijo pequeño que empieza educacion infantil y esta muy bien por su tamaño y el precio estupendo',\n",
       " 'aparentemente muy bueno lo recomiendo asi mismo recomiendo una mayor proteccion del producto me llego en perfectas condiciones pero la verdad que esta muy desprotegido hablando de un articulo que se puede dañar con mucha facilidad calidad precio adecuado junto a la entrega satisfecho ',\n",
       " 'cumple sobradamente con su cometido ya que para el tamaño que tiene la calidad de sonido y su potencia son sencillamente extraordinarias ',\n",
       " 'no se como elegir el color del pedido â ayuda quiero el gris no el dorado y no veo la opcion de elegirlo',\n",
       " 'el higrometro tampoco lo pude comparar con otro que funcionara perfectamente pero comparandolo con la humedad ambiente que nos da aemet marca bastante bien lo cual nos hace suponer que al cerrar las ventanas sigue siendo igual de preciso y el termometro va perfecto',\n",
       " 'el producto cumple mis expectativas al 100 es flexible y soporta golpes y caidas por lo menos las que hasta ahora me han sucedido ',\n",
       " 'no es el primero que compro y estoy encantada con ellos el mas sencillo de su gama muy buen precio ',\n",
       " 'en el exterior casita a 35m tengo en un sitio señal de 1 y desde alli puedo llamar y tener internet pongo alli la antena receptora estiro los 10m en direccion casita miro movil delante repetidor hay señal 5 pero llamas y no va y si te alejas 5m señal cero',\n",
       " 'no por el contenido la traduccion o la obra en si sino por la presentacion por parte de amazon no se puede consentir que se venda un libro imposible de leer con el formato en perpendicular y las fuentes tan diminutas que aun aumentandolas resultan pequeñas lo compre e intente leerlo pasado un tiempo por lo que vencio el tiempo de devolucion mi peor experiencia con amazon que venia siendo muy positiva ',\n",
       " 'todo correcto cumple las expectativas de lo que es no se puede decir mas que eso correcto imprime xd xd xd',\n",
       " 'encuentro el libro pesimo mala redaccion malos comentarios y la gran mayoria son mentiras tampoco me gusta las propuestas del escritor ',\n",
       " 'el libro no aporta nada le puse un email al autor indicandoselo y me llamo insultandome este libro no aporta nada',\n",
       " 'buena compra lo mejor es que el frontal no es de cristal sino de metacrilato por lo que ganas en seguridad y en ligereza el marco apenas pesa y el borde negro tiene aspecto de madera cuando quitas las 2 peliculas plasticas que protegen el metacriilato lo que pongas dentro del marco se ve de lujo el embalaje en el que viene es perfecto para que el marco no se dañe en el transporte y por si fuera poco trae protectores en las 4 esquinas ',\n",
       " 'lo pongo en la tv para la salida de mis auriculares inalambricos no se si debe ir asi conectado alguien me puede informar',\n",
       " 'a pesar de la foto de las naranjas esta pensado para exprimir granadas respecto a limones naranjas etc no exprime todo lo que podria ',\n",
       " 'super barato y funciona bien no se puede pedir nada mas desconocia esta marca pero confieso que me ha salido genial ',\n",
       " 'cumple su mision son normal y corrientes se ajustan relativamente bien y no destacan en nada no llega a cubrir toda la pantalla dado que es curva pero cubre la zona importante',\n",
       " 'es de corcho y te roban 25 euros hay playmobils mucho mas completos por ese precio no deberia superar los 10euros un timo',\n",
       " 'muy china y con poca proteccion por el precio tampoco esperaba otra cosa cumple con lo que es pero es cierto que podria estar mas acolchada ',\n",
       " 'opinion actualizada tras poco mas de tres meses de uso se ha roto la punta sin darle mucho uso he comprado el de amazon basics a ver si esta mejor hecho que este ',\n",
       " 'es el primer vigilabebe que compramos y estamos encantados el sonido es nitido y la comunicacion es muy buena solo hecho de menos de la bateria que se gasta rapido y en cuando al precio esta muy muy bien lo recomiendo',\n",
       " 'cumple su funcion usandolo poco me duran bastante las almohadillas si eres un poco bruto no creo que te dure ya que son muy finas y se rompen facilmente si clavas la punta un poco para frotar sobre la punta van bien por el precio que tienen estan bien',\n",
       " 'producto conforme a la descripcion del anuncio se ha recibido ok y en su caja original ademas en plazo cumple perfectamente su cometido recomendado ',\n",
       " 'raton de tamaño contenido bastante preciso y responsive al principio me parecieron algo duros los botones seguramente porque el anterior que usaba eran blanditos una vez te acostumbras todo bien ',\n",
       " 'me gusta mucho la funda el kindle queda muy protegido por todos los lados y es facil manejarlo pues los botones quedan a la vista el color me gusta mucho las fotos de las descripcion son muy buenas y es el mismo en cuanto a calidad precio me parece genial y una compra estupenda ',\n",
       " 'la camara cumple con lo que promete pero puedes pasarte una tarde configurandola hasta que te acostumbras al funcionamiento del software en cuanto le pillas el tranquillo es facil configurar el acceso desde internet poner la deteccion por movimiento y activar los avisos por correo hay que saber abrir el puerto en el router pero supongo que alguien que compra un aparato asi sabe hacerlo conectarla a la red tanto por cable como por wifi es sencillo conociendo la ip de la camara y la clave 192 168 1 203 usuario admin y sin clave no es necesario usar el programa que trae en el cd se accede directamente desde el navegador cambiar despues esos datos es facil y necesario para mantener la seguridad la velocidad de respuesta en red es buena pero por internet tarda en reaccionar a los movimientos que le solicitas el envio de mensajes cuando detecta movimiento es aceptable tarda unos 10 segundos desde que detecta el movimiento hasta que te llega el correo he hecho las pruebas con la app de foscam para android hay otras apps habra que ir comparando a ver cual es mas completa ',\n",
       " 'la verdad no hizo el papel para el q lo compre pero realmente creo se debio s q la cobertura de datos era nula ',\n",
       " 'alguien sabe si este disco duro tambien es compatible con mac os en la pagina de samsung pone que si pero en esta pagina no hacen ninguna especificacion ',\n",
       " 'viene a ser una camiseta de cuello vuelto con un tacto bastante sintetico lo peor en cualquier caso es que pese a coger la l la camiseta terriblemente pequeña yo soy un tipo mas bien delgado ya la camiseta me va ajustada y muy corta en mi caso inservible ',\n",
       " 'compre el pack que incluia tres cartuchos dos de tinta negra y uno de color pues bien pongo uno de cada en la impresora y continuaba parpadeando la luz de falta de tinta y por supuesto se negaba a imprimir por unos momentos pense que la impresora ya no funcionaba que era problema suyo pero en seguida se me ocurrio probar con el otro cartucho y si era eso enseguida desaparecio la maldita lucecita de falta de tinta y empezo a imprimir qui pasa ahora tengo el cartucho abierto porque lo puse para probar y tambien abri los otros dos me he puesto en contacto por chat con amazon y estoy encantada me han ofrecido devolver todo el pack de forma gratuita o reembolsarme 6 euros por el defectuoso he aceptado el reembolso xq ya estoy usando los dos que si funcionan buena impresion de amazon pero no tanta del producto como puede fallar uno de los tres mezclaran tinta mas vieja con nueva por si no devuelves ',\n",
       " 'gran angulo de vision perfecto para poder ver al niño cuando llora recomendable para todos aquellos padres que tengan bebes ',\n",
       " 'cumple perfectamente su funcion y tiene un precio mas que ajustado ademas no se calienta demasiado como se que pasa con otros productos similares ',\n",
       " 'para mi es lo que andaba buscando porque se recarga por el dia y ademas tiene un detector de movimiento',\n",
       " 'la dimension de los protectores es adecuada a la pantalla del movil para el que esta indicado y tiene una buena fijacion producto correcto ',\n",
       " 'el envio muy correcto no me ha gustado nada esta funda el cable es corto delicado y se termina rompiendo por el movimiento los anclajes coinciden con botones y toma de carga asi que te hacen improvisar recomendaria buscar otras mas universales',\n",
       " 'sabia cuando lo compre que no seria la joya de mi vida pero el caso es que me decepciono el color oro se desgasto en menos de un mes quedandose en un color cobrizo',\n",
       " 'cumple su funcion puedo ver mi tablet en la tele o conectarla a mi ordenador que era para lo que lo queria ',\n",
       " 'el material es bueno como siempre en la marca lego pero hecho de menos ladrillos mas largos y de otros colores ',\n",
       " 'acostumbrado a oir musica en la cadena del salon o con cascos a todo volumen tenia ciertas dudas en la potencia de este tipo de apartos dudas despejadas suena estupendamente y a un volumen totalmente inesperado todas las personas que lo han escuchado opinan igual quien busque un altavoz para escuchar en una habitacion de casa con este va sobrado si acaso echo en falta que tuviera entrada de tarjeta sd para llevar muscia incorporada el bluethoot se conecto perfectamente con 4 modelos de moviles y no tuvo ningun problema con ninguno de ellos el unico pero es que los botones de volumen y de avance y retroceso estan tan juntos que es muy dificil manejarlos mejor hacerlo desde el movil el manos libres todavia no he llegado a probarlo la duracion de bateria tampoco resumen a falta de comprobar el funcionamiento durante mas tiempo por si da problemas de momento todo perfecto ',\n",
       " 'inmejorable relacion calidad precio totalmente recomendado para el usuario medio de audio video que realmente no necesita gastar cantidades muy superiores en una infima mejora en calidad que no va a apreciar ',\n",
       " 'cumplen con su funcion podrian ser mejores ',\n",
       " 'el producto es correcto se corresponde con la descripcion esta bien acabado y funciona correctamente pero lo mandan en un sobre sin ningun tipo de documentacion ni instrucciones he tenido que ir a la web de la competencia para ver como instalarlo la forma de envio me parece muy deficiente un sobre por correos normal eso implica que el paquete tarda mucho en llegar que no sabes realmente cuando lo hara y ademas al no ser ni siquiera certificado el cartero lo dejara en el buzon de cualquier manera en mi caso lo metio a presion rasgando el sobre afortunadamente al adaptador solo le hizo un par de ralladuras que como no se ven no tienen importancia pero podria haberse doblado y que despues no valiese ',\n",
       " 'realmente es como se ve en la foto buena calidad acabados de los cantos redondeados tuve que devolverlo porque no me entraba donde lo queria poner y no me han puesto ninguna pega estoy contenta con el trato lo recomiendo ',\n",
       " 'la calidad de la parte de la pantalla es buena puede mejorar mucho la parte trasera de la funda no le veo buena calidad',\n",
       " 'pesimo funcionamiento baja calidad del producto habiendolo comprado y comprobado su pesimo funcionamiento y baja calidad no recomiendo su compra para nada ',\n",
       " 'no compreis la sandisk para esta camara y ninguna otra la sd es super lenta a comparacion con la lexar yo tengo esta camara y es muy buena pero la tarjeta extreme de sandisk mucho que desear lexar pro de 64gb va como un tiro comprobado',\n",
       " 'cumple con su funcion lo he usado poco asi que falta por comprobar su fiabilidad a largo plazo el compartimento para la pila es muy endeble y la pila se cae con facilidad en cuanto lo extraes ',\n",
       " 'sin ser ningun experto en este producto me parece que va bien y el tamaño es perfecto para poder llevarlo con la camara ',\n",
       " 'una vision amplia de la realidad que hay detras de la crisis estamos viviendo un cambio de era y el autor lo explica muy bien y de forma comprensible y amena recomendado para adaptarse a los tiempos que nos toca vivir ',\n",
       " 'el producto cumple con las expectativas lo unico que no me gusta es que los hojales no estan insertados a medidas simetricas',\n",
       " 'prenda muy fina veremos como se comporta ante viento y agua de momento buena presencia para los 44â que me ha costado ',\n",
       " 'a favor â excelente diseño â muy ligera en contra â capacidad muy justita una 5d 24â 105 entra pero empujando tengo una pequeña aw100 que entra todo mejor â no resulta practica para sacar el equipo en mi caso tenia que quitarmela de la espalda apoyarla en el suelo sacar el equipo y otra vez a la espalda yo no la volveria a comprar ',\n",
       " 'es una pack que esta muy bien aunque falte la primera american pie y la verdad que si te gustaron las primeras con estas te vas a hartar de reir completamente en español las 3 primeras y la ultima traen extras pero hay varias que viene solo la peli aun asi merece la pena ',\n",
       " 'es perfecto economico y perfecto son ligeros y la diadema no aprieta los recomiendo no se que mas poner ya lo he dicho todo ',\n",
       " 'comentar que me llego el producto y tenia un defecto de fabricacion faltaba un soporte de plastico en el codo que descuadraba la tv llame a la empresa y me enviaron otro al mismo tiempo que el transportista recogio el defectuoso y en 24 horas el nuevo ya perfecto un 10 por el vendedor y por el producto ',\n",
       " 'calidad excelente se ve muy bien muchos parametros de lectura tipo de letra tamaño margenes configurables poder cambiar la iluminacion con el dedo en el lateral de la pantalla es para mi un gran punto a su favor comodo y ligero en la mano despues de haber visto muchas reviews kindle paperwhite bq cervantes y kobo glo hd y despues de haberlos tocado en tienda fisica me decidi por este sin miedo a equivocarme kobo glo hd e reader micro usb e ink 802 11b 802 11g 802 11n 1448 x 1072 pixeles cbr cbz epub html mobi pdf rtf txt bmp gif jpg png tif ',\n",
       " 'he quedado muy decepcionado con esta tablet me salio el mensaje de calentamiento de bateria se reiniciaba la tablet de nuevo el mensaje y asi hasta que no se volvio a encender la envie a bq para reparar y me cambiaron la placa cuando me la entregaron a los pocos dias volvio el mismo problema lo siento pero ya no confio mas en esta marca por suerte amazon me va a devolver el dinero y optare por otra marca de mas confianza ',\n",
       " 'a los 15 dias de tenerlo dejo de funcionar sin motivo aparente hemos hecho bastantes pruebas para ver que le pasa pero no parece responder mala compra ',\n",
       " 'no son 95 gris como dice el texto son 90grs por lo que no quedo contento con mi compra fin ',\n",
       " 'no es una super novela pero esta bien escrita y la historia es bastante creible y original tiene unos toques realistas bastante buenos entretenido ',\n",
       " 'nunca me han llegado si que me reeenvolsaron el dinero pero me parece una autentica falta de seriedad y profesionalidad lo unico bueno que renvolsaron algo que no llega ni al euro',\n",
       " 'sencilla pero funcional su uso no tiene ningun secreto el cable usb doble es solo para ordenadores que no dan corriente por un puerto usb',\n",
       " 'es cierto que le faltan ilustraciones pero para niños mas mayores puede ser una buena compra cortas y entretenidas es una pena que no muestren ejemplos de paginas antes de comprar ',\n",
       " 'genial tenia una igual con sus años y habia perdido el antiadherente encima es la nueva edicion espero no tener problemas con el termofusible como la otra nada que no se arregle con un poco de maña y un soldador electrico aqui os dejo un enlace por si teneis problemas ',\n",
       " 'la tarjeta en cuanto a rendimiento es lo esperado me gusta bastante el diseño ademas es de gran utilidad ya que disipa bastante bien el calor totalmente recomendada ademas es una de las mejores marcas actualmente en este ambito en mi opinion ',\n",
       " 'ajuste perfecto vision muy buena es de muy buena calidad y cumple perfectamente su cometido cien por cien recomendable ojo a la talla',\n",
       " 'funda dura que protege perfectamente y es 100 compatible con el asus zenfone 2 cuando se la funda esta cerrada protegiendo el dispositivo ',\n",
       " 'funciona perfectamente con los ficheros raw en rafaga no he tenido nunca problemas con esta marca de tarjetas de memoria ',\n",
       " 'cumple su funcion pero mientras cargas el movil se calienta de manera exagerada casi imposible de agarrar por miedo a quemarse ',\n",
       " 'son bastante grandes estan bien aunque las he visto en otro sitio un poco mas baratas claro que no era el mismo modelo igual eran mas pequeñas ',\n",
       " 'â que quereis que os diga se trata de una novela de isabel allende con todas sus caracteristicas magnificamente escrita llena de su duende su forma de escribir inconfundible y que a mi me parece deliciosa yo siempre pienso que es una de las grandes escritoras o escritores en lengua castellana mejores del momento y de muchos momentos soy un fan total de ella ',\n",
       " 'son perfectos para ponerlos en la maxicosi evitan que le rocen los cinturones al bebe y al bebe le encanta ir tocadolos por lo suaves que son ajustan perfectamente ',\n",
       " 'la parte positiva es que la tienda es muy grande y te permite moverte sin problema dentro de ella la parte negativa es que su diseño tamaño grosor de las varillas falta de rejilla de ventilacion pared posterior vertical sin forma aerodinamica hace que la tienda se doble en exceso en cuanto sopla algo de viento hasta hacerla inhabitable ademas la falta de rejilla de ventilacion hace que acumule bastante calor cuando se esta dentro por el tamaño que tiene incluso estando plegada y en su funda no me cabia en el maletero del coche ',\n",
       " 'pelicula de accion excepcional el personaje de furiosa es desde ya un icono del cine del siglo xxi ritmo grasa y carreteras de arena ',\n",
       " 'esta es una de las mejores novelas de rosamunde pilcher son situaciones muy humanas las que plantea y por momentos me he reido de las situaciones de los dichos de este protagonista que es ademas guionista de cine y teatro y es un genio en lo que hace aunque como galan o enamorado te lo regalo porque no vale nada el resto de los personajes principales tiernos humanos la historia muy bien lograda la recomiendo ',\n",
       " 'pido armario y agotado el plazo probable de entrega me intereso por saber cuando se recibira me dan plazo para resolver incidencia que nuevamente incumplen no se si me enviaran algo si pasan de mi si me devolveran el dinero nadie se hace responsable',\n",
       " 'es un poco pesado el tener que estar rellenando el tambor de recarga no es muy practico la verdad ademas el film es mas grueso que el original asi q no va tan bien ',\n",
       " 'no me funciono bien ni una vez en cuanto lo fui a usar se desarmo por completo la rosca venia pasada y se desarma al hacer presion en la bomba muy malo ',\n",
       " 'tengo la piel sensible y siento que incluso con la velocidad mas debil es un poco agresivo en mi caso no lo recomiendo para uso diario ',\n",
       " 'he realizado dos intentos de comprar esta bombilla philips con codigo 8718696515914 philips led bulb 8718696515914 9 5 w 60 w e27 warm white non dimmable y en su lugar me esta llegando el del codigo 8718696454770 philips led candle 8718696454770 5 5w 40w e14 warm white non dimmable que corresponde con un casquillo e14 y tipo vela con menos potencia',\n",
       " 'â que trabajo interesante el de brandon stanton mostrarnos sin alardes tecnicos pero con una curiosidad descomunal y una facilidad pasmosa para obtener de sus modelos una pose natural la enorme maravillosa diversidad de las personas que pueblan las calles en este caso de n y ',\n",
       " 'mi suegra muy contenta lo malo es que al parecer no se apaga solo y ahora mas palabras obligadas de mas',\n",
       " 'para los niños que disfruten con star wars este es el regalo ideal barato sobre todo comparado con otros lego y muy jugable ademas viene con yoda y mis hijos estan alucinados ',\n",
       " 'no me gusto mucho la verdad he leido otros de epoca que me han gustado mas pero tiene su puntito ',\n",
       " 'es un poco endeble pero cumple su funcion por poco dinero eso si tratalo con cuidado si quieres que dure porque tanto los materiales como las conexiones se ven de baja calidad ',\n",
       " 'en la foto parece mucho mas bonita de lo que es en si con el uso en pocos dias se pone negra y deslucida ',\n",
       " 'tenia muchas ganas de tener este libro me lo han regalado por mi cumpleaños ya que hago el pan de mi casa todas las semanas y nos encanta probar nuevas recetas el libro me ha encantado es facil de leer con muchas recetas de distintos paises bien explicado preciosas fotos y con muchos datos sobre tecnica y conocimiento panarra un lujo de libro',\n",
       " 'es una buena opcion con solo una bombilla se consigue un efecto bastante agradable para fiestas ademas de muy simple pues solo hay que ponerla en el casquillo de cualquier lampara e 27 el servicio estupendo incluso llego antes de lo previsto y en perfectas condiciones recomiendo a este distribuidor para futuras compras cinco estrellas muy bien merecidas ',\n",
       " 'la unica pega es que no traiga las instrucciones en español por lo demas nos ha parecido bien y el precio esta muy bien ',\n",
       " 'es muy completo siempre que se instale el programa en un telefono o tablet con bluetooth para poder controlar y programar las funciones disponibles espero que el fabricante publiquen los comandos en codigo abierto para poder iniciar a los chavales en la programacion y desarrollar nuevas aplicaciones ',\n",
       " 'me ha encantado usarla me vino en seguida la transferencia de datos es rapidisima perfecta para grabar mucho en full hd estoy empezando en youtube y despues de la camara esto es imprescindible',\n",
       " 'lo que esperaba le da un aspecto muy bonito a mi gusto este altavoz se merece este detalle de 25 euros espero poder disfrutarlo unos años ',\n",
       " 'no esta mal pero cara los reposabrazos no me gustaron y los quite se mueve la parte que toca el codo y antebrazo si empujas no se pueden bloquear el asiento tiene una banda de esponja un poco dura que molesta un poco en las piernas cuando llevas unas horas lo solucione poniendome un cojin pero vamos con una silla de casi 400 â me entra la risa si me tengo que que estar poniendo cojines al final me canse y me la vendi de 2âº mano y me compre una markus de ikea y sinceramente no la echo de menos ',\n",
       " 'el producto me vino en una caja rota y estaba oxidado como si fuera un producto de segunda da mano desaconsejo que se compre puedo enviar fotos del mal estado del producto pesimo ',\n",
       " 'reloj seiko snzg13k1 automatico 5 sport hombre military con calibre 7s36 23 rubies con tres agujas con doble calendario en ingles aleman con caja y armis en acero inoxidable y esfera negra el cristal es mineral hardlex resistente al agua 100 metros diametro de la caja 41 milimetros solo corona con un peso aceptable y comodo de llevar ',\n",
       " 'perfecto para niños les enseña a amar lo que tienen bonitas in lustraciones se sillas y con muchos colore aconsejable',\n",
       " 'mala calidad y baterias pequeñas para el peso del helicoptero pedimos el primero y no volaba mas de 30segundos com varios ciclos de carga y el segundo que nos enviaron igual a la tercera reembolso del dinero y compremos mjx f49 y este de lujo amazon un 10 en devolucion como siempre y amewi un 0 manual unicamente en aleman y no vienen repuestos de las helices ',\n",
       " 'no me termina de convencer puesto que la salida independientemente de la carga que le pongas suelen ser unos 5 2 voltios y me parece demasiada variacion para voltajes tan pequeños ',\n",
       " 'cumple con las expectativas es muy ligera con dos ventanas y con suelo caben perfectamente dos niños pequeños como los mios de 2 años y de 6 años lleva una funda de tela para guardarla y ocupa muy poco y tambien una funda para los palos de fibra de vidrio a los niños les encanta ',\n",
       " 'el movil en si es una maravilla sin ser de tamaño ladrillo tiene una pantalla mas q suficiente para las conexiones de internet y se puede llevar muy bien en el bolsillo de un vaquero el vendedor de lujo elegantes de la fecha propuesta ',\n",
       " 'esta muy bien hecho bien cosido y aguanta bien la posicion el pequeño no se despega de mama es bonito a mi hijo le encanto ',\n",
       " 'una cama muy practica para invitados es muy comoda se hincha rapidisimo y se deshincha igualmente bien y rapido la hemos usado para una invitada adulta durante 1 semana y se sintio muy comoda en ella ',\n",
       " 'para el precio que tienen son unas fundas de muy buena calidad sujetan bien la carta y tienen buena resistencia',\n",
       " 'perfecta relacion calidad precio hay mas baratas pero sinceramente no vale la pena ahorrarte 50 60 euros la pantalla es de mucha calidad 2gb de ram y quad core hacen q funcione mas q bien y el sonido es muy bueno solo q cuando conectas los auriculares se escuchan algunos chasquidos cuando no reproduce nada por contra la camara es justita y arrancando es algo lenta pero nada preocupante si buscas una tablet de 8 pulgadas para mi el tamaño perfecto creo q esta es muy buena opcion ',\n",
       " 'estamos encantados con el invento hay que tener cuidado que la bañera no esta mojada porque entonces se despega pero si se siguen las instrucciones funciona perfecto',\n",
       " 'tiempo establecido y producto conforme a lo expresado en el anuncio muy contento me parece un producto con buena relacion calidad precio',\n",
       " 'para mi gusto es el dvd mas flojo que he visto hasta ahora de cantajuegos tiene 2 canciones que sobran de un cd infantil como por ejemplo la de â color esperanzaâ demasiado tranquila y sentimental ',\n",
       " 'me ha gustado mucho la calidad del libro y sus dibujos tambien su entrega fue muy ripida y la tramitacion tambien muy buen producto ',\n",
       " 'pensaba que seria standar no pude ponerlo a funcionar no lei bien las indicaciones de uso y el funcione bien',\n",
       " 'producto de calidad pero sonido metalico y con muy pocos graves decepcion total lo he devuelto tengo uno mas pequeño y barato y suena mucho mejor',\n",
       " 'ideal para aspirar pelos tierra pelusas y piedras en una casa de campo si no te importa el ruido las bolsas son enormes ',\n",
       " 'no cumple la funciin que esperaba no he necesitado saltar encima como aparece en las fotos del producto silo sentarme para comprobar que no vale para nada no lo recomiendo ',\n",
       " 'buena microsd y buen precio cumple perfectamente con su objetivo y es perfecta para la camara gopro y para grabar',\n",
       " 'pensaba que habian mas alimentos y mas contenido el carton es mas fino que en otras colecciones pero no esta mal ',\n",
       " 'esta tarjete no graba en 4k grabar en 4k es lo que yo necesito me gustaria devolverlo el resto de las compras parece que bien gracias',\n",
       " 'lo primero felicitar a amazon por la rapidez de la entrega del producto el movil tiene todas las prestaciones de los mejores moviles solo tiene el fallo de la capacidad de la memoria interna pero con ponerle una microsd solucionado muy bien sellado y sistema de apertura de la bateria fiable gracias al tornillo de presion practico diferentes deportes windsurf surf mtb escalada y me da seguridad que aunque se moje o reciba algun golpe no se haga papilla de todos modos lo llevo siempre dentro de una funda estanca para aumentar la seguridad lo recomiendo para todos aquellos que necesiten un movil todo terreno ',\n",
       " 'es para una sala pequeña para un salon medianamente grande se queda corto el sonido para una habitacion puede valer ',\n",
       " 'las zapatillas parecen comodas de primeras me las probe e iba a gusto andando por casa y tal asi que las probe por primera vez en el tramo a pie de un triatlon y cuando acabe tenia los dos pies con heridas y sangre por todos lados una vez lavados y secados me los volvi a poner y me di cuenta de que tienen una costura justamente a 1 cm de altura por toda la zona del empeine lo que hace que cada pisada tus dedos impacten sobre esta costura es una zapatilla que esta mal diseñada y no se la recomiendo a nadie ',\n",
       " 'tiene un precio reducido eso si pero falla en las mediciones el cuerpo de plastico se rompio al poco sin hacer nada raro y lo dicho es un calibre barato muy delicado y de mala calidad de construccion bajo mi punto de vista es barato pero no merece la pena ',\n",
       " 'tengo otro misma marca mas pequeño y su potencia es el doble no merece la pena pagar mas por este',\n",
       " 'a este precio no se puede discutir mucho no tiene las 5 estrellas por alguna pequeña errata pero vale mucho la pena ',\n",
       " 'es un buen molde desmontable ya hay una generacion posterior 26cm es muy grande he acabado por comprar otro de 20cm ',\n",
       " 'un producto profesional que usaba mi manicurista en su salon supongo que es el mismo producto pero claro no es lo mismo hacerselo una misma que una profesional ',\n",
       " 'aunque indica que es compatible con smart cover no lo es en la foto parece que el lateral izquierdo tiene la parte donde iria la smart cover libre pero realmente tiene plastico y la smart cover no ajusta en absoluto bien en resumen si la vas a usar con smart cover no lo compres yo he tenido que cortar el plastico con un cuter para poder usarla ',\n",
       " 'sonaba un pitido de alta frecuencia sobre todo al presionar el boton de apertura de la puerta supongo que habia algun acople lo tuve que dovolver como siempre con amazon ningun problema ',\n",
       " 'pues a pesar de ser un premio nobel no le he puesto 5 estrellas porque seria calificado de me encanta y la verdad no he podido sufrir mas leyendolo quizas esta era la idea de coetze por eso lo admiro porque ha sido capaz de identificar el caracter de dostoievsky mejor que nadie un tipo obsesivo reprimido contradictorio y depravado asi que este escritor merece un nobel pero la novela es tormentosa y yo no estaba preparada para ello saludos a todos',\n",
       " 'pedi este protector de pantalla para mi acer liquid z410 sobre todo ahora para el verano que con el calor la pantalla se pringa mas rapidamente ahora puedo usarlo tranquilamente sin miedo a que se ensucie demasiado o que despues me cueste trabajo el limpiarlo bien alargando ademas la vida util de la pantalla el producto en cuestion me ha llegado dentro del plazo fijado ayer mismo viernes 7 de agosto aunque para mi gusto ha tardado un poco pero no me importa me llego hacia el mediodia por correo certificado desde alemania donde los fabrican me alegro que no sea una baratija made in china por un precio irrisorio de un par de euros tengo un producto que si bien es un poquitin complicado de poner las instrucciones son un poco liosas cumple su funcion a la perfeccion sin duda una buena compra ',\n",
       " 'todavia estoy tratando de buscarle alguna utilidad la tengo muerta de risa en un cajon no sirve para nada dinero tirado',\n",
       " 'no va muy alla no la recomiendo en absoluto no es fiable no su estructura ni el cierre no se yo no volvia a comprarlo',\n",
       " 'no es mucho mejor en su comportamiento optico que el zoom 10 30 en su posicion 10 mm pero este es mas luminoso y mas pequeño y discreto',\n",
       " 'siglo xxvi la humanidad se ha esparcido por la galaxia y la clonacion y virtualizacion de las mentes permite lograr la inmortalidad a quien puede permitirselo y el grillado exmilitar takeshi kovacs no puede de repente takeshi se ve renacido en un nuevo cuerpo en el planeta tierra y el millonario laurens j bacroft le encarga la mision de descubrir si su reciente fallecimiento bueno de uno de sus cuerpos se debe al suicidio o a un asesinato â quien me ha matado novela de crimen en un escenario de ciencia ficcion que parece escrita a medias por james elroy y peter f hamilton altered carbon se lee con rapidez aunque como pasa con elroy hay que estar muy atento para no perderse entre los numerosos hilos que componen la trama muy divertida ',\n",
       " 'originalmente en el sello philips el sonido en este doble cd deja ver su edad falta de transparencia y viveza y las suites no habituales en las salas de concierto son puro tchaikovsky menos ligeras que sus ballets y sin su riqueza melodica pero muy agradables al oido sobre todo la â mozartianaâ que es una amalgama de pequeñas piezas del compositor salzburgues originalmente escritas para el piano dorati sabe insuflar un aire balletico en las dos primeras y consigue una amplia paleta coloristica para una grabacion actual espectacular y una buena interpretacion con tempi mas ligeros y algo menos de â charmeâ tiene a jirvi detroit so chandos ',\n",
       " 'le faltan palabras considero este dicionario muy poco util es un timo me esperaba algo mejor cuando me gaste 8â ',\n",
       " 'buena tablet de samsung facil de utilizar con muy buena interfacy agradable fucionamiento lamento que el accesorip enviado con proteccion de pantala no sea adaptable a este terminal ya puse la corrrespondiente recalamacioon',\n",
       " 'se adapta perfectamente al tamaño de mi ipad es un diseño original y ligero hay una buena calidad en referencia al precio',\n",
       " 'no se ajusta a lo que necesitaba ya que la punta del destornillador no viene hueca para encajar en tornillos especiales ',\n",
       " 'me he tenido que comprar otro porque giraban muy mal las caras del cubo no lo recomiendo para nada hay otros cubos por el mismo precio que cuestan lo mismo ',\n",
       " 'por el precio que tiene creo que es un buen reloj esteticamente la unica pega que le pondria es que las agujas y algunos chapados hacen que de la impresion de ser de peor calidad ',\n",
       " 'very good product and works great fast shiping and very good 1 1v 1 1 1 1 1 1 1 1',\n",
       " 'ajusta perfectamente y tiene tapas para la ranura del cable de carga y para el jack de los auriculares la recomiendo ',\n",
       " 'la funda falla en el boton de encendido y apagado es demasiado dura y cuesta encender y apagar el telefono ',\n",
       " 'todo perfecto aunque echo en falta info de porcentaje de carga de cada pila estaria bien que al poner una pila te informara del actual de carga y que fuera aumentando conforme se va cargando por el resto todo perfecto ',\n",
       " 'no me gusta nada de philips pero por las opiniones positivas y la relacion calidad precio me decidi por ella y tengo que reconocer que cumple mis expectativas de sobra ',\n",
       " 'compre uno recientemente y varias teclas no funcionan incluyendo shift bloq num etc las luces tampoco encienden no me sirve',\n",
       " 'viene muy bien para ponerlo en asiento del conductor o copiloto es facil de poner y quitar ademas de que es comodo y esta todo muy bien explicado en las instrucciones nos da mucha seguridad usarlo asi que muchas gracias',\n",
       " 'en serio alguien puede decir que las victoria tienen calidad el que lo diga tiene el pie acostumbrado a comprar el calzado del carrefour o en los chinos por que no me lo explico hace una semana probe si no fue este modelo otro practicamente igual y quede totalmente decepcionado de las peores suelas que he pisado tremendamente fina notas hasta el relieve de una etiqueta en el suelo por lo que no me quiero ni imaginar salir a la calle a caminar con ese papel de fumar entre los pies y el suelo dolor continuo luego probe por curiosidad el tipico modelo de victoria que se lleva sin cordones y mas de lo mismo probe unos dc poco mas caros y muy parecidos y como el dia y la noche daba la impresion de caminar sobre una nube suela suave esponjosa y con un grosor normal super comodas gastad algo mas y no os compreis esto vuestros pies os lo agradeceran',\n",
       " 'se lo compre a mi hija como lectura para este verano y esta encantada con el libro tocara seguir con el resto de la saga ',\n",
       " 'hola me gustaria saber por que este es deferente a otros invicta que tengo ninguno dice japan todos son suizos ',\n",
       " 'lo compre porque me parecio una idea acertada que se pudiese alimentar la raspberry pi al mismo tiempo que tenia las funciones de hub usb pero esto no funciona pues solo la alimenta unos segundos hasta que se conecta o inicia el hub y durante un breve espacio de tiempo se corta la alimentacion de todos los puertos y se apaga por completo volviendo a ponerse en marcha un instante despues lo unico que se me ocurre para solucionar esto es intercalar una bateria o un circuito con un condensador que aguante ese lapso de tiempo en el que se queda sin voltaje pero sin duda esto encarecera la solucion en espacio y precio el led que incorpora es bastante discreto se ilumina en azul cuando el hub esta recibiendo la alimentacion desde el equipo al que esta conectado y cambia a verde cuando se conecta la clavija de alimentacion aunque esta no este conectada a la corriente este pequeño detalle ha de ser tenido en cuenta para no dar por supuesto que el transformador esta alimentando el hub al cambiar el color del led tiene un tamaño correcto y el resto de funcionalidades son las normales que ya indica el fabricante si tienes una rpi y quieres alimentar y utilizarla de hub simultaneamente no recomiendo su compra si solo quieres un hub usb 2 0 puede estar bien pero he visto otros productos similares por menos precio y superiores por un precio similar ',\n",
       " 'hola despues de ver infinidades de videos en you tube todo los videos caseros todo era tan real que lo pedi para mi mejor resultado como maquillador estuve 2 dias muy ansioso por la llegada y una vez que llega y lo probe me lleve una gran desilusion nada es como lo describen te deja la piel tirante pero no se te va ninguna arruga ni bolsas para mi opinion no deberian vender esto aqui ya que sus resultados son mentira y esto quitaria credibilidad a todos los productos de amazon esto desde mi punto de vista hay que comprarlo en un salon de belleza y que te lo prueben antes ya que podria variar la calidad del producto en unos puntos de ventas y en otros gracias y espero que os sirva de ayuda ',\n",
       " 'audio en español en esta edicion de reino unido 3d muy bueno buena sensacion de profundidad pelicula entretenida para pasar un buen rato ',\n",
       " 'estoy muy contento con el invento ya que me permite mantener conectado el gps y mediante itrio poder escuchar podcast y cargar el iphone practico y eficaz ',\n",
       " 'nunca habia probado un sacapuntas electrico este es el primero y realmente me ha sorprendido lo bien que funciona lo rapido y las puntas tan perfectas que saca a los lapices el funcionamiento es realmente sencillo conectas el sacapuntas por medio del cable usb que viene en el paquete el cable es especial introduces el lapiz por el agujero que hay en la parte superior empujas levemente hacia abajo y empieza a rotar un sacapuntas que hay en su interior cuando crees que esta perfecto dejas de empujar tambien puede funcionar con 4 pilas aa no vienen incluidas que las introduces en una cavidad que hay en la base del dispositivo el pack trae 1 sacapuntas electrico 1 recambio de sacapuntas 1 cable usb especial 1 manual de usuario en definitiva un sacapuntas electrico muy util y practico ',\n",
       " 'buena calidad para el precio que tiene a veces se despega pero creo que eso le pasa a la mayoria ',\n",
       " 'la lleve a mi espalda 4 meses de viaje por sudamerica cumplio mis expectativas es comoda y la capacidad era perfecta aunque cuanto menos la llenes mejor w compartimento para el saco muy util y para la lluvia la funda venia fenomenal el color muy bonito buena inversion ',\n",
       " 'sin tener una calidad de sonido excepcional si cumplen perfectamente su cometido para hacer deporte aguantan bien el sudor y se fijan perfectamente en las orejas sin movimientos al correr resultando bastante comodos el sonido es bastante equilibrado buena relacion calidad precio ',\n",
       " 'me he comprado este smartwatch y me he animado a comentaros mis impresiones espero que os sean de utilidad 1 el contenido de la caja dentro de la caja viene lo siguiente el smartwatch cable usb microusb para cargarlo auriculares manos libres manual de instrucciones en ingles y chino 2 el smartwatch la verdad que por el precio que tiene esta muy bien se ha sincronizado perfectamente con mi movil con android 5 0 1 el aspecto externo es muy bueno la carcasa del reloj es metalica y presenta en el lado superior la camara y el microfono en la parte inferior tenemos un boton cuadrado que nos permite encender y apagar el reloj en uno de los laterales tenemos un conector microusb que nos permite cargarlo me hubiese gustado que este conector tubiese algun tipo de tapa para que no le entrase suciedad la parte trasera de la carcasa la podemos retirar y encontraremos por un lado la bateria de 450 mah y por otro los receptaculos para colocar la tarjeta microsd de hasta 32 gb y la tarjeta sim si has leido bien la tarjeta sim ya que el smartwatch a parte de poderse usar como reloj y poderlo sincronizar con nuestro movil tambien permite que pongamos una tarjeta sim y lo usemos como telefono si os habeis fijado al retirar la tapa no hay gomas por lo que el reloj no es sumergible yo por si acaso me lo quito cuando me voy a duchar ya para finalizar con la descripcion fisica del reloj deciros que las correas son de goma y no de plastico rigido 3 ',\n",
       " 'adquiri este adaptador para poder usar la salida hdmi de una play station 3 hacia una pantalla que solo tiene dvi la calidad del video mejora ostensiblemente el precio muy bien ',\n",
       " 'este adaptador es necesario para jugar a algunos juegos de la wii se instala facilmente y le aporta mejor jugabilidad al mando personalmente pienso que este tipo de adaptadores deberian venir incluidos en el mando original por otro lado su precio no es muy alto funciona perfectamente solo tienes que enchufarlo al mando y empezar a jugar ',\n",
       " 'el iphone 5 no lo reconoce y el ipad air tampoco parecia un buen producto pero lamentablemente va a ir al centro de reciclaje ',\n",
       " 'se ve bastenete bien las camaras que trae lo que no consigo es que se vea por ningun navegador web tanto en la misma red como en otra y aplicaciones para el movil por mas que pruebo no veo ninguna',\n",
       " 'tuve que cambiar mi modelo de trackball de logitech tambien el mio era superior tenia varios botones inalambrico y con rueda motivo del cambio mucho uso y desgaste de varios años hay pocos trackball que elegir en el mercado que sean relativamente confortables con este te acostumbraras facilmente la pega es que solo tienes 4 botones y no tiene rueda en lugar de eso hay una opcion que puedes configurar como un scroll simulado que pulsar el puntero se convierte en otro icono y segun donde pongas el puntero arriba o abajo el scroll va subiendo o bajando si estas mas lejos la velocidad es mayor la bola es perfecta de tamaño pronto te acostumbraras a ella y es facil de sacar para limpiar la zona donde mas se depositva pelusilla la limpieza es muy rapida con un pincel o paño lo qwue no me gusto es la zona de reposo del trackball las gomas son muy suaves y si tu mesa no es rugosa se resbala facilmente y se mueve la base por otra parte el modo estilizado de la base en a parte mas alejada de la bola por donde agarras es estrecho lo que hace que balancee esto puede atenuarse si posees una alfombrilla de raton fina o de fieltro con lo que evitaras que se escurra y el balanceo el cable de conexion es largo si bien estaba acostumbrado al otro trackball que era inalambrico y ahora estoy atado por un cable usb con lo que no puedo mover tan lejos como antes el trackball pero ese modelo lo han descatalogado sorprendentemente ',\n",
       " 'no estoy seguro de que se trate de una bateria original de sony dura casi igual que la antigua que tiene mas de dos años y eso que tiene 50 mah mas que la que venia con mi movil el envio llego bien aunque con un retraso de varios dias algo que quizas se deba al mes de agosto ',\n",
       " 'por el precio bien aunque le falta un poco de calidad se estropea rapido para mi entender y criterio objetivo',\n",
       " 'le hubiera dado 5 estrellas si me hubierais dado la oportunidad de comprar el libro con el texto que correspondiera al audio entonces hubiera sido perfecto pero compre uno de los libros que ofreciais y no corresponde para nada asi que no puedo seguir la lectura a la vez que escucho el audio alguien sabria decirme que libro tengo que comprar que coincida con el audio ',\n",
       " 'no baila de un lado a otro le pones el angulo que deseas y se queda ahi si no haces fuerza en otro sentido claro la he probado una vez y va de cine',\n",
       " 'magnifica calidad en todos sus detalles el modelo en color azul oscuro lleva un forro interior de cuadros rojos y azules que queda muy bien con el color rojo de los ajustes en bajos y capucha la capucha y el acabado de pelo se pueden quitar independientemente lo que resulta muy comodo la parka no es excesivamente gruesa por lo que seguramente te pondras algo de abrigo debajo tenlo en cuenta para la talla por ejemplo mi marido usa normalmente una xl y con un polar grueso debajo le queda algo justa en cuanto al largo es un 3 4 normal para estaturas medias a el le queda perfecto pero si eres de complexion delgada y alto creo que seguramente te quede bien de ancho pero algo corta ',\n",
       " 'lo que mas me atrajo fue el precio delproducto practicamente el 50 menos del pvp en la tienda oficial y en otras tiendas de renombre por lo que hasta que lo tuve entre mis manos y comprobe que todo era correcto que se trataba del producto ofertado teclado en español nuevo y original tenia algunas dudas sobre la compra lo recibi tal y como estaba previsto al dia siguiente de la realizacion del pedido por el momento todo funciona correctamente las teclas la retroiluminacion aunque solo hace dos dias que lo tengo y no lo he podido probar demasiado nada mas recibirlo comprobe que funcionaran los simbolos especificos del español y el catalan la retroiluminacion el ajuste y compatibilidad con mi surface windows rt y por el momento todo funciona perfectamente supersatisfecha con la compra confianza total en el vendedor y su seriedad ',\n",
       " 'â no funciona puse la bateria en el telefono no cambiaba el porcentaje de carga hasta que el telefono solo se reiniciaba le puse la bateria de otro movil y la anterior que tenia y sin ningun problema no recomiendo comprar para nada esta bateria no comprar esta bateria ',\n",
       " 'a mi hija de tres años la ha encantado de tamaño ideal la hemos tenido que subir un poco el sillin los materiales muy buenos y las ruedas estupendas ',\n",
       " 'dispositivo muerto no se enciende cable usb danificado me pregunto si pruebam los productos antes de los vender chinese quality ',\n",
       " 'dentro del rollo habia muchas bolsas defectuosas imposible para utilizar la pena que no puedo añadir aqui la foto para mostrarlas ',\n",
       " 'muy bonito buen diseño una velocidad de acceso impresionante pero ha durado exactamente desde el 2 de diciembre de 2014 hasta el 21 de febrero de 2015 mala electronica malos materiales no lo esperaba de kingston ',\n",
       " 'tan solo que el modelo para nikon el f 2 8 no es constante y se echa en falta el estabilizador ',\n",
       " 'no hace un mes que lo tengo pero de momento todo bien potente buen comportamiento y la relacion calidad precio muy buena ',\n",
       " 'no me explico como no me lo pude comprar antes por que de verdad que es un juegazo aun no lo he completado pero lo que he jugado hasta ahora unas 20 horas me esta encantando ',\n",
       " 'es un movil normalito sin grandes lujos ni una gran operatividad pero que cumple su funcion y que funciona bastante bien ',\n",
       " 'su analisis su experiencia el detalle historico y la valoracion al ateismo hacen de esta obra un sano y entretenido recorrido sobre la mente atea ',\n",
       " 'tienen buen aspecto y parecen resistentes pero se escuchan muy mal nada que ver con el modelo mas barato que se escucha perfectamente ',\n",
       " 'el conversor este no funciona lo he probado en varios ordenadores y no va es una mala eleccion aunque sea barata ',\n",
       " 'es genial me voy a comprar otro un acierto el movil va muy bien la pena es que no tenga fundas ',\n",
       " 'compre esta guitarra el paso diciembre pero hasta esta semana mi hija no podido comenzar las clases y el profesor nos ha dicho que la guitarra esta defectuosa ',\n",
       " 'high school musical 3 reino unido blu ray mismo disco que la edicion española por lo tanto tiene castellano esta edicion esta descatalogada en españa ',\n",
       " 'muy buena compra admite 5 sensores de temperatura lo malo que la carcasa es de plastico fino y parece un poco fragil ',\n",
       " 'perfecto para lo que pretendia resuelve y me soluciona el problema que tenia para obtener una buena conexion wifi en casa ',\n",
       " 'todo perfecto ha solucionado la necesidad de regular la temperatura de una manera facil y eficaz muy facil de instalar ',\n",
       " 'le hubiera metido 5 estrellas si no fuera porque no hace la forma del techo y la punta de la aleta se queda lebantada osea despegada una pena porque lo q es la aleta esta bien lastima q no hayan tenido encuenta ese aspecto tan importante la e puesto en un bmw e46',\n",
       " 'te saca de un apuro pero desde luego no es ninguna maravilla hay que dar muchas pasadas cuando otras te lo cogen a la primera pero por este precio si no la vas a usar mucho es suficiente ',\n",
       " 'se queda escaso en la zona de la espalda si se monta en la silla safety first no se si habra otro que cubra mejor ',\n",
       " 'el objective advanced ha mejorado su estructura por lo que supone una util herramienta de preparacion para c1 de cambrige ',\n",
       " 'consumo de luz agua harina levadura ect ir a comprarlo mil molestias para un pan bastante normalito devuelta por su puesto ',\n",
       " 'muy decepcionado cuando lo enchufe al mechero del coche pegueot 307 sw y conecte el movil samsung galaxy trend cual fue mi sorpresa que no cargaba el movil no recomiendo su compra',\n",
       " 'lo elegi por que tenia buenas opiniones y la verdad es que no me haa defraudado muy buen carro lo recomiendo',\n",
       " 'me encantan estas dos peliculas creo que es un acierto el haber hecho un pack con ellas lo recomiendo a todos aquellos que les gusten las comedias romanticas',\n",
       " 'la fotografia es engañosa el articulo nos vino en color bronce y como una chapa de fino una autentica porqueria no volvere a comprar nada a esta empresa',\n",
       " 'precio ajustado con sus limitaciones pero para una persona mayor o un adolescente cumple de sobra para uno por facilidad y al otro por el precio si lo pierde va fluido y buena calidad de materiales ',\n",
       " 'la calidad no es muy buena porque cuando la pã¹erta toca la espuma esta queda marcada y no recupera su forma original a pesar de esto se pega muy bien y es funcionsl por el precio tampoco se puede pedir mas ',\n",
       " 'la verdad estoy muy a gusto con la compra las botas aunque cuesta ponerse sujetan muy bien el tobillos en mi caso la tira de velcro es una gozada ',\n",
       " 'este articulo no vale para el asus t300 doesnt fit to asus t300 ninguna de las fundas vale vaya desgracia ',\n",
       " 'absolutamente recomendable los materiales los sientes de muy alta calidad para quien tenga esa pega engrosa y aumenta bastante el peso del movil funda excelente',\n",
       " 'la luz es muy brillante y potente pero el cambus no va bien no da error el cuadro de instrumentos pero parpadean cuando arranco el coche unas cinco veces al hacer chequeo de lamparas mi bmw',\n",
       " 'simplemente no cortan muerden y solo cortan por una parte de la tijera â para que quieres unas tijeras que no cortan las he devuelto ',\n",
       " 'muy bien ne en me en en en en nene ene en he he je je jejen eje jaja dia',\n",
       " 'la calidad es muy buena aunque luego para colocarlo sea engorroso pero eso pasa con todos los protectores de cualquier marca ',\n",
       " 'no tiene q ver nada a la cortina q pedi solo hay estampado parecido perã² donde estan las hojas q salen de la cortina q yo vi a parte q no son cortinas q solo son dos trozos de tela q esti por confeccionar todo todo todo',\n",
       " 'me gusto el precio sabia de la calidad de bosch y de momento van perfectamente en el taller particularment encuentro a faltar mas de las delgadas para hacer trabajos de precision ',\n",
       " 'bueno acabo de recibirla el 23 04 2015 y hoy mismo he realizado la devolucion del producto y que me reintegren el dinero esta bascula con el iphone 6 y la version 8 3 da grandes problemas de incompatibilidad podrian haber actualizado y a ver comprobado que con el iphone 6 va todo al 100x100 pero no para lo que vale me ha dejado mucho que desear solo me mide el peso pero la grasa corporal nada y cuando sincroniza con el movil solo sale el peso pero nada de porcentajes de grasa coporal el porcentaje del agua y las mil historias que hace pues no me hace nada y para colmo la aplicacion se cuelga a cada istante y se reinicia es muy inestable podria darle un remedio para lo que vale esta bascula me ha decepcionado total luego esta gente no tiene un telf de soporte para que vayan informando si tienes un problema por lo que hoy mismo he realizado al devolucion de este producto sin sentido si estais interesados en este modelo y teneis el iphone 6 y la 8 3 os pasara esto tambien lo he comprobado con otro iphone 6 por si era el mio y da los mismo problemas',\n",
       " 'este juego no es para segun que niños tiene un grado de dificultad que segun la edad del crio le puede resultar dificil jugar el solo el juego esta bien tambien te obliga a tener tarjeta de memoria',\n",
       " 'a veces lo barato nos obliga a comprar dos veces la compre hace tres meses y ya esta esta rota ',\n",
       " 'todo llego en buenas condiciones y parece muy muy accesible como no tenia conocimientos he hecho el curso para niños de la misma coleccion y me gusto de modo que aun no he empezado este lleva un cd para practicar con musica grabada es muy conocido en eeuu ',\n",
       " 'me ha gustado el producto es una libreta con dibujos de las monster para colorear tiene pegatinas y plantillas con muchas cosas para dibujar y poder luego colorear recoertar etc muy entretenido contenta con la compra el envio rapidisimo gastos de envio muy aceptables y embalaje bueno todo perfecto ',\n",
       " 'esta muy bien para el precio llego en una semana y el rendimiento es muy optimo deberia traer la manguera de la lanza mas larga ',\n",
       " 'memoria compatible con un macbook pro buena calidad precio lleva montada unos meses y sin ningun problema el equipo funciona perfectamente ',\n",
       " 'no esperaba gran cosa del pendrive por su precio pero si unas prestaciones algo mejores no es de recibo que u dispsitivo del 2013 tenga la velocidad de transferencia de uno de hace 10 años ',\n",
       " 'solida inteligente bien pensada se ha hecho imprescindible en solo dos semanas me gusta mucho que todas las cuchillas esten integradas ya que evita ocupar mas espacio del necesario y esta todo disponible sin rebuscar en cajones la cuchilla de corte liso es regulable en grosor al igual que la estriada que sirve para patatas rejilla las transversales que sirven para hacer bastones tipicas patatas fritas alargadas tienen dos posiciones 3mm y 10 mm que para mi es perfecto ojo que la diferencia entre los modelos de mandolina profesional de esta marca esta en la medida de estos cortes por ultimo el carro protector viene incorporado lo que evita comprarlo aparte y por supuesto cortarse por accidente me parece un utensilio fantastico para toda la vida ',\n",
       " 'hace la funcion que queria aun asi me ha tocado buscar los drivers correctos para hacerla funcionar cosa que me ha costado al final tuve que usar el drivergenius que me los busco automaticamente y es lo unico que le salvo para no ser devuelto ',\n",
       " 'comprado a mis hijos para la practica del rugby es un protector comodo y duradero gracias a su doble densidad duro por la parte inferior al final acaba como casi todos convertido en una especie de chicle duro pues lo chavales lo acaban utilizando mas como mordedor que como protector mucho mas duradero que los que solia adquirir en una tienda multideporte conocida y de precio muy similar viene con un practico estuche que permite guardarlo tras su uso ',\n",
       " 'puedes sustituir la lampara halogena por esta pero no seras capaz de leer un libro ademas si la lampara lleva circuito coko es un ventilafor lampara no funcionara',\n",
       " 'las versiones en dvd de warner bros españolas estaban censuradas estas lo estan por que si esta censurado ahi se queda ',\n",
       " 'genial incluso para conectar su line out a la entrada del equipo del coche con ello consigues reproducir desde tu smart via bluetooth con los altavoces del coche',\n",
       " 'mas o menos bien todo excepto la pantalla que es muy mala solo se ve medianamente bien cuando la miras justo de frente en cuanto la ves un poco de lado se ve muy mal ',\n",
       " 'pulsera de actividad ligera y simple de usar un poco limitada por el sistema operativo cargado en el propio movil la mayoria de las funciones estan disponibles pero hay algunas entre ellas la sincronizacion que se hacen muy complicadas si no tienes la version mas actualizada de android o ios en tu sistema duracion de la bateria y comportamiento en el agua muy correctos ',\n",
       " 'he comprado este altavoz anker y ha venido defectuoso de diez intentos en encenderlo solo consigue encender una y si acaso es una pena porque cuando consigue conectar no suena mal para lo que es y me parece genial que cargue con el cargador del movil ',\n",
       " 'es util y practico pero se rompe con facilidad pense que eran un poco mas resistentes pero cumple con su papel ',\n",
       " 'vienen fabricandose desde hace muchisimos años conservando una buena calidad de sonido livianos y comodos recomendables siempre ya son los terceros que compro a lo largo de los años ',\n",
       " 'la base donde se ajusta el dispositivo y el palo extensible cumplen su funcion basica el mando a distancia da continuamente problemas de conexion tanto con dispositivos ios como android ademas recordar que no adjunta pilas ',\n",
       " 'a mi hijo le ha encantado como siempre las figuras de skylanders son estupendas para jugar con la consola y como un juguete mas ',\n",
       " 'ofrece bastante proteccion aunque el diseño podia estar mejor esta mal acabada y los botones quedan poco accesibles ya que sobresalen poco de la carcasa y cuesta apretarlos para mi de calidad general de la funda es igual que la de una tienda china el material es correcto aunque seria mejor que su acabado fuera mate y no brillo ya que ahora se ven todas las marcas de las manos el protector de pantalla si que esta bien ',\n",
       " 'por un precio muy razonable y un buen servicio tenemos una funda para nuestro kindle de 6 pulgadas magnifica opcion ',\n",
       " 'tiene muchas cosas en ingles y no se pueden pasar a castellano yo no se ingles y eso me vuelve loco para configurar el telefono como deseo',\n",
       " 'viene en una cajita par guardarlo que es super practica el que yo recibi me llego con la pila descargada pero a su favor decir que incluia una pila de repuesto que me vino de maravilla el marcador digital no es de lo mas preciso mides dos veces lo mismo poniendo a cero el marcador y no da exactamente lo mismo pero si no eres un profesional que necesita mediciones precisas inferiores al milimetro no tendras ningun problema ',\n",
       " 'aviso que puedes tener problemas para reproducir este bd si lo haces desde una playstation 3 parece que le cuesta cogerlo es con el unico bd que me pasa conozco varios que les pasa lo mismo seguramente al estar la version 2d y la 3d en el mismo bd debe ser de doble capa por lo que requiere un lector limpio para leerlo sin problemas una mala decision mucho mejor hubiese sido editarlo en 2 bd en lugar de uno desconozco si este problema tambien sucede en otros reproductores una vez que reconoce el disco la pelicula se ve sin problemas pero puede suponer media hora metiendo y sacando el bd puede que sin exito aconsejo esperar a que se lance una version donde la pelicula en 3d y 2d esten en discos separados ',\n",
       " 'lo dicho mas que un juguete mi hija esta encantada con el storio y con todas las capacidades que incorpora es su tablet y lo lleva a todas partes para hacer fotografias videos leer pintar jugar etc vtech sabe hacer este tipo de juguetes y los contenidos son muy educativos todo un acierto ',\n",
       " 'cumple su funcion y se ajusta muy bien al tamaño de la pantalla del movil incluso puedes despegarla y volver a pegarla sin problemas ',\n",
       " 'una herramienta muy util para todos los artesanos que trabajan con massas polimericas excelente imagen graficos y visualizacion de las obras ',\n",
       " 'unai ramos fernandez se mueve con fluidez en la estructura que ha diseñado para prolongar la tension es muy diestro relatando las escenas de accion y las de sexo aunque le ha faltado arrojo para rematar la historia y la amabilidad rechina en una historia que podria haber tenido algun punto algido de esos que hacen imposible seguir leyendo durante un tiempo una muerte inesperada un giro brusco porque dejan al lector destrozado en ese sentido todo es bastante plano ismael cruceta cajon de historias ',\n",
       " 'comoda ligera silenciosa muy funcional la uso en casa una hora al dia cumple los requisitos que esperaba calidad precio buena peso 57 kl y pedaleo de pie sin problema',\n",
       " 'el horno me decepciono mucho porque tarda el doble en cocinar la comida que un horno normal y corriente si normalmente un bizcocho se hornea en 30 minutos con este horno tarda una hora las pizzas prefabricadas que se hornean de 8 a 10 minutos en este horno necesitan al menos unos 15 20 minutos lastima que no puedo devolverlo porque ya esta usado ',\n",
       " 'funciona perfectament amb imac pug play es connecta a internet tant ripid come l port ethernet el temps de negociacio amb el router tambe es molt ripid bona qualitat preu',\n",
       " 'es un zapato muy comodo al principio dificil de meter el pie pero como la mayoria de los zapatos de este tipo nada mas que te lo pones unas cuantas de veces resuelto el problema son comodisimos y el precio esta muy bien ',\n",
       " 'es muy pequeño en comparacion con los de toda la vida me he llevado una gran decepcion al verlo pense que seria como el que yo tuve de pequeña ',\n",
       " 'buen producto para su precio comodo y practico de momento nada que objetar esperaremos a ver que pasa con su uso',\n",
       " 'aun sigo esperando el pedido y ya hace mas de un mes lo mismo es un pañuelo de verano kien sabe',\n",
       " 'great product and love the apps that you can use with it only downside is you need your mobile to be within 10m otherwise it won t pick up your data not a problem for workouts but for swimming and football etc it is guess you need the watch in these cases otherwise great',\n",
       " 'funcionan muy bien estos usb los precios muy competitivos y la verdad jamas se me ha dañado uno de estos',\n",
       " 'lastima que amazon venda un producto que en semanas queda retirado del mercado sin avisar seguramente habriamos optado por otro producto muy mal para amazon',\n",
       " 'puntuacion minima pedi urgente y me lo sirvieron muy rapido juego defectuoso como el de la opinion anterior reclame y me dijeron que me los cambiaban pero ahi empezo mi desgaste el juego lo pedi desde sevilla pero era para un regalo en zaragoza les dije que enviaran a zaragoza el nuevo y recogieran el antiguo una cosa tan sencilla la han ido complicando dia tras dia diciendo que me lo habian entregado cuando no era verdad diciendo que me lo mandaban y no me lo mandaban diciendo que ya habia salido siendo mentira luego disculpandoso diciendo que no tenian en stock cuando ya me habian dicho que ya lo habian mandado disculpa no se en una enfermedad del titular de la tienda y que el problema era del suplente porque era nuevo finalmente lo mandan al domicilio erroneo lo mandan a sevilla ni si quiera me lo dan a mi se lo dan a una vecina con lo cual no se llevan el defectuoso que esta en zaragoza envio el defectuoso desde zaragoza y ahora mas de mes y medio despues me dicen que no han recibido nada me lo dicen ademas a traves del mensajero al que le han echado la bronca por no recoger el defectuoso que era imposible que el pobre hombre lo recogiera ya que estaba en zaragoza y me lo entregaron por error suyo en sevilla vamos la peor compra posible un cumulo de malentendidos mentiras desproppsitos solo me hicieron caso cuando reclame por amazon entonces si pero hasta entonces decian que me habian mandado el juego en serio no compreis no merece la pena llevo mas de 20 correos y aun sigue coleando con lo desagradable que es todo esto me arrepiento de la compra ',\n",
       " 'tp link td w8970 configuraciin complicada y conexiin inestable el primer problema surgio al tratar de configurarlo para una conexion con ip fija de movistar lo intente dos dias sin exito tanto con el cd de configuracion automatica que venia en la caja como manualmente accediendo al modem a traves del navegador al cabo de una semana hice otro intento y por fin consegui conectarme a internet gracias a la asistencia tecnica online del chat movistar entonces aparecio el segundo y definitivo problema el acceso a internet sufria numerosos cortes que algunas veces afectaban solo a las conexiones via wifi y otras tambien a los ordenadores conectados mediante cable ethernet con suerte el acceso se recuperaba automaticamente en poco tiempo pero a menudo tenia que apagar el modem y configurarlo de nuevo realizando todo el proceso de â route settingsâ no se si es un problema de configuracion o de alguna averia que pueda tener este modem en concreto pero al final he vuelto a poner el anterior modem que tenia tiene wifi g y ethernet 100 en lugar del wifi â nâ y ethernet 1000 que tenia el tp link pero al menos es estable y no tiene cortes ',\n",
       " 'bastante sencillo para su precio deberia ser un poco mas completo menos dibujos un poco mas realista en los detalles del pecho cintura y piernas',\n",
       " 'connection process is easy and i do like the keyboard touch while typing although not so easy for traveling as other models for ipad on the other hand gives much more freedom while using it recommended ',\n",
       " 'compre dos una aun luce la segunda me duro cosa de un mes se fundio por ese precio podria se mejor no reclamo por que me va a salir mas caro y lioso hacerlo que ir a la ferreteria de la esquina a comprar una por un par de euros de los que page aqui ',\n",
       " 'es ist genau das was ich erwartet habe die 7 5 und 10 cm vesa ist passgenau und auch mit entsprechenden schrauben ausgestattet die lieferung auf die balearen hat die genannte zeit nicht ã¼berschritten ',\n",
       " 'robusta y comoda para el niño pero algo complicada de instalar y ajustar especialmente si se instala a contramarcha eso si viene con unas instrucciones que se pueden incluso guardar en un compartimento pegado a la silla importante tener una funda por encima para evitar que se manche ',\n",
       " 'la verdad que las compre por la caja contento con las puas ahora que ya tengo la caja las proximas las comprare sin ella que son mas baratas ',\n",
       " 'colores variados estimulan la creatividad a un precio bajo permite la orientacion y la clasificacion de ideas ademas de ser un soporte para papeles no adhesivos sobre una pizarra magnetica',\n",
       " 'al principio todo muy bien no se apegaban ni nada pero con el paso del tiempo los crepes se adhieren con mas facilidad a parte de que a veces la vitro no lo detecta del todo la sarten solo el centro',\n",
       " 'se adaptan perfectamente calidad precio buena da pena un movil como el z3 ponerle una funda pero aun asi se agradece porque siempre puede sufrir una caida o peores merece la pena ',\n",
       " 'pedi que fueran dos protectores de textura mate y todas son brillantes el unico requisito que buscaba era que fuera mate y es lo que no he conseguido en adelante buscare en tiendas fisicas no online ',\n",
       " 'no ajusta al diametro maximo de tija especificado por el fabricante deje la bici arañada al intentar colocarlo no recomendable',\n",
       " 'esta novela acomete el relato de una madre y una hija que han tenido que trasladarse desde china su pais natal a eeuu en busca de una salida laboral la historia es interesante pero esta cargada de excesivos recursos emotivos que debido a ese exceso acaban resultando inverosimiles recomendable para quien desee soltar una lagrimilla con un relato que busca provocar la emocion incluso acudiendo a algunos de los dramas mas manidos de la literatura ',\n",
       " 'es muy completa en funciones y facil de manejar la estetica va muy bien y de peso no esta mal falla en la calidad de las imagenes que hace y la pantalla hace brillos ',\n",
       " 'de toda la serie de harry potter me parece la peor pelicula tiene poca emocion y es la que menos se corresponde con el libro',\n",
       " 'ola bom dia referente ao gps nä o classifico vale zero porque nä o actualiza nä o tem vidio in falta muitas coisa como posso ler videos fo cartä o sd se os videos passa aos saltos etc etc quaquer das maneiras obrigado por perguntar antonio coutinho',\n",
       " 'hola a todos la verdad muy contento de la compra de este producto por las prestaciones y el precio lo recomendo a todos saludos hr',\n",
       " 'enviado en plazo previsto y sin problemas el producto coincide con su descripcion ',\n",
       " 'despues de tenerlo en mi lista de deseos para extender mi fibra de 300mbps me lo han regalado y voy a tener que hacer que lo devuelvan este modelo de presuntos 500mbps solo da un maximo de 100mbps algo menos de hecho tras investigar en la web del fabricante te confirman que ha habido muchas quejas de usuarios que compran un equipo de 500mbps que luego resulta que trae puertos de red de 100mbps con lo cual por mucho que digan que el trafico fisico entre los 2 adaptadores plc llega hasta no ya a 500 sino a 240mbps con puertos ethernet limitados a 100mbps ya me diras tu donde quedan los 500 o los 240 es mas tienen la desfachatez de decirte que si pones adaptadores adicionales a los 2 iniciales entonces la velocidad se comparte y baja aun mas pero que si necesitamos mas que nos compremos el modelo de giga el doble o mas caro definitivamente una estafa de publicidad engañosa por parte de tp link lo siento por quien me lo regalo no estaria de mas que amazon hubiera puesto bien claras las especificaciones completas a la caja y a devolver ',\n",
       " 'muy buena calidad al niño que se lo regalamos le encanto muy realista precioso lo mejor es que esta articulado',\n",
       " 'simple pero bonito comprado para que sea un todo terreno tanto en deportes al aire libre como en deportes de agua tampoco le pido mis',\n",
       " 'es la primera compra que realizo por internet y he quedado muy satisfecho por el servicio prestado dicho cuadernillo no se encontraba en las librerias por falta de impresion y la verdad no contaba con ello a mi hijo le hemos quitado un gran peso ya puede desarrollar su labor academica muchas gracias ',\n",
       " 'la actitud de ella se repite constantemente y no me gusta al igual que algunas descripciones como la manera de vestirse de ella o los trajes hechos a medida de el algo cansino la verdad la trama no esta mal pero creo que algunas cosas son escritas por llenar papel no creo que lo recomiende ',\n",
       " 'me llego en un sobre de correos normal y corriente sin ningun tipo de proteccion y estaba doblado por la mitad por lo que las laminas estan totalmente inutilizables espero que en las proximas entregas cuiden este detalle para que no lleguen mas pedidos doblado y por consiguiente inutilizables',\n",
       " 'buenos de calidad pero la medida del cable es erronea no son de 1metro son de 90 centimetros aunque si no te importa la medida es perfecto ',\n",
       " 'me esperaba mas como una que compre hace tiempo se ha deshilachado sobre todo la parte de las tarjetas no puedo poner nada sin riesgo a perderlo ademas como es dura se cuarteo enseguida por lo que el movil no se quedaba sujeto no volvere a comprarla',\n",
       " 'una caja venia rota y no la puedo cerrar bien el resto del producto viene en perfectas condiciones no me ha gustado que venga rota ',\n",
       " 'pero me habia creado demasiadas buenas expectativas y me esperaba algo sorprendente realmente se oye bien pero nada del otro mundo escuchar musica tumbado es algo incomodo porque chocan con la almohada ',\n",
       " 'esta es una edicion especial con documentales sobre el rodaje y otro contenido extra muy interesante imagen excelente audio excelente en castellano una pelicula indispensable para los amantes del cine belico ',\n",
       " 'es un libro interesante para jugar con tus peques recomendable para niños menores de 3 años sin riesgos de que puedan tragarse las piezas ',\n",
       " 'no se si se les congela la tinta o hay que usarlos en temperaturas elevadas para que vayan bien ya que los he comprado los pongo encima de la estufa un ratito ',\n",
       " 'estaba muy cansada de mis anteriores sartenes en estas no se pega nada y por fin puedo saltear como dios manda son muy ligeras y pueden parecer un poco endebles pero en principio sin ningun problema el antiadherente tiene muy buena pinta esperemos que dure mucho claro como todo hay que cuidarlo y no usar utensilios de metal ni estropajos duros etc lo del thermospot es una tonteria que sinceramente no sirve de nada entre otras cosas porque apenas te das cuenta cuanto se borran las letras lo que si funciona bien es la base que tiene la sarten que reparte muy bien el calor y asi se cocina por todo ',\n",
       " 'buen libro pero solamente sirve para aprender el portugues hablado para mi gusto falta mucho vocabulario que deberia estar presente ',\n",
       " 'no doy 5 estrellas xq el primer pedido fue perfecto pero en el siguiente el producto es distinto y no ajusta tan bien como el anterior creo que son de otro modelo muy similar ',\n",
       " 'bastantes erratas aunque es un buen libro en general los ejemplos ayudam mucho a comprender como usar la gramatica en su contexto ',\n",
       " 'cumple las expectativas lo uso desde el dia que me llego y aunque no hace mucho funciona muy bien espero que dure sin averias un tiempo razonable entonces sera perfecto',\n",
       " 'feia temps que buscava una torradora plana perqui sempre ens estem barallant amb les torradores tradicionals no sempre tens el tipus de pa que encaixa en els espais de la torradora i despres segons qui poses s acaba cremant amb aquesta torradora pots posar el tipus de pa que vulguis torrar coses per una sola cara i que a l altra hi hagi menjar com per exemple les magnifiques espardenyes que fa ma mare i que resulten igual de bones l endemi de fetes i passades per la torradora en definitiva molt util i bona relacio qualitat preu ',\n",
       " 'estuve probandolo varios dias y mi opinion es que funciona muy bien incluso para la actividad de natacion junto con mi fenix 3 lastima que este ultimo aunque te permite visualizar los datos de hr no los guarda el unico problema que le vi es que la bateria durara excesivamente poco en mi caso unas 5 horas por lo que para el precio que tiene por un poco mas te puedes hacer con una pulsera de actividad mucho mas completa finalmente lo devolvi por ese motivo ',\n",
       " 'esta maquina fresadora engalletadora cumple perfectamente todos los parametros de cualquier otra maquina mucho mas cara la verdad que relacion calidad precio es genial',\n",
       " 'solo puedo decir cosas buenas compre un s3 neo porque era mejor que este y me decepciono la camara del neo este me lo volveria a comprar',\n",
       " 'es una impresora fantastica muy rapida y muy completa hace todo lo que necesito y mas sin dudarlo una gran compra ',\n",
       " 'no la volveria a coger la funda me gusta pero los botones no coinciden eso d q ed compatible con bqe5 no ed cierto',\n",
       " 'es muy bonita y graciosa la unica pega que le encontraria es que yo me pensaba que seria de una textura mas fuerte y es mas bien blandita pero por lo demas es muy bonita ',\n",
       " 'estamos contentos y los complementos que trae son muy utiles quizas los materiales no sean lo mejor pero la relacion calidad precio es buena ',\n",
       " 'hace unos años quede encandilada con decima docta la primera novela de esta autora por lo que el mismo dia que la hija del dragon se puso a la venta la adquiri y no tarde en comenzar a leerla resumiendo me ha encantado me ha enganchado desde la primera pagina tanto por la historia en si como por la forma tan amena de escribir de la autora la historia con una base real explora un rito milenario que en la actualidad se traduce en una serie de espeluznantes asesinatos con varios escenarios y llevandonos del siglo xvii a la actualidad cuenta ademas un monton de anecdotas interesantisimas sobre antiguas civilizaciones como la sumeria entretenimiento diversion y aprendizaje en una novela que no da tregua y que no puedes parar de leer realmente buena',\n",
       " 'aunque funciona sin problemas recomiendo tener cuidado con la tapa de la pila la sujecion es delicada y nada mas comprarla la rompi teniendo que sujetarlo ahora con cinta adhesiva por lo demas saca fotos sin problemas',\n",
       " 'magela gracia es muy directa en su expresion se podria decir que llega a ser perversa pero no es vulgar simplemente no se muerde la lengua pero para mi punto de vista es lo que hace especial este libro que desde el inicio sube la temperatura pero la mantiene en todo momento sin necesidad de herir susceptibilidades dejandote con ganas de mucho mas creo que tenemos a una exponente interesante en la erotica si quieres una historia corta directa sin pelos en la lengua y divertida ',\n",
       " 'creo que venia defectuoso porque no tenia apenas fuerza no cogia revoluciones con lo cual lo devolvi mucha eficacia por parte de amazon para la entrega y la devolucion',\n",
       " 'hacia tiempo que no disfrutaba tanto de un libro me ha sorprendido gratamente ver toda una gama de sentimientos por los que la autora te hace pasar muy recomendable ',\n",
       " 'tenia que comprar una segunda maquina para el negocio y tras utilizar este modelo durante un año no lo dude compre la misma sencilla economica resitente y facil de manejar las opciones que trae de tipos de puntada son suficientes lo recomiendo ',\n",
       " 'me ha seguido enganchando esta historia es superespecial y muy romantica sus personajes me siguen enamorando te atrapan la sigo recomendando 100 ',\n",
       " 'es un teclado comodo pero viniendo del modelo anterior noto algunas deficiencias absurdas para empezar la sensibilidad del raton es bastante peor que el anterior se nota bastante en desplazamientos en una tv grande pero sin duda lo que mas me joroba es la ubicacion del boton de iluminado en el anterior tenia un boton dedicado de facil localizacion a oscuras estaba donde ahora absurdamente han puesto el boton de busqueda de bt para iluminar no tienes que darle a un boton mal ubicado sino que tienes que darle a dos si es verdad que se han mejorado los materiales pero teniendo en cuenta que el anterior me costo 13 y este 25 creo que han ido para atras para mi uso htpc y tv mayoritariamente a las noches es poco recomendable pero es que tampoco hay muchas mas opciones ya que su tamaño es ideal para usar desde el sofa ',\n",
       " 'breve libro en forma de entrevista que no da mucho de si para tener una aproximacion de la persona de alberto contador ',\n",
       " 'la saga completa de la guerra de los cielos me engancho desde la primera pagina el primer y segundo libros son especialmente geniales el tercero me parecio de relleno pero este cuarto recupera el ritmo de los primeros la forma que tienen los autores de ir dejando miguitas de informacion capitulo tras capitulo para que el lector vaya haciendose su pelicula es muy efectiva lo dicho â engancha quieres leer mas y mas como pegas decir que la conclusion de la historia me parecio un tanto floja y que la mezcla y remezcla con los personajes de otras sagas de los autores me ha resultado algo confusa a pesar de haber leido muchas otras obras de ellos el secreto de tedd y todd la prision de black rock hecho de menos una guia al final del libro para saber quien es quien como ya hizo trujillo en black rock sin embargo le doy 5 estrellas porque se las merece ',\n",
       " 'cumple su funcion sin ningun problema se adapta bien al dispositivo para el que lo comprado una tablet con conector micro usb',\n",
       " 'reconoce muchos formatos la bateria le dura mucho y lo del clip incluido es ideal para llevarlo encima ampliable por tarjetas microsd el unico pero que le encuentro es que el volumen al maximo no es muy alto y eso es un problema para cascos grandes ',\n",
       " 'es un vinilo divertido que por el precio esti bastante bien se puede desenganchar con facilidad si te ha quedado mal ',\n",
       " 'llego en el tiempo establecido y muy bien embalado el producto esta bastante bien y parace de buena calidad es muy facil de configurar ademas puesdes enviar invitaciones a quien quieras para que vean tus mediciones a tiempo real recomendable ',\n",
       " 'me mando un protector de pantalla de dimensiones erroneas a pesar de que en el paquete la referencia correspondia al modelo de movil enseguida reconocio el defecto y me envio otro las dimensiones son correctas pero el agujero para el altavoz totalmente descentrado estos productos de china aunque el almacen este en espaia son de baja calidad por no dar mas vueltas me he quedado con el pero no voveria a comprar nada ',\n",
       " 'un libro de grandes proporciones que recoge una gran cantidad de material grafico de las cuatro peliculas de la saga alien muchas de las fotos son rarezas e ineditas ',\n",
       " 'si vais a utilizar la caseta a menudo es ideal ya que nos da sombra y nos ayuda a protegernos del viento',\n",
       " 'mi hijo empezo con este libro se lo pidio a papa noel le duro menos de una semana y ya tiene el segundo que lleva el mismo ritmo encantados con verlo tan metido en la lectura ',\n",
       " 'no permite clonar la red ni tan siquiera de manera manual con el disco de inicio cuando se calienta se desconecta y hay que reiniciarlo ',\n",
       " 'compre este producto por internet porque hay poca demanda en tiendas es bonito el diseño con los dibujitos que tiene y el color esta bien la unica pega que le veo es que es un poco endeble al no tener patas es muy sencillo para el precio que tiene otra cosa que no me gusta es que cuando lo compre no te decian ni medidas ni material de construccionâ nada de nada ni en la pagina de amazon ni cuando recibes el producto ',\n",
       " 'me acaba de llegar a casa y es estupendo el pedido me ha llegado muy rapido y eso que lo pedia para 3 a 5 dias y me ha llegado enseguida todo en perfecto estado que deciros super consistente y ayuda las ventosas que tiene que se pega y no se mueve la potencia mas que suficiente en resumen miraba maquinas mas caras pero para mi uso hubiera sido un dinero desaprovecha cumple todas mis espectativas a quien este dudando que no se lo piense muchas gracias por el servicio sin duda mirare aqui antes de comprar en otro sitio super satisfecha ',\n",
       " 'mientras funciona lo hace a satisfaccion pero el que compre hace unos dos años ha dejado de funcionar demasiado pronto en mi opinion ignoro las causas por las que un cable puede dejar de prestar su servicio y me gustaria conocerlo para evitarlo si fuera mi culpa ',\n",
       " 'muy buen mapa con muchos detalles grande y a una escala aceptable lo recomiendo las distancias se pueden percibir perfectamente',\n",
       " 'muy recomendable recorta prolijo es barata y facil de usar para quien quiera llevar barba arreglada ideal la bateria tambien bien',\n",
       " 'buen producto aunque su banda con velcro elastica y ajustable resulta un poco ancha para gente delgada el bloque de plastico que contiene el regulador de temperatura de 3 posiciones podria ser mas compacto ',\n",
       " 'ojo con el juego parece ser que hay un problema generalizado con este juego que no arranca el disco el juego es estupendo yo los tengo en ps3 y ahora compre esta remasterizacion pero despues de comprar en pre venta y recibir el dia del lanzamiento me queda el sabor amargo de no poder probarlo y tener que reemplazarlo por otro el otro de reemplazo me llega mañana espero que ese funcione o tendre que devolverlo tambien pero esa vez solicitando la devolucion del dinero si mañana funciona le dare 5 estrellas ',\n",
       " 'las unicas pegas que le pongo es que donde se apoya la flecha para ser disparada en muy plana apenas tiene hueco para apoyarse por lo que si te mueves un poco se caera otra cosa a tener en cuenta es que tienes que montar la ventosa en el mismo carril porque si la dejas justo por fuera en la base tal como se ve en la foto al disparar la cuerda no ejerce suficiente presion y se enreda haciendo caer la flecha al suelo sin dispararla por lo demas es robusta y bonita ',\n",
       " 'la funda esta bien se ajusta perfectamente pero la tapa no es transparente del todo ya que absorbe bastante brillo sin embargo la sensibilidad al tacto es practicamente igual que sobre la pantalla salvando las esquinas ',\n",
       " 'relacion calidad precio muy bien cumple con su papel no es muy aparatosa y entra bien en la nevera para poder guardar las tartas',\n",
       " 'reedicion en vinilo gran relacion calidad precio de una de las ultimas obras maestras de los años 90 el original salio en 1998 personalisimo album con unas letras delirantes y una concepcion musical organica donde lo mismo caben las melodias mas indies que nos encontramos con gaitas o acordeones un disco para degustar tranquilamente y que requiere de atencion para empezar no estaria mal leer los dos primeros versos con los que empieza el disco when you were young you were the king of carrot flowers y dejarnos llevar por neutral milk hotel en su aeroplano sobre el oceano ',\n",
       " 'contento funciona muy bien pero no le doy las 5 estrellas por lo que me llega a tardar para conectar con el gps por lo demas perfecto ',\n",
       " 'me ha gustado la simplicidad con la que el autor desarrolla la explicacion de lo que son los mapas mentales asi como la concrecion y claridad en los beneficios que aporta su uso utilizando ejemplos ej plan de negocio tareas semanales plan de vida etc tambien la opcion que te ofrece el mismo autor de dar continuidad a la formacion con su seminario presencial para poner en practica lo aprendido aporta un grado de valentia por su parte que se traduce en garantias para el lector interesante tambien la recomendacion de aplicaciones que el mismo autor ha utilizado y que te evitan el tiempo de analizarlas todas aunque conla rapida evolucion de internet supongo que en unos meses puede llegar a estar desfasado eg la web indicada ithoughts com ya no aparece como punto de mejora o correccion me ha faltado el enlace donde indica que te facilita 50 ejemplos de mapas mentales pos 361 del libro aunque es un detalle menor dada la amplia coleccion disponible en internet ',\n",
       " 'ciertamente el producto no corresponde con la imagen que se promocionaba y me lleve un gran chasco la imagen correspondia a muñecos diferentes y los cuales no podias elegir muy mal ',\n",
       " 'ideal para el hueco que me quedaba en la habitacion ademas siendo de cristal tiene un aspecto mas ligero paree ocupar menos no es complicada de montar y es genial para los imac o pc s portatiles porque no tiene hueco para la caja nos encanta ',\n",
       " 'hola vi el cepillo en el anuncio y me decidi a comprarlo en principio me llego mas tarde de la fecha indicada las cajas vienen destrozadas me ha dado mucha rabia era para regalo de reyes es verdad que calienta rapido engancha un poco el pelo pero lo deja bastante liso por lo menos a mi no como las planchas pero si lo alisa ',\n",
       " 'es ideal para bañar al bebe una persona sola la unica pega es que aunque es grande no es suficientemente grande para mi gran bebe xxl al menos no cuando compre la toalla que tenia 5 meses y pesaba ya 8kg pero bueno aun asi me resulta muy util en el momento de sacar al peque de la bañera aunque no le llego a poder cubrir la cabecita luego tiene otra toalla mas grande de las normales de bebe esperandole en el cambiador asi que perfecto ',\n",
       " 'yo queria el recambio de gel para boligrafos no para roller y me equivoque pidiendo este ojo si lo que quieres es un recambio de tinta liquida para boligrafo ballpoint pen de montblanc no es este ',\n",
       " 'el gran valor de este libro independientemente de su vision subjetiva sobre algunas cuestiones esta en la vision objetiva que aporta de una parte del franquismo y de la transicion y de sus protagonistas algunos de ellos muy relevantes tanto entonces como ahora a traves del mundo de los intelectuales y de la cultura que a diferencia de lo que se piensa no tiene solucion de continuidad en relacion con el momento actual es una lectura que ayuda a entender muchas cosas poniendo a cada quien en su sitio y sacando a la luz lo que muchos de aquellos personajes se han afanado en ocultar durante años aunque la calidad de la edicion papel encuadernacion cubiertas etc es muy buena la edicion del texto tiene muchas erratas ',\n",
       " 'bien solo el coloro no es exactamente lo que me esperaba pero el material bien y cumple sus funciones bien',\n",
       " 'formato vinilo blanco bunenisimo 18 temas de todo su discografia stars topsoil a collection 1982 1990 vinilo 2 lp recomiendo su ',\n",
       " 'lo compre porque habiamos probado otros que iban fatal se salia el agua por el borde o el bebe no chupaba bien este no presenta estos problemas y las asas permiten cogerlo bien supongo que depende dell crio pero en el caso de mi hija le gusta mas morder y estirar la tetina que chupar para beber asi que al final le acabamos dando el agua en vaso normal como un adulto desde bien pequeña y es como mejor bebe lo mismo nos ha pasado con las cucharas especiales de silicona etc como mejor come es con una cuchara de postre de acero normal y corriente la que usamos los adultos vaya',\n",
       " 'es un raton normal para uso normal lo unico que no se usa cable gracias por todo un saludo hasta luego ',\n",
       " 'muñecas en perfecto estado la pena es que el pelo es kanekalon y hay que alisarlo para que no se queden las marcas de las gomas de la caja',\n",
       " 'que el precio de kindle sea casi el doble que el de la tapa blanda es ya de por si ridiculo ',\n",
       " 'una pelicula muy bonita y que te toca la fibra es de estas que no te deja indiferente la recomiendo muchisimo la calidad de video y audio son muy decentes imprescindible en cualquier filmoteca ',\n",
       " 'cumple perfectamente lo k necesitaba calidad precio genial recomendable 100 ya k cubre el ipad totalmente por la parte frontal y la trasera ',\n",
       " 'cuesta mucho poner porque no cubre toda la pantalla la zona del boton de abajo queda una parte descubierta personalmente no volveria a comprarla ',\n",
       " 'itil sencillo claro y concreto sin mucha profundidad ideal para aquellos que quieran introducirse en el mundo de la bolsa ',\n",
       " 'al de gelatina son muy fragiles se montan con dificultad son comodas bla bla bla bla bla bla bla bla',\n",
       " 'although cheap this kettle has been problematic since a few weeks after buying it finally stopped working altogether after 1 year it has a 2 year guarantee but not worth the postage also the noisiest kettle ever ',\n",
       " 'he comprado dos las dos devueltas tras comprar la primera la segunda vez que la meti en el agua no funcionaba y no funcionaba problema le entraba agua y no giraba a la derecha correctamente tras la segunda nada mas desempaquetarla cargar la bateria meter en el agua sin girar esta giraba por tanto a devolver venia defectuosa una goma que es la que sujeta el timon no recomiendo para nada la lancha probare otro modelo la tercera va la vencida eso dicen ',\n",
       " 'gracias a las opiniones de otros compradores me decidi a cogerlo para mi hijo de tres años le encanto y cada vez que me ve cocinando el tambien quiere el devantal le va bien yabque lleva el vecro al cuello y se puede ajustar segun convenga y sobretodo muy facil de limpiar ',\n",
       " 'algo corto pero interesante como los mas recientes del autor verdades como puños y que a cualquier nacido en los 80 le recordara cosas y le dejara mal cuerpo como es normal ',\n",
       " 'por su tamaño y su robustez para sujetar una camara semiprofesional es el complemento ideal para los viajes nunca sustituira un tripode convencional pero da mucho juego muy versatil',\n",
       " 'es muy util contar con el formato mas extendido de pilas de placa madre para cualquier emergencia puede ser un problema grave el que los valores de usuario de la bios y la fecha hora se reseteen cada vez que se apague el pc porque la pila de la placa madre se haya agotado ',\n",
       " 'buena opcion como tripode de viaje buena opcion como tripode de viaje buena opcion como tripode de viaje buena opcion como tripode de viaje ',\n",
       " 'un relato inspirador que te dara ganar de levantarte del sofa y empezar a viajar por el mundo si eres viajero te gustara compartir las experiencias del autor y tal vez revivir situaciones similares y si no eres viajero seguramente te entraran ganas de empezar â recomendado ',\n",
       " 'en las otras termicas de abanderado la talla 56 me iba bien 1 80cm 78kg en esta termaltech queda un poco holgada y sobre todo sobra mucho de mangas las mangas son excesivamente largas hasta se puede apreciar en el modelo de la caja como le sobran a el no queda bien que se vean las mangas de una camiseta interior por debajo de una camisa de vestir por otro lado me esperaba un tejido grueso para mucho frio y es lo contrario muy fina y abrigar no abriga mucho que digamos ',\n",
       " 'un juguete muy bonito y de buena calidad llego muy rapido aun no lo hemos estrenado asi que nonpuedo hablar de sus practicidad',\n",
       " 'queda muy bonito puesto pero falta una d las tres flores grandes q adornan la rama y q si aparece en todos las fotos de muestra ',\n",
       " 'esperaba algo mas el acabado es bueno pero el microondas que es de momento lo unico que he usado no calienta con uniformidad y como ya habia leido en algun comentario esta cojo si bien no tiene excesiva importancia por ser de facil solucion otra cosa que no me termina de gustar es el exceso de pitidos que da para cualquier cosa ',\n",
       " 'a la bomba le faltaba una pieza la devolvi el mamometro no es muy preciso xxxx xx xxx xx',\n",
       " 'pues eso que la base de enchufe que se muestra en la fotografia no se corresponde con la real en realidad es una base de enchufe de tipo frances es decir es una version francesa del producto',\n",
       " 'es una historia de un hombre bueno sencillo y trabajador que por entregar un telegrama a su destinatario se ve envuelto en una sucesion de episodios desagradables todo ello narrado en primera persona por la brillante pluma del genial escritor josi luis palma es un libro que muestra los sentimientos de una persona sencilla y que a mi me ha enternecido lo recomiendo a todos los que quieran leer buena literatura felicito al escritor desde aqui ',\n",
       " 'se sincronizo sin problemas y es bastante preciso lo compre para un forerunner 305 ya que el que traia de serie al cabo de dos años de uso empezo a funcionar de manera erratica este al menos si los sensores en un futuro dieran problemas se puede incluso usar con la cinta polar en fin como dice el titulo es lo que esperaba pd reedito para comentar que al par de meses de usarlo empieza a fallar en los primeros minutos de ejercicio la cinta garmin es malisima los sensores un desastre la solucion combinar el emisor de garmin que incluye este modelo con la cinta de los sensores de polar que vale unos 18 euros para mas info una busqueda en google ',\n",
       " 'tejido suave transpirable la uso bajo el casco de la moto a la altura de mis expectativas recomendable 100 x 100 ',\n",
       " 'en la caja faltan elementos de los que segun pone el fabricante en sus instrucciones deberian de estar es muy dificil que una niña pueda usar ciertos elementos de los que contiene en la caja la calidad de los ganchos y prendedores deja mucho que desear intentando ponerlos se rompieron dos ',\n",
       " 'perfecta relacion calidad precio tengo una pentax k 100 aunque para darle mucho trote en viajes y demas mejor buscar otra opcion',\n",
       " 'perfecto con mi iphone 6 plus sin problemas y muy fluido sin esperas en los videos o peliculas almacenadas eso si en cuanto a almacenar pelis solo coge las que ocupen maximo 4 gb en general compra muy util para viajes y momentos con mi ipad 5 estrellas porque lo consegui por 34â ',\n",
       " 'maleta funcional y muy flexible que se adapta perfectamente a las medidas de cabina de la mayoria de las compañias low cost quizas es un poco flexible de masy eso incomoda un poco a la hora de transportarla pero en general esta bien',\n",
       " 'cumple las expectativas que necesitaba me hacia falta en el trabajo y es justo el elemento que necesitaba para poder trabajar',\n",
       " 'el software esta anticuado y es confuso lo peor es que no aparece el mando a distancia en la configuracion por lo que no funciona el servicio tecnico no contesta ',\n",
       " 'en fotos engaña bastante por su tamaño no esta pensado para usarse con otros juguetes y figuras de wwe sino con los de la nueva linea que son enanas como el que se incluye en la caja una vez visto en vivo y tenido en mano me parece caro el precio pagado por el unos 40â a fecha 05 01 14 por suerte al niño para el que se ha comprado le ha gustado y se ha conformado con el a pesar de que su coleccion de muñecos de wwe no entren en ese ring ni con calzador ',\n",
       " 'advertencia he editado mi opinion ya que al final el servicio postventa se ha portado mejor de lo que en principio me hicieron suponer lo compre en eeuu cuando locompre la web de fitbit decia que se podia nadar con el luego lo quitaron ya de entrada me parecio un detalle muy feo sin haber nadado por lo tanto nunca con el ya me empezo a dar problemas para cargar la bateria lo enchufaba y nada en la pagina de ayuda no me resolvian nada al final apagandolo y encendiendolo varias veces conseguia que acabara por cargar pero cada vez lo tenia que reiniciar mas veces despues la famosa aplicacion es muy basica y no esta a la altura sin contar que compre la bascula y hubo que bajar la seguridad de la red wifi para que se pudiera conectar y ayer en el gym se me olvido quitarmelo en la ducha pense por una vez si al fin y al cabo en la web la ultima vez que mire decia que resiste 5 atmosferas y no me volvi a la taquilla a dejarlo bueno pues le entro agua y ya no funciona la pantalla he intentado escribir desde la pagina pero no se puede pinchas para escribir un correo y una y otra vez te lleva al mismo sitio menos mal que conservo una direccion de otra consulta mucho email de respuesta automatica en ingles por cierto pero ahora no se que hacer como me arrepiento de haberlo comprado esta es la parte que cambia finalmente me han contestado desde el servicio tecnico ',\n",
       " 'en inicio dio problema con la muelles de las pilas me puse en contacto con los distribuidores del producto y lo han cambiado esperemos q esta no de problemas',\n",
       " 'hice la compra y como siempre los de amazon muy rapidos y bien la camara cumple su cometido aunque se echa en falta instrucciones en español sobretodo porque no es facil que funcione a la primera de hecho no he sido capaz todavia que el software funcione correctamente y grabe a la hora de detectar movimiento en foscam se lavan las manos y se limitan a decirte que si quieres ayuda a pagar o que mires las instrucciones en la web que son las mismas que te envian en un ingles y frances perfecto ',\n",
       " 'no se corresponde con lo que se describe de maletin nada un trozo de plastico con el que juegan durante un rato y despues se aburren es decepcionante que utilicen unos dibujos para vender juguetes de tan mala calidad mi peor compra sin dudarlo',\n",
       " 'obviamente no brillan como los originales de swaroski pero tampoco valen tanto el enganche es muy fino y al abrirlos un poco se rompio lo lleve a una joyeria y me cambiaron los enganches de los dos pendientes por otros mas fuertes la reparacion fueron 10 euros por lo que al final me salieron mas caros s moraleja si los compras tratalos con cuidado el enganche es muy debil y se rompen con facilidad',\n",
       " 'el tamaño esta muy bien para usarlo como pantalla para consolas lo malo es que al ser tan grande pierde algo de calidad para los 1080p comparandolo al lado de uno de 23 pulgadas con la misma imagen se ve mas nitido en el monitor pequeño ',\n",
       " 'bien relativamente sencillo de poner el problema me llego cuando el mismo dia que lo puse sali de fiesta lo llevaba en el bolsillo no hice nada raro y cuando llegue a casa ya tenia una raja no se si fue por mi culpa o que fue pero ahi estaba el caso es que protege bien el movil no esta dañado ',\n",
       " 'buen producto que hace bien su funcion de descalcificacion de las cafeteras saeco facil de utilizar y resultados mas que satisfactorios',\n",
       " 'compre 2 y una me la reemplazo amazon a los 4 meses un año despues me falla la otra parece mentira que una marca como kingston fabrique esta porqueria en las dos ocasiones he perdido informacion importante que tenia en el movil no voy a comprar esta marca en una temporada ',\n",
       " 'se adapta perfectamente a botellas de vino y cava enfria muchisimo muy bien acabado y totalmente recomendable para tener a mano',\n",
       " 'no funciona compre dos para dos equipos diferentes y en ninguno va bien la señal de video es intermitente o nula y la de audio queda muy baja ',\n",
       " 'estaba buscando un bolsa que no fuera muy aparatosa y poder meter algun objetivo extra es justo lo que buscaba por ponerle algun defecto la cinta que cierra las 2 cremalleras de la parte alta la veo un poco floja ',\n",
       " 'lo he devuelto por dos veces y aun estoy esperando el abono de la segunda devolucion que ni siquiera me habeis confirmado',\n",
       " 'no se cierra la tapa al no tener iman pero funciona lo de la pantalla reducida el resto esta correcto ',\n",
       " 'es bastante creible y pesa poco facil de instalar la elegi porque al contrario que otras que vi no esta rotulada con la palabra dummy falsa ',\n",
       " 'demasiado caro para el producto que ofrece esta marca que se cree tan prestigiosa pero juguetes e esta ocasion ridiculos y escasos',\n",
       " 'elegi este suunto por las opiniones y por el altimetro barometro pero la distancia que marca el gps me esta dando mal lo he comparado con un polar y un garmin oregon gps y ahi algo de diferencia ayer por ejemplo en un recprrido que hago muchas veces en 20km me dio un error de 2 5km si no la cinta del pecho es muy comoda y facil de utilizar',\n",
       " 'el tlf va fenomeno le pongo 4 estrellas porque es de color marfil no blanco como parece en pantalla buena compra',\n",
       " 'lo compre por la sinopsis i por el precio la verdad es que es una ganga vale la pena y mucho lo recomiendo ',\n",
       " 'no defrauda de nuevo la marca es un router ya con un tiempo pero muy actual y especialmente recomendable para quien posea adsl y tenga algun problemilla por la calidad de la linea este modelo es muy estable y proporciona una velocidad sin cortes ',\n",
       " 'el espejo esta bien la pega que le veo es que hay que poner algo que haga cuña entre el espejo y el cabecero del asiento del coche para que el espejo se coloque en el angulo que necesito no tiene ningun sistema para orientarlo ',\n",
       " 'el producto no esta mal pero es demasiado dura para apretar los botones de sonido y on off no lo recomiendo ',\n",
       " 'estoy de acuerdo sobre las directrices que expone para abordar el aprendizaje del ingles por uno mismo sin recurrir a profesores ni academias son las mismas que yo he seguido con muy buenos resultados ',\n",
       " 'not even close to crystal clear case has some kind of light yellow color when put on the phone it gets the job done but the color is definitely a con ',\n",
       " 'lo esperado no tengo nada que objetar ni del producto ni del envio sin problemas a la hora de pedir el producto ',\n",
       " 'es una novela que se lee bien aunque tiene una trama un tanto plana por la historia que trata creo que podria haber tenido algo mas de ritmo y suspense aun asi se puede leer si solo aspiras a pasar un rato ',\n",
       " 'mi novio compro este juego de sabanas en la medida de 180 cm y en la sabana bajera salen bolitas de pelusa por lo que nos deja la ropa llena de dichas pelusas por ello no recomiendo este producto ',\n",
       " 'muy mal llego con alguna fisura en el plastico y el boton de disparo no pisa bien el mando no merece la pena',\n",
       " 'me ha gustado aunque el ambiente es realmente triste la historia paralela sobre judas da una vision nueva de la historia y realmente te lleva a plantearte cosas el personaje principal me parece un poco aburrido ',\n",
       " 'final penoso realmente penoso lo bueno es que describe guinea que españa no deberia ignorar y donde el español es aun lengua oficial ',\n",
       " 'â me ha encantado no he podido dejar de leerlo hasta terminarlo la narracion me ha parecido muy original en 1âº persona las partes de leon el protagonista principal permitiendote ver y sentir lo que el siente de una forma cercana e imprimiendo en sus palabras su caracter un tanto granuja encantador y en 3âº el resto de los personajes dandole a esta un tono mas serio una historia de intriga y conspiraciones que me ha atrapado por la forma en la que el autor nos va desvelando la informacion sorprendiendonos y encaminandonos poco a poco hasta el resultado final tambien se pueden encontrar pequeños detalles de los que te hacen plantearte una infinidad de cosas de nuestra propia realidad y esta amenizada con recomendaciones de buena musica y novelas me he quedado con ganas de mas â totalmente recomendable ',\n",
       " 'funciona tal cual como deben funcionar unos auriculares de ese precio las funciones del mando tambien operan correctamente buena compra',\n",
       " 'el disfraz esta muy bien siempre que seas un hombre no muy corpulento la talla l es muy justita mas bien parece una talla m contando que en carnavales hace frio y tienes que llevar algo de ropa de abrigo debajo no lo recomiendo ',\n",
       " 'no esta muy mal por el precio que tiene la esperaba peor tiene que entrar bien el aire pues lo gris es como una malla que deja pasar el aire cosa que en verano se agradece tiene un bolsillo interior con cremallera cutrecillo pero cumplira su funcion la proteccion de la espalda molesta pero como se puede quitar no hay problema tambien lleva en hombros y codos no es puntera en diseño pero si la mas barata que he visto ',\n",
       " 'el flach en si no esta mal algo pesado y muy voluminoso buena relacion calidad precio pilas no incluidas funda para guardarlo ',\n",
       " 'como dice meristation y no se equivoca obra maestra el contenido y la caja en italiano todo lo demas texto y dialogos en español incluso el contenido descargable respecto a la entrega puntual como siempre ',\n",
       " 'escribe cosas utiles pero mal escrito con faltas gramaticales de expresion y ortograficas aunque el contenido te hace reflexionar pero es obvio ',\n",
       " 'las bombillas estan muy bien alumbran lo mismo que las halogenas de 40w pero su luz es algo mas blanquecina ',\n",
       " 'la verdad que me he sorprendido por el material tiene muy buena pinta una unica pega es que no viene con ninguna rotula o similar con el producto y no se da opcion de compra de las que vienen en las fotografias de muestra deberia tener la opcion de compra tambien de estas opciones para sacar mayor partido al tripode pues si se compra solo el tripode la camara no la podras girar ni ponerla en otra posicion como aparece en las fotografias una rotula sencilla cuesta mas que el tripode asi que al final te sale por un buen pico pero lo que es el tripode en si me ha sorprendido por la calidad y fiabilidad del material y su estructura ',\n",
       " 'un buen precio adecuado a una calidad aceptable dispone de manos libres y practicamente todas las funciones que se podia pedir muy completo',\n",
       " 'un clasico de la comedia elegante su agudo sentido de la ironia le confiere un caracter moderadamente corrosivo sin llegar a transgresor actores correctos al servicio de un guion y direccion excelentes perfecta en vo con sus contrastes idiomaticos ',\n",
       " 'pequeño pero maravilloso genial para armarios y espacios pequeños bastante silencioso el proceso de compra y recepcion agil no me parece bien que te obliguen a agregar palabras en el comentario ',\n",
       " 'que parecian que valian para correr con el sudor muerto en dos meses con salidas muy esporadicas no os gasteis el dinero ',\n",
       " 'en cuanto a la calidad por el precio que tienen tampoco se puede pedir demasiado pero realmente estan bien las que me han llegado a mi en concreto tienen la puntera un poco rozada he decidido devolverlas porque visualmente son excesivamente grandes y toscas y no es lo que estaba buscando ',\n",
       " 'lo dicho cuando hablas te entienden perfectamente y tu tambien recibes el sonido de forma clara y nitida pero le falta mayor volumen de recepcion al oir ya que se escucha demasiado bajo y tienes que prestar mucha atencion para seguir la conversacion es algo que debe mejorarse ',\n",
       " 'estos auriculares son muy muy completos tienen un acolchado tanto en las orejeras como en la parte superior de la diadema lo que los hace tremendamente comodos incluso para esos dias que quieres estar enganchado unas cuantas horas al ordenador el sonido es muy nitido incluso elevando el volumen al maximo ademas la cobertura de la orejera aisla completamente del sonido ambiente el microfono se acopla dentro del auricular cuando no lo quieres utilizar y pese a ser pequeño recoge muy bien el sonido comprobado con google maps voice tienen el volumen y el recorrido del cable independiente del dispositivo al que este conectado y tambien incorpora un boton de apagado y encendido muy util para cuando quieres hacer una pausa e interrumpir el uso a todo esto se le suma un diseño muy moderno y un precio muy asequible para la gran calidad del producto muy recomendable ',\n",
       " 'una de las fundas venia detetiorada aunque se puede usar no tiene toda la calidad deseable otras veces compre sus productos sin problemas ',\n",
       " 'no cumplieron espectativas lo de siempre modelo no perfectamente compatible con algunos modelos de coche aunque aparezca en la info del producto lo contrario el resto calidad normal y buena funda si adaptara el 100x100 a determinado modelo ',\n",
       " 'no lo recomiendo a nadie es un amplificador muy malo debido a que aunque este al lado del router que entonces no serviria para nada se corta constantemente la conexion con este haciendo que se vaya el internet cada 5 minutos y eso es muy estresante en algunos casos ademas no da mucha cobertura a los 5 metros empieza a perder señal de verdad de los peores aparatos que me he comprado nunca ',\n",
       " 'el modelo en si esta muy bien tanto que he pedido el mismo en color negro pero lo venden como color rojo y no es color rojo es un color rojo tan apagado que dependiendo de la luz se asemeja mucho mas al rosa que a un rojo puro en mi caso que soy un hombre el llevar una funda de ese color mas bien rosa como que no me hace nada de ilusion para mujer si que es un color bonito ',\n",
       " 'aunque para mi el primero de la saga sea el mejor obsesion total no me ha defraudado una historia de amor maduro ',\n",
       " 'irlanda principios del siglo xx un castillo y un misterio con tintes sobrenaturales todos estos ingredientes se funden en esta novela que atrapa desde las primeras paginas hasta las ultimas una autora muy a tener en cuenta con un estilo que bebe directamente del de las novelas goticas del siglo xix la novela cuenta con unos personajes muy bien construidos que pese a sus diferencias no se eclipsan entre si en ningun momento si no que la personalidad de cada uno se desarrolla individualmente sin superponerse a la de los demas ninguna de las relaciones entre los diferentes personajes ya sean romanticas de amistad e incluso enemistad se siente forzada si no que fluyen sin obstaculos y son creibles en todo momento el hilo argumental como ya he dicho atrapa desde el principio hasta el final dejandote con las ganas de saber que es lo que ocurre en el siguiente capitulo quiero destacar sobre todo todo el trabajo de documentacion que lleva detras la mitologia celta en concreto la leyenda de la banshee los clanes irlandeses de los cuales he reconocido a varios tras la lectura de principes y rebeldes de irlanda de edward rutherfurd las calles y los edificios de oxford todo esto hace que sea mucho mas facil sumergirse en la historia pero para mi lo mas resaltable de esta novela es la capacidad que tiene la autora para construir esa atmosfera gotica al mas puro estilo decimononico la tension el misterio las referencias a wilkie collins y oscar wilde y muchos mas detalles se suman para crear un ambiente que consigue que la novela nos traslade a un castillo irlandes en pleno 1903 yo por mi parte seguire de cerca la trayectoria de esta autora y espero que vosotros le deis una oportunidad y la disfruteis tanto como yo ',\n",
       " 'buena calidad cumple con lo descrito es dificil encontrar una funda para este movil y esta cumple sobradamente los requisitos ',\n",
       " 'una de las mejores obras del autor quien a traves de una historica medieval plantea un problema de gran actualidad ',\n",
       " 'el producto no esta mal en mi caso al poner la tapa y encajarla lo mejor posible detecte un fallo y era que el encaje de la tapa impedia que el boton de power retrocediera bien es decir se quedaba el boton presionado hacia dentro provocando el apagado del telefono decidi limar esa parte del plastico con una lima de uñas suavemente actualmente funciona perfectamente pero tuvo problemas de encaje no es de aluminio completamente es plastico con un refuerezo de aluminio como se ve en las fotos ',\n",
       " 'resulta algo mas pequeña de lo que parece pero es muy manejera al verla pense que era demasiado pequeña pero realmente caben las cosas necesarias y tiene para llevar tripode cosa que por este precio esta bastante bien en general bien ',\n",
       " 'la pantalla de la camara dejo de funcionar despues de bajar a menos de un metro de profundidad imposible que te atiendan en el servicio tecnico ni rastro de la empresa cuando hablas de garantia y lo mejor de todo todos los telefonos son de pago y la camara inservible con 7 meses de uso minimo impresentables',\n",
       " 'la libreta es mas pequeña de lo esperado es tamaño mini de bolso pense que minimo era cuartilla pero no ',\n",
       " 'de las tres baterias que me han nllegado dos estan correctamente pero hay una que esta suelta que hace ruido cuando se mueve he llamado al tlf que indican y me han dicho que cuando deje de funcionar que les avise',\n",
       " 'primero de todo no es nada practico abulta mucho y el diseño no permite hacer llamadas comodament segundo lleva un iman que sirve para el cierre de la parte delantera que es un portatarjetas al verlo supe que si ponia una tarjeta visa esta se desmagnetizaria que fue justamente lo que me paso en un descuido y tercero he desistido en poner el protector de pantalla quizas esto ultimo es mas culpa mia pero bueno que sepais que si no teneis practica en estos quehaceres el protector no os servira de nada ',\n",
       " 'pero a veces se le mete sucio por la parte inferior y te daña la carcaza oroginal cosa que me parece muy importante lo preteje bien de golpes duros',\n",
       " 'bastante malo por no decir muy malo pero como se han puesto de moda este genero menos mal que era muy barato ',\n",
       " 'he montado ya mi pc pero aun no he tenido tiempo apenas para usarlo ya que vengo de estar de viaje un tiempo lo poco que lo he utilizado va muy bien rapidez y si ninguna clase de problemas y ademas un precio muy bueno',\n",
       " 'son medianamente lindos pero el color de los vasos se va con los lavados mejor no meterlos al lavaplatos ',\n",
       " 'buenas estamos muy contentos con el producto se lo instale en el parque cito y esta muy contento ya empieza a ponerse de pie muchas gracias ',\n",
       " 'sinceramente no es que fuese muy cara la micro sd y al principio estaba muy contenta pero una vez que empeze a pasar datos al ordenador atreves de la tarjeta dejo de funcionar no la he podido forrajear ni nada lo peor es que compramos tres y a las otras dos casi igual hasta que detecta el ordenador y luego se empiezan a perder los datos la verdad seque mientra duro era buenisima pero haber solo duro un mes ',\n",
       " 'me gusto nada mas verlo y una vez puesto queda perfecto una buena compra a un precio increible muy recomendable para hacer un cambio en la cocina',\n",
       " 'esta bien aunque me costo leerlo un poco exagerada la vision de la protagonista en lo que se refiere a ligar on line si pasan esas cosas realmente no creo que se ligue mucho por ahi',\n",
       " 'me ha llegado antes de la fecha estimada en excelentes condiciones va muy bien para la sony alpha 5000 no pesa nada me encanta el producto ',\n",
       " 'excelente resultado desde el primer dia totalmente recomendable para cualquiera que quiera evitar la cinta con las mismas prestaciones muy comodo',\n",
       " 'la uso en el telefono y sin ningun problema rapida y fiable poco mas que decir de una tarjeta de memoria ',\n",
       " 'es muy pequeño pues medira unos cinco centimetros como mucho por lo demas es resistente y las ruedas van rapido ',\n",
       " 'lo primero de todo resaltar que estamos ante una novela por lo que entiendo que el autor se toma ciertas licencias literarias intentando crear una historia a partir de ciertos datos poco conocidos del armamento nazi y sus proyectos mas secretos mezclando por tanto datos con ficcion esto hay que tenerlo claro porque si se busca un documental te puedes llevar un chasco dicho esto para los que quieran buscar mas informacion acerca del proyecto die glocke la campana quien mas lo ha investigado es igor witkowski posteriormente nick cook escribio un libro de no ficcion the hunt for zero point que recibio mas atencion que los libros de witkowski tambien hay videos en youtube que hablan de todo esto solo hay que poner en google campana nazi y el primer video que sale tecnologia secreta 2 la campana nazi y el anillo habla de todo esto â es todo real o es todo mentira ni idea quizas una mezcla de ambas cosas a partir de aqui que cada cual saque sus conclusiones y ahora mi opinion para mi es el peor de los 3 que he leido de la saga proyecto hagen y antartida 1947 para mi son mejores se me hizo muy pesado el extenso pasaje que dedica el autor a comentar con demasiado detalle a mi entender la realidad alternativa de tener exito los nazis le sobra casi todo de ese extenso episodio no aporta casi nada positivo y corta el ritmo de la trama de la accion ',\n",
       " 'que dolor concentrado que reclamacion latente que sinceridad y que ayuda catarsis influencia recuerdo y ese hay que seguir por que es lo que toca por que no puedes hacer otra cosa ',\n",
       " 'no valen lo que cuestan precio 124 superior a los nakamichi y son iguales parecen fabricados por la misma empresa y digo esto porque tengo los dos me siento estafado recomendado solo para quienes tirar su dinero ',\n",
       " 'very good image super sw very fast not us bulky as it seams hope it lasts longer that the replaced ',\n",
       " 'el producto en si esta muy bien acabado el potato grande sirve de contenedor de los otros 4 potatos mas pequeños y es de plastico trasparente perfecto para recogerlo todo al terminar de jugar el grande viene con sus propios accesorios que son ojos orejas y nariz con bigote ademas del sombrero que sirve de tapa y cierra el conjunto con rosca los 4 potatos del interior dos medianos y dos pequeños vienen con 25 accesorios con los que poder montar varios modelos entre ellos una especie de mono y otro de elefante con nariz de trompa se echan en falta los accesorios correspondientes al mr potato original que sale en la pelicula de toy story por lo demas es un juguete muy correcto y entretenido quizas la edad perfecta sea a partir de los dos años y medio o tres ya que yo se lo he comprado a mi hijo de 22 meses y todavia no tiene la psicomotricidad suficiente para insertar las piezas en los agujeritos de todas formas estoy contento con la compra y creo que le va a servir para desarrollar nuevas habilidades lo recomiendo ',\n",
       " 'cuando cargas un taladro y las herramientas se suelta el cierre ya que es de plastico y funciona por presion por lo demas esta bien es comodo y hecho con buenos materiales ',\n",
       " 'va bien y es comodo pero no da una carga completa se queda en el 80 pero te saca de un apuro',\n",
       " 'no vale nadapor 20euros no se puede pedir mucho mas vale gastar algo mas de dinero porque a mi en un viaje de cuatro dias se me ha roto',\n",
       " 'muy recomendado es suave y esta bien fabricado de calidad pero atentos a las dimensiones indicadas ya que es grandecito muy recomendable y gracioso ',\n",
       " 'puesto que me ha quitado la humedad para el cuarto de matrimonio que es lo que yo queria la primera noche recogi en cuestion de 2 horas unos 2 litros el gran inconveniente es el ruido que es molesto tambien me parece ridiculo que para un aparato de estas dimensiones la marca no le ponga 4 rueditas que costarian una ridiculez despues por la rapidez en recibir el envio increible ',\n",
       " 'me ha sorprendido muy gratamente una historia amena real fresca de facil y atractiva lectura que mantiene el interes del lector de principio a fin perfectamente ambientada y argumentada con personajes muy bien perfilados y descritos encuadrada en genero romantico pero con una chispa q bien se podria encuadrar en otros mas me ha gustado descubrir a esta escritora espero leer mas de ella enhorabuena sara ventas pd comparto y reitero opinion por kela ',\n",
       " 'no puedo valorar la cama de si es buena o mala porque no abri el paquete la devolvi porque resultaba muy pequeña para que jugase un niño de 3 años esta me parece mas indicada para niños menores de 2 años no hubo problemas para la devolucion ya que se encargo la propia empresa de venir a recogerla ',\n",
       " 'solo con decir que le encanta salir con el a pasear por la calle lo digo todo el hecho de que pueda usarlo tanto en posicion fija como en movimiento resuelve muchas papeletas lo veo muy seguro dificil de volcar o de que el niño se caiga si pones las protecciones oportunas y lleva un bolsito muy apañado para meter un pequeño biberon unas toallitas el chupete de repuesto ',\n",
       " 'producto cedido por avantek es la presentacion es bonita viene en una cajita con compartimentos estos auriculares estan diseñados para cualquier situacion son auriculares de cable como los de toda la vida tipo in ear con manos libre dispone multiples almohadillas para la sujecion en el oido la caja contiene los auriculares almohadillas adaptadores y las instrucciones los auriculares suenan bien aunque tiene unos graves potentes los aguados no me han terminado de convencer y en cuestion de limpieza de sonido le falta un poco eso no quiere decir que suenen mal quizas sea muy exigente o haya escuchado muchos auriculares muy facil de colocar disponen de diversas almohadillas para adaptarlas a nuestro oido al ser metalicos si hace frio fuera puedes notar un tacto frio al principio pero en verano seguro que se agradece conclusion los auriculares son un producto ideal para aquellos que las tecnologia del bluetooth todavia no es para ellos la opcion de manos libre y controlar el volumen desde el pequeño mando es un punto a su favor ademas el cable es bastante largo y esteticamente son bonitos saludos d mike mq ',\n",
       " 'la calidad de audio es muy buena las caracteristicas no mienten en absoluto pero la cajita para cargarlo dejo de ser operativa en un par de meses y pasados 9 meses desde su primer uso ya no se me oye bien y no es por ponerme tiquismiquis algo falla en el microfono puede ser mala suerte mal transporte en bolsillo chaqueta o un golpe que le haya dado pero con modelos anteriores casi siempre plantronics nunca me habia pasado pero lo dicho el aparato es muy bueno en calidad de sonido emparejamiento etc ',\n",
       " 'son muy bonitas me pille un numero mas que el mio por los comentarios de que quedaban justas y ahora me alegro pues es cierto tambien son muuuu comodas estuve con ellas puestas desde que las recibi y en ningun momento me molestaron puesto que tenia algo de miedo pues soy muy delicada con los pies no le pongo 5 estrellas porque lo unco que no me gusto es que no son tan rojo vivo como en la foto tiene un rojo mas oscuro a pesar de todo son chulas y el diseño es muy bonito ',\n",
       " 'el autor no respeta debidamente las fuentes primarias escritas existentes sobre la atlantida o los pueblos atlantes ni siquiera las de platon y confunde hasta el nombre de herodoto con homero algo inadmisible no solo para cualquiera que pretenda escribir un libro sobre la atlantida incluso imperdonable para cualquier persona con un nivel cultural medio es cierto que podria tratarse de un error un mero descudio de hecho eso pense la primera vez que lo vi pero despues cuando comprobe que aparece repetido en otra parte del libro mi hipotesis principal por buena fe de que seria un mero error se desvanecio por tanto no se trata de un error o mero descuido de tipeo sino de una clara señal de que el autor no conoce bien quien es homero ni quien es herodoto porque si conociera a uno solo de los dos tal error no se habria dado por ejemplo si conociera bien las obras de homero y que este era un poeta no un historiador se habria percatado de que el pasaje de las historias que atribuye a homero no podia ser de este incluso aunque no supiera que pertenecia a herodoto y lo mismo si hubiera conocido a herodoto y su obra pues en tal caso sabria que ese pasaje no es de homero en fin por este error inadmisible y por otros que no creo necesario señalar no solo me decepciono el libro sino que no lo recomiendo a nadie que realmente sienta un minimo respeto por el rigor historico y la fidelidad hacia las fuentes escritas antiguas recomiendo de muy buena fe al autor haga una revision profunda de su obra incluso me ofrezco a echarle una mano en ello y lance una nueva edicion revisada corregida y actualizada pero seria conveniente que retire esta obra a la mayor brevedad posible no solo por respeto a los lectores sino por su propia imagen como investigador un cordial saludo georgeos',\n",
       " 'una pelicula sencillamente perfecta en su interpretacion ambientacion ejecucion real y a la vez fantastica en todo momento el respeto prima sobre la homosexualidad ',\n",
       " 'son muy monas para decorar la casa para halloween pero no duran nada despegan muy facilmente pero por el precio estan bien',\n",
       " 'el producto venia con muchas manchas de oxido el producto es de mala calidad soldaduras malas q incluso rascan en las manos amazon muy correcto como siempre en politica de devoluciones ',\n",
       " 'es mas bien para el copiloto la casa tiene otro mando para el conductor que se adapta perfectamente al volante del coche que es el que uso habitualmente ',\n",
       " 'easy to connect to the controller provides many functions in such a small product excellent facil de conectar al controlador proporciona muchas funciones en un producto tan pequeña excelente ',\n",
       " 'la historia no es para nada original tiene un argumento muy manido y en ocasiones resulta bastante sexista cosa que me alarma teniendo en cuenta que es una mujer quien ha escrito la historia la pesima traduccion que han hecho tampoco ayuda nada ',\n",
       " 'funda practica para el ereader ebook koo touch pero el color no es lila es morado demasiado oscuro no corresponde con la foto que se muestra ',\n",
       " 'es buen libro pero es demasiado pequeño como para disfrutarlo como debe deberian de especificar las medidas del libro que aunque ahora no tengo delante medira unos 18x18 cms o algo asi no es ni de lejos del tamaño habitual de los libros de national geographic ',\n",
       " 'el cargador cumple su funcion perfectamente no se calienta en absoluto cosa que si hacia uno de forma identica y marca sospechosa que compre en otra web asiatica carga mi nexus 5 a un ritmo muy razonable a la vez que lo uso como navegador y aun tiene otro puerto mas para cargar otro dispositivo aunque no lo he probado con ambos funcionando a la vez totalmente recomendable ',\n",
       " 'tras unos meses utilizando estos auriculares tengo que decir que al recibirlos te sorprende lo cuidado que esta todo el empaquetado y la buena apariencia que tienen pero todo cambia al escucharlos el sonido es extremadamente agudo con practicamente nada de bajos lo cual es muy molesto la unica solucion que te queda es intentar corregirlo con el ecualizador pero ni asi se consigue un sonido agradable al oido parece mentira pero hasta auriculares que cuestan la mitad que estos tienen un sonido mucho mejor en definitiva no me los volveria a comprar y por supuesto no los recomiendo ',\n",
       " 'un libro precioso tanto sus ilustraciones como el texto que contiene muy tierno un libro para guardarlo con cariño bilingã¼e',\n",
       " 'se ajusta en sus prestaciones a mis necesidades no me ha dado ningun problema y si satisfacciones en los desayunos de los fines de semana esteticamente tambien esta muy bien sin la aparatosidad de algunas de sus competidoras',\n",
       " 'el envio con correos fatal tardo casi un mes en llegar y tuve que hacer cuatro viajes a diferentes oficinas en cuanto a la calidad de la maquina deciros que para mi no esta a la altura tengo otro modelo de moser la 1230 que le da mil vueltas esta a su lado parece de jugete mucho plastico al lado del cabezal y yo que la uso para la barba no corta lo suficiente lo unico bueno es que me salio muy bien de precio por el rollo del black friday pero no volveria a pagar mas de 20â por ella ',\n",
       " 'me acaba de llegar el libro decepcion es la palabra que mejor se ajusta a mi estado de animo â como se puede editar un libro sobre batallas navales en las que no exista ni un solo diagrama o dibujo explicando la situacion de los buques vaya timo yo pensaba pasarme horas y horas estudiando las disposiciones de batalla de los navios de linea reflexionando sobre las maniobras que se tomaron observando los roles del viento y en vez de eso me encuentro con una pesima edicion sin un solo comentario a pie de pagina en un tipo de letra 13 o 14 y un tipo de papel que me recuerda al mas barato posible no pido ya diagramas de los buques participantes pues es facil encontrarlos en internet pero un miserable dibujo explicando las lineas de batalla â que menos en fin que me siento casi estafado no dudo de que la redaccion sera correcta y los hechos se ajustaran a la realidad pero esos carencias en un libro que intenta explicar hechos historicos y reales son a mi entender nefastas no creo que vuelva a comprar uno de estos libros impresos por amazon ',\n",
       " 'justo lo que esperaba perfecto de tamaño y lo coge de maravilla pedi dos y genial esta marca me encanta gracias',\n",
       " 'game of the year edition juegazo a muy buen precio con muchas mas opciones y jugabilidad que el primero muy recomendable ',\n",
       " 'increible relacion calidad de sonido precio sin duda los mejores auriculares que he tenido nunca los graves son profundos pero no molestos muy claros sin distorsionar en absoluto las frecuencias medias se notan muy bien y los agudos claros y nitidos en general muy recomendables tanto por calidad de sonido entregada al precio que tienen como por comodidad ',\n",
       " 'los protectores son transparentes y muy buenos a la hora de colocarlos en la pantalla son resistentes y no dan mucho reflejo ',\n",
       " 'si eres de movistar no hay forma de configurarla y solo lo podia usar de router neutro no consegui que funcionara para poner discos duros en red debe haber mejores opciones para eso ',\n",
       " 'no son lo que esperaba muy estrechas y mala son de mala calidad los cristales no son buenos y el plastico tampoco no recomiendo su compra',\n",
       " 'me ha encantado es una historia que te engancha desde el principio todos sus personajes tienen algo especial super recomendable ',\n",
       " 'fue muy rapido me llego a los 2 dias de pedirlo mi hijo esta encantado con dicho artuculo muchas gracias',\n",
       " 'sencillo y de facil uso permite conectar unos cascos algo a priori bastante util para no molestar o para poder oirlo en ensayos en grupo ',\n",
       " 'smartwool â fardaâ de hacer sus productos con lana merino pero estos calcetines contienen solo el 66 el resto es sintetico devueltos ',\n",
       " 'muy buena impresora compacta ocupa poco espacio simplicidad y facilidad de uso y muy buenos resultados casi profesionales imprime copias en menos de 1min ideal para gente mayor padres abuelos que les gusta tener sus fotos impresas para albums marcos etc desde el movil se imprimen facilmente o desde un usb o tarjeta sd sin necesidad de conectarla al pc admite conexion wifi a una red o bien conexion wifi directa con el movil ',\n",
       " 'buscaba algo que me quitase cosas del escritorio y este teclado parecia ideal al ser pequeño y con pad lo malo es que a dos metros del receptor la recepcion es simplemente horrorosa el pad se comporta fatal desesperante imagino que algo de culpa es por usar linux y el tema de drivers pero es que no todo es windows hay millones de usuarios de linux en fin que si lo usas en un escritorio cerca del receptor bien pero si pretendes usarlo tirado en la cama o sofa a cierta distancia con algo que no sea windows cruza los dedos ',\n",
       " 'muy util y comodisimo no se hace grande en la muñeca y una imagen genial y facilisimo de conectar con nuestra gopro el unico problema el vendedor que no nos ha enviado la factura de compra pero el producto 10 10',\n",
       " 'por el precio que tiene no se puede pedir mas se adapta muy bien tiene un tacto agradable y coincide exactamente con el terminal para el que esta anunciada relacion calidad precio muy buena 100 recomendable',\n",
       " 'el terminal es increible como va en la banda de los 5ghz streaming de pelis 1080p 3d a una samsung con estandar n lo mejor muy facil de configurar alcance vpn cliente de p2p velocidad gestor de hdd gestor de pinchos 3 y 4 g de las principales operadoras lo peor no exprime al maximo el puerto usb 2 0 la velocidad de lectura y escritura maxima es de unos 19 mb s',\n",
       " 'ademas de ser comoda y practica para los amantes del te y del roiboos es muy util calienta el agua en casi un minuto y el aspecto es muy agradable gusta como regalo ',\n",
       " 'es ok con lo que esperaba ok ok ok ok ok ok ok ok ok ok ok ok ok ok',\n",
       " 'no habia oido nada de este tipo y me he llevado la sorpresa del año su disco es una verdadera gozada soul de calidad con una buena produccion y mejores arreglos una voz a tener muy en cuenta ',\n",
       " 'it s the game of the year without a doubt im really hooked up to it i could not have expected less coming from batman the best of the bestest',\n",
       " 'las queria para una miquina de fotos que se bebe las pilas y no le duran nada y la verdad es que estas aguantan mucho ',\n",
       " 'que mas se puede pedir a una tarjeta micro sd que te de espacio extra y lo hace sobradamente como extra viene con un adaptador sd ',\n",
       " 'la clasica serie que todos vimos cuando eramos pequeños creo que algo de historia se aprende y si se tienen los libros aun mejor pero mi hija de 9 años disfruta viendolos no son desde luego perfectos hay muchas cosas que aparecen que los niños no acaban de entender y los dibujos se podrian haber mejorado pero la presentacion es bastante conveniente en solo cinco dvds y la calidad es similar a como yo los recuerdo y por el precio que yo pague 25â creo que merecen mucho la pena ',\n",
       " 'se rompio la cremallera a los dos usos y se descosio la parte interior mezclando los dos departamentos mala compra realizada ',\n",
       " 'muy buen producto ya que puedes almacenar llaves dinero etc y el precio es insuperable pero en mi bicicleta los enganches son largos y no se sujeta bien son como una tiras con velcro se soluciona dando unas vueltas o cruzando la tiras o haciendo algun apaño manual pero bueno en general bien',\n",
       " 'este libro no me explica nada sobre fotografia solo me marca unas metas unos objetivos que no podre cumplir sin dar una base antes por su titulo esperaba algo mas ',\n",
       " 'no esta mal por el precio que tiene pero se calienta mucho las asas y la tapa si no quieres gastar esta ok',\n",
       " 'la edicion es muy bonita se ecga en falta alguna pagina extra con mas datos sobre la parte trasera me gusta mas como lo hacen ahora con una hoja para poner los datos no impresa directamente en cualquier caso comparada con el amaray me quedo con esta ',\n",
       " 'me encanta es super chulo el material es muy bueno y protege mucho el movil volveria a comprar sin duda y lo recomiendo ',\n",
       " 'para moverte sin preocupaciones sobre todo pata escuchar musica sin molestar se encaja muy bien en las orejas no es estanco pero la oreja queda dentro ',\n",
       " 'no ocupa mucho espacio es muy rapido si avanzas en la reproduccion de una pelicula de muchos gb salta al momento y sigue reproducciendo sin esperas no se calienta nada y es bastantye silencioso y de precio muy bien',\n",
       " 'una pequeña delicia para los amantes del genero el planteamiento es inquietante y se narra desde una perspectiva con la que podemos identificarnos espero que continue porque quiero seguir leyendo',\n",
       " 'cumplen su funcion sin mas por el precio que tienen merecen la pena aun no los he probado pero parecen mejores que los que tenia ',\n",
       " 'las compre junto con otro juego para el otro coche esas correctas pero estas al mes han empezado a hacer rayas al pasar y ademas se pone turbio al pasar las compre por la marca pero vaya chasco vuelvo a las originales de la casa ',\n",
       " 'la sensacion es agridulce uno de mis miedos era el tema de los charcos y goteos segun los comentarios que habia leido asi como el hecho de que se parara porque si desterrados esos miedos no se para mas que cuando se queda sin agua en el deposito y en 2 semanas de uso no ha dejado ni una gota en los alrededores de donde esta puesto por otra parte si me ha defraudado su potencia ya que en 9 horas de funcionamiento solo es capaz de subir en una habitacion de 12 m2 3 4 la humedad relativa de la misma me esperaba mas ',\n",
       " 'no encontrareis nada mejor yo la utilizo a menudo buen precio y va estupenda para las creps os la recomiendo incluso como regalo',\n",
       " 'un cable que funciona bien y te permite mientras cargas tener la longitud para estar utilizandole en la cama o en el sofa no tengo ninguna pega con el lo recomiendo ',\n",
       " 'exprimidor que cumple perfectamente las expectativas imponente y funcional facil de manejar y de limpiar perfecto para uso domestico y tambien para el profesional yo lo puse en mi bar y es perfecto servicio de entrega excelente un diez ',\n",
       " 'muy buen acabado genial diseño para mi un gran archivo y versatil en cuanto al precio un buen producto para los que he visto ',\n",
       " 'aunque no rompe moldes este juego de disney copiando la idea de skylanders es muy entretenido y variado los personajes estan excelentemente caracterizados y los mundos son muy divertidos y abiertos ofrecen muchas posibilidades ',\n",
       " 'no se si es que soy muy exquisito pero este aparato no apura bien hay que pasarlo muchas veces para pillar los pelos mas cortos los largos eso si se los funde con una rapidez inusitada por otro lado se supone que esta hecho para funcionar bajo el agua y el pelo mojado no lo corta ni a la de tres tengo sensaciones encontradas con el aparato ',\n",
       " 'no tiene ni radio fm ni flash en la camara como pone en las especificaciones por lo demas un movil correcto ',\n",
       " 'pues eso que el disco esta fenomenal y la grabacion perfecta el disco llego con una esquina un poco doblada cosa que a los frikis como yo pues no nos gusta nada no lo devolvi porque es una doblez leve ',\n",
       " 'es un cuantificador que cumple con lo esperado mide pasos frecuencia cardiaca y cuantifica bastante bien la cantidad de descanso',\n",
       " 'una pena dado que me lo regalaron por mi cumpleaños primero me regalaron un parrot rolling spider en mi opinion mas divertido que el parrot rolling spider pero aun asi no consegui que funcionase bien no consegui que saltase ninguna vez nada mas desembalarlo de la caja y echar a rodar me pidio actualizar el drone lo actualice y ahi ya fue la repanocha se desconectaba continuamente a veces no volvia a conectar y a veces si cuando volvia a conectar la camara ya no funcionaba en fin que parrot lo ha vuelto a hacer mal ',\n",
       " 'a primera vista luce menos que en la foto hablo de la impresion el tamaño general esta bien aunque la parte central circular son bastante mas pequeños cuando lo tienes en la mano la foto destaca mucho mas el modelo obviamente la iluminacion y edicion siempre hace ganar el reloj por eso cuando lo tienes en tu poder mi impresion es que es mas simple de lo esperado y repito toda la parte central es algo pequeña como del tamaño de una aceituna grande a mi opinion pequeño por lo demas los ajustes no muy complicados la correa bastante grande hay que ajustarla el peso lo normal al ser de acero y un precio competitivo a ver cuanto dura ',\n",
       " 'son colores muy bonitos y duran mucho tiempo y vienen los colores que mas se usan el rosa esta muy bien ha valido la pena su compra lo unico que podria decir es que tarda un pelin en te los envie ',\n",
       " 'funciona correctamente una sola pega no puedes regular la salida de vapor pero esta muy bien estoy contenta',\n",
       " 'lo cogi mas o menos segun mi contorno de cintura la verdad es que queda justo pero muy bien estoy muy contento y voy a repetir ahora solo falta medir el tiempo que dure con la dureza del cloro ',\n",
       " 'llevo utilizandolo 1 semana aprox y me esfuerzo pero o no le he cogido el truco o no es un buen producto hay que entrenarse un poco y es sensible a la postura de la mano y creo que cuando cambias un poco el angulo falla y no escribe por lo que crea una muy mala experiencia es posible que no dependa tantro de el y mas de los programas que utilices para escribir los estan actualizando constantemente pero no mejoran lo esperado lo he probado con penultimate y goodnotes mas funcional pero fallan si lo utiizamos como un simple lapiz capacitivo va bien pero mejor comprar uno de 3 6 â que hace lo mismo terminaran fuincionando bien pero de momento es bastante desilusionante ',\n",
       " 'amore cuando lo lea te dejo una reseña como dios manda rectifico este post y te digo oleeeee aunque se que estaras a la altura ',\n",
       " 'muy contento con el producto precio muy competitivo en funcion del servicios que ofrece no hay ninguna queja en relacion a otros productos similares hablamos de un coste mucho menor y me parece que cumple con lo esperado comentar que le he añadido un par de refuerzos ya que las patas son un poco endebles pero con esto da unos resultado geniales por 60 y pico euros ',\n",
       " 'he comprado 2 carcasas y no funcionan las desenchufas y una hora despues se queda inservible y no se puede activar la bateria a menos que la vuelvas a enchufar un desastre me han prometido que me devuelven el dinero eso espero no la compreis a menos que quereis que os timen aitor',\n",
       " 'super comodos no fallan tallan un numero mas es decir q tienes q pedir un numero menos del que uses son super chulos parecen blaco y negro pero negro con hilos en plata q brillan pero muy sutil me encantan',\n",
       " 'un gran texto de referencia poco utilizado en la medicina tradicional china actual permite acceder a la forma de trabajar y pensar original en el campo de la acupuntura imprescindible para cualquier acupuntor que desee profundizar en los origenes de su trabajo ',\n",
       " 'el universo dredd es algo de lo que soy fan hace mucho tiempo pensaba que esta pelicula no seria nada buena y sorpresa es un peliculon de los que ya no se hacen es mucho mejor que la anteriro pelicula y el personaje de dredd esta mucho mejor echo en cuanto al br esta muy bien el 3d y el sonido es hd master audio dts 5 1 castellano recomendada al 100x 100',\n",
       " 'la compra fue para un regalo y la verdad es que triunfe gusto muchisimo viene con un acabado muy bueno y el libro se ve que es de calidad ',\n",
       " 'creia que era un estuche mas grande te limita tener todos los accesorios metidos pero esta bien y buen detalle de incorporarte una clavija para el mechero del coche',\n",
       " 'muy buena calidad muy buen precio ajuste perfecto se adapta perfectamente para cualquier uso por su largura aparentemente sera duradero',\n",
       " 'el producto corresponde con lo ofrecido por el fabricante quizas seria mejorable el sistema de cierre pero en general esta muy bien ',\n",
       " 'me parece un juego entretenido para los peques de la casa y a la vez nos reimos mucho con el juego',\n",
       " 'es el mejor monitor de actividad del mercado y excelente relacion calidad precio una pana que no sea ip67 el unico pero es que al no tener gps los km en bici no los logra medir correctamente',\n",
       " 'pense que no debia poner en riesgo la integridad de la camara ahorrando en el arnes y compre el original de gopro evidentemente no decepciona cumple perfectamente su funcion y tiene una gran calidad pero para lo que es me sigue resultando excesivamente caro ',\n",
       " 'recomendado por foro hardware punto com yo lo quiero para jugar y eso es lo que hace sin gastarte un paston',\n",
       " 'unas gafas de sol baratas el material de la montura no es muy alla las compre para poder poner cristales graduados pero el de la optica no me lo recomienda mi sobrino ya tiene gafas nuevas',\n",
       " 'este es un libro muy practico si quieres fotitos de zumos a todo color este no es tu libro aqui solo hay texto la tabla que trae de las frutas y verduras por estacion es media vida tiene centenares de recetas de zumos con sus correspondientes propiedades una descripcion alimento a alimento de sus propiedades y beneficios tiene incluso algunas dietas de desintoxicacion que mezclan zumos con alimentos digeridos en definitiva un buen complemento que da multitud de ideas para que nos pasemos a un estilo de vida mas saludable ',\n",
       " 'recomiendo este libro a todo aquel que quiera mejorar su nivel de ingles en enfermeria o a aquel que este pensando irse al extranjero ',\n",
       " 'creimos que habia dejado de funcionar pero ha vuelto a ponerse en marcha de todos modos se supone que tiene garantia de 2 años â como hacemos si deja de funcionar en la web pone que este producto no admite devolucion no ha pasado un mes me interesa saber esto por otros articulos que he comprado ',\n",
       " 'no funcionan bien se escuchan mal y son de mala calidad para ser un producto imaginarium me han defraudado bastante ',\n",
       " 'no encaja correctamente y sobresale 3 mm de color blanco mas la parte gris que se supone que es la que solo deberia quedar fuera no deberia poner que es valido para el retina de 15 porque no lo es si puedo lo devolvere ',\n",
       " 'los cubitos salen con un sabor a plastico esperaba que se le quitara pero no se va estoy por tirarlos',\n",
       " 'es un buen producto no ocupan mucho espacio no resbalan las manos al usarlas y las gomas no dañan el suelo cualidad precio esta bastante bien ',\n",
       " '5 estrellas perfecto y original o igualito a la original encaja a la perfeccion suave al tacto anti deslizante muy buen producto',\n",
       " 'un producto bastante malo le doy dos estrellas por el vendedor que estuvo muy atento y me envio otro sin coste alguno ya que el primero vino defectuoso por ese precio no se puede pedir mas pero no he llegado a la semana de uso ya que se me an roto ambos no lo recomiendo ',\n",
       " 'los coleccionistas del cine clasico suelen enfrentarse al dificil problema de elegir la mejor edicion en bluray de las peliculas que ya tienen en dvd el criterio mas acertado siempre es conseguir la version publicada por una major fox mgm columbia sony evitando las editadas en españa en discos de 25gb con aspecto de top manta sin embargo muchas veces nos encontramos con otro dilema la mejor edicion viene en español latino y los extras sin subtitular en ningun idioma si se domina el ingles la eleccion esta clara si no se puede combinar el nuevo blu ray con nuestros discos dvd exactamente este es el caso en esta edicion de laura la valoracion de la imagen es de 10 con su poco de grano como manda la epoca quien no quiera verlo siempre puede ajustar el televisor hasta conseguir la reduccion de ruido que desee la banda sonora en ingles tiene la mejor calidad tambien para una pelicula de los años cuarenta pero se entienden bien los dialogos bajo esa banda sonora tan maravillosa y obsesiva los extras son los siguientes dos comentarios en audio de criticos cinematograficos documental de 45 minutos sobre la vida de gene tierney con la hija y su primer marido documental de 45 minutos sobre la vida de vincent price la version extendida con la escena eliminada sobre la educacion de laura documental la obsesion unos minutos analizando el cine negro a traves de la pelicula el trailer antes de acabar unas ultimas consideraciones ',\n",
       " 'me parece un libro muy denso y anticuado no me ha gustado y muy caro no lo hubiera comprado si lo hubiera visto antes ',\n",
       " 'reparen en que esta misma obra esta disponible en edicion gratuita amazon para kindle bastante aceptable ademas comprueben el tamaño del archivo y detectaran incluso que este es menor por lo que no tiene demasiado sentido gastar 3 65 euros en ella â por el indice activo maxime cuando los derechos de autor de marx expiraron hace unos añitos ',\n",
       " 'la verdad que desde que los uso ya no molsto a nadie viendo mis pelis a buen volumen una pega dan un calor en las orejas que para el invierno esta muy bien pero en verano se hace incomodo pero entendais mal ya que esto ocurre con casi todos los auriculares son de diadema cerrada osea que el sonido hacia fuera casi es inaudible recomendados ',\n",
       " 'bien la duracion es de 2 horas calidad precio esta bastante bien siempre se espera algo mas pero de momento no tengo ningun problema',\n",
       " 'encantado con esta caja por este precio esteticamente es mejor que en la foto no pesa nada y es espaciosa pese al tamaño',\n",
       " 'a expensa de su durabilidad que ya se vera el producto es muy recomendable cumple perfectamente la funcion de destensar cualquier inflamacion de tendones mi experiencia muy satisfactoria',\n",
       " 'escribo por si a alguien le puede ayudar no cumple con lo que buscaba debido a que si lo pones en la habitacion de dormir la luz de la pantalla ilumina demasiado y no pudiendose apagar durante la noche por lo que resulta molesto no se puede girar la proyeccion de la hora por lo que la pantalla de iluminacion tiene que estar de cara a la pared no lo recomiendo si se emplea para la habitacion de dormir ',\n",
       " 'la verdad es que es un libro muy tecnico en terminologia para el usuario de a pie esperaba que fuera mas ameno y facil de entender con el precio que tiene no me ha servido para nada',\n",
       " 'ni mide temperatura ni tampoco humedad mide velocidad del viento max y min area de viento pero de temperatura y humedad nada de nada ',\n",
       " 'al llegar me lie un poco con el montaje ya que aunque son 3 piezas no me aclare donde iba cada varilla metalica de refuerzo una vez probado en las 3 posiciones posibles he de decir que queda muy bien al no ser muy ancho se puede ubicar en muchos lugares como por ejemplo detras de una puerta ',\n",
       " 'ha sido lo esperado para este tipo de productos transporte tiempo y el resto de los servicios han sido aceptables ',\n",
       " 'pedi una unidad de este amplificador de auriculares por otras criticas que habia leido me llego la primera la conecto al ordenador para cargarla y la luz roja parpadea constantemente asi por varias horas y sin cargar la bateria se lo digo al vendedor y me envian otra unidad resultado el mismo problema la bateria no carga el vendedor me dice que posiblemente sea un fallo de una serie por lo cual decide abonarme el producto lo unico positivo la velocidad del envio pese a estar fuera de españa ',\n",
       " 'perfecta solo que le quito dos punto por la falta de poder apoyarlo se me ha caido ya varias veces y considero que es un fallo que se podria haber evitado por lo demas muy bien caliente super rapido deja el pelo a la primera pasada muy liso y es de facil manejo ',\n",
       " 'segunda mitad de la guerra del grupo liderado por rick contra negan y sus salvadores continuando justo donde se quedo la anterior parte esta vez la accion se traslada a la cima y negan hurdira un plan para acabar con los protagonistas sin que lo vean venir el desenlace es inesperado y da paso a una nueva etapa que empezara con el volumen 22 un nuevo comienzo ',\n",
       " 'nunca me llegaron las brochas pero si me devolvio el dinero asi que no esta del todo mal la calidad parece buena ',\n",
       " 'no es el cojin de la marca mimos pero ayuda igualmente a prevenir lo pongo tanto en la cuna como en el cochecito ',\n",
       " 'lo compre para llevarlo al gimnasio y cumple perfectamente su funcion es pequeño y de potencia esta bien para viajes y ocasiones perfecto tal y como dice su nombre es de viaje no para una peluqueria cumple perfectamente mis expectativas',\n",
       " 'el adaptador se detecta perfectamente por la rasbperry pi y ademas es compatible con los mandos dualshock3 de sony ps para poder usarlos con la pi con una ligera modificacion del software sixad no da ninguna problema y te olvidas que es de lo que se trata',\n",
       " 'esta defectuosa se desincha con la horas y cuesta mucho su devolucion no vale la pena la devolucion porque muy complicado',\n",
       " 'se anuncia como 100 compatible y no funciona en nikon d3200 para colmo la devolucion de producto la he de abonar yo 5 99â ',\n",
       " 'no es para morirte de la risa pero es amena y divertida con protagonistas sin traumas ni complejos perfecta para las vacaciones',\n",
       " 'mi hijo contentisimo con ella esta bien bonita y resistente el precio de esta y todas las demas que pasan de 5 â me parece excesivo se paga la moda ',\n",
       " 'este es uno de esos libros que empiezas y no puedes parar hasta terminarlo tiene aportaciones muy valiosas con las que puedes aprender de las relaciones de pareja tanto para separarte como para no separarte lo mas valioso es que te acerca a la comprension del ser humano en una faceta de su vida por la que todos hemos pasado alguna que otra vez ',\n",
       " 'en principio la funda tiene buena pinta pero resulta que el broche metalico del cierre raya el kindle y ahora mi ereader recien comprado tiene dos marcas bastante feas que no se pueden quitar no recomiendo la compra ',\n",
       " 'todo correcto y funciona bien de acuerdo con la finalidad con la que lo compre facil de manejar y sencillo ',\n",
       " 'recibido enseguida en carta tres o cuatro dias producto lo esperado doble protector individual para pantalla el precio es muy economico ',\n",
       " 'el producto esta bien pero es limitado unicamente carga las pilas que viene con el articulo pilas de la misma marca compradas anteriormente de las mismas caracteristica y pilas recargables de otra marca no las recarga',\n",
       " 'pequeño y muy compacto los menus para configurar y manipular son sencillos e intuitivos permite grabar de forma sencilla con un usb conexion hdmi da bastante calidad de imagen la pega es que a veces le cuesta responder al mando pero en situaciones normales va perfectamente',\n",
       " 'tiene dos compartimentos dentro uno para la memoria externa y otro para el cable resulta comoda y es bastante ligera',\n",
       " 'la verdad es que es muy rapida al ser clase 10 debe cumplir con la transferencia a 10mbps pero no solo los cumple sino que los dobla estuve haciendo pruebas de copiar archivos pesados como pelis desde mi ordenador a la tarjeta y viceversa y me funcionaba de manera regular a 20mbps por lo tanto os la recomiendo totalmente porque tiene mejor rendimiento y precio que otras clase 10 como la sandisk plus ultra etc ',\n",
       " 'muy malo la peor compra que puedes realizar la calidad pesima por otro lado en la descripcion dice ser de piel y no lo es recomiendo no comprar es tirar el dinero ',\n",
       " 'solo da 2 cargas de iphone 5s cuando se supone que da mas de tres cargas no hay cable para iphone ',\n",
       " 'pedido junto con otras dos cosas me la enviaron en paquete a parte nada mas abrirlo no funcionaba ni con la rosca ni con nada dial fijo y sin moverse tuve que devolverla y como es el producto que es en este caso no hubo cambio un cheque por el valor para poder gastar pero no puedo comprar otra porque no llega al valor que estiman para enviarla suelta ',\n",
       " 'la idea de la funda es muy buena proteger unicamente la pantalla que al final es lo mas fragil del dispositivo pero lo que no me gusta nada es el precio que tiene y sobre todo la calidad de los acabados despues de un año de uso tuve que comprar otra porque la pielecilla de la tapa se despego entera he comprado una china por 7â identica y mucho mejor como no se ponga las pilas samsung con estos temas ',\n",
       " 'son las mejores gafas de natacion que he encontrado ya que en primer lugar son muy confortables aspecto que mas valoro parece que por la poca presion que hacen sobre el rostro no van a ser totalmente estancas pero no es asi no entra nada de agua ademas ofrecen una calidad de vision inmejorable debido a sus lentes polarizadas con recubrimiento de cobre sin reflejos y con una claridad increible las use la primera vez en el mar y las crestas de las olas parecian de color bronce impresionante aunque tuve que descambiar el primer par que compre pues se partio una pieza de sujeccion de la cinta a los pocos dias pero con amazon no tuve problemas ',\n",
       " 'lo utilizo a diario muy util y efectivo si todos los productos son de avent mejor pero tampoco es necesario',\n",
       " 'no se os ocurra comprarla no sirve para nada un adorno mas en el cajon desastre respondieron en la devolucion ',\n",
       " 'le ha gustado mucho a mi hija ya esta con las muñecas patinadoras como loca ya solo nos queda esperar a la pelicula ',\n",
       " 'aparato ligero con gran autonomia y que cumple con su funcion de lector de libros electronicos hasta el momento ningun problema',\n",
       " 'muy aconsejable y puedes meter muchos accesorios como por ejemplo los juegos los lapices el cargador y la nintendo 3ds por supuesto',\n",
       " 'esta muy bien solo faltan unos mapas que indiquen la distribucion territorial de las aves y en dias de humedad unas tapas engomadas ',\n",
       " 'buen producto a buen precio todo lo que esperas de este tipo de reloj perfecto no me lo quito nunca',\n",
       " 'si buscas una funda que aunque augmenta bastante el grosor del telefono es segura este modelo es optimo protege muy bien el mobil i algo que tambien es muy importante es que no se hace incomoda mientras lo usas aunque a priori pueda parecerlo en resumen lo aconsejo y mas por un precio asequible como el que tiene ',\n",
       " 'demasiado pequeño no indicaban bien la descripcion deberian ser mas precisos no tiene la utilidad que yo esperaba desilusionada',\n",
       " 'un buen video hay que tener un poco de cuidado para configurar la zona pero una vez hecho funciona muy bien ',\n",
       " 'se instala sin problemas ya que windows lo reconoce sin problemas he conectado el movil y los auriculares bluetooth sin problemas lo que no he podido conectar ha sido una barra de sonido con bluetooth y por eso no le doy las cinco estrellas',\n",
       " 'todo correcto cumple con la descripciin que aparece en amazon es muy sencillo de instalar como si fuera una memoria usb ',\n",
       " 'mucho mejor que el 5 pero es una lastima que con la edicion aniversario no venga la guia de conduccion',\n",
       " 'excelente y original un producto que no he encontrado en españa gran sorpresa y gran regalo ha cumplido mis expectativas ',\n",
       " 'las imagenes son muy bien pero el formato no es ideal a los lados falta algo si hay 16 9 no puede reproducir todos los formatos de video ni mp4 ni mpeg ni mkv solamante avi video mpeg 4 audio mpeg 3 mp3 yo tengo 100 pelis en un usb esta tele reproduce solo 3 ',\n",
       " 'lo compre creyendo que seria mas o menos similar a las fundas originales de los moto g pero nada mas lejos de la realidad tiene un tacto malisimo y ni siquiera se queda cerrado por si mismo pues se queda viciado el cierre quedando entreabierto en definitiva compra nada recomendable ',\n",
       " 'es geniallllll pero hay que hacer musculatura para cogerla con una mano un fallo muyyyyy importante no las volveria a comprar a pesar de que son buenisimas no se rayan y apenas necesitan aceite',\n",
       " 'es un libro bastante mal escrito lleno de lugares comunes y carente de estilo eso si ofrece un banco de datos mas o menos aprovechables para aquellos a quienes el ciclismo interese y en particular el tour no lo recomendaria ',\n",
       " 'siempre me confunde con mi pareja y eso que hay mas de 20 kilos de diferencia luego por otro lado unos dias te pone 3 kilos y al dia siguiente te los quita no recomiendo la compra bajo ningun concepto ',\n",
       " 'ha cumplido nuestras expectativas mi marido comparo varios y este era el mejor si tenemos en cuenta tambien el precio hace ruido pero no demasiado con una rueda de carretera hace muchisimo menos en general estamos contentos y lo recomendamos ',\n",
       " 'muy buena para preparar de 2 a 4 cafes un poco dificil de abrir si lo haces por el mango de cogida al final se termina partiendo ojo con esto ',\n",
       " 'con el puesto la pantalla se ve perfecta y cumple su funcion de proteger la pantalla es totalmente transparente no es antihuellas a la hora de colocarlo hay que tener mucho cuidado de que no haya ninguna suciedad en la pantalla por este motivo mi consejo es ponerlo nada mas quitar el protector plastico que viene con el movil ',\n",
       " 'un envio perfectisimo muy comodos y la talla tal y la que tengo ni mas justos ni mas grandes estoy muy contento ahora toca ver lo que me duran un pro y a la vez una contra del pedido es que ha sido muy rapido la entrega ha sido antes de lo concertado por amazon algo por lo que estoy contento pero a la vez en la localizacion del paquete en amazon no lo indican bien he tenido suerte de que me encontraba en domicilio pero sino no me fuera encontrado en casa por lo demas muy contento ',\n",
       " 'funciona perfectamente lo recomiendo supongo tambien depende de la velocidad de navegacion contrada ',\n",
       " 'contentos con ella despues de meses muy antiadherente coge temperatura rapido y de momento es resistente la unica pega es que no resulta facil apretar el mango a la sarten tiene un tornillo hay que apretarlo a muerte y aun asi tiende a aflojarse ',\n",
       " 'descripcion del articulo es un simpatico libro con 6 canciones en total 2 por pagina estan escritas una en cada pagina y a medida que se pasa la pagina el libro canta la cancion que esta escrita alli ademas en lo que seria el lomo interno del libro hay tres botones uno para los numeros del 1 al 6 otro para las letras de la a a la c y el tercero dice algun elemento que esta en esa pagina y la cantidad de ese elemento por ejemplo cinco ranas valoracion â es muy divertido a mi niña le encanta se divierte pasando paginas y se mueve al ritmo de las canciones pros esta hecho de un material muy resistente y es muy colorido la nariz del libro tiene una cara en el extremo superior se enciende y eso llama mucho la atencion de los pequeños es muy interactivo y suena perfectamente se entiende claramente lo que se esta cantando contras no soy muy fan de las letras de las canciones si bien muchas son clasicos de todos los tiempos creo que deberian ser un poco menos drasticas y mas alegres los peques aun no saben que significan pero mejor dar mensajes mas positivos les hubiese puesto 5 puntos sino fuera por esto ',\n",
       " 'encaja perfectamente con mi macbook la unica pega que le he encontrado es que se quedan algo marcados los dedos por fuera pero por lo demas cumple con lo que ofrece ',\n",
       " 'queda un poco justa pero cumple su funcion el plazo de entrega fue mas que correcto ya que llego antes de la fecha indicada ',\n",
       " 'me ha gustado mucho ademas cuando trabajas en el sector en el que esta ambientada te metes mas en la historia muy entretenido',\n",
       " 'de momento va perfecto tengo problemas con el receptor usb inalambrico del teclado porque a veces el ordenador no lo detecta pero creo que es problema del receptor he probado con discos duros usb 2 0 y 3 0 y funciona perfecto ',\n",
       " 'metodo que antepone las necesidades de los padres a las del niño desde luego que yo me quedo con el libro de besame mucho no hay color',\n",
       " 'justo lo que queria aunque es un poco grande para una muñeca femenina pero no lo habia en el mismo color modelo mujer asi que mientras no lo distribuyan es una buena opcion ',\n",
       " 'para el modelo a3 2016 no pega bien del todo hay un marco de 3mm visible y mal pegado alrededor de la pantalla del telefono queda muy feo ',\n",
       " 'buenos dias escribo esta opinion para transmitir mi descontento con esta gente tan incompetente de amazon pedi el disco de transilvanian hunger de darkthrone el pasado sabado 26 de septiembre me tenia que llegar el lunes 28 cosa que sucedio pero cuando abri el paquete me encontre con el disco de live in leipzig de mayhem nada mas ocurrir esto llame para decirselo y me dijeron que no pasaba nada que me quedase este disco y que me iban a mandar otra vez el disco de transilvanian hunger pero que les llamase el miercoles dia 1 de octubre a partir de las 2 cosa que hice y ya me decian que me lo reemplazan y ayer jueves 2 de octubre me vuelve a llegar el mismo disco el de mayhem mando la foto para que lo veais que no es el disco de transilvanian hunger con esto se acaban mis relacciones comerciales con amazon no tardare en darme de baja un saludo ',\n",
       " 'pues nada eso el envio y demas muy bien me ha decepcionado que no me cabe en mi mochila de campo y para salir por ahi con la mochila y la funda es un poco rollo pero vaya que es cosa mia ',\n",
       " 'los acabados de los remaches son mejorables producen cortes si los tocas con las manos seria facil acabar el producto un poco mejor ',\n",
       " 'el producto recibido no es de muy buena calidad la flor es bastante fea y la talla no se corresponde con el tamaño que se indica en la compra la edad aproximada para que le pueda valer a un bebe es de 9 12 meses',\n",
       " 'de vez en cuando surge en la industria musical algun artista que acaba con la etiqueta de mito prematuramente muerto el mundo de la musica y de la fama es muy propicio para que almas rotas y espiritus vulnerables acaben cayendo en un circulo de autodestruccion y amy winehouse es el ejemplo de la primera decada del siglo xxi surgida de la nada y con un estilo totalmente retro que estaba en pleno resurgimiento mezcla de jazz r b y un toque de hip hop trip hop mas actual amy winehouse podia presumir de ser acertadamente comparada con billie holiday y sarah vaugahn por un lado y con lauryn hill por otro tradicion y contexto urbano unidos en un mismo producto y eso es â frankâ debut de la artista inglesa para muchos superado por su posterior y ultimo disco â back to blackâ que es cierto tiene hits mas memorables pero en conjunto es un trabajo mas irregular pero para mi el disco mas fresco y â novedosoâ para la epoca el que influyo en otras artistas y trajo el sonido crepitante de la musica negra americana de nuevo a la palestra â frankâ vio la luz cuando amy apenas contaba veinte años y se convirtio en disco de platino en un momento â ixito prematuro amy ya era un poco especial pero estoy seguro que tanto bullicio le pillo por sorpresa y le hizo refugiarse en sus propios demonios en cualquier caso musicalmente hablando â frankâ es un reflejo de lo que amy winehouse habia escuchado desde la cuna jazz y la musica negra de las calles ',\n",
       " 'contento con el producto aunque la distancia entre las 2 barras es un poco justa lo uso sin las ruedas',\n",
       " 'este disco duro funciona a las mil maravillas y es una marca a la que le doy mucha tralla la instalacion es extremadamente facil conectar y listo el funcionamiento perfecto no es exageradamente caliente como un verbatim que tengo que puedes freir un huevo encima ',\n",
       " 'apesar de no tener piezas de recambio esta muy bien ya las he utilizado y estan bien quizas le faltaria un pico mas grande de 1 5 o mas pero bueno para el precio que tienen no se puede pedir mas por otra parte creo que seran tan buenas como duren siempre que no se averien por la persona que la utilice por lo cual no podemos valorarla al completo ',\n",
       " 'si bien entretiene es bastante banal y predecible la narracion es interesante historias paralelas desfasadas para leerselo en un finde ',\n",
       " 'la verdad es que no se le puede pedir mas a un disco duro pequeño con buena capacidad de una marca de confianza con usb 3 0 para pasar las cosas rapido yo lo suelo dejar conectado todo el dia y aunque con mucha actividad se puede calentar sigue funcionando como el primer dia',\n",
       " 'tal y como se describia muy comoda de usar y muy util para el uso domestico el envio tal y como se describio tambien',\n",
       " 'the image does not correspond to the delivery after receiving the order i read the description and it is only the plastic bag the image is misleading ',\n",
       " 'producto tal y como se describe con un tamaño adecuado para mi coche y que protege a mi bebe de cualquier entrada de sol por la luna trasera como puntos a tener en cuenta el parasol quita casi totalmente la visibilidad por la luna trasera por lo que hay que acostumbrarse a conducir y maniobrar solo con los espejos laterales ademas al igual que a otros usuarios las ventosas han venido dobladas y alguna no pega bien pero de momento se sujeta sin problemas en general satisfecho con la compra',\n",
       " 'libro muy recomendable en la que la autora se acerca a los monstruos de la guerra de desintegracion de yugoslavia desde una mirada muy personal como parte del pueblo que la sufrio interesante reflexion tanto sobre el origen de la barbarie como sobre sus protagonistas mas negros ',\n",
       " 'aunque comparada con las baterias clonicas sube mucho merece la pena gastar un poco mas recuperaras la inversion a corto plazo en forma de rendimiento ',\n",
       " 'facil de construir pero es necesario ayudarle a terminar la constrccion al final ya que la punta del big ben requiere habilidad ',\n",
       " 'habia consumido otras veces este producto el sabor vainilla es bastante bueno y no cansa el de platano es bastante pesado sabe como las gominolas de platano que tomabamos de pequeños ',\n",
       " 'el cuadro es como es en la web por lo que he quedado muy contento con la compra que he realizado',\n",
       " 'un juguetito muy divertido y con el q te enganchas a caminar no se si su precision sera la mejor del mundo pero sinceramente por 20 pavos no puedes equivocarte relacion calidad precio la mejor del mercado con diferencia ',\n",
       " 'hay que mejorar le falta poder meter una tarjeta de memoria y mejorar los menus pero por lo demas esta bien ',\n",
       " 'compra en perfecto estado calidad precio buena todo bien no se puede esperar mas por menos muy contento con la compra en amazon',\n",
       " 'perfecta para camaras de foto para grabar videos y fotos el precio es muy economico compre varias tarjetas y no he tenido ningun problema ',\n",
       " 'objeto interesante y de utilidad multiple pues permite introducir en su interior variedad de objetos o notas para que esten protegidos',\n",
       " 'excelente producto precio y servicio me lo recomendaron mis amigos ya que ellos son grandes aficionados a la fotografia y yo como cumple sobradamente mis expectativas ',\n",
       " 'lo mismo que el box 1 doblaje al gallego el precio esta bien selecta vision deberia esforzarse mis por esta serie y por lo nuevo que esti por venir gracias ',\n",
       " 'kingston reyes del storage vienen ya formateados el formato no lo he chequeado todavia pero supongo que alguno basado en fat extendido sino no seria compatible con macosx o sea que puede usarse directamente ',\n",
       " 'los geox estan dando muy buen resultado lo que me es incomprensible es que vengan con unos cordones descomunales muy molestos',\n",
       " 'dentro del precio calidad un 10 aunque de altura mas bien indicado para una tablet de 10 sobra un poco buena compra',\n",
       " 'la queria para una tablet y grabar unas peliculas y fotos con el adaptador usb perfecta entrega sin contratiempos y bien embalado ',\n",
       " 'relats erã²tics senzills i curts que aconsegueixen engrescar te en la lectura molt be enllaiat un relat amb l altre et permeten jugar amb la imaginacio ',\n",
       " 'producto funcional y de facil manejo la relacion calidad precio es excelente y tiene una escala de colores que indica en que nivel de riesgo estan tus lecturas de presion almacena las ultimas 99 lecturas lo cual es muy util para ver tu evolucion ',\n",
       " 'tardo 14 dias lo pedi a ny pero vaya edicion de lujo tanto en el excelente booklet como en la presentacion de los 2 cd en funda de carton si pero a mi me gustan mas que las de plastico y la calidad de los temas remasterizados y su volumen impresionantes ademas el productor de los cortes es el magico george martin y no el convicto e impresentable spector por lo que let it be y across the universe vienen sin el patetico e insufrible muro de sonido del susodicho destroza canciones mas grande de la historia del pop rock asi que si aun no los tienes no te lo pienses mas y disfruta de beatles en estado puro y soberbio imprescindible ',\n",
       " 'los compre por que pensaba que siendo ibanez serian buenos pero al cabo del tiempo me han hecho mal contacto por la coza del conector si el cable se sobla un poco tengo que ir buscando la postura para que no suene ruido ',\n",
       " 'medisana air purificador de aire un precio muy elevado era casi 80â rebajando a 50â yo lo compre por 28â el unico bueno para mi es el fotografo que a hecho las fotos para amazon le doy 5 estrellas el purificador no es mas grande de una botella 2l de coka cola no recomiendo la compra de este producto ',\n",
       " 'envio rapido y bien embalado me ha ido bien para poder alargar el cable de mis auriculares que estan conectados a unos inalambricos bluetooth y asi utilizar dos a la vez sin necesidad de que se quede justo el cable de mis auriculares correcto en materiales en cuanto al funcionamiento sencillo conectar y disfrutar victor ',\n",
       " 'mala compra el pulsometro se para a menudo y muchas veces le cuesta ponerse en marcha no recomendable en absoluto',\n",
       " 'el producto solo funciona con windows ni siquiera se puede resetear sin ordenador en mi viejo ordenador de windows xp dejo de funcionar despues de un update he puesto un windows 10 en otro ordenador y despues de reinstallar el tomtom connect el reloj se puso rigido y no se puede resetear ni cambiar nada el producto tiene menos de un año de antiguedad y tomtom no da ayuda ninguna y amazon no acepta devolver cambia el producto perdida de dinero ',\n",
       " 'es una muy buena compra el aspirador tiene una gran poder de aspiracion y un bajo ruido los materiales en los que esta construido son de calidad asi como sus accesorios se le ve robusto tiene todos los accesorios que se puede necesitar para realizar las tareas de limpieza muy practico el contenedor del polvo facil de quitar y poner y a la vez de limpiar es una buena compra ',\n",
       " 'la navaja buena como todas las opinel pero la funda es imitacion a piel de no muy buena calidad y la caja de madera donde viene presentadas venia practicamente desecha ',\n",
       " 'el sistema para poner de pie es malo se cae no me gusta nada no lo he debueilto por estar ya usado ',\n",
       " 'tras 3 semanas de uso estoy satisfecho es facil de colocar pero es grueso lo que provoca que el tamaño del movil aumente esteticamente bien inconvenientes la parte del conector de cargador no permite enchufar un adaptador de 30pines al lightning lo que obliga a retirar parcialmente la funda tanto la entrada de auriculares como la del cargador tienen un protector que a priori resulta endeble aunque es cierto que con el uso de 3 semanas no se ha roto',\n",
       " 'para empezar a correr esta muy bien no necesitas nada mas el pero que le pongo es que le cuesta bastante encontrar la señal gps bateria unas cinco horas se echa en falta que dure un poco mas ya que cada salida lo tengo que cargar ',\n",
       " 'creo que es un buen telefono pero para mi el no tener radio le quita puntos en las caracteristicas tecnicas no esta claro esto yo me lleve una decepcion cuando me entere ',\n",
       " 'el objetivo por si esta bien pero me echa un poco para atras porque cuando sujetas el boton de disparo hasta la mitad para enfocar la imagen se mueve un poco debido a funcionamiento del objetivo y esto te dice en el manual por mi opinion no es normal porque en los objetivos de canon no pasa esto ',\n",
       " 'no la compreis nada mas llegar la puse a cargar y en una media hora el cargador de la d800 ya me indicaba que estaba cargada hasta ahi todo bien comence a usarla en el grip y en menos de 50 disparos se agoto dando paso a la bateria original de la camara una vez mas la puse a cargar y en menos de 5 minutos el cargador comenzo a parpadear rapido exceso de temperatura esa fue mi ultima experiencia en menos de una hora ya habia gestionado la devolucion no merece la pena gastar escatimar en lo mas barato de una camara cuando esta cuesta mas de 2 000 euros nueva ',\n",
       " 'as an immigrant to spain from the uk myself i found myself nodding sagely throughout beaky joe s tale of their move to almeria was quite different from ours but it was comforting to read that there were many of the familiar peccadilloes that we all know but the story flowed well and was highly engaging and i was done in two sittings the author has a great narrative style which captivates and i look forward to reading more of the old fools adventures ',\n",
       " 'me gusto mucho el collar cuando lo vi el pedido se demoro un poco pero llego bien muy contento con la calidad del collar',\n",
       " 'no esta mal pero no me habia dado cuenta de que era tan pequenia sirve para una sola persona o dos eventualmente lastima que no se puede sacar la cesta metalica y poner la tapa otra vez el te se pone muy fuerte ',\n",
       " 'muy poco consumo poco calentamiento cero ruido no trae ventilador pero poco rendimiento y lo mejor muy poco dinero no es compatible para jugar a juegos modernos que pidan recursos pero si apta para juegos indie web o uso multimedia ',\n",
       " 'un libro muy interesante para quien tiene que tratar habitualmente con jovenes padres profesores propone un gran numero de ejemplos reales de buena y mala comunicacion entre adolescentes y adultos recomendable lectura a pesar de la extraña traduccion al castellano â norteamericano ',\n",
       " 'este aun no lo he empezado a leer pues estoy acabando de leer cuando la cigã¼eña se pierde pero este tambien por el prologo tiene que ser muy interesante por eso me compre los dos por que no sabia cual escoger los dos me pueden aportar cositas ',\n",
       " 'yo lo queria para poner tarjetas tipo visa etc y no caben muchas ademas pense que tendria fundas por dentro para tener cada tarjeta ordenada y no es asi por dentro no hay nada para sujetarlas quedan sueltas ',\n",
       " 'hace años que tomo cafe hecho con mi bodum en este tiempo se me han roto varias veces las jarras por lo delicado del cristal antes tenia que recorrer mas de 40 kim para encontrar un recambio ahora gracias amazon y a su rapidez las tengo en un par de dias en casa y a mejor precio que en los comercios habituales',\n",
       " 'me esperaba mucho mas tengo los subwoofer equivalentes a este pero los de hace 7 u 8 años y ahi si que pioneer ponia calidad tenian mayor suspension pegada y mil cosas mas estos son unos subwoofer super basicos parece que a pioneer no le interesa meter inversion en subwoofer ahora ',\n",
       " 'buenas tardes una vez perfectamente montado este perchero esta exageradamente torcido tan ladeado que hemos tenido que poner en la base de las patas unas piezas de fieltro pegadas en unas mas que en las otras para evitar que pareciese la torre de pisa por supuesto que colgando los abrigos en el lado mas cercano al suelo el perchero tiene el grave peligro de estamparse contra el suelo gajes del oficio un saludo montse pelegrin',\n",
       " 'compre en los chinos unos muy parecidos a un precio excelente o eso creia porque se mueve las puntas las tapas se rompen con facilidad asi que al final me volvi a los bic que es un producto de calidad y son los que tiene que utilizar mi nena en clases',\n",
       " 'tengo la misma opinion que con la puerta de los tres cerrojos hay contenidos de este libro que se repiten aqui y si has leido el anterior te resultara aburrido lo que no me gusta es que se mezcla un poco con otros temas no es fisica cuantica pura creo que la autora deberia sacar un libro para gente que busque mas nivel un libro que ya tenga en cuenta lo que ha explicado en los otros dos si es el primer libro de cuantica que lees te gustara ',\n",
       " 'la funda es de buena calidad con un grosor adecuado que proteje tanto del polvo como de algunos impactos con mi ultrabook acer de 15 6 pulgadas queda holgado algo que no me gusta entiendo que asi caben modelos de portatil mas gordos ',\n",
       " 'he tenido un modelo de batidora como estas durante 15 años espero que la nueva me dure otros tantos el unico inconveniente que le veom segun donde vivas es encontrar piezas de recambio cuchillas y vasos ',\n",
       " 'se usa para tapizar varias sillas del salon y demas y las primeras impresiones fueron muy buenas maquina robusta abuen precio una buena compra ',\n",
       " 'pensaba que iban a ser mas de batalla no estan mal pero tampoco excelente no creo que las cremalleras duren mucho',\n",
       " 'el producto me ha llegado roto lo he devuelto y he comprado otro producto en otro servidor vaya vergã¼enza ',\n",
       " 'creo que te deja entre ver el mundo de los negocios pasivos pero no acaba de concretar muchos puntos para crear un ingreso pasivo o te lo curras mucho o suerte ',\n",
       " 'aparentemente esta bien y tiene muchas cuerdas pero las de la zona inferior es dificil de utilizarlas ya que quedan a poco distancia del suelo eso si ocupa menos espacio que el horizontal de toda la vida ',\n",
       " 'me gustaria saber porque se me desconecta sola con lo cual si me llaman no vibra y si da la casualidad ddque esta conectada vibra solamente una vez si alguien sabe como poner para que vibre mas que me avise',\n",
       " 'la carcasa es tal y como la anuncian bonito diseño funcional y buen precio por dentro tiene departamentos como una cartera iimprencisdible para mi hija que no lleva bolso pero no sale sin el movil no le pongo 5 estrellas porque aunque llego dentro de la fecha señalada tardaron mucho por lo menos 3 semanas ',\n",
       " 'empezar a leer este libro y no poder parar es solo una te va introduciendo en la saga familiar poco a poco hasta que sin darte cuenta ya estas atrapada es una historia cercana por lo cotidiano y por lo conocido en cualquier pueblo de españa el uso por parte de la escritora de las palabras parece una combinacion sencilla y al final te das cuenta de su gran envergadura ',\n",
       " 'el producto es bueno pero no me fije en las medidas que era en pulgadas y me lleve un chasco cuando abri el producto',\n",
       " 'no se pueden conectar al ipad ni al iphone segui todos los pasos para ello pero nada de nada decepcion absoluta ',\n",
       " 'la longitud da de sobra para todo lo que quieras hacer al ser plano no se lia ni nada y tampoco se dobla con facilidad ya que tiende a estar horizontal buena calidad muy util buena velocidad de conexion y longitud adecuada para ponerlo donde quieras y mover el portatil o lo que tengas a cualquier sitio ',\n",
       " 'no es una destructora de documentos profesional pero cumple bien su funcion para uso domestico o un pequeño despacho no se puede pedir mucho mas por su precio ',\n",
       " 'hice dos pedidos y no estoy contento con ninguno la bateria para el portatil acer no llega ala hora de funcionamento yla bateria portatil exterior la carga dura 12 horas y a pesrar de ser de 30 000 luego no me sirve nada mas que para cargar la tablet una sola vez con lo cual no he quedado muy contento',\n",
       " 'compre este producto antes de leer un poco por internet y el s3 mini no esta preparado para hacer de host usb en cualquier caso el producto es de calidad en cuanto a los conectores materiales acabado etc ',\n",
       " 'si eres chispa y no te gusta tener mil alicates encima esta es la mejor solucion y bastante buena como se ve en la foto son por lo menos 3 alicates en uno sin contar la parte de crimpar y el pelacables es un alicate con la punta larga bastante en torno como unos alicates de punta cuya punta mide 5mm de ancho lo justo para que no te moleste mucho y poder llegar a sitios remotos donde un universal no llega luego tiene el agarre de un universal que eso siempre para manualidad viene bastante bien y tambien el recorte de los alicates de corte de mangueras que hace que cortes mangueras como si fuera churros tiene una pestañita que hace que no se habra por completo el alicate si no quieres usar el corte de mangueras y utilizarlo nada mas como alicate de punta fina la verdad que me lo pense bastante a la hora de comprarmelo ya que vale como casi dos alicates pero viendo lo bueno que son y que encima son aislados de 1000v me parece una compra muy recomendable ',\n",
       " 'el aparato funciona es decir puede que extienda algo la señal wifi pero el rendimiento de la misma es inaceptable puedes estar viendo webs y que tarde en cargar pero en el momento de visualizar videos en youtube o ver algun video a traves de red resulta imposible es mucho mas util un plc esto solo sirve para poca actividad de la wifi ',\n",
       " 'bastante floja se rompio sin mas a los dos dias de estar puesta aparte las instrucciones de uso dejaban bastante que desear',\n",
       " 'excelente muy bueno muy emotivo bonita me ha encantado es una historia que te metes en ella y la vives felicitaciones',\n",
       " 'aunque tiene todos los ingredientes de un best seller y por lo tanto recurre a modos y temas que atraen al gran publico pero con un estilo no tan visto y unos personajes bien estudiados',\n",
       " 'por fin me han afilado mis cuchillos de ceramica lo unico que me gustaria que fuera mas facil sin tanto tiento en no apretar mas y mas rapido y que se pudiera afilar desde atras en todos los cuchillos aunque el mango fuera diferente gracias ',\n",
       " 'un complemento fantastico para el boon escurridor es una flor rigida que se ve muy graciosa y resulta muy comoda para colocar las tetinas y chupetes da un toque original a la cocina ',\n",
       " 'son comodas y transpiran bien nada mas que decir algo caras porque la verdad no le envidian nada a unas deportivas de running tipo decathlon etc pagas un poco la marca',\n",
       " 'por lo que veo en otros comentarios estas baterias son una loteria o te van genial o muy mal en mi caso la llevo usando desde agosto y no he tenido ningun problema es duradera y carga rapido no se puede pedir mas ',\n",
       " 'el color de la pantalla led es muy poco intenso se ve poco el material del pulxiosimetro se ve con un plastico de no muy buena calidad ',\n",
       " 'es una bailarina de calidad pero es muy estrecha me lo quede pensando que con el uso se ensancharia pero al final tuve que llevarlo al zapatero para que la pusiera en la horma y asi y todo sigue apretando solo la recomendaria para pies muy delgados ',\n",
       " 'no coge 4g de ninguna de las maneras por lo que me han comentado se debe al rango de frecuencias que utiliza ',\n",
       " 'cubo muy manejable y muy rapido tanto si eres iniciado en el manejo del cubo como si eres profesional este cubo te encantara porque es ligero y rapido en su movimiento no tiene pegatinas por lo que el problema de que se deteriore esta vencido es 100 recomendable para cualquier edad ',\n",
       " 'tiene bastantes bolsillos es grande resistente y para el gimnasio ideal buscaba una bolsa de estas caracteristicas me ha encantado ',\n",
       " 'una corta relacion de hechos en estado puro curiosa no obstante pues con unas pocas paginas demuestra como los hechos historicos son unos en tanto que la memoria que de ellos conserva la poblacion de un pais en un determinado punto de la historia puede coincidir en poco o en nada con la realidad una diferencia palpable entre historia y memoria historica ',\n",
       " 'discos blu ray 50 gb dvd 5 gb formato cine 2 35 1 resoluciin 1920 x 1080p sonido idiomas dts hd master 5 1 cast dts hd master 2 0 cast cat subtitulos ing fr extras teasers trailer making of escenas eliminadas titulo original los iltimos dias 2013 directores ilex pastor david pastor intirpretes quim gutiirrez josi coronado marta etura leticia dolera lluis villanueva mikel iglesias ivan massagui misica fernando velizquez duraciin 111 minutos los iltimos dias es una de esas peliculas que hace pasar un rato entretenido al espectador y poco mas la trama no es nada del otro mundo y la puesta en escena arranca de forma estupenda pero luego la pelicula resulta lenta y algo previsible las interpretaciones dejan bastante que desear exceptuando la de jose coronado uno de los pocos no catalanes que aparecen en la pelicula los efectos especiales estan bastante conseguidos aunque no llegan al nivel de producciones usa imagen la calidad visual de este film es excelente la nitidez esta presente en todos los planos tanto panoramicos medios como primeros no hay grano ni ruido y el color esta algo degradado de forma provocada de todos modos la imagen no deja de tener un aspecto muy digital sonido en algunos momentos podemos disfrutar de un sonido potente con un surround bien elaborado pero desgraciadamente estos son pocos en la mayoria del metraje el sonido transcurre en la parte frontal transmitiendo dialogos claros y equilibrados y un buen estereo ',\n",
       " 'teoricamente deberia tener capacidad de 20 000 ma y a eso hay que descontar la perdida en la transmision de la carga al movil pero como mucho llega a 15 000 ma utiles tiene cuatro indicadores de carga que se supone representan 1 4 cada uno de ellos de la carga total 5 000 ma pero con los dos primeros te puede hacer 3 buenas cargas en un note 3 pero si confias en que con los 2 restantes indicadores te va a volver hacer 3 cargas de eso nada como mucho 1 y media es muy pesado y necesitaras minimo 12 h para cargar la bateria de 20 000 ma en si el producto esta bien pero no cuentes con los 20 000 ma confia como mucho en 15 000 ma ',\n",
       " 'suficiente para sujetar libros diseño muy bonito aunque ante libros grandes y pesados se hace un poco escasa la sujeccion',\n",
       " 'el soporte funciona de maravilla sujeta perfectamente y de forma muy discreta estaba encantado con el hasta que un dia el telefono se me reinicio y me quedo con el simbolo de la marca un lg por mas que lo intente reparar no hubo manera al final acabo en un cajon y me compre otro le pegue otra chapita y continue con el al cabo de una semana el telefono se empezo a reiniciar de vez en cuando no diario pero a veces me lo encontraba reiniciado por la mañana entonces pense en el iman de la chapita y se lo quite problema resuelto lo peor fue cuando fui a mi telefono averiado y al ponerle la bateria y la tapa sin la chapita revivii en fin imanes y electronica no son buenos amigos ni tetrax y mi cuñada encantada con su nuevo smartphone revivido jejeje me lo tomo asi por que cabrearme no sirve de nada ',\n",
       " 'esta muy bien sobre todo si tienes la bateria viciada xd cargar el movil y la bateria de repuesto es muy comodo y ahorra mucho tiempo ',\n",
       " 'cumplen su misiin aunque no podamos pedir que sean de la calidad de los mejores ya que tampoco el precio es el mismo',\n",
       " 'la funda lo protege bien pero no ajusta nada bien y se queda abierto por los bordes como si no fuera de su tamaño tuve q cortar la tapa del cargador porque siempre estaba abierta',\n",
       " 'el producto es lo que esperaba de acuerdo con la descripcion ha llegado rapido y satisfactoriamente ya lo tengo montado y fincionando ',\n",
       " 'lo unico malo es que tienes que ir a la pagina web del fabricante para saver las medidas exactas y ver si es lo que buscas por lo demas perfecto',\n",
       " 'buenas tardes en general buena compra envio rapido buena calidad de sonido y emparejan rapido con el movil calidad precio bien el problema es que la tv que tiene bluetooth no consigo que empareje con los auriculares que me recomendais gracias',\n",
       " 'es una buena camara sin olvidarnos del precio que tiene la optica zeiss es una garantia y el estandar hd lo cumple como punto a favor puede grabar en 50p y permite con 50i grabar de forma dual mp4 de baja resolucion para visionado en cualquier dispositivo o enviar por correo por ejemplo en contra permite muy pocos ajustes siendo casi todo automatico que en alguna ocasion no interesa en definitiva muy buena calidad en relacion a su precio los materiales evidentemente justos de calidad da la impresion de que te la vas a cargar pero resisten otro punto a favor su poco peso y su estabilizador permiten hacer buenas grabaciones sin necesidad de tripode el zoom tambien me ha gustado ',\n",
       " 'buen disco duro de calidad y bastante memoria de almacenamiento buena marca y buen producto en definitiva cumpliendo a la perfeccion son su funcionabilidad ',\n",
       " 'es muy grande pero a cambio gran capacidad el problema cuando no llevas chaqueta ya que es dificil de llevar en el bolsillo del pantalon',\n",
       " 'la primera novela es alucinante aunque algo previsible la segunda esta muy bien pero la tercera es bastante mas floja ',\n",
       " 'esta bastante completo y es mas barato que los libros de examenes oficiales recomiendo su compla ademas viene con las keys',\n",
       " 'queda algo grande y se cae al caminar y la cinta que lleva alrededor no se puede graduar para apretar ',\n",
       " 'este libro es como ha comentado otra lectora una mezcla de 50 sombras de grey y beautiful bastard pero sin conseguir los aciertos de estos libros el protagonista es joven muy sexy muy muy arrogante y muy muy rico y poderoso ella es joven optimista y en ocasiones bastante falta de personalidad se encuentran y surge una relacion tipo beautiful bastard pero sin sus divertidos y elaborados dialogos con todo al principio la historia resulta atractiva y entretenida pero a medida que avanza el libro surgen unos cuantos peros la relacion acaba siendo un si tu me dices ven lo dejo todo pero sin la necesidad de que el mueva un solo dedo solo con mirarla un poco mas de personalidad en los personajes femeninos se agradeceria aunque se vuelvan locas de pasion ha seguido la linea de 50 sombras de grey en el sentido de ir describiendo el dia a dia de ella desde que se despierta hasta que se acuesta detalladamente y esto a veces se hace muy pesado y excesivo llega un momento en que los capitulos son sucesiones de escenas de sexo todas practicamente iguales con la diferencia de que van introduciendo juguetes y avanza en la linea del bondage es demasiado largo el argumento se podria contar en la mitad de paginas sin tener que describir todo con tanto detalle se resta agilidad a la lectura y tampoco suceden tantas cosas esto llega a ser cargante las historias de los protagonistas secundarios se dejan muy de lado me parece que se esta abusando de las trilogias y las segundas partes en esta novela toda la historia se podia haber contado en un solo libro aunque hubiera sido extenso y mas caro parece absurdo rellenar paginas y paginas para publicar mas de un libro y tener mas tiempo de pensar como llegar a un final solo al final de libro la historia se agiliza para dejarte enganchado de cara a la segunda parte eso si lo ha conseguido',\n",
       " 'es una novela muy interesante muy bien argumentada te entretiene desde el principio a fin no le he dado 5 estrellas aunque merecidas por el final aunque da una serie de razones bien documentadas doctoral mente para mi es un final cogido por los pelos salvando ese detalle la recomiendo totalmente ',\n",
       " 'compre esta funda para un apple ipad mini de primera generacion tras 9 meses de uso de marzo a diciembre de 2015 la funda ha aguantado bastante bien no ha perdido el color y solo se ha roto una de las esquinas debido al uso diario por ello he adquirido una nueva unidad de este producto adjunto fotografias de su estado actual se puede observar que su estado en general es bueno teniendo en cuenta el tiempo que se ha usado mi valoracion final del producto es bastante positiva no es la primera funda que compro para este dispositivo y las anteriores no habian durado mas de 2 meses en ese tiempo se decoloraban o destruian literalmente ',\n",
       " 'los enchufes salen mas facil de los diapositivos que los cables originales pero el cable y los enchufes parecen estables ',\n",
       " 'deja charcos de agua no se si es un fallo de diseño o de mi aparato ',\n",
       " 'fue para probar si tenia roto el movil o la bateria era el movil fue para probar si tenia roto el movil o la bateria era el movil fue para probar si tenia roto el movil o la bateria era el movil',\n",
       " 'es bonito gusta a la gente se quedan preguntando donde lo he conseguido se puede fardar de ser cliente vip de bmw muy deportivo ',\n",
       " 'funciona bien envio rapido todo como esperaba ',\n",
       " 'muy buen material se nota la calidad ante otras opciones mas economicas que no recomiendo esta es una compra perfecta',\n",
       " 'lo dicho muy buen disipador es algo alto pero no tanto como otros la temperatura respecto al de serie a bajado entorno a los 15 grados el ventilador es bastante silencioso apenas se escucha funcionando a maximo rendimiento y el precio la verdad entorno a unos 8 euros mas barato que otros similares a otras marcas por eso lo recomiendo 100 ',\n",
       " 'el aparato no esta mal parece que hace su funcion y no es muy ruidoso falta ver con el paso del tiempo lo que dura un fallo grande que encuentro que tiene es que no tiene ruedas ni tampoco hay opcion a comprarselas a menos que hagas alguna chapuza en el aparato yo me entere una vez que lo tuve en casa por lo que si lo tienes que pasar de un lado a otro es un poco incomodo ya que no es muy ligero eso sumado a que el asa de transporte se ve poco consistente me hace presagiar que en poco tiempo se acabara rompiendo me paso lo mismo con otro modelo de orbegozo que tenia que se me partio el asa transportandolo deberian haber solucionado el problema del asa ya que no es algo nuevo en la marca otro aspecto negativo que le veo es que no se para cuando llega al limite de humedad seleccionado si no que el ventilador sigue funcionando y solo se para el compresor el anterior que tenia se paraba por completo al bajar el nivel de humedad seleccionado si es para un baño o espacio no muy grande lo volveria a comprar si para algo mas grande o para pasarlo de una estancia a otra no un truco por si a alguien le sirve de algo a veces parece que el aparato hace mas ruido de lo normal pero si sacas el deposito del agua y lo vuelves a meter se va el ruido supongo que es algo que no encaja bien ',\n",
       " 'perfecto lo he estado utilizando en mi viaje a paris con una sjcam y es una maravilla el unico pero es que es demasiado grande cuando esta recogido por lo demas todo genial ',\n",
       " 'leer a guy delisle tiene la magica recompensa de trasladarnos de primera mano a una zona y poder conocer esas pequeñas situaciones que acontecen en el dia a dia la mirada de delisle va acompañada de una mezcla entre la realidad del lugar y de sus gentes con la experiencia que tienen tanto el como su familia viviendo en un pais extranjero la combinacion entre los dibujos y el texto hace siempre imprescindible y extraordinaria la obra de delisle guy delisle viaja una vez mas a un destino acompañando a su mujer que trabaja para medicos sin fronteras la historica jerusalen es el destino que le ha tocado a la mujer de delisle y como en cronicas birmanas para alli va la familia delisle con sus hijos para realizar dos tipos de proyectos mientras la mujer trabaja para la organizacion internacional delisle va tomando apuntes y dibujando sobre las experiencias que acontecen en sus vidas el presente libro esta dividido en meses a lo largo del comic vamos experimentando el tiempo y los hechos que acontecen desde su llegada hasta el abandono de jersusalen en todo ese espacio de tiempo ocurren infinidad de situaciones y encuentros en la vida de delisle situaciones cotidianas como el ir a pasear con sus niños y llevarlos a la escuela o el parque se convierten en algo que da un humanismo especial al presente libro e historia tambien hay mucho espacio en el libro para viajar y perderse al callejear por viejas calles de ciudades historicas los encuentros con expatriados y religiosos se cruzan con algunas visitas a espacios donde viven los integristas ultraortodoxos judios ',\n",
       " 'son unidades poco practicas y seguras ya que la unidad de memoria se queda enganchada dentro y no pudo sacarla ',\n",
       " 'se ajusta perfectamente al telefono el tacto es muy agradable es lo mas parecido a no tener funda de las que he probado ',\n",
       " 'calidad precio estupendo lo compre por 28 euros de oferta en amazon si es sin oferta que son 50 euros me parece caro no creo que tenga tanta calidad como para valer eso los materiales no son de mucha calidad por 28 euros esta bien hace su funcion',\n",
       " 'ligera con buena luz aunque no tanto como sus hermanas mayores y utiliza una sola bateria que dura muchisimo en general una compra excelente ',\n",
       " 'no se fija bien en el carrito y se cae facilmente no la recomiendo en absoluto tengo un silver cross pionner',\n",
       " 'estupendo funciona perfecto viene configurado para windos lo formatee para mac y fue muy sencillo y rapido 1tb thosiba y a ese precio no se puede pedir mas',\n",
       " 'venia sin tapas y con alguna mancha aunque lo normal para ser de 2âº mano el problema es que al ser diccionario de ingles ingles algunas palabras para ellos son tan obvias que no llevan fonetica',\n",
       " 'comodo para jugar durante horas cable lo suficiente para no estar pegado a la television simpatico con las luces de colorres',\n",
       " 'la pulsera esta genial el grosor esta bien se adapta correctamente a la muñeca y el sistema de sujecion esta bastante bien fallitos quiza estuvieraa bien que el menu de la hora se ponga en vertical para verla mejor no tiene importancia el sistema de carga lo veo un poco fragil es por usb veremos si aguanta lo recomiendo relacion calidad precio excelente ',\n",
       " 'he adquirido esta bateria para el mac y la verdad es que me va bien y me he ahorrado un dinero ',\n",
       " 'es una narracion fascinante que nos transporta a otra epoca en la que la espada marca la diferencia entre la vida y la muerte la trama es verosimil y bien documentada los personajes resultan entrañables con unos caracteres bien definidos y la ambientacion esta muy cuidada con una minuciosa descripcion de los lugares el episodio historico esta muy bien fundido con la ficcion hasta el punto de que no reconoces lo real de lo irreal por todo esto encuentro su lectura muy entretenida y recomendable ',\n",
       " 'me ha sorpendido mucho la calidad del casco en relacion al precio cogi la talla m y me va perfecto lo recomiendo 100 ',\n",
       " 'me gusta los materiales de fabricacion ya que son resistentes para su valor un excelente articulo y lo recomiendo ampliamente',\n",
       " 'la sudadera esta bien pero no se por que las tallas son bastante mas pequeñas de lo normal no reclamare y se la regalare a mi hijo',\n",
       " 'esta bien se ajusta a lo esperado a la vez embrutece un poco la linea del telefono en lineas generales es un buen producto ',\n",
       " 'llego bien todo correcto ojo que a mi me vino sin pilas ni indicacion de cual usar es una ag10 de las pilas de boton las de 1 5v ',\n",
       " 'queda muy bonita tardo muy poco en enviarla los colores en realidad son un poquito menos llamativos pero son preciosos ',\n",
       " 'un diccionario es un diccionario es tal y como lo esperaba pero envio rapido y correcto ',\n",
       " 'calidad precio malo lo puedes comprar mucho mas barato lo tuve que cortar no recomendable para jetta 2005 golf o pasat',\n",
       " 'polariza por zonas me da mejor resultado el zeus de 20â el problema adicional es que para devolverlo hay que enviarlo a alemania ',\n",
       " 'para cambiar 3 o 4 aceites al año merece la pena no es muy rapida extrayendo no vale para uso profesional pero a nivel de un particular esta bien ',\n",
       " 'el mango d se solto al abrir vi que era una pieza da plastico partica y que el potenciometro esta sujeto solo por un tornillo he tenido que a fijar la pieza con nural y sujetar mejor el potenciometro ya que es un punto de apollo del timon referente a potencia empuje esta bien pero el producto se puede mejorar en varios puntos ',\n",
       " 'francamente me ha sorprendido para bien reune las condiciones de un secador basico y practico creo que no se puede pedir mas por el precio que se oferta ',\n",
       " 'la compra muy bien pero la mesa esta bastante manchada parece que era una de exposicion la cinta de la mesa no estaba y ademas parece que la habian arrancado uno de los agujeros del remache estaban abiertos y cortantes no la he devuelto por el follon que implica la mesa si es lo que queria pero nueva ',\n",
       " 'es un libro que cuenta poca cosa parece como que ha sido escrito usando la wikipedia de fuente principal pero da el pego es autoeditado y se nota ',\n",
       " 'elegi este juego de tintas para los nuevos sellos de mis hijos es dificil empapar los sellos de tinta hay que hacer mucha presion pues sino las imagenes estampadas quedan a medias o falta tinta o esta seca el caso es que no ha merecido la pena comprarlo ',\n",
       " 'he comprado dos aparatos iguales para mi y para otra persona no soy un experto en este tipo de producto pero creo que tiene una buena relacion calidad precio funciona perfectamente con un buen diseño buena luminosidad y sirve para hablar por telefono que parece que ahora los telefonos son para otra cosa todo bien ',\n",
       " 'mejor d lo esperado cumple con creces todas mis espectativas d control d carreras sorpresa agradable para su precio relativamente bajo',\n",
       " 'una buena novela landscape totalmente recomendable su lectura me encantan los libros ambientados en la india y este sin duda es uno mas para la coleccion ',\n",
       " 'hola buenas tardes me gustaria saber si la black berry curve 9320 tiene para 4g de internet gracias un saludo',\n",
       " 'no ha sido lo que esperaba no me ha gustado pero para saber hay que leerlo ha sido una lastima',\n",
       " 'un pequeño y gran producto lo escucho a todas horas y en todas partes de mi casa la bateria me dura como minimo 8 horas potencia musical de sobra sintonizador digital muy bueno no es un pll pero se acerca buena relacion señal ruido enhorabuena para el ingeniero que lo diseño yo le echo en falta un asidero para llevarlo de un sitio a otro ',\n",
       " 'funciona perfectamente y la garantia viene incluida venia un poco descargado pero con la carga completa le sobra para cargar mi movil de 0 a 100 ',\n",
       " 'el terminal telefonico es muy sencillo pero funciona muy bien y se instala sin problemas y rapidamente es agradable y la presentacion es buena el precio es tambien muy bueno el plazo de entrega fue muy corto creo que dos o tres dias laborables ',\n",
       " 'la calculadora es perfecta el manual es cortito recomiendo su compra perfecta para estudiantes y profesores muy contento con su compra ',\n",
       " 'i have been the law of attraction believer for years and this book says it all i have accomplished most of my goals using gratitude this book has taught me how to be a grateful person and i implement gratitude in my life as much as i can gratitude has brought me the man of my life my dream job and other small things i highly recommend this book if you want to achieve your goals and improve your life ',\n",
       " 'lo que a mi me ha llegado no es lo que se ve en la foto o lo que valoran otros compradores yo voy a comentar lo que a mi me ha llegado en mi salero la tapa cierra mal se queda levantada y lo peor de todo son los dos tornillos que la sujetan que estan casi herrumbosos como envejecidos y que seguro se oxidan con el paso del tiempo porque no tienen tratamiento alguno contra el oxidos pues son tornillos de los malos decepcionado con la compra en relacion al coste del producto no lo recomiendo ',\n",
       " 'esta bastante bien teniendo en cuenta el precio es un poco complicado su montaje pero una vez montado queda bastante chulo ',\n",
       " 'como siempre las compras en amazon son de confianza esto es un simple cable para conectar un pendrive a una taqblet asi que no hay mucho mas misterio pero el envio fue espectacuilarmente rapido estoy contenta',\n",
       " 'muy buen producto en todos los sentidos rasura sin cortar muy seguro y funciona a la perfeccion es muy aconsejable',\n",
       " 'acabo de recibir la pelicula y la descripcion que aparece no es correcto pues no es bluray dvd si no para mi grata sorpresa es bluray 2d bluray 3d y al disponer de tv 3d podre disfrutarla a un precio muy asequible al ser ambos cd blurays',\n",
       " 'ponia 50 pag y hay 25 supongo que han contado la doble cara espero que la proxima vez lo especifiquen por favor ',\n",
       " 'funciona y tiene su punto pero tambien algunos puntos flojos pro la pinza el tacto y el hecho de que resista salpicones de agua la calidad de audio es bastante buena con unos auriculares medio decentes claro con su respuesta es bastante lenta pulsaciones duras y llevan un tiempo en reaccionar a los botones pasar entre cancion y cancion se nota bastante el menu puede ser complicado lleva un rato hacerse con el y encontrar el modo reproduccion al azar vital para mi ',\n",
       " 'compre este teclado con ciertas dudas porque lo queria conectar con mi tablet bq y no viene en las especificaciones del producto pero a funcionado perfectamente y probandolo con varios dispositivos se conecta tambien ipad telefono etc buen tamaño y poco peso cumple mis expectativas perfectamente ',\n",
       " 'envio rapido quedan perfectas son muy comodas el color esta genial es marron color tabaco bien embaladas un acierto en la compra ',\n",
       " 'yo siempre calzaba sandalias de teva pero duran poco con un uso intensivo he comprado ecco por primera vez y la verdad son mas comodas que los de teva pero falla el apoyo hacia los lados cuando andes por una cuesta lateral es un poco como les pasa a los teva con pies mojados ya os contare si duran mas ',\n",
       " 'el equipo es un conmutador simple sin mas a su favor esta que no requiere alimentacion externa en contra que a veces no responde correctamente a la conmutacion automatica del dispositivo conectado ',\n",
       " 'gracias china sois unos incomprendidos pero yo veo lo mucho que currais ahora podre mear y hacer un edit superguapo para el mundo entero ',\n",
       " 'como no tenia fuegos muy grandes me viene perfecto para hacer paellas o guisos lo que buscaba simplemente un acierto ',\n",
       " 'decepcionado y encima me dieron a entender que por ese precio tenia que aguantarme cuando resulta que he encontrado otra cerradura de otro fabricante que se llama keyless lock la cual es mas barata con sistema de desbloqueo de seguridad para mayor tranquilidad mejores materiales y hasta con cinco años de garantia con lo que estoy muy tranquilo y satisfecho volviendo a remock lockey el plastico de los mandos parece mantequilla y tuve que gastar casi un rollo de cinta para adecentarlo hecho en falta y que que es muy importante un sistema de desbloqueo la cerradura se quedo sin pilas y por casi tuve que dormir en la calle tuvimos que abrir un agujero en la pared para desbloquearla desde dentro las reclamaciones no sirven de nada pues me reemplazaron hasta dos de estas cerraduras no sin dejar de insistirles y rogarles la tercera cerradura que quise que me cambiaran al final desisti porque pasaron meses desde la reclamacion y a dia de hoy no he obtenido respuesta alguna yo sigo creyendo que los piratas aun existen ',\n",
       " 'lo consider un poco basico pero suficiente si te estas inciando en trairunnig o para senderismo calidad precio es muy interesante ',\n",
       " 'y a un precio inmejorable abriga un monton y es muy ligera y resistente al viento recomendable para dias frios de invierno ',\n",
       " 'tal como mustran en las fotos y especificaciones muy buena calidad de papel se demoro un poco mas dw la fecha prevista pero contestaron enseguida',\n",
       " 'la escucha de este disco ha sido una de las experiencias mas satisfactorias y placenteras que he experimentado en los ultimos años una voz perfecta unos acompañamientos orquestales perfectos y una grabacion sobresaliente â se puede pedir mas y encima esa foto de portada como de primera comunion desde luego todavia hay esperanza para este pais si somos capaces de producir sopranos de este calibre â bravo nuria ',\n",
       " 'podian indicar que viene sin funda y es necesario comprarla ya que el cojin es como de caucho y no es muy comodo ',\n",
       " 'no me gusta nada cuentos de un minuto masque eso son anecdota como si yo resumirse alguna cosa que ha hecho mi hijo en el dia de hoy eso si el libro es gordo y va poniendo el dia y el mes para leer el cuento y un marcapaginas personalmente no es una buena compra ',\n",
       " 'la camara es espectacular tanto en su facilidad de manejo como en los resultados obtenidos esto no es una opinion original sus usuarios lo saben bien pero mi alegria por la compra se ha visto empañada por recibir la camara con un manual en aleman tratar de conseguirlo igual en español sigo esperando inutilmente una respuesta de amazon a mi ultimo correo ',\n",
       " 'aunque aun no me he hecho bien con la camara estoy entusiasmado con ella tiene muchas posibilidades pero es mas sencilla de manejar de lo que puede parecer ',\n",
       " 'quiza para mi no es el mejor pero si te gusta este grupo es indispensable tenerlo en tu coleccion es un disco notable ',\n",
       " 'cumple todas sus funciones a la perfeccion el diseño de la pantalla principal un poco basico si lo apago con el teclado no se enciende con el teclado me permite utilizar la tv como si fuera un ordenador',\n",
       " 'todo correcto un envio muy rapido y addemas cubre todas mis espectativas llego muy bien embalado lo aconsejaria a mis amigos ',\n",
       " 'he disfrutado mucho con el libro es un poco culebron pero a mi me gusta este tipo de historias seguire leyendo libros de esta autora ',\n",
       " 'es una piñata muy bonita pero el carton es demasiado duro y no hay forma de que caigan los caramelos tuvimos que romperla manualmente ',\n",
       " 'porfavor si se puede que me cambies ese por otro de 15 metros en vez de 10 metros gracias mucho',\n",
       " 'porcelana el clable viene pelado de unos 14 cm de largo y listo para conectar el envio ha sido rapido y bien embalado 250v y 2a gu10',\n",
       " 'fantasticas prestaciones y excelente calidad de fotografia entrega del articulo muy rapida las camaras panasonic lumix compactas son muy recomendables y la relacion calidad precio es insuperable ',\n",
       " 'muy bonito vino mas rapido de lo que yo esperaba la calidad no es muy buena pero por ese previo esta bien',\n",
       " 'no se mueve nada en el coche y queda bien encajado en la rejilla tanto para moviles grandes como pequeños',\n",
       " 'cumple con la expectativas esperadas igual que cualquier otra de las mismas caracteristicas y que sea mas cara simplemente por la marca ',\n",
       " 'correcto podria ser mas sofisticado pero cumple con lo anunciado motor y aspecto al que tengo para los pelos de orejas y nariz el que tengo para las cejas y una afeitadora mini que van perfectamente este tiene una ventaja lleva dos pilas baterias ',\n",
       " 'rapido y bien en todos los aspectos biene por coreeo postal a españa si lo pides por envio normal ',\n",
       " 'cumple perfectamente las espectativas gran calidad de acabado y se ajusta perfectamente al terminal la tapa es algo mas gruesa de lo habitual pero tambien mas rigida otorgando por tanto mayor nivel del proteccion ',\n",
       " 'me vino una pieza rota que tuve que pegar con pegamento para poder utilizarla cosa que en un articulo nuevo no me hizo ninguna gracia ',\n",
       " 'en cuanto a la presentacion han intentado imitar el formato lp bien documentado fotografias buen trabajo el sonido es un poco agudo estridente faltan graves permite diferenciar los instrumentos con mayor claridad pero puede resultar algo chirriante',\n",
       " 'pero tienen la puntita un poco fina si es para niños y van a rellenar dibujos o para clases y la gente esta un poco lejos mejor pillar unos con la punta mas gorda los colores son correctos son como los que se ven en los tapones ',\n",
       " 'llegaron muy pronto y en buen estado se escuchan fenomenal y son confortables para hacer deportes y son ligeros casi ni se notan',\n",
       " 'compre tres y una de ellas al cabo de 1 mes en mi sansung galaxy dejo de reponder no hubo manera de recuperarla se rompio ',\n",
       " 'esperaba algo mas del producto funcionar lo que se dice funcionar funciona pero tiene muchas interferencias a pesar de la corta distancia entre emisor y receptor la celula de infrarojos no sirve para nada ya que desde el punto de repoduccion no pueden cambiarse los canales no es un producto recomendable ',\n",
       " 'la calidad del producto aceptable pero demasiado pequeño encaja perfectamente en la zapata de accesorios y el nivel esta correcto lo unico que le falla es el tamaño de la burbuja que haberes se hace dificil para ajustar ',\n",
       " 'cumple su proposito habia comprado alguno de los chinos y este es mucho mejor compra recomendada hay opciones mas baratas pero de mala calidad',\n",
       " 'no es dificil usarla no queda del todo bien porq no es como la spirulina claro por eso es mas baratita para de vez en cuamdo si q vale ',\n",
       " 'rolser es una gran marca con este carro que no pesa nada puedes subir facilmente las escaleras gran capacidad de cavida muy satisfecha ',\n",
       " 'para mi es el complemento que falta en el moto g hace un servicio perfecto aunque el precio es elevado',\n",
       " 'la imagen es perfecta el color es el adecuado pero a la hora de montaje es horrible deja mucho que desear por el precio que tiene 41 5â podria ser mejor la verdad esperava mucho mas de la marca ',\n",
       " 'muy buen producto de las diferentes marcas que he probado son de los mejores muy buena calidad en el pigmento suaves y vibrantes quedan muy bonitos y sobretodo se mezclan muy bien constantemente capa a capa no se saturan no le doy mas estrellas porque no llego certificado cosa que me extraño lo dejaron fuera del buzon porque no cabia el paquete no se extravio de milagro ',\n",
       " ...]"
      ]
     },
     "execution_count": 19,
     "metadata": {},
     "output_type": "execute_result"
    }
   ],
   "source": [
    "features_limpias2"
   ]
  },
  {
   "cell_type": "code",
   "execution_count": 13,
   "metadata": {},
   "outputs": [],
   "source": [
    "df_amazon['comentarios_limpios']=features_limpias2"
   ]
  },
  {
   "cell_type": "code",
   "execution_count": 16,
   "metadata": {},
   "outputs": [],
   "source": [
    "df_amazon.to_pickle('amazon.pickle')"
   ]
  },
  {
   "cell_type": "code",
   "execution_count": 4,
   "metadata": {},
   "outputs": [],
   "source": [
    "df_amazon = pd.read_pickle('amazon.pickle')"
   ]
  },
  {
   "cell_type": "code",
   "execution_count": 7,
   "metadata": {},
   "outputs": [
    {
     "data": {
      "text/html": [
       "<div>\n",
       "<style scoped>\n",
       "    .dataframe tbody tr th:only-of-type {\n",
       "        vertical-align: middle;\n",
       "    }\n",
       "\n",
       "    .dataframe tbody tr th {\n",
       "        vertical-align: top;\n",
       "    }\n",
       "\n",
       "    .dataframe thead th {\n",
       "        text-align: right;\n",
       "    }\n",
       "</style>\n",
       "<table border=\"1\" class=\"dataframe\">\n",
       "  <thead>\n",
       "    <tr style=\"text-align: right;\">\n",
       "      <th></th>\n",
       "      <th>comentario</th>\n",
       "      <th>estrellas</th>\n",
       "      <th>valoracion</th>\n",
       "      <th>comentarios_limpios</th>\n",
       "    </tr>\n",
       "  </thead>\n",
       "  <tbody>\n",
       "    <tr>\n",
       "      <th>0</th>\n",
       "      <td>Para chicas es perfecto, ya que la esfera no e...</td>\n",
       "      <td>4.0</td>\n",
       "      <td>1</td>\n",
       "      <td>para chicas es perfecto ya que la esfera no es...</td>\n",
       "    </tr>\n",
       "    <tr>\n",
       "      <th>1</th>\n",
       "      <td>Muy floja la cuerda y el anclaje es de mala ca...</td>\n",
       "      <td>1.0</td>\n",
       "      <td>0</td>\n",
       "      <td>muy floja la cuerda y el anclaje es de mala ca...</td>\n",
       "    </tr>\n",
       "    <tr>\n",
       "      <th>2</th>\n",
       "      <td>Razonablemente bien escrito, bien ambientado, ...</td>\n",
       "      <td>3.0</td>\n",
       "      <td>0</td>\n",
       "      <td>razonablemente bien escrito bien ambientado qu...</td>\n",
       "    </tr>\n",
       "    <tr>\n",
       "      <th>3</th>\n",
       "      <td>Hola! No suel o escribir muchas opiniones sobr...</td>\n",
       "      <td>5.0</td>\n",
       "      <td>1</td>\n",
       "      <td>hola no suel o escribir muchas opiniones sobre...</td>\n",
       "    </tr>\n",
       "    <tr>\n",
       "      <th>4</th>\n",
       "      <td>A simple vista m parecia una buena camara pero...</td>\n",
       "      <td>1.0</td>\n",
       "      <td>0</td>\n",
       "      <td>a simple vista m parecia una buena camara pero...</td>\n",
       "    </tr>\n",
       "  </tbody>\n",
       "</table>\n",
       "</div>"
      ],
      "text/plain": [
       "                                          comentario  estrellas  valoracion  \\\n",
       "0  Para chicas es perfecto, ya que la esfera no e...        4.0           1   \n",
       "1  Muy floja la cuerda y el anclaje es de mala ca...        1.0           0   \n",
       "2  Razonablemente bien escrito, bien ambientado, ...        3.0           0   \n",
       "3  Hola! No suel o escribir muchas opiniones sobr...        5.0           1   \n",
       "4  A simple vista m parecia una buena camara pero...        1.0           0   \n",
       "\n",
       "                                 comentarios_limpios  \n",
       "0  para chicas es perfecto ya que la esfera no es...  \n",
       "1  muy floja la cuerda y el anclaje es de mala ca...  \n",
       "2  razonablemente bien escrito bien ambientado qu...  \n",
       "3  hola no suel o escribir muchas opiniones sobre...  \n",
       "4  a simple vista m parecia una buena camara pero...  "
      ]
     },
     "execution_count": 7,
     "metadata": {},
     "output_type": "execute_result"
    }
   ],
   "source": [
    "df_amazon.head()"
   ]
  },
  {
   "cell_type": "code",
   "execution_count": 6,
   "metadata": {},
   "outputs": [
    {
     "data": {
      "text/plain": [
       "array(['para chicas es perfecto ya que la esfera no es muy grande y la correa se adapta a las muñecas mas finas un pelin gordo para mi gusto la carga por movimiento no dura mucho despues de 1 2 dias sin llevarlo se para ',\n",
       "       'muy floja la cuerda y el anclaje es de mala calidad el metal se dobla muy facilmente no lo recomiendo',\n",
       "       'razonablemente bien escrito bien ambientado quizas previsible pero historia interesante los personajes estan muy bien dibujados me parece un libro recomendable ',\n",
       "       ...,\n",
       "       'si es un simple cargador muy bien de precio y funciona correctamente la verdad he de decir que me tenia un poco asustado pues tardo mucho pero lo importante es que al fin llego que era lo fundamental i entiendo la tardanza al venir desde tan lejos jijiji',\n",
       "       'si el producto no esta mal lo unico que no esta claro es en que posicion debe estar el boton para tener encendido el microfono',\n",
       "       'creo que es un aparato excelente y cumple todas mis expectativas aunque no sube las alfombras oscuras es un producto de calidad'],\n",
       "      dtype=object)"
      ]
     },
     "execution_count": 6,
     "metadata": {},
     "output_type": "execute_result"
    }
   ],
   "source": [
    "features2 = df_amazon.iloc[:, 3].values\n",
    "features2"
   ]
  },
  {
   "cell_type": "markdown",
   "metadata": {},
   "source": [
    "<a style='color:blue'> CONJUNTO TRAIN Y TEST"
   ]
  },
  {
   "cell_type": "code",
   "execution_count": 7,
   "metadata": {},
   "outputs": [],
   "source": [
    "X_train, X_test, y_train, y_test = train_test_split(features2, target, test_size=0.3, random_state=1987)"
   ]
  },
  {
   "cell_type": "code",
   "execution_count": 10,
   "metadata": {},
   "outputs": [
    {
     "name": "stdout",
     "output_type": "stream",
     "text": [
      "['los raviolis que hace son tan pequeño que apenas permite el relleno ademas dificil de usar es mas util para hacer pequeñas onzas de chocolate '\n",
      " 'aunque tiene muy buena pinta y parece muy robusto la verdad es que la pieza que se agarra a la ventilacion es demasiado fragil se queda en su sitio con un mecanismo de deslizar cuando intente ponerlo en el coche esa pieza ha saltado afuera y cayo dentro de la ventilacion ahora ni siquiera puedo retornarlo '\n",
      " 'era para un regalo el embalaje vino chafado y la verdad que me parece caro para un juguete pero era lo que queria la niña pagas la marca seguro que que hay cosas mejores en que gastar el dinero '\n",
      " ...\n",
      " 'el mejor regalo para un niño de 8 años y tambien para no tan niños es un excelente libro que combina fisiologia y anatomia de manera bastante atractiva mucho mejor que otros que he investigado y o comprado '\n",
      " 'el libro es pequeño pero el contenido es adecuado y esta bien estructurado tampoco podria esperar mas por ese precio tan reducido '\n",
      " 'llego el mismo dia el producto esta correcto lo unico que tenia mas brillo de lo que me esperaba ok ']\n",
      "[0 0 0 ... 1 0 1]\n"
     ]
    }
   ],
   "source": [
    "print(X_train)\n",
    "print(y_train)"
   ]
  },
  {
   "cell_type": "markdown",
   "metadata": {},
   "source": [
    "<a style='color:blue'> Transformación de texto en números"
   ]
  },
  {
   "cell_type": "code",
   "execution_count": 8,
   "metadata": {},
   "outputs": [],
   "source": [
    "#Stopwords limpia el contenido borrando palabras que no son útiles para la predicción\n",
    "stopwords1 = stopwords.words('spanish')"
   ]
  },
  {
   "cell_type": "code",
   "execution_count": 14,
   "metadata": {},
   "outputs": [
    {
     "name": "stdout",
     "output_type": "stream",
     "text": [
      "313\n"
     ]
    }
   ],
   "source": [
    "print(len(stopwords1))"
   ]
  },
  {
   "cell_type": "code",
   "execution_count": 17,
   "metadata": {},
   "outputs": [
    {
     "data": {
      "text/plain": [
       "['de',\n",
       " 'la',\n",
       " 'que',\n",
       " 'el',\n",
       " 'en',\n",
       " 'y',\n",
       " 'a',\n",
       " 'los',\n",
       " 'del',\n",
       " 'se',\n",
       " 'las',\n",
       " 'por',\n",
       " 'un',\n",
       " 'para',\n",
       " 'con',\n",
       " 'no',\n",
       " 'una',\n",
       " 'su',\n",
       " 'al',\n",
       " 'lo',\n",
       " 'como',\n",
       " 'más',\n",
       " 'pero',\n",
       " 'sus',\n",
       " 'le',\n",
       " 'ya',\n",
       " 'o',\n",
       " 'este',\n",
       " 'sí',\n",
       " 'porque',\n",
       " 'esta',\n",
       " 'entre',\n",
       " 'cuando',\n",
       " 'muy',\n",
       " 'sin',\n",
       " 'sobre',\n",
       " 'también',\n",
       " 'me',\n",
       " 'hasta',\n",
       " 'hay',\n",
       " 'donde',\n",
       " 'quien',\n",
       " 'desde',\n",
       " 'todo',\n",
       " 'nos',\n",
       " 'durante',\n",
       " 'todos',\n",
       " 'uno',\n",
       " 'les',\n",
       " 'ni',\n",
       " 'contra',\n",
       " 'otros',\n",
       " 'ese',\n",
       " 'eso',\n",
       " 'ante',\n",
       " 'ellos',\n",
       " 'e',\n",
       " 'esto',\n",
       " 'mí',\n",
       " 'antes',\n",
       " 'algunos',\n",
       " 'qué',\n",
       " 'unos',\n",
       " 'yo',\n",
       " 'otro',\n",
       " 'otras',\n",
       " 'otra',\n",
       " 'él',\n",
       " 'tanto',\n",
       " 'esa',\n",
       " 'estos',\n",
       " 'mucho',\n",
       " 'quienes',\n",
       " 'nada',\n",
       " 'muchos',\n",
       " 'cual',\n",
       " 'poco',\n",
       " 'ella',\n",
       " 'estar',\n",
       " 'estas',\n",
       " 'algunas',\n",
       " 'algo',\n",
       " 'nosotros',\n",
       " 'mi',\n",
       " 'mis',\n",
       " 'tú',\n",
       " 'te',\n",
       " 'ti',\n",
       " 'tu',\n",
       " 'tus',\n",
       " 'ellas',\n",
       " 'nosotras',\n",
       " 'vosotros',\n",
       " 'vosotras',\n",
       " 'os',\n",
       " 'mío',\n",
       " 'mía',\n",
       " 'míos',\n",
       " 'mías',\n",
       " 'tuyo',\n",
       " 'tuya',\n",
       " 'tuyos',\n",
       " 'tuyas',\n",
       " 'suyo',\n",
       " 'suya',\n",
       " 'suyos',\n",
       " 'suyas',\n",
       " 'nuestro',\n",
       " 'nuestra',\n",
       " 'nuestros',\n",
       " 'nuestras',\n",
       " 'vuestro',\n",
       " 'vuestra',\n",
       " 'vuestros',\n",
       " 'vuestras',\n",
       " 'esos',\n",
       " 'esas',\n",
       " 'estoy',\n",
       " 'estás',\n",
       " 'está',\n",
       " 'estamos',\n",
       " 'estáis',\n",
       " 'están',\n",
       " 'esté',\n",
       " 'estés',\n",
       " 'estemos',\n",
       " 'estéis',\n",
       " 'estén',\n",
       " 'estaré',\n",
       " 'estarás',\n",
       " 'estará',\n",
       " 'estaremos',\n",
       " 'estaréis',\n",
       " 'estarán',\n",
       " 'estaría',\n",
       " 'estarías',\n",
       " 'estaríamos',\n",
       " 'estaríais',\n",
       " 'estarían',\n",
       " 'estaba',\n",
       " 'estabas',\n",
       " 'estábamos',\n",
       " 'estabais',\n",
       " 'estaban',\n",
       " 'estuve',\n",
       " 'estuviste',\n",
       " 'estuvo',\n",
       " 'estuvimos',\n",
       " 'estuvisteis',\n",
       " 'estuvieron',\n",
       " 'estuviera',\n",
       " 'estuvieras',\n",
       " 'estuviéramos',\n",
       " 'estuvierais',\n",
       " 'estuvieran',\n",
       " 'estuviese',\n",
       " 'estuvieses',\n",
       " 'estuviésemos',\n",
       " 'estuvieseis',\n",
       " 'estuviesen',\n",
       " 'estando',\n",
       " 'estado',\n",
       " 'estada',\n",
       " 'estados',\n",
       " 'estadas',\n",
       " 'estad',\n",
       " 'he',\n",
       " 'has',\n",
       " 'ha',\n",
       " 'hemos',\n",
       " 'habéis',\n",
       " 'han',\n",
       " 'haya',\n",
       " 'hayas',\n",
       " 'hayamos',\n",
       " 'hayáis',\n",
       " 'hayan',\n",
       " 'habré',\n",
       " 'habrás',\n",
       " 'habrá',\n",
       " 'habremos',\n",
       " 'habréis',\n",
       " 'habrán',\n",
       " 'habría',\n",
       " 'habrías',\n",
       " 'habríamos',\n",
       " 'habríais',\n",
       " 'habrían',\n",
       " 'había',\n",
       " 'habías',\n",
       " 'habíamos',\n",
       " 'habíais',\n",
       " 'habían',\n",
       " 'hube',\n",
       " 'hubiste',\n",
       " 'hubo',\n",
       " 'hubimos',\n",
       " 'hubisteis',\n",
       " 'hubieron',\n",
       " 'hubiera',\n",
       " 'hubieras',\n",
       " 'hubiéramos',\n",
       " 'hubierais',\n",
       " 'hubieran',\n",
       " 'hubiese',\n",
       " 'hubieses',\n",
       " 'hubiésemos',\n",
       " 'hubieseis',\n",
       " 'hubiesen',\n",
       " 'habiendo',\n",
       " 'habido',\n",
       " 'habida',\n",
       " 'habidos',\n",
       " 'habidas',\n",
       " 'soy',\n",
       " 'eres',\n",
       " 'es',\n",
       " 'somos',\n",
       " 'sois',\n",
       " 'son',\n",
       " 'sea',\n",
       " 'seas',\n",
       " 'seamos',\n",
       " 'seáis',\n",
       " 'sean',\n",
       " 'seré',\n",
       " 'serás',\n",
       " 'será',\n",
       " 'seremos',\n",
       " 'seréis',\n",
       " 'serán',\n",
       " 'sería',\n",
       " 'serías',\n",
       " 'seríamos',\n",
       " 'seríais',\n",
       " 'serían',\n",
       " 'era',\n",
       " 'eras',\n",
       " 'éramos',\n",
       " 'erais',\n",
       " 'eran',\n",
       " 'fui',\n",
       " 'fuiste',\n",
       " 'fue',\n",
       " 'fuimos',\n",
       " 'fuisteis',\n",
       " 'fueron',\n",
       " 'fuera',\n",
       " 'fueras',\n",
       " 'fuéramos',\n",
       " 'fuerais',\n",
       " 'fueran',\n",
       " 'fuese',\n",
       " 'fueses',\n",
       " 'fuésemos',\n",
       " 'fueseis',\n",
       " 'fuesen',\n",
       " 'sintiendo',\n",
       " 'sentido',\n",
       " 'sentida',\n",
       " 'sentidos',\n",
       " 'sentidas',\n",
       " 'siente',\n",
       " 'sentid',\n",
       " 'tengo',\n",
       " 'tienes',\n",
       " 'tiene',\n",
       " 'tenemos',\n",
       " 'tenéis',\n",
       " 'tienen',\n",
       " 'tenga',\n",
       " 'tengas',\n",
       " 'tengamos',\n",
       " 'tengáis',\n",
       " 'tengan',\n",
       " 'tendré',\n",
       " 'tendrás',\n",
       " 'tendrá',\n",
       " 'tendremos',\n",
       " 'tendréis',\n",
       " 'tendrán',\n",
       " 'tendría',\n",
       " 'tendrías',\n",
       " 'tendríamos',\n",
       " 'tendríais',\n",
       " 'tendrían',\n",
       " 'tenía',\n",
       " 'tenías',\n",
       " 'teníamos',\n",
       " 'teníais',\n",
       " 'tenían',\n",
       " 'tuve',\n",
       " 'tuviste',\n",
       " 'tuvo',\n",
       " 'tuvimos',\n",
       " 'tuvisteis',\n",
       " 'tuvieron',\n",
       " 'tuviera',\n",
       " 'tuvieras',\n",
       " 'tuviéramos',\n",
       " 'tuvierais',\n",
       " 'tuvieran',\n",
       " 'tuviese',\n",
       " 'tuvieses',\n",
       " 'tuviésemos',\n",
       " 'tuvieseis',\n",
       " 'tuviesen',\n",
       " 'teniendo',\n",
       " 'tenido',\n",
       " 'tenida',\n",
       " 'tenidos',\n",
       " 'tenidas',\n",
       " 'tened']"
      ]
     },
     "execution_count": 17,
     "metadata": {},
     "output_type": "execute_result"
    }
   ],
   "source": [
    "#Aquí vemos las palabras que ha borrado para que no estorben en la predicción\n",
    "stopwords1"
   ]
  },
  {
   "cell_type": "code",
   "execution_count": 9,
   "metadata": {},
   "outputs": [],
   "source": [
    "#Transformamos los comentarios en un vector numérico. Entrenamos en train para luego transformar en train y test\n",
    "vector = TfidfVectorizer (max_features=2500, min_df=7, max_df=0.8, stop_words=stopwords1)\n",
    "X_train = vector.fit_transform(X_train).toarray()"
   ]
  },
  {
   "cell_type": "markdown",
   "metadata": {},
   "source": [
    "<a style='color:green'> Definimos que el maximo de features que elija para la matriz sea de 2500, lo que significa que suara solo las 2500 palabras mas frecuentes de todos los comentarios para crear la bolsa de palabras del vector. Las palabras que son menos frecuentes no son tan útiles para la clasificación.\n",
    "Max_df especifica que solo usará aquellas palabras que ocurran máximo en el 80% de los comentarios, asi mismo las palabras que aparecen en el 100% de los comentarios suelen ser comunes y tampoco aportan a la clasificación.\n",
    "Min_df le indica que debe escoger palabras que al menos ocurran en 7 comentarios."
   ]
  },
  {
   "cell_type": "code",
   "execution_count": 19,
   "metadata": {},
   "outputs": [
    {
     "data": {
      "text/plain": [
       "2500"
      ]
     },
     "execution_count": 19,
     "metadata": {},
     "output_type": "execute_result"
    }
   ],
   "source": [
    "len(X_train[1])#2500 features seleccionadas"
   ]
  },
  {
   "cell_type": "code",
   "execution_count": 27,
   "metadata": {},
   "outputs": [
    {
     "data": {
      "text/plain": [
       "0.47350511296713044"
      ]
     },
     "execution_count": 27,
     "metadata": {},
     "output_type": "execute_result"
    }
   ],
   "source": [
    "X_train[1].max()"
   ]
  },
  {
   "cell_type": "code",
   "execution_count": 10,
   "metadata": {},
   "outputs": [],
   "source": [
    "#Transformamos también el conjunto de test\n",
    "X_test=vector.transform(X_test).toarray()"
   ]
  },
  {
   "cell_type": "code",
   "execution_count": 47,
   "metadata": {},
   "outputs": [
    {
     "data": {
      "text/plain": [
       "<bound method BaseEstimator.get_params of TfidfVectorizer(analyzer='word', binary=False, decode_error='strict',\n",
       "        dtype=<class 'numpy.float64'>, encoding='utf-8', input='content',\n",
       "        lowercase=True, max_df=0.8, max_features=2500, min_df=7,\n",
       "        ngram_range=(1, 1), norm='l2', preprocessor=None, smooth_idf=True,\n",
       "        stop_words=['de', 'la', 'que', 'el', 'en', 'y', 'a', 'los', 'del', 'se', 'las', 'por', 'un', 'para', 'con', 'no', 'una', 'su', 'al', 'lo', 'como', 'más', 'pero', 'sus', 'le', 'ya', 'o', 'este', 'sí', 'porque', 'esta', 'entre', 'cuando', 'muy', 'sin', 'sobre', 'también', 'me', 'hasta', 'hay', 'donde'...tuviésemos', 'tuvieseis', 'tuviesen', 'teniendo', 'tenido', 'tenida', 'tenidos', 'tenidas', 'tened'],\n",
       "        strip_accents=None, sublinear_tf=False,\n",
       "        token_pattern='(?u)\\\\b\\\\w\\\\w+\\\\b', tokenizer=None, use_idf=True,\n",
       "        vocabulary=None)>"
      ]
     },
     "execution_count": 47,
     "metadata": {},
     "output_type": "execute_result"
    }
   ],
   "source": [
    "vector.get_params"
   ]
  },
  {
   "cell_type": "markdown",
   "metadata": {},
   "source": [
    "<a style='color:blue'> ESTANDARIZAMOS: Normalizando los datos"
   ]
  },
  {
   "cell_type": "code",
   "execution_count": 12,
   "metadata": {},
   "outputs": [],
   "source": [
    "scaler=StandardScaler()"
   ]
  },
  {
   "cell_type": "code",
   "execution_count": 13,
   "metadata": {},
   "outputs": [
    {
     "data": {
      "text/plain": [
       "StandardScaler(copy=True, with_mean=True, with_std=True)"
      ]
     },
     "execution_count": 13,
     "metadata": {},
     "output_type": "execute_result"
    }
   ],
   "source": [
    "scaler.fit(X_train)"
   ]
  },
  {
   "cell_type": "code",
   "execution_count": 14,
   "metadata": {},
   "outputs": [],
   "source": [
    "X_train_sc=scaler.transform(X_train)"
   ]
  },
  {
   "cell_type": "code",
   "execution_count": 16,
   "metadata": {},
   "outputs": [],
   "source": [
    "X_test_sc=scaler.transform(X_test)"
   ]
  },
  {
   "cell_type": "markdown",
   "metadata": {},
   "source": [
    "<a style='color:blue'> MODELOS"
   ]
  },
  {
   "cell_type": "markdown",
   "metadata": {},
   "source": [
    "<a style='color:blue'> MODELO 1: RANDOM FOREST"
   ]
  },
  {
   "cell_type": "code",
   "execution_count": 11,
   "metadata": {},
   "outputs": [],
   "source": [
    "gs_rfc=GSC(estimator=RFC(),\n",
    "          param_grid={'n_estimators':[200]},\n",
    "          cv=3,\n",
    "          verbose=5)"
   ]
  },
  {
   "cell_type": "code",
   "execution_count": 12,
   "metadata": {},
   "outputs": [
    {
     "name": "stdout",
     "output_type": "stream",
     "text": [
      "Fitting 3 folds for each of 1 candidates, totalling 3 fits\n",
      "[CV] n_estimators=200 ................................................\n"
     ]
    },
    {
     "name": "stderr",
     "output_type": "stream",
     "text": [
      "[Parallel(n_jobs=1)]: Using backend SequentialBackend with 1 concurrent workers.\n"
     ]
    },
    {
     "name": "stdout",
     "output_type": "stream",
     "text": [
      "[CV] ...... n_estimators=200, score=0.7872230085903944, total=114.3min\n",
      "[CV] n_estimators=200 ................................................\n"
     ]
    },
    {
     "name": "stderr",
     "output_type": "stream",
     "text": [
      "[Parallel(n_jobs=1)]: Done   1 out of   1 | elapsed: 115.8min remaining:    0.0s\n"
     ]
    },
    {
     "name": "stdout",
     "output_type": "stream",
     "text": [
      "[CV] ...... n_estimators=200, score=0.7902369679812573, total=113.3min\n",
      "[CV] n_estimators=200 ................................................\n"
     ]
    },
    {
     "name": "stderr",
     "output_type": "stream",
     "text": [
      "[Parallel(n_jobs=1)]: Done   2 out of   2 | elapsed: 230.5min remaining:    0.0s\n"
     ]
    },
    {
     "name": "stdout",
     "output_type": "stream",
     "text": [
      "[CV] ...... n_estimators=200, score=0.7873999414291293, total=114.0min\n"
     ]
    },
    {
     "name": "stderr",
     "output_type": "stream",
     "text": [
      "[Parallel(n_jobs=1)]: Done   3 out of   3 | elapsed: 345.9min remaining:    0.0s\n",
      "[Parallel(n_jobs=1)]: Done   3 out of   3 | elapsed: 345.9min finished\n"
     ]
    },
    {
     "data": {
      "text/plain": [
       "GridSearchCV(cv=3, error_score='raise-deprecating',\n",
       "       estimator=RandomForestClassifier(bootstrap=True, class_weight=None, criterion='gini',\n",
       "            max_depth=None, max_features='auto', max_leaf_nodes=None,\n",
       "            min_impurity_decrease=0.0, min_impurity_split=None,\n",
       "            min_samples_leaf=1, min_samples_split=2,\n",
       "            min_weight_fraction_leaf=0.0, n_estimators='warn', n_jobs=None,\n",
       "            oob_score=False, random_state=None, verbose=0,\n",
       "            warm_start=False),\n",
       "       fit_params=None, iid='warn', n_jobs=None,\n",
       "       param_grid={'n_estimators': [200]}, pre_dispatch='2*n_jobs',\n",
       "       refit=True, return_train_score='warn', scoring=None, verbose=5)"
      ]
     },
     "execution_count": 12,
     "metadata": {},
     "output_type": "execute_result"
    }
   ],
   "source": [
    "gs_rfc.fit(X_train,y_train)"
   ]
  },
  {
   "cell_type": "code",
   "execution_count": 13,
   "metadata": {},
   "outputs": [],
   "source": [
    "amazon_rfc=gs_rfc.best_estimator_"
   ]
  },
  {
   "cell_type": "code",
   "execution_count": 73,
   "metadata": {},
   "outputs": [],
   "source": [
    "with open(\"amazon_rfc.model\", \"wb\") as archivo_salida:\n",
    "    pickle.dump(amazon_rfc, archivo_salida)"
   ]
  },
  {
   "cell_type": "code",
   "execution_count": 74,
   "metadata": {},
   "outputs": [],
   "source": [
    "with open(\"amazon_rfc.model\", \"rb\") as archivo_entrada:\n",
    "    amazon_rfc = pickle.load(archivo_entrada)"
   ]
  },
  {
   "cell_type": "code",
   "execution_count": 27,
   "metadata": {},
   "outputs": [
    {
     "name": "stdout",
     "output_type": "stream",
     "text": [
      "Accuracy:78.89\n",
      "   Acierto un 78.89% de veces\n",
      "Recall:82.28\n",
      "   Capto el 82.28% de comentarios positivos\n",
      "Precisión:78.09\n",
      "   Cuando predigo un comentario positivo lo hago con un 78.09% de fiabilidad\n",
      "\n",
      "\n",
      "Matriz de confusión\n"
     ]
    },
    {
     "data": {
      "text/plain": [
       "array([[76558, 25162],\n",
       "       [19322, 89692]], dtype=int64)"
      ]
     },
     "execution_count": 27,
     "metadata": {},
     "output_type": "execute_result"
    }
   ],
   "source": [
    "metricas(model_amazon_rfc,X_test,y_test)"
   ]
  },
  {
   "cell_type": "code",
   "execution_count": 28,
   "metadata": {},
   "outputs": [
    {
     "name": "stdout",
     "output_type": "stream",
     "text": [
      "              precision    recall  f1-score   support\n",
      "\n",
      "           0       0.80      0.75      0.77    101720\n",
      "           1       0.78      0.82      0.80    109014\n",
      "\n",
      "   micro avg       0.79      0.79      0.79    210734\n",
      "   macro avg       0.79      0.79      0.79    210734\n",
      "weighted avg       0.79      0.79      0.79    210734\n",
      "\n"
     ]
    }
   ],
   "source": [
    "print(classification_report(y_pred=model_amazon_rfc.predict(X_test),y_true =y_test))\n"
   ]
  },
  {
   "cell_type": "code",
   "execution_count": 29,
   "metadata": {},
   "outputs": [
    {
     "data": {
      "text/plain": [
       "0.9994081901600937"
      ]
     },
     "execution_count": 29,
     "metadata": {},
     "output_type": "execute_result"
    }
   ],
   "source": [
    "model_amazon_rfc.score(X_train,y_train)"
   ]
  },
  {
   "cell_type": "markdown",
   "metadata": {},
   "source": [
    "<a style= 'color:green'>Se ha creado un Grid search para hacer conjuntos de validación y reducir el sobreajuste, aunque no se ha probado con distintos hiperparámetros porque da un fallo de memoria.\n",
    "Vemos aun asi que el modelo sobreajusta bastante dando un 99% en train y un 79% en test"
   ]
  },
  {
   "cell_type": "markdown",
   "metadata": {},
   "source": [
    "<a style='color:blue'> MODELO 2: LINEALES CON DESCENSO POR GRADIENTE ESTOCÁSTICO"
   ]
  },
  {
   "cell_type": "code",
   "execution_count": 12,
   "metadata": {},
   "outputs": [],
   "source": [
    "gs_sgdc=GSC(estimator=SGDC(),\n",
    "          param_grid={'penalty':['l1','l2']},\n",
    "          cv=3,\n",
    "          verbose=5)"
   ]
  },
  {
   "cell_type": "markdown",
   "metadata": {},
   "source": [
    "<a style='color:green'> Este modelo implementa modelos de regresión lineal estimando con descenso de gradiente estocastico, la perdida del gradiente se calcula en cada batch. El modelo que lo entrena es una support vector machine."
   ]
  },
  {
   "cell_type": "code",
   "execution_count": 51,
   "metadata": {},
   "outputs": [
    {
     "name": "stdout",
     "output_type": "stream",
     "text": [
      "Fitting 3 folds for each of 2 candidates, totalling 6 fits\n",
      "[CV] penalty=l1 ......................................................\n"
     ]
    },
    {
     "name": "stderr",
     "output_type": "stream",
     "text": [
      "[Parallel(n_jobs=1)]: Using backend SequentialBackend with 1 concurrent workers.\n",
      "C:\\Users\\pamej\\AppData\\Local\\Continuum\\anaconda3\\lib\\site-packages\\sklearn\\linear_model\\stochastic_gradient.py:166: FutureWarning: max_iter and tol parameters have been added in SGDClassifier in 0.19. If both are left unset, they default to max_iter=5 and tol=None. If tol is not None, max_iter defaults to max_iter=1000. From 0.21, default max_iter will be 1000, and default tol will be 1e-3.\n",
      "  FutureWarning)\n"
     ]
    },
    {
     "name": "stdout",
     "output_type": "stream",
     "text": [
      "[CV] ............. penalty=l1, score=0.7863505466614603, total= 1.0min\n",
      "[CV] penalty=l1 ......................................................\n"
     ]
    },
    {
     "name": "stderr",
     "output_type": "stream",
     "text": [
      "[Parallel(n_jobs=1)]: Done   1 out of   1 | elapsed:  1.1min remaining:    0.0s\n",
      "C:\\Users\\pamej\\AppData\\Local\\Continuum\\anaconda3\\lib\\site-packages\\sklearn\\linear_model\\stochastic_gradient.py:166: FutureWarning: max_iter and tol parameters have been added in SGDClassifier in 0.19. If both are left unset, they default to max_iter=5 and tol=None. If tol is not None, max_iter defaults to max_iter=1000. From 0.21, default max_iter will be 1000, and default tol will be 1e-3.\n",
      "  FutureWarning)\n"
     ]
    },
    {
     "name": "stdout",
     "output_type": "stream",
     "text": [
      "[CV] ............. penalty=l1, score=0.7873511323701678, total=  50.8s\n"
     ]
    },
    {
     "name": "stderr",
     "output_type": "stream",
     "text": [
      "[Parallel(n_jobs=1)]: Done   2 out of   2 | elapsed:  2.0min remaining:    0.0s\n"
     ]
    },
    {
     "name": "stdout",
     "output_type": "stream",
     "text": [
      "[CV] penalty=l1 ......................................................\n"
     ]
    },
    {
     "name": "stderr",
     "output_type": "stream",
     "text": [
      "C:\\Users\\pamej\\AppData\\Local\\Continuum\\anaconda3\\lib\\site-packages\\sklearn\\linear_model\\stochastic_gradient.py:166: FutureWarning: max_iter and tol parameters have been added in SGDClassifier in 0.19. If both are left unset, they default to max_iter=5 and tol=None. If tol is not None, max_iter defaults to max_iter=1000. From 0.21, default max_iter will be 1000, and default tol will be 1e-3.\n",
      "  FutureWarning)\n"
     ]
    },
    {
     "name": "stdout",
     "output_type": "stream",
     "text": [
      "[CV] ............. penalty=l1, score=0.7895597422881687, total=  47.1s\n"
     ]
    },
    {
     "name": "stderr",
     "output_type": "stream",
     "text": [
      "[Parallel(n_jobs=1)]: Done   3 out of   3 | elapsed:  2.8min remaining:    0.0s\n"
     ]
    },
    {
     "name": "stdout",
     "output_type": "stream",
     "text": [
      "[CV] penalty=l2 ......................................................\n"
     ]
    },
    {
     "name": "stderr",
     "output_type": "stream",
     "text": [
      "C:\\Users\\pamej\\AppData\\Local\\Continuum\\anaconda3\\lib\\site-packages\\sklearn\\linear_model\\stochastic_gradient.py:166: FutureWarning: max_iter and tol parameters have been added in SGDClassifier in 0.19. If both are left unset, they default to max_iter=5 and tol=None. If tol is not None, max_iter defaults to max_iter=1000. From 0.21, default max_iter will be 1000, and default tol will be 1e-3.\n",
      "  FutureWarning)\n"
     ]
    },
    {
     "name": "stdout",
     "output_type": "stream",
     "text": [
      "[CV] ............. penalty=l2, score=0.7985711147989066, total=  38.7s\n",
      "[CV] penalty=l2 ......................................................\n"
     ]
    },
    {
     "name": "stderr",
     "output_type": "stream",
     "text": [
      "[Parallel(n_jobs=1)]: Done   4 out of   4 | elapsed:  3.5min remaining:    0.0s\n",
      "C:\\Users\\pamej\\AppData\\Local\\Continuum\\anaconda3\\lib\\site-packages\\sklearn\\linear_model\\stochastic_gradient.py:166: FutureWarning: max_iter and tol parameters have been added in SGDClassifier in 0.19. If both are left unset, they default to max_iter=5 and tol=None. If tol is not None, max_iter defaults to max_iter=1000. From 0.21, default max_iter will be 1000, and default tol will be 1e-3.\n",
      "  FutureWarning)\n"
     ]
    },
    {
     "name": "stdout",
     "output_type": "stream",
     "text": [
      "[CV] ............. penalty=l2, score=0.8024148281921124, total=  43.5s\n",
      "[CV] penalty=l2 ......................................................\n"
     ]
    },
    {
     "name": "stderr",
     "output_type": "stream",
     "text": [
      "C:\\Users\\pamej\\AppData\\Local\\Continuum\\anaconda3\\lib\\site-packages\\sklearn\\linear_model\\stochastic_gradient.py:166: FutureWarning: max_iter and tol parameters have been added in SGDClassifier in 0.19. If both are left unset, they default to max_iter=5 and tol=None. If tol is not None, max_iter defaults to max_iter=1000. From 0.21, default max_iter will be 1000, and default tol will be 1e-3.\n",
      "  FutureWarning)\n"
     ]
    },
    {
     "name": "stdout",
     "output_type": "stream",
     "text": [
      "[CV] ............. penalty=l2, score=0.7995594982428739, total=  41.7s\n"
     ]
    },
    {
     "name": "stderr",
     "output_type": "stream",
     "text": [
      "[Parallel(n_jobs=1)]: Done   6 out of   6 | elapsed:  5.0min finished\n",
      "C:\\Users\\pamej\\AppData\\Local\\Continuum\\anaconda3\\lib\\site-packages\\sklearn\\linear_model\\stochastic_gradient.py:166: FutureWarning: max_iter and tol parameters have been added in SGDClassifier in 0.19. If both are left unset, they default to max_iter=5 and tol=None. If tol is not None, max_iter defaults to max_iter=1000. From 0.21, default max_iter will be 1000, and default tol will be 1e-3.\n",
      "  FutureWarning)\n"
     ]
    },
    {
     "data": {
      "text/plain": [
       "GridSearchCV(cv=3, error_score='raise-deprecating',\n",
       "       estimator=SGDClassifier(alpha=0.0001, average=False, class_weight=None,\n",
       "       early_stopping=False, epsilon=0.1, eta0=0.0, fit_intercept=True,\n",
       "       l1_ratio=0.15, learning_rate='optimal', loss='hinge', max_iter=None,\n",
       "       n_iter=None, n_iter_no_change=5, n_jobs=None, penalty='l2',\n",
       "       power_t=0.5, random_state=None, shuffle=True, tol=None,\n",
       "       validation_fraction=0.1, verbose=0, warm_start=False),\n",
       "       fit_params=None, iid='warn', n_jobs=None,\n",
       "       param_grid={'penalty': ['l1', 'l2']}, pre_dispatch='2*n_jobs',\n",
       "       refit=True, return_train_score='warn', scoring=None, verbose=5)"
      ]
     },
     "execution_count": 51,
     "metadata": {},
     "output_type": "execute_result"
    }
   ],
   "source": [
    "gs_sgdc.fit(X_train, y_train)"
   ]
  },
  {
   "cell_type": "code",
   "execution_count": 52,
   "metadata": {},
   "outputs": [],
   "source": [
    "amazon_sgdc=gs_sgdc.best_estimator_"
   ]
  },
  {
   "cell_type": "code",
   "execution_count": 53,
   "metadata": {},
   "outputs": [
    {
     "data": {
      "text/plain": [
       "SGDClassifier(alpha=0.0001, average=False, class_weight=None,\n",
       "       early_stopping=False, epsilon=0.1, eta0=0.0, fit_intercept=True,\n",
       "       l1_ratio=0.15, learning_rate='optimal', loss='hinge', max_iter=None,\n",
       "       n_iter=None, n_iter_no_change=5, n_jobs=None, penalty='l2',\n",
       "       power_t=0.5, random_state=None, shuffle=True, tol=None,\n",
       "       validation_fraction=0.1, verbose=0, warm_start=False)"
      ]
     },
     "execution_count": 53,
     "metadata": {},
     "output_type": "execute_result"
    }
   ],
   "source": [
    "amazon_sgdc"
   ]
  },
  {
   "cell_type": "code",
   "execution_count": 20,
   "metadata": {},
   "outputs": [],
   "source": [
    "amazon_sgdc=SGDC()"
   ]
  },
  {
   "cell_type": "code",
   "execution_count": 71,
   "metadata": {},
   "outputs": [],
   "source": [
    "with open(\"amazon_sgdc.model\", \"wb\") as archivo_salida:\n",
    "    pickle.dump(amazon_sgdc, archivo_salida)"
   ]
  },
  {
   "cell_type": "code",
   "execution_count": 72,
   "metadata": {},
   "outputs": [],
   "source": [
    "with open(\"amazon_sgdc.model\", \"rb\") as archivo_entrada:\n",
    "    amazon_sgdc = pickle.load(archivo_entrada)"
   ]
  },
  {
   "cell_type": "code",
   "execution_count": 56,
   "metadata": {},
   "outputs": [
    {
     "name": "stdout",
     "output_type": "stream",
     "text": [
      "Accuracy:79.97\n",
      "   Acierto un 79.97% de veces\n",
      "Recall:80.28\n",
      "   Capto el 80.28% de comentarios positivos\n",
      "Precisión:80.86\n",
      "   Cuando predigo un comentario positivo lo hago con un 80.86% de fiabilidad\n",
      "\n",
      "\n",
      "Matriz de confusión\n"
     ]
    },
    {
     "data": {
      "text/plain": [
       "array([[81005, 20715],\n",
       "       [21494, 87520]], dtype=int64)"
      ]
     },
     "execution_count": 56,
     "metadata": {},
     "output_type": "execute_result"
    }
   ],
   "source": [
    "metricas(model_amazon_sgdc,X_test,y_test)"
   ]
  },
  {
   "cell_type": "code",
   "execution_count": 57,
   "metadata": {},
   "outputs": [
    {
     "data": {
      "text/plain": [
       "0.8025205811531954"
      ]
     },
     "execution_count": 57,
     "metadata": {},
     "output_type": "execute_result"
    }
   ],
   "source": [
    "model_amazon_sgdc.score(X_train,y_train)"
   ]
  },
  {
   "cell_type": "code",
   "execution_count": 58,
   "metadata": {},
   "outputs": [
    {
     "name": "stdout",
     "output_type": "stream",
     "text": [
      "              precision    recall  f1-score   support\n",
      "\n",
      "           0       0.79      0.80      0.79    101720\n",
      "           1       0.81      0.80      0.81    109014\n",
      "\n",
      "   micro avg       0.80      0.80      0.80    210734\n",
      "   macro avg       0.80      0.80      0.80    210734\n",
      "weighted avg       0.80      0.80      0.80    210734\n",
      "\n"
     ]
    }
   ],
   "source": [
    "print(classification_report(y_pred=model_amazon_sgdc.predict(X_test),y_true =y_test))\n"
   ]
  },
  {
   "cell_type": "markdown",
   "metadata": {},
   "source": [
    "<a style= 'color:green'> Este modelo mejora los resultados del Random Forest, con un 80% de accuracy, además no está sobreajustando, (80,2% en train, 79,97% en test),  lo cual nos garantiza que va a generalizar mejor a la hora de predecir.\n",
    "\n",
    "Además el tiempo de cómputo de este modelo es mucho más rapido que el del Random Forest"
   ]
  },
  {
   "cell_type": "markdown",
   "metadata": {},
   "source": [
    "<a style='color:blue'> MODELO 3: LINEAR con SGD con datos Estandarizados"
   ]
  },
  {
   "cell_type": "markdown",
   "metadata": {},
   "source": [
    "<a style='color:green'> Según la teoría para mejores resultados se debe trabajar con datos normalizados, a continuación probaremos el modelo normalizando los datos, y ya que el tiempo de cómputo no nos satura la memoria haremos un grid con más modelos en la función de pérdida. Se probarán: hinge= SVM, squearde_hinge= SVM cuadráticas, función del perceptron, SVM con squared epsilon"
   ]
  },
  {
   "cell_type": "code",
   "execution_count": 27,
   "metadata": {},
   "outputs": [],
   "source": [
    "gs_sgdc3=GSC(estimator=SGDC(),\n",
    "          param_grid={'penalty':['l1','l2'],\n",
    "                     'loss':['hinge','squared_hinge','perceptron','squared_epsilon_insensitive']},\n",
    "          cv=5,\n",
    "          verbose=5)"
   ]
  },
  {
   "cell_type": "code",
   "execution_count": 28,
   "metadata": {},
   "outputs": [
    {
     "name": "stdout",
     "output_type": "stream",
     "text": [
      "Fitting 5 folds for each of 8 candidates, totalling 40 fits\n",
      "[CV] loss=hinge, penalty=l1 ..........................................\n"
     ]
    },
    {
     "name": "stderr",
     "output_type": "stream",
     "text": [
      "[Parallel(n_jobs=1)]: Using backend SequentialBackend with 1 concurrent workers.\n",
      "C:\\Users\\pamej\\AppData\\Local\\Continuum\\anaconda3\\lib\\site-packages\\sklearn\\linear_model\\stochastic_gradient.py:166: FutureWarning: max_iter and tol parameters have been added in SGDClassifier in 0.19. If both are left unset, they default to max_iter=5 and tol=None. If tol is not None, max_iter defaults to max_iter=1000. From 0.21, default max_iter will be 1000, and default tol will be 1e-3.\n",
      "  FutureWarning)\n"
     ]
    },
    {
     "name": "stdout",
     "output_type": "stream",
     "text": [
      "[CV] . loss=hinge, penalty=l1, score=0.7549418368177011, total= 2.0min\n",
      "[CV] loss=hinge, penalty=l1 ..........................................\n"
     ]
    },
    {
     "name": "stderr",
     "output_type": "stream",
     "text": [
      "[Parallel(n_jobs=1)]: Done   1 out of   1 | elapsed:  2.1min remaining:    0.0s\n",
      "C:\\Users\\pamej\\AppData\\Local\\Continuum\\anaconda3\\lib\\site-packages\\sklearn\\linear_model\\stochastic_gradient.py:166: FutureWarning: max_iter and tol parameters have been added in SGDClassifier in 0.19. If both are left unset, they default to max_iter=5 and tol=None. If tol is not None, max_iter defaults to max_iter=1000. From 0.21, default max_iter will be 1000, and default tol will be 1e-3.\n",
      "  FutureWarning)\n"
     ]
    },
    {
     "name": "stdout",
     "output_type": "stream",
     "text": [
      "[CV] . loss=hinge, penalty=l1, score=0.7590347969331517, total= 1.6min\n",
      "[CV] loss=hinge, penalty=l1 ..........................................\n"
     ]
    },
    {
     "name": "stderr",
     "output_type": "stream",
     "text": [
      "[Parallel(n_jobs=1)]: Done   2 out of   2 | elapsed:  3.7min remaining:    0.0s\n",
      "C:\\Users\\pamej\\AppData\\Local\\Continuum\\anaconda3\\lib\\site-packages\\sklearn\\linear_model\\stochastic_gradient.py:166: FutureWarning: max_iter and tol parameters have been added in SGDClassifier in 0.19. If both are left unset, they default to max_iter=5 and tol=None. If tol is not None, max_iter defaults to max_iter=1000. From 0.21, default max_iter will be 1000, and default tol will be 1e-3.\n",
      "  FutureWarning)\n"
     ]
    },
    {
     "name": "stdout",
     "output_type": "stream",
     "text": [
      "[CV] . loss=hinge, penalty=l1, score=0.7579569258302659, total= 1.4min\n",
      "[CV] loss=hinge, penalty=l1 ..........................................\n"
     ]
    },
    {
     "name": "stderr",
     "output_type": "stream",
     "text": [
      "[Parallel(n_jobs=1)]: Done   3 out of   3 | elapsed:  5.1min remaining:    0.0s\n",
      "C:\\Users\\pamej\\AppData\\Local\\Continuum\\anaconda3\\lib\\site-packages\\sklearn\\linear_model\\stochastic_gradient.py:166: FutureWarning: max_iter and tol parameters have been added in SGDClassifier in 0.19. If both are left unset, they default to max_iter=5 and tol=None. If tol is not None, max_iter defaults to max_iter=1000. From 0.21, default max_iter will be 1000, and default tol will be 1e-3.\n",
      "  FutureWarning)\n"
     ]
    },
    {
     "name": "stdout",
     "output_type": "stream",
     "text": [
      "[CV] . loss=hinge, penalty=l1, score=0.7491712594822151, total= 1.7min\n",
      "[CV] loss=hinge, penalty=l1 ..........................................\n"
     ]
    },
    {
     "name": "stderr",
     "output_type": "stream",
     "text": [
      "[Parallel(n_jobs=1)]: Done   4 out of   4 | elapsed:  6.9min remaining:    0.0s\n",
      "C:\\Users\\pamej\\AppData\\Local\\Continuum\\anaconda3\\lib\\site-packages\\sklearn\\linear_model\\stochastic_gradient.py:166: FutureWarning: max_iter and tol parameters have been added in SGDClassifier in 0.19. If both are left unset, they default to max_iter=5 and tol=None. If tol is not None, max_iter defaults to max_iter=1000. From 0.21, default max_iter will be 1000, and default tol will be 1e-3.\n",
      "  FutureWarning)\n"
     ]
    },
    {
     "name": "stdout",
     "output_type": "stream",
     "text": [
      "[CV] . loss=hinge, penalty=l1, score=0.7583535010473653, total= 1.6min\n",
      "[CV] loss=hinge, penalty=l2 ..........................................\n"
     ]
    },
    {
     "name": "stderr",
     "output_type": "stream",
     "text": [
      "C:\\Users\\pamej\\AppData\\Local\\Continuum\\anaconda3\\lib\\site-packages\\sklearn\\linear_model\\stochastic_gradient.py:166: FutureWarning: max_iter and tol parameters have been added in SGDClassifier in 0.19. If both are left unset, they default to max_iter=5 and tol=None. If tol is not None, max_iter defaults to max_iter=1000. From 0.21, default max_iter will be 1000, and default tol will be 1e-3.\n",
      "  FutureWarning)\n"
     ]
    },
    {
     "name": "stdout",
     "output_type": "stream",
     "text": [
      "[CV] .. loss=hinge, penalty=l2, score=0.732561213698853, total= 1.1min\n",
      "[CV] loss=hinge, penalty=l2 ..........................................\n"
     ]
    },
    {
     "name": "stderr",
     "output_type": "stream",
     "text": [
      "C:\\Users\\pamej\\AppData\\Local\\Continuum\\anaconda3\\lib\\site-packages\\sklearn\\linear_model\\stochastic_gradient.py:166: FutureWarning: max_iter and tol parameters have been added in SGDClassifier in 0.19. If both are left unset, they default to max_iter=5 and tol=None. If tol is not None, max_iter defaults to max_iter=1000. From 0.21, default max_iter will be 1000, and default tol will be 1e-3.\n",
      "  FutureWarning)\n"
     ]
    },
    {
     "name": "stdout",
     "output_type": "stream",
     "text": [
      "[CV] . loss=hinge, penalty=l2, score=0.7355758475524191, total= 1.4min\n",
      "[CV] loss=hinge, penalty=l2 ..........................................\n"
     ]
    },
    {
     "name": "stderr",
     "output_type": "stream",
     "text": [
      "C:\\Users\\pamej\\AppData\\Local\\Continuum\\anaconda3\\lib\\site-packages\\sklearn\\linear_model\\stochastic_gradient.py:166: FutureWarning: max_iter and tol parameters have been added in SGDClassifier in 0.19. If both are left unset, they default to max_iter=5 and tol=None. If tol is not None, max_iter defaults to max_iter=1000. From 0.21, default max_iter will be 1000, and default tol will be 1e-3.\n",
      "  FutureWarning)\n"
     ]
    },
    {
     "name": "stdout",
     "output_type": "stream",
     "text": [
      "[CV] . loss=hinge, penalty=l2, score=0.7276240060198085, total= 1.4min\n",
      "[CV] loss=hinge, penalty=l2 ..........................................\n"
     ]
    },
    {
     "name": "stderr",
     "output_type": "stream",
     "text": [
      "C:\\Users\\pamej\\AppData\\Local\\Continuum\\anaconda3\\lib\\site-packages\\sklearn\\linear_model\\stochastic_gradient.py:166: FutureWarning: max_iter and tol parameters have been added in SGDClassifier in 0.19. If both are left unset, they default to max_iter=5 and tol=None. If tol is not None, max_iter defaults to max_iter=1000. From 0.21, default max_iter will be 1000, and default tol will be 1e-3.\n",
      "  FutureWarning)\n"
     ]
    },
    {
     "name": "stdout",
     "output_type": "stream",
     "text": [
      "[CV] . loss=hinge, penalty=l2, score=0.7312440259502553, total= 1.4min\n",
      "[CV] loss=hinge, penalty=l2 ..........................................\n"
     ]
    },
    {
     "name": "stderr",
     "output_type": "stream",
     "text": [
      "C:\\Users\\pamej\\AppData\\Local\\Continuum\\anaconda3\\lib\\site-packages\\sklearn\\linear_model\\stochastic_gradient.py:166: FutureWarning: max_iter and tol parameters have been added in SGDClassifier in 0.19. If both are left unset, they default to max_iter=5 and tol=None. If tol is not None, max_iter defaults to max_iter=1000. From 0.21, default max_iter will be 1000, and default tol will be 1e-3.\n",
      "  FutureWarning)\n"
     ]
    },
    {
     "name": "stdout",
     "output_type": "stream",
     "text": [
      "[CV] . loss=hinge, penalty=l2, score=0.7330336987248581, total= 1.4min\n",
      "[CV] loss=squared_hinge, penalty=l1 ..................................\n"
     ]
    },
    {
     "name": "stderr",
     "output_type": "stream",
     "text": [
      "C:\\Users\\pamej\\AppData\\Local\\Continuum\\anaconda3\\lib\\site-packages\\sklearn\\linear_model\\stochastic_gradient.py:166: FutureWarning: max_iter and tol parameters have been added in SGDClassifier in 0.19. If both are left unset, they default to max_iter=5 and tol=None. If tol is not None, max_iter defaults to max_iter=1000. From 0.21, default max_iter will be 1000, and default tol will be 1e-3.\n",
      "  FutureWarning)\n"
     ]
    },
    {
     "name": "stdout",
     "output_type": "stream",
     "text": [
      "[CV]  loss=squared_hinge, penalty=l1, score=0.7297344016920199, total= 1.5min\n",
      "[CV] loss=squared_hinge, penalty=l1 ..................................\n"
     ]
    },
    {
     "name": "stderr",
     "output_type": "stream",
     "text": [
      "C:\\Users\\pamej\\AppData\\Local\\Continuum\\anaconda3\\lib\\site-packages\\sklearn\\linear_model\\stochastic_gradient.py:166: FutureWarning: max_iter and tol parameters have been added in SGDClassifier in 0.19. If both are left unset, they default to max_iter=5 and tol=None. If tol is not None, max_iter defaults to max_iter=1000. From 0.21, default max_iter will be 1000, and default tol will be 1e-3.\n",
      "  FutureWarning)\n"
     ]
    },
    {
     "name": "stdout",
     "output_type": "stream",
     "text": [
      "[CV]  loss=squared_hinge, penalty=l1, score=0.7291187895304143, total= 1.8min\n",
      "[CV] loss=squared_hinge, penalty=l1 ..................................\n"
     ]
    },
    {
     "name": "stderr",
     "output_type": "stream",
     "text": [
      "C:\\Users\\pamej\\AppData\\Local\\Continuum\\anaconda3\\lib\\site-packages\\sklearn\\linear_model\\stochastic_gradient.py:166: FutureWarning: max_iter and tol parameters have been added in SGDClassifier in 0.19. If both are left unset, they default to max_iter=5 and tol=None. If tol is not None, max_iter defaults to max_iter=1000. From 0.21, default max_iter will be 1000, and default tol will be 1e-3.\n",
      "  FutureWarning)\n"
     ]
    },
    {
     "name": "stdout",
     "output_type": "stream",
     "text": [
      "[CV]  loss=squared_hinge, penalty=l1, score=0.7337353318012649, total= 1.6min\n",
      "[CV] loss=squared_hinge, penalty=l1 ..................................\n"
     ]
    },
    {
     "name": "stderr",
     "output_type": "stream",
     "text": [
      "C:\\Users\\pamej\\AppData\\Local\\Continuum\\anaconda3\\lib\\site-packages\\sklearn\\linear_model\\stochastic_gradient.py:166: FutureWarning: max_iter and tol parameters have been added in SGDClassifier in 0.19. If both are left unset, they default to max_iter=5 and tol=None. If tol is not None, max_iter defaults to max_iter=1000. From 0.21, default max_iter will be 1000, and default tol will be 1e-3.\n",
      "  FutureWarning)\n"
     ]
    },
    {
     "name": "stdout",
     "output_type": "stream",
     "text": [
      "[CV]  loss=squared_hinge, penalty=l1, score=0.7334099367513371, total= 1.7min\n",
      "[CV] loss=squared_hinge, penalty=l1 ..................................\n"
     ]
    },
    {
     "name": "stderr",
     "output_type": "stream",
     "text": [
      "C:\\Users\\pamej\\AppData\\Local\\Continuum\\anaconda3\\lib\\site-packages\\sklearn\\linear_model\\stochastic_gradient.py:166: FutureWarning: max_iter and tol parameters have been added in SGDClassifier in 0.19. If both are left unset, they default to max_iter=5 and tol=None. If tol is not None, max_iter defaults to max_iter=1000. From 0.21, default max_iter will be 1000, and default tol will be 1e-3.\n",
      "  FutureWarning)\n"
     ]
    },
    {
     "name": "stdout",
     "output_type": "stream",
     "text": [
      "[CV]  loss=squared_hinge, penalty=l1, score=0.7316406011673547, total= 1.3min\n",
      "[CV] loss=squared_hinge, penalty=l2 ..................................\n"
     ]
    },
    {
     "name": "stderr",
     "output_type": "stream",
     "text": [
      "C:\\Users\\pamej\\AppData\\Local\\Continuum\\anaconda3\\lib\\site-packages\\sklearn\\linear_model\\stochastic_gradient.py:166: FutureWarning: max_iter and tol parameters have been added in SGDClassifier in 0.19. If both are left unset, they default to max_iter=5 and tol=None. If tol is not None, max_iter defaults to max_iter=1000. From 0.21, default max_iter will be 1000, and default tol will be 1e-3.\n",
      "  FutureWarning)\n"
     ]
    },
    {
     "name": "stdout",
     "output_type": "stream",
     "text": [
      "[CV]  loss=squared_hinge, penalty=l2, score=0.7235723582526641, total=  52.9s\n",
      "[CV] loss=squared_hinge, penalty=l2 ..................................\n"
     ]
    },
    {
     "name": "stderr",
     "output_type": "stream",
     "text": [
      "C:\\Users\\pamej\\AppData\\Local\\Continuum\\anaconda3\\lib\\site-packages\\sklearn\\linear_model\\stochastic_gradient.py:166: FutureWarning: max_iter and tol parameters have been added in SGDClassifier in 0.19. If both are left unset, they default to max_iter=5 and tol=None. If tol is not None, max_iter defaults to max_iter=1000. From 0.21, default max_iter will be 1000, and default tol will be 1e-3.\n",
      "  FutureWarning)\n"
     ]
    },
    {
     "name": "stdout",
     "output_type": "stream",
     "text": [
      "[CV]  loss=squared_hinge, penalty=l2, score=0.7196619958918875, total= 1.6min\n",
      "[CV] loss=squared_hinge, penalty=l2 ..................................\n"
     ]
    },
    {
     "name": "stderr",
     "output_type": "stream",
     "text": [
      "C:\\Users\\pamej\\AppData\\Local\\Continuum\\anaconda3\\lib\\site-packages\\sklearn\\linear_model\\stochastic_gradient.py:166: FutureWarning: max_iter and tol parameters have been added in SGDClassifier in 0.19. If both are left unset, they default to max_iter=5 and tol=None. If tol is not None, max_iter defaults to max_iter=1000. From 0.21, default max_iter will be 1000, and default tol will be 1e-3.\n",
      "  FutureWarning)\n"
     ]
    },
    {
     "name": "stdout",
     "output_type": "stream",
     "text": [
      "[CV]  loss=squared_hinge, penalty=l2, score=0.726230908462305, total=  54.5s\n",
      "[CV] loss=squared_hinge, penalty=l2 ..................................\n"
     ]
    },
    {
     "name": "stderr",
     "output_type": "stream",
     "text": [
      "C:\\Users\\pamej\\AppData\\Local\\Continuum\\anaconda3\\lib\\site-packages\\sklearn\\linear_model\\stochastic_gradient.py:166: FutureWarning: max_iter and tol parameters have been added in SGDClassifier in 0.19. If both are left unset, they default to max_iter=5 and tol=None. If tol is not None, max_iter defaults to max_iter=1000. From 0.21, default max_iter will be 1000, and default tol will be 1e-3.\n",
      "  FutureWarning)\n"
     ]
    },
    {
     "name": "stdout",
     "output_type": "stream",
     "text": [
      "[CV]  loss=squared_hinge, penalty=l2, score=0.7235057249191597, total= 1.1min\n",
      "[CV] loss=squared_hinge, penalty=l2 ..................................\n"
     ]
    },
    {
     "name": "stderr",
     "output_type": "stream",
     "text": [
      "C:\\Users\\pamej\\AppData\\Local\\Continuum\\anaconda3\\lib\\site-packages\\sklearn\\linear_model\\stochastic_gradient.py:166: FutureWarning: max_iter and tol parameters have been added in SGDClassifier in 0.19. If both are left unset, they default to max_iter=5 and tol=None. If tol is not None, max_iter defaults to max_iter=1000. From 0.21, default max_iter will be 1000, and default tol will be 1e-3.\n",
      "  FutureWarning)\n"
     ]
    },
    {
     "name": "stdout",
     "output_type": "stream",
     "text": [
      "[CV]  loss=squared_hinge, penalty=l2, score=0.727105407658986, total= 1.0min\n",
      "[CV] loss=perceptron, penalty=l1 .....................................\n"
     ]
    },
    {
     "name": "stderr",
     "output_type": "stream",
     "text": [
      "C:\\Users\\pamej\\AppData\\Local\\Continuum\\anaconda3\\lib\\site-packages\\sklearn\\linear_model\\stochastic_gradient.py:166: FutureWarning: max_iter and tol parameters have been added in SGDClassifier in 0.19. If both are left unset, they default to max_iter=5 and tol=None. If tol is not None, max_iter defaults to max_iter=1000. From 0.21, default max_iter will be 1000, and default tol will be 1e-3.\n",
      "  FutureWarning)\n"
     ]
    },
    {
     "name": "stdout",
     "output_type": "stream",
     "text": [
      "[CV]  loss=perceptron, penalty=l1, score=0.7382555112665745, total= 1.1min\n",
      "[CV] loss=perceptron, penalty=l1 .....................................\n"
     ]
    },
    {
     "name": "stderr",
     "output_type": "stream",
     "text": [
      "C:\\Users\\pamej\\AppData\\Local\\Continuum\\anaconda3\\lib\\site-packages\\sklearn\\linear_model\\stochastic_gradient.py:166: FutureWarning: max_iter and tol parameters have been added in SGDClassifier in 0.19. If both are left unset, they default to max_iter=5 and tol=None. If tol is not None, max_iter defaults to max_iter=1000. From 0.21, default max_iter will be 1000, and default tol will be 1e-3.\n",
      "  FutureWarning)\n"
     ]
    },
    {
     "name": "stdout",
     "output_type": "stream",
     "text": [
      "[CV]  loss=perceptron, penalty=l1, score=0.7249496654532143, total= 1.0min\n",
      "[CV] loss=perceptron, penalty=l1 .....................................\n"
     ]
    },
    {
     "name": "stderr",
     "output_type": "stream",
     "text": [
      "C:\\Users\\pamej\\AppData\\Local\\Continuum\\anaconda3\\lib\\site-packages\\sklearn\\linear_model\\stochastic_gradient.py:166: FutureWarning: max_iter and tol parameters have been added in SGDClassifier in 0.19. If both are left unset, they default to max_iter=5 and tol=None. If tol is not None, max_iter defaults to max_iter=1000. From 0.21, default max_iter will be 1000, and default tol will be 1e-3.\n",
      "  FutureWarning)\n"
     ]
    },
    {
     "name": "stdout",
     "output_type": "stream",
     "text": [
      "[CV]  loss=perceptron, penalty=l1, score=0.7333692623700961, total= 1.3min\n",
      "[CV] loss=perceptron, penalty=l1 .....................................\n"
     ]
    },
    {
     "name": "stderr",
     "output_type": "stream",
     "text": [
      "C:\\Users\\pamej\\AppData\\Local\\Continuum\\anaconda3\\lib\\site-packages\\sklearn\\linear_model\\stochastic_gradient.py:166: FutureWarning: max_iter and tol parameters have been added in SGDClassifier in 0.19. If both are left unset, they default to max_iter=5 and tol=None. If tol is not None, max_iter defaults to max_iter=1000. From 0.21, default max_iter will be 1000, and default tol will be 1e-3.\n",
      "  FutureWarning)\n"
     ]
    },
    {
     "name": "stdout",
     "output_type": "stream",
     "text": [
      "[CV]  loss=perceptron, penalty=l1, score=0.7409041914949869, total= 1.8min\n",
      "[CV] loss=perceptron, penalty=l1 .....................................\n"
     ]
    },
    {
     "name": "stderr",
     "output_type": "stream",
     "text": [
      "C:\\Users\\pamej\\AppData\\Local\\Continuum\\anaconda3\\lib\\site-packages\\sklearn\\linear_model\\stochastic_gradient.py:166: FutureWarning: max_iter and tol parameters have been added in SGDClassifier in 0.19. If both are left unset, they default to max_iter=5 and tol=None. If tol is not None, max_iter defaults to max_iter=1000. From 0.21, default max_iter will be 1000, and default tol will be 1e-3.\n",
      "  FutureWarning)\n"
     ]
    },
    {
     "name": "stdout",
     "output_type": "stream",
     "text": [
      "[CV]  loss=perceptron, penalty=l1, score=0.7249191596672836, total= 1.5min\n",
      "[CV] loss=perceptron, penalty=l2 .....................................\n"
     ]
    },
    {
     "name": "stderr",
     "output_type": "stream",
     "text": [
      "C:\\Users\\pamej\\AppData\\Local\\Continuum\\anaconda3\\lib\\site-packages\\sklearn\\linear_model\\stochastic_gradient.py:166: FutureWarning: max_iter and tol parameters have been added in SGDClassifier in 0.19. If both are left unset, they default to max_iter=5 and tol=None. If tol is not None, max_iter defaults to max_iter=1000. From 0.21, default max_iter will be 1000, and default tol will be 1e-3.\n",
      "  FutureWarning)\n"
     ]
    },
    {
     "name": "stdout",
     "output_type": "stream",
     "text": [
      "[CV]  loss=perceptron, penalty=l2, score=0.7250061010331083, total=  58.3s\n",
      "[CV] loss=perceptron, penalty=l2 .....................................\n"
     ]
    },
    {
     "name": "stderr",
     "output_type": "stream",
     "text": [
      "C:\\Users\\pamej\\AppData\\Local\\Continuum\\anaconda3\\lib\\site-packages\\sklearn\\linear_model\\stochastic_gradient.py:166: FutureWarning: max_iter and tol parameters have been added in SGDClassifier in 0.19. If both are left unset, they default to max_iter=5 and tol=None. If tol is not None, max_iter defaults to max_iter=1000. From 0.21, default max_iter will be 1000, and default tol will be 1e-3.\n",
      "  FutureWarning)\n"
     ]
    },
    {
     "name": "stdout",
     "output_type": "stream",
     "text": [
      "[CV]  loss=perceptron, penalty=l2, score=0.7212584653555958, total=  48.2s\n",
      "[CV] loss=perceptron, penalty=l2 .....................................\n"
     ]
    },
    {
     "name": "stderr",
     "output_type": "stream",
     "text": [
      "C:\\Users\\pamej\\AppData\\Local\\Continuum\\anaconda3\\lib\\site-packages\\sklearn\\linear_model\\stochastic_gradient.py:166: FutureWarning: max_iter and tol parameters have been added in SGDClassifier in 0.19. If both are left unset, they default to max_iter=5 and tol=None. If tol is not None, max_iter defaults to max_iter=1000. From 0.21, default max_iter will be 1000, and default tol will be 1e-3.\n",
      "  FutureWarning)\n"
     ]
    },
    {
     "name": "stdout",
     "output_type": "stream",
     "text": [
      "[CV]  loss=perceptron, penalty=l2, score=0.7259156820076874, total=  46.8s\n",
      "[CV] loss=perceptron, penalty=l2 .....................................\n"
     ]
    },
    {
     "name": "stderr",
     "output_type": "stream",
     "text": [
      "C:\\Users\\pamej\\AppData\\Local\\Continuum\\anaconda3\\lib\\site-packages\\sklearn\\linear_model\\stochastic_gradient.py:166: FutureWarning: max_iter and tol parameters have been added in SGDClassifier in 0.19. If both are left unset, they default to max_iter=5 and tol=None. If tol is not None, max_iter defaults to max_iter=1000. From 0.21, default max_iter will be 1000, and default tol will be 1e-3.\n",
      "  FutureWarning)\n"
     ]
    },
    {
     "name": "stdout",
     "output_type": "stream",
     "text": [
      "[CV]  loss=perceptron, penalty=l2, score=0.7265054605356815, total= 1.7min\n",
      "[CV] loss=perceptron, penalty=l2 .....................................\n"
     ]
    },
    {
     "name": "stderr",
     "output_type": "stream",
     "text": [
      "C:\\Users\\pamej\\AppData\\Local\\Continuum\\anaconda3\\lib\\site-packages\\sklearn\\linear_model\\stochastic_gradient.py:166: FutureWarning: max_iter and tol parameters have been added in SGDClassifier in 0.19. If both are left unset, they default to max_iter=5 and tol=None. If tol is not None, max_iter defaults to max_iter=1000. From 0.21, default max_iter will be 1000, and default tol will be 1e-3.\n",
      "  FutureWarning)\n"
     ]
    },
    {
     "name": "stdout",
     "output_type": "stream",
     "text": [
      "[CV]  loss=perceptron, penalty=l2, score=0.7255902869577596, total= 1.2min\n",
      "[CV] loss=squared_epsilon_insensitive, penalty=l1 ....................\n"
     ]
    },
    {
     "name": "stderr",
     "output_type": "stream",
     "text": [
      "C:\\Users\\pamej\\AppData\\Local\\Continuum\\anaconda3\\lib\\site-packages\\sklearn\\linear_model\\stochastic_gradient.py:166: FutureWarning: max_iter and tol parameters have been added in SGDClassifier in 0.19. If both are left unset, they default to max_iter=5 and tol=None. If tol is not None, max_iter defaults to max_iter=1000. From 0.21, default max_iter will be 1000, and default tol will be 1e-3.\n",
      "  FutureWarning)\n"
     ]
    },
    {
     "name": "stdout",
     "output_type": "stream",
     "text": [
      "[CV]  loss=squared_epsilon_insensitive, penalty=l1, score=0.5021455299764094, total= 1.2min\n",
      "[CV] loss=squared_epsilon_insensitive, penalty=l1 ....................\n"
     ]
    },
    {
     "name": "stderr",
     "output_type": "stream",
     "text": [
      "C:\\Users\\pamej\\AppData\\Local\\Continuum\\anaconda3\\lib\\site-packages\\sklearn\\linear_model\\stochastic_gradient.py:166: FutureWarning: max_iter and tol parameters have been added in SGDClassifier in 0.19. If both are left unset, they default to max_iter=5 and tol=None. If tol is not None, max_iter defaults to max_iter=1000. From 0.21, default max_iter will be 1000, and default tol will be 1e-3.\n",
      "  FutureWarning)\n"
     ]
    },
    {
     "name": "stdout",
     "output_type": "stream",
     "text": [
      "[CV]  loss=squared_epsilon_insensitive, penalty=l1, score=0.5078603241748185, total= 1.6min\n",
      "[CV] loss=squared_epsilon_insensitive, penalty=l1 ....................\n"
     ]
    },
    {
     "name": "stderr",
     "output_type": "stream",
     "text": [
      "C:\\Users\\pamej\\AppData\\Local\\Continuum\\anaconda3\\lib\\site-packages\\sklearn\\linear_model\\stochastic_gradient.py:166: FutureWarning: max_iter and tol parameters have been added in SGDClassifier in 0.19. If both are left unset, they default to max_iter=5 and tol=None. If tol is not None, max_iter defaults to max_iter=1000. From 0.21, default max_iter will be 1000, and default tol will be 1e-3.\n",
      "  FutureWarning)\n"
     ]
    },
    {
     "name": "stdout",
     "output_type": "stream",
     "text": [
      "[CV]  loss=squared_epsilon_insensitive, penalty=l1, score=0.5022472595635639, total= 1.6min\n",
      "[CV] loss=squared_epsilon_insensitive, penalty=l1 ....................\n"
     ]
    },
    {
     "name": "stderr",
     "output_type": "stream",
     "text": [
      "C:\\Users\\pamej\\AppData\\Local\\Continuum\\anaconda3\\lib\\site-packages\\sklearn\\linear_model\\stochastic_gradient.py:166: FutureWarning: max_iter and tol parameters have been added in SGDClassifier in 0.19. If both are left unset, they default to max_iter=5 and tol=None. If tol is not None, max_iter defaults to max_iter=1000. From 0.21, default max_iter will be 1000, and default tol will be 1e-3.\n",
      "  FutureWarning)\n"
     ]
    },
    {
     "name": "stdout",
     "output_type": "stream",
     "text": [
      "[CV]  loss=squared_epsilon_insensitive, penalty=l1, score=0.4987289255862195, total= 1.9min\n",
      "[CV] loss=squared_epsilon_insensitive, penalty=l1 ....................\n"
     ]
    },
    {
     "name": "stderr",
     "output_type": "stream",
     "text": [
      "C:\\Users\\pamej\\AppData\\Local\\Continuum\\anaconda3\\lib\\site-packages\\sklearn\\linear_model\\stochastic_gradient.py:166: FutureWarning: max_iter and tol parameters have been added in SGDClassifier in 0.19. If both are left unset, they default to max_iter=5 and tol=None. If tol is not None, max_iter defaults to max_iter=1000. From 0.21, default max_iter will be 1000, and default tol will be 1e-3.\n",
      "  FutureWarning)\n"
     ]
    },
    {
     "name": "stdout",
     "output_type": "stream",
     "text": [
      "[CV]  loss=squared_epsilon_insensitive, penalty=l1, score=0.5162290781151492, total= 1.7min\n",
      "[CV] loss=squared_epsilon_insensitive, penalty=l2 ....................\n"
     ]
    },
    {
     "name": "stderr",
     "output_type": "stream",
     "text": [
      "C:\\Users\\pamej\\AppData\\Local\\Continuum\\anaconda3\\lib\\site-packages\\sklearn\\linear_model\\stochastic_gradient.py:166: FutureWarning: max_iter and tol parameters have been added in SGDClassifier in 0.19. If both are left unset, they default to max_iter=5 and tol=None. If tol is not None, max_iter defaults to max_iter=1000. From 0.21, default max_iter will be 1000, and default tol will be 1e-3.\n",
      "  FutureWarning)\n"
     ]
    },
    {
     "name": "stdout",
     "output_type": "stream",
     "text": [
      "[CV]  loss=squared_epsilon_insensitive, penalty=l2, score=0.49541405678028144, total= 1.5min\n",
      "[CV] loss=squared_epsilon_insensitive, penalty=l2 ....................\n"
     ]
    },
    {
     "name": "stderr",
     "output_type": "stream",
     "text": [
      "C:\\Users\\pamej\\AppData\\Local\\Continuum\\anaconda3\\lib\\site-packages\\sklearn\\linear_model\\stochastic_gradient.py:166: FutureWarning: max_iter and tol parameters have been added in SGDClassifier in 0.19. If both are left unset, they default to max_iter=5 and tol=None. If tol is not None, max_iter defaults to max_iter=1000. From 0.21, default max_iter will be 1000, and default tol will be 1e-3.\n",
      "  FutureWarning)\n"
     ]
    },
    {
     "name": "stdout",
     "output_type": "stream",
     "text": [
      "[CV]  loss=squared_epsilon_insensitive, penalty=l2, score=0.4967968924772732, total=  53.8s\n",
      "[CV] loss=squared_epsilon_insensitive, penalty=l2 ....................\n"
     ]
    },
    {
     "name": "stderr",
     "output_type": "stream",
     "text": [
      "C:\\Users\\pamej\\AppData\\Local\\Continuum\\anaconda3\\lib\\site-packages\\sklearn\\linear_model\\stochastic_gradient.py:166: FutureWarning: max_iter and tol parameters have been added in SGDClassifier in 0.19. If both are left unset, they default to max_iter=5 and tol=None. If tol is not None, max_iter defaults to max_iter=1000. From 0.21, default max_iter will be 1000, and default tol will be 1e-3.\n",
      "  FutureWarning)\n"
     ]
    },
    {
     "name": "stdout",
     "output_type": "stream",
     "text": [
      "[CV]  loss=squared_epsilon_insensitive, penalty=l2, score=0.49032966585995813, total= 1.2min\n",
      "[CV] loss=squared_epsilon_insensitive, penalty=l2 ....................\n"
     ]
    },
    {
     "name": "stderr",
     "output_type": "stream",
     "text": [
      "C:\\Users\\pamej\\AppData\\Local\\Continuum\\anaconda3\\lib\\site-packages\\sklearn\\linear_model\\stochastic_gradient.py:166: FutureWarning: max_iter and tol parameters have been added in SGDClassifier in 0.19. If both are left unset, they default to max_iter=5 and tol=None. If tol is not None, max_iter defaults to max_iter=1000. From 0.21, default max_iter will be 1000, and default tol will be 1e-3.\n",
      "  FutureWarning)\n"
     ]
    },
    {
     "name": "stdout",
     "output_type": "stream",
     "text": [
      "[CV]  loss=squared_epsilon_insensitive, penalty=l2, score=0.49031949726464785, total= 1.5min\n",
      "[CV] loss=squared_epsilon_insensitive, penalty=l2 ....................\n"
     ]
    },
    {
     "name": "stderr",
     "output_type": "stream",
     "text": [
      "C:\\Users\\pamej\\AppData\\Local\\Continuum\\anaconda3\\lib\\site-packages\\sklearn\\linear_model\\stochastic_gradient.py:166: FutureWarning: max_iter and tol parameters have been added in SGDClassifier in 0.19. If both are left unset, they default to max_iter=5 and tol=None. If tol is not None, max_iter defaults to max_iter=1000. From 0.21, default max_iter will be 1000, and default tol will be 1e-3.\n",
      "  FutureWarning)\n"
     ]
    },
    {
     "name": "stdout",
     "output_type": "stream",
     "text": [
      "[CV]  loss=squared_epsilon_insensitive, penalty=l2, score=0.5191779707551198, total= 1.3min\n"
     ]
    },
    {
     "name": "stderr",
     "output_type": "stream",
     "text": [
      "[Parallel(n_jobs=1)]: Done  40 out of  40 | elapsed: 56.6min finished\n",
      "C:\\Users\\pamej\\AppData\\Local\\Continuum\\anaconda3\\lib\\site-packages\\sklearn\\linear_model\\stochastic_gradient.py:166: FutureWarning: max_iter and tol parameters have been added in SGDClassifier in 0.19. If both are left unset, they default to max_iter=5 and tol=None. If tol is not None, max_iter defaults to max_iter=1000. From 0.21, default max_iter will be 1000, and default tol will be 1e-3.\n",
      "  FutureWarning)\n"
     ]
    },
    {
     "data": {
      "text/plain": [
       "GridSearchCV(cv=5, error_score='raise-deprecating',\n",
       "       estimator=SGDClassifier(alpha=0.0001, average=False, class_weight=None,\n",
       "       early_stopping=False, epsilon=0.1, eta0=0.0, fit_intercept=True,\n",
       "       l1_ratio=0.15, learning_rate='optimal', loss='hinge', max_iter=None,\n",
       "       n_iter=None, n_iter_no_change=5, n_jobs=None, penalty='l2',\n",
       "       power_t=0.5, random_state=None, shuffle=True, tol=None,\n",
       "       validation_fraction=0.1, verbose=0, warm_start=False),\n",
       "       fit_params=None, iid='warn', n_jobs=None,\n",
       "       param_grid={'penalty': ['l1', 'l2'], 'loss': ['hinge', 'squared_hinge', 'perceptron', 'squared_epsilon_insensitive']},\n",
       "       pre_dispatch='2*n_jobs', refit=True, return_train_score='warn',\n",
       "       scoring=None, verbose=5)"
      ]
     },
     "execution_count": 28,
     "metadata": {},
     "output_type": "execute_result"
    }
   ],
   "source": [
    "gs_sgdc3.fit(X_train_sc,y_train)"
   ]
  },
  {
   "cell_type": "code",
   "execution_count": 29,
   "metadata": {},
   "outputs": [],
   "source": [
    "amazon_sgdc3=gs_sgdc3.best_estimator_"
   ]
  },
  {
   "cell_type": "code",
   "execution_count": 30,
   "metadata": {},
   "outputs": [
    {
     "data": {
      "text/plain": [
       "SGDClassifier(alpha=0.0001, average=False, class_weight=None,\n",
       "       early_stopping=False, epsilon=0.1, eta0=0.0, fit_intercept=True,\n",
       "       l1_ratio=0.15, learning_rate='optimal', loss='hinge', max_iter=None,\n",
       "       n_iter=None, n_iter_no_change=5, n_jobs=None, penalty='l1',\n",
       "       power_t=0.5, random_state=None, shuffle=True, tol=None,\n",
       "       validation_fraction=0.1, verbose=0, warm_start=False)"
      ]
     },
     "execution_count": 30,
     "metadata": {},
     "output_type": "execute_result"
    }
   ],
   "source": [
    "amazon_sgdc3"
   ]
  },
  {
   "cell_type": "markdown",
   "metadata": {},
   "source": [
    "<a style='color:green'> La función de pérdida que mejor funciona es SVM"
   ]
  },
  {
   "cell_type": "code",
   "execution_count": 31,
   "metadata": {},
   "outputs": [
    {
     "name": "stdout",
     "output_type": "stream",
     "text": [
      "Accuracy:75.43\n",
      "   Acierto un 75.43% de veces\n",
      "Recall:74.98\n",
      "   Capto el 74.98% de comentarios positivos\n",
      "Precisión:76.94\n",
      "   Cuando predigo un comentario positivo lo hago con un 76.94% de fiabilidad\n",
      "\n",
      "\n",
      "Matriz de confusión\n"
     ]
    },
    {
     "data": {
      "text/plain": [
       "array([[77217, 24503],\n",
       "       [27274, 81740]], dtype=int64)"
      ]
     },
     "execution_count": 31,
     "metadata": {},
     "output_type": "execute_result"
    }
   ],
   "source": [
    "metricas(amazon_sgdc3,X_test_sc,y_test)"
   ]
  },
  {
   "cell_type": "markdown",
   "metadata": {},
   "source": [
    "<a style='color:green'> Pero vemos que con datos estandarizados bajan las métricas del modelo"
   ]
  },
  {
   "cell_type": "markdown",
   "metadata": {},
   "source": [
    "<a style='color:blue'> MODELO 4: MLP CLASSIFIER"
   ]
  },
  {
   "cell_type": "code",
   "execution_count": 30,
   "metadata": {},
   "outputs": [],
   "source": [
    "gs_mlp=GSC(estimator=MLP(),\n",
    "          param_grid={'activation':['relu'],\n",
    "                     'alpha':[0.0001,0.001]},\n",
    "          cv=3,\n",
    "          verbose=5)"
   ]
  },
  {
   "cell_type": "code",
   "execution_count": 31,
   "metadata": {},
   "outputs": [
    {
     "name": "stdout",
     "output_type": "stream",
     "text": [
      "Fitting 3 folds for each of 2 candidates, totalling 6 fits\n",
      "[CV] activation=relu, alpha=0.0001 ...................................\n"
     ]
    },
    {
     "name": "stderr",
     "output_type": "stream",
     "text": [
      "[Parallel(n_jobs=1)]: Using backend SequentialBackend with 1 concurrent workers.\n"
     ]
    },
    {
     "name": "stdout",
     "output_type": "stream",
     "text": [
      "[CV]  activation=relu, alpha=0.0001, score=0.7651735162046076, total=48.0min\n",
      "[CV] activation=relu, alpha=0.0001 ...................................\n"
     ]
    },
    {
     "name": "stderr",
     "output_type": "stream",
     "text": [
      "[Parallel(n_jobs=1)]: Done   1 out of   1 | elapsed: 48.3min remaining:    0.0s\n"
     ]
    },
    {
     "name": "stdout",
     "output_type": "stream",
     "text": [
      "[CV]  activation=relu, alpha=0.0001, score=0.7634346934791097, total=38.9min\n",
      "[CV] activation=relu, alpha=0.0001 ...................................\n"
     ]
    },
    {
     "name": "stderr",
     "output_type": "stream",
     "text": [
      "[Parallel(n_jobs=1)]: Done   2 out of   2 | elapsed: 87.4min remaining:    0.0s\n"
     ]
    },
    {
     "name": "stdout",
     "output_type": "stream",
     "text": [
      "[CV]  activation=relu, alpha=0.0001, score=0.7618911069894573, total=48.9min\n",
      "[CV] activation=relu, alpha=0.001 ....................................\n"
     ]
    },
    {
     "name": "stderr",
     "output_type": "stream",
     "text": [
      "[Parallel(n_jobs=1)]: Done   3 out of   3 | elapsed: 136.5min remaining:    0.0s\n"
     ]
    },
    {
     "name": "stdout",
     "output_type": "stream",
     "text": [
      "[CV]  activation=relu, alpha=0.001, score=0.7634896036704413, total=75.0min\n",
      "[CV] activation=relu, alpha=0.001 ....................................\n"
     ]
    },
    {
     "name": "stderr",
     "output_type": "stream",
     "text": [
      "[Parallel(n_jobs=1)]: Done   4 out of   4 | elapsed: 211.7min remaining:    0.0s\n"
     ]
    },
    {
     "name": "stdout",
     "output_type": "stream",
     "text": [
      "[CV]  activation=relu, alpha=0.001, score=0.7622205681374463, total=78.4min\n",
      "[CV] activation=relu, alpha=0.001 ....................................\n",
      "[CV]  activation=relu, alpha=0.001, score=0.7622510737992971, total=112.3min\n"
     ]
    },
    {
     "name": "stderr",
     "output_type": "stream",
     "text": [
      "[Parallel(n_jobs=1)]: Done   6 out of   6 | elapsed: 402.8min finished\n"
     ]
    },
    {
     "data": {
      "text/plain": [
       "GridSearchCV(cv=3, error_score='raise-deprecating',\n",
       "       estimator=MLPClassifier(activation='relu', alpha=0.0001, batch_size='auto', beta_1=0.9,\n",
       "       beta_2=0.999, early_stopping=False, epsilon=1e-08,\n",
       "       hidden_layer_sizes=(100,), learning_rate='constant',\n",
       "       learning_rate_init=0.001, max_iter=200, momentum=0.9,\n",
       "       n_iter_no_change=10, nesterovs_momentum=True, power_t=0.5,\n",
       "       random_state=None, shuffle=True, solver='adam', tol=0.0001,\n",
       "       validation_fraction=0.1, verbose=False, warm_start=False),\n",
       "       fit_params=None, iid='warn', n_jobs=None,\n",
       "       param_grid={'activation': ['relu'], 'alpha': [0.0001, 0.001]},\n",
       "       pre_dispatch='2*n_jobs', refit=True, return_train_score='warn',\n",
       "       scoring=None, verbose=5)"
      ]
     },
     "execution_count": 31,
     "metadata": {},
     "output_type": "execute_result"
    }
   ],
   "source": [
    "gs_mlp.fit(X_train,y_train)"
   ]
  },
  {
   "cell_type": "code",
   "execution_count": 32,
   "metadata": {},
   "outputs": [],
   "source": [
    "amazon_mlp=gs_mlp.best_estimator_"
   ]
  },
  {
   "cell_type": "code",
   "execution_count": 68,
   "metadata": {},
   "outputs": [],
   "source": [
    "with open(\"amazon_mlp.model\", \"wb\") as archivo_salida:\n",
    "    pickle.dump(amazon_mlp, archivo_salida)"
   ]
  },
  {
   "cell_type": "code",
   "execution_count": 69,
   "metadata": {},
   "outputs": [],
   "source": [
    "with open(\"amazon_mlp.model\", \"rb\") as archivo_entrada:\n",
    "    amazon_mlp = pickle.load(archivo_entrada)"
   ]
  },
  {
   "cell_type": "code",
   "execution_count": 37,
   "metadata": {},
   "outputs": [
    {
     "data": {
      "text/plain": [
       "MLPClassifier(activation='relu', alpha=0.0001, batch_size='auto', beta_1=0.9,\n",
       "       beta_2=0.999, early_stopping=False, epsilon=1e-08,\n",
       "       hidden_layer_sizes=(100,), learning_rate='constant',\n",
       "       learning_rate_init=0.001, max_iter=200, momentum=0.9,\n",
       "       n_iter_no_change=10, nesterovs_momentum=True, power_t=0.5,\n",
       "       random_state=None, shuffle=True, solver='adam', tol=0.0001,\n",
       "       validation_fraction=0.1, verbose=False, warm_start=False)"
      ]
     },
     "execution_count": 37,
     "metadata": {},
     "output_type": "execute_result"
    }
   ],
   "source": [
    "model_amazon_mlp"
   ]
  },
  {
   "cell_type": "code",
   "execution_count": 36,
   "metadata": {},
   "outputs": [
    {
     "name": "stdout",
     "output_type": "stream",
     "text": [
      "Accuracy:75.57\n",
      "   Acierto un 75.57% de veces\n",
      "Recall:76.14\n",
      "   Capto el 76.14% de comentarios positivos\n",
      "Precisión:76.52\n",
      "   Cuando predigo un comentario positivo lo hago con un 76.52% de fiabilidad\n",
      "\n",
      "\n",
      "Matriz de confusión\n"
     ]
    },
    {
     "data": {
      "text/plain": [
       "array([[76246, 25474],\n",
       "       [26011, 83003]], dtype=int64)"
      ]
     },
     "execution_count": 36,
     "metadata": {},
     "output_type": "execute_result"
    }
   ],
   "source": [
    "metricas(model_amazon_mlp,X_test,y_test)"
   ]
  },
  {
   "cell_type": "code",
   "execution_count": 49,
   "metadata": {},
   "outputs": [
    {
     "name": "stdout",
     "output_type": "stream",
     "text": [
      "              precision    recall  f1-score   support\n",
      "\n",
      "           0       0.75      0.75      0.75    101720\n",
      "           1       0.77      0.76      0.76    109014\n",
      "\n",
      "   micro avg       0.76      0.76      0.76    210734\n",
      "   macro avg       0.76      0.76      0.76    210734\n",
      "weighted avg       0.76      0.76      0.76    210734\n",
      "\n"
     ]
    }
   ],
   "source": [
    "print(classification_report(y_pred=model_amazon_mlp.predict(X_test),y_true =y_test))"
   ]
  },
  {
   "cell_type": "code",
   "execution_count": 59,
   "metadata": {},
   "outputs": [
    {
     "data": {
      "text/plain": [
       "0.9980781433033971"
      ]
     },
     "execution_count": 59,
     "metadata": {},
     "output_type": "execute_result"
    }
   ],
   "source": [
    "model_amazon_mlp.score(X_train,y_train)"
   ]
  },
  {
   "cell_type": "markdown",
   "metadata": {},
   "source": [
    "<a style='color:green'>La accuracy de la red neuronal en train es del 99% mientras que en test del 75%. El modelo está sobreajustando. "
   ]
  },
  {
   "cell_type": "markdown",
   "metadata": {},
   "source": [
    "<a style='color:blue'> MODELO 4: NAIVE BAYES"
   ]
  },
  {
   "cell_type": "markdown",
   "metadata": {},
   "source": [
    "Naive Bayes classifier for multinomial models\n",
    "The multinomial Naive Bayes classifier is suitable for classification with discrete features (e.g., word counts for text classification). The multinomial distribution normally requires integer feature counts. However, in practice, fractional counts such as tf-idf may also work."
   ]
  },
  {
   "cell_type": "code",
   "execution_count": 30,
   "metadata": {},
   "outputs": [],
   "source": [
    "gs_mnb2=GSC(estimator=MNB(),\n",
    "          param_grid={'fit_prior':[True, False]\n",
    "                     },\n",
    "          cv=10,\n",
    "          verbose=5)"
   ]
  },
  {
   "cell_type": "code",
   "execution_count": 31,
   "metadata": {},
   "outputs": [
    {
     "name": "stdout",
     "output_type": "stream",
     "text": [
      "Fitting 10 folds for each of 2 candidates, totalling 20 fits\n"
     ]
    },
    {
     "name": "stderr",
     "output_type": "stream",
     "text": [
      "[Parallel(n_jobs=1)]: Using backend SequentialBackend with 1 concurrent workers.\n"
     ]
    },
    {
     "name": "stdout",
     "output_type": "stream",
     "text": [
      "[CV] fit_prior=True ..................................................\n",
      "[CV] ......... fit_prior=True, score=0.7826449474305005, total= 1.2min\n",
      "[CV] fit_prior=True ..................................................\n"
     ]
    },
    {
     "name": "stderr",
     "output_type": "stream",
     "text": [
      "[Parallel(n_jobs=1)]: Done   1 out of   1 | elapsed:  1.2min remaining:    0.0s\n"
     ]
    },
    {
     "name": "stdout",
     "output_type": "stream",
     "text": [
      "[CV] ......... fit_prior=True, score=0.7834699314636676, total=  40.0s\n",
      "[CV] fit_prior=True ..................................................\n"
     ]
    },
    {
     "name": "stderr",
     "output_type": "stream",
     "text": [
      "[Parallel(n_jobs=1)]: Done   2 out of   2 | elapsed:  1.9min remaining:    0.0s\n"
     ]
    },
    {
     "name": "stdout",
     "output_type": "stream",
     "text": [
      "[CV] ......... fit_prior=True, score=0.7845478025665534, total=  41.1s\n",
      "[CV] fit_prior=True ..................................................\n"
     ]
    },
    {
     "name": "stderr",
     "output_type": "stream",
     "text": [
      "[Parallel(n_jobs=1)]: Done   3 out of   3 | elapsed:  2.7min remaining:    0.0s\n"
     ]
    },
    {
     "name": "stdout",
     "output_type": "stream",
     "text": [
      "[CV] ......... fit_prior=True, score=0.7845071281853124, total=  42.9s\n",
      "[CV] fit_prior=True ..................................................\n"
     ]
    },
    {
     "name": "stderr",
     "output_type": "stream",
     "text": [
      "[Parallel(n_jobs=1)]: Done   4 out of   4 | elapsed:  3.5min remaining:    0.0s\n"
     ]
    },
    {
     "name": "stdout",
     "output_type": "stream",
     "text": [
      "[CV] ......... fit_prior=True, score=0.7830225132700169, total=  36.1s\n",
      "[CV] fit_prior=True ..................................................\n",
      "[CV] ......... fit_prior=True, score=0.7865408472473613, total=  39.6s\n",
      "[CV] fit_prior=True ..................................................\n",
      "[CV] ......... fit_prior=True, score=0.7877204043033496, total=  45.1s\n",
      "[CV] fit_prior=True ..................................................\n",
      "[CV] ......... fit_prior=True, score=0.7803990156799739, total=  56.2s\n",
      "[CV] fit_prior=True ..................................................\n",
      "[CV] ......... fit_prior=True, score=0.7846494885196559, total=  54.0s\n",
      "[CV] fit_prior=True ..................................................\n",
      "[CV] ......... fit_prior=True, score=0.7830225132700169, total=  44.0s\n",
      "[CV] fit_prior=False .................................................\n",
      "[CV] ........ fit_prior=False, score=0.7830720110629817, total=  39.5s\n",
      "[CV] fit_prior=False .................................................\n",
      "[CV] ........ fit_prior=False, score=0.7848935348071018, total= 1.3min\n",
      "[CV] fit_prior=False .................................................\n",
      "[CV] ........ fit_prior=False, score=0.7859103943381262, total= 1.1min\n",
      "[CV] fit_prior=False .................................................\n",
      "[CV] ........ fit_prior=False, score=0.7859103943381262, total=  46.4s\n",
      "[CV] fit_prior=False .................................................\n",
      "[CV] ........ fit_prior=False, score=0.7832462223668423, total=  52.6s\n",
      "[CV] fit_prior=False .................................................\n",
      "[CV] ......... fit_prior=False, score=0.785991743100608, total=  51.9s\n",
      "[CV] fit_prior=False .................................................\n",
      "[CV] ........ fit_prior=False, score=0.7883101828313437, total=  57.9s\n",
      "[CV] fit_prior=False .................................................\n",
      "[CV] ........ fit_prior=False, score=0.7799719346769437, total= 1.2min\n",
      "[CV] fit_prior=False .................................................\n",
      "[CV] ......... fit_prior=False, score=0.784568139757174, total=  55.0s\n",
      "[CV] fit_prior=False .................................................\n",
      "[CV] ........ fit_prior=False, score=0.7831241992231193, total= 1.2min\n"
     ]
    },
    {
     "name": "stderr",
     "output_type": "stream",
     "text": [
      "[Parallel(n_jobs=1)]: Done  20 out of  20 | elapsed: 18.8min finished\n"
     ]
    },
    {
     "data": {
      "text/plain": [
       "GridSearchCV(cv=10, error_score='raise-deprecating',\n",
       "       estimator=MultinomialNB(alpha=1.0, class_prior=None, fit_prior=True),\n",
       "       fit_params=None, iid='warn', n_jobs=None,\n",
       "       param_grid={'fit_prior': [True, False]}, pre_dispatch='2*n_jobs',\n",
       "       refit=True, return_train_score='warn', scoring=None, verbose=5)"
      ]
     },
     "execution_count": 31,
     "metadata": {},
     "output_type": "execute_result"
    }
   ],
   "source": [
    "gs_mnb2.fit(X_train,y_train)"
   ]
  },
  {
   "cell_type": "code",
   "execution_count": 39,
   "metadata": {},
   "outputs": [],
   "source": [
    "amazon_mnb2=gs_mnb2.best_estimator_"
   ]
  },
  {
   "cell_type": "code",
   "execution_count": 43,
   "metadata": {},
   "outputs": [
    {
     "data": {
      "text/plain": [
       "MultinomialNB(alpha=1.0, class_prior=None, fit_prior=False)"
      ]
     },
     "execution_count": 43,
     "metadata": {},
     "output_type": "execute_result"
    }
   ],
   "source": [
    "amazon_mnb2"
   ]
  },
  {
   "cell_type": "code",
   "execution_count": 41,
   "metadata": {},
   "outputs": [],
   "source": [
    "with open(\"amazon_mnb.model\", \"wb\") as archivo_salida:\n",
    "    pickle.dump(amazon_mnb2, archivo_salida)"
   ]
  },
  {
   "cell_type": "code",
   "execution_count": 42,
   "metadata": {},
   "outputs": [],
   "source": [
    "with open(\"amazon_mnb.model\", \"rb\") as archivo_entrada:\n",
    "    amazon_mnb = pickle.load(archivo_entrada)"
   ]
  },
  {
   "cell_type": "code",
   "execution_count": 44,
   "metadata": {},
   "outputs": [
    {
     "name": "stdout",
     "output_type": "stream",
     "text": [
      "Accuracy:78.38\n",
      "   Acierto un 78.38% de veces\n",
      "Recall:79.69\n",
      "   Capto el 79.69% de comentarios positivos\n",
      "Precisión:78.77\n",
      "   Cuando predigo un comentario positivo lo hago con un 78.77% de fiabilidad\n",
      "\n",
      "\n",
      "Matriz de confusión\n"
     ]
    },
    {
     "data": {
      "text/plain": [
       "array([[78303, 23417],\n",
       "       [22138, 86876]], dtype=int64)"
      ]
     },
     "execution_count": 44,
     "metadata": {},
     "output_type": "execute_result"
    }
   ],
   "source": [
    "metricas(amazon_mnb,X_test,y_test)"
   ]
  },
  {
   "cell_type": "code",
   "execution_count": 45,
   "metadata": {},
   "outputs": [
    {
     "data": {
      "text/plain": [
       "0.7858970291552779"
      ]
     },
     "execution_count": 45,
     "metadata": {},
     "output_type": "execute_result"
    }
   ],
   "source": [
    "amazon_mnb.score(X_train,y_train)"
   ]
  },
  {
   "cell_type": "markdown",
   "metadata": {},
   "source": [
    "<a style='color:green'> Est modelo tampoco sobreajusta. Pero sigue siendo mejor el linear con descenso de gradiente estocástico y función de pérdida SVM"
   ]
  },
  {
   "cell_type": "markdown",
   "metadata": {},
   "source": [
    "<a style='color:blue'> MODELO 4: LINEAR SUPPORT VECTOR MACHINE"
   ]
  },
  {
   "cell_type": "markdown",
   "metadata": {},
   "source": [
    "<a style='color:green'> Las SVM también funcionan muy bien para clasificar textos"
   ]
  },
  {
   "cell_type": "code",
   "execution_count": 18,
   "metadata": {},
   "outputs": [],
   "source": [
    "gs_svc=GSC(estimator=SVC(),\n",
    "          param_grid={'loss':['hinge','squared_hinge'],\n",
    "                     'penalty':['l2']},\n",
    "          cv=3,\n",
    "          verbose=5)"
   ]
  },
  {
   "cell_type": "code",
   "execution_count": 59,
   "metadata": {},
   "outputs": [
    {
     "name": "stdout",
     "output_type": "stream",
     "text": [
      "Fitting 3 folds for each of 2 candidates, totalling 6 fits\n",
      "[CV] loss=hinge, penalty=l2 ..........................................\n"
     ]
    },
    {
     "name": "stderr",
     "output_type": "stream",
     "text": [
      "[Parallel(n_jobs=1)]: Using backend SequentialBackend with 1 concurrent workers.\n",
      "C:\\Users\\pamej\\AppData\\Local\\Continuum\\anaconda3\\lib\\site-packages\\sklearn\\svm\\base.py:931: ConvergenceWarning: Liblinear failed to converge, increase the number of iterations.\n",
      "  \"the number of iterations.\", ConvergenceWarning)\n"
     ]
    },
    {
     "name": "stdout",
     "output_type": "stream",
     "text": [
      "[CV] . loss=hinge, penalty=l2, score=0.8023721202655213, total= 1.3min\n",
      "[CV] loss=hinge, penalty=l2 ..........................................\n"
     ]
    },
    {
     "name": "stderr",
     "output_type": "stream",
     "text": [
      "[Parallel(n_jobs=1)]: Done   1 out of   1 | elapsed:  1.4min remaining:    0.0s\n",
      "C:\\Users\\pamej\\AppData\\Local\\Continuum\\anaconda3\\lib\\site-packages\\sklearn\\svm\\base.py:931: ConvergenceWarning: Liblinear failed to converge, increase the number of iterations.\n",
      "  \"the number of iterations.\", ConvergenceWarning)\n"
     ]
    },
    {
     "name": "stdout",
     "output_type": "stream",
     "text": [
      "[CV] . loss=hinge, penalty=l2, score=0.8053555739945334, total=  49.1s\n"
     ]
    },
    {
     "name": "stderr",
     "output_type": "stream",
     "text": [
      "[Parallel(n_jobs=1)]: Done   2 out of   2 | elapsed:  2.2min remaining:    0.0s\n"
     ]
    },
    {
     "name": "stdout",
     "output_type": "stream",
     "text": [
      "[CV] loss=hinge, penalty=l2 ..........................................\n"
     ]
    },
    {
     "name": "stderr",
     "output_type": "stream",
     "text": [
      "C:\\Users\\pamej\\AppData\\Local\\Continuum\\anaconda3\\lib\\site-packages\\sklearn\\svm\\base.py:931: ConvergenceWarning: Liblinear failed to converge, increase the number of iterations.\n",
      "  \"the number of iterations.\", ConvergenceWarning)\n"
     ]
    },
    {
     "name": "stdout",
     "output_type": "stream",
     "text": [
      "[CV] . loss=hinge, penalty=l2, score=0.8030615482233503, total=  50.6s\n",
      "[CV] loss=squared_hinge, penalty=l2 ..................................\n"
     ]
    },
    {
     "name": "stderr",
     "output_type": "stream",
     "text": [
      "[Parallel(n_jobs=1)]: Done   3 out of   3 | elapsed:  3.1min remaining:    0.0s\n"
     ]
    },
    {
     "name": "stdout",
     "output_type": "stream",
     "text": [
      "[CV]  loss=squared_hinge, penalty=l2, score=0.8024575361187036, total=  50.5s\n",
      "[CV] loss=squared_hinge, penalty=l2 ..................................\n"
     ]
    },
    {
     "name": "stderr",
     "output_type": "stream",
     "text": [
      "[Parallel(n_jobs=1)]: Done   4 out of   4 | elapsed:  4.0min remaining:    0.0s\n"
     ]
    },
    {
     "name": "stdout",
     "output_type": "stream",
     "text": [
      "[CV]  loss=squared_hinge, penalty=l2, score=0.8050322139789144, total=  52.6s\n",
      "[CV] loss=squared_hinge, penalty=l2 ..................................\n",
      "[CV]  loss=squared_hinge, penalty=l2, score=0.8022134908238969, total= 1.1min\n"
     ]
    },
    {
     "name": "stderr",
     "output_type": "stream",
     "text": [
      "[Parallel(n_jobs=1)]: Done   6 out of   6 | elapsed:  6.1min finished\n",
      "C:\\Users\\pamej\\AppData\\Local\\Continuum\\anaconda3\\lib\\site-packages\\sklearn\\svm\\base.py:931: ConvergenceWarning: Liblinear failed to converge, increase the number of iterations.\n",
      "  \"the number of iterations.\", ConvergenceWarning)\n"
     ]
    },
    {
     "data": {
      "text/plain": [
       "GridSearchCV(cv=3, error_score='raise-deprecating',\n",
       "       estimator=LinearSVC(C=1.0, class_weight=None, dual=True, fit_intercept=True,\n",
       "     intercept_scaling=1, loss='squared_hinge', max_iter=1000,\n",
       "     multi_class='ovr', penalty='l2', random_state=None, tol=0.0001,\n",
       "     verbose=0),\n",
       "       fit_params=None, iid='warn', n_jobs=None,\n",
       "       param_grid={'loss': ['hinge', 'squared_hinge'], 'penalty': ['l2']},\n",
       "       pre_dispatch='2*n_jobs', refit=True, return_train_score='warn',\n",
       "       scoring=None, verbose=5)"
      ]
     },
     "execution_count": 59,
     "metadata": {},
     "output_type": "execute_result"
    }
   ],
   "source": [
    "gs_svc.fit(X_train,y_train)"
   ]
  },
  {
   "cell_type": "code",
   "execution_count": 60,
   "metadata": {},
   "outputs": [],
   "source": [
    "amazon_svm=gs_svc.best_estimator_"
   ]
  },
  {
   "cell_type": "code",
   "execution_count": 61,
   "metadata": {},
   "outputs": [],
   "source": [
    "with open ('amazon_svm.model','wb') as archivo_salida:\n",
    "    pickle.dump(amazon_svm,archivo_salida)"
   ]
  },
  {
   "cell_type": "code",
   "execution_count": 32,
   "metadata": {},
   "outputs": [],
   "source": [
    "with open ('amazon_svm.model','rb') as archivo_entrada:\n",
    "    amazon_svm=pickle.load(archivo_entrada)"
   ]
  },
  {
   "cell_type": "code",
   "execution_count": 33,
   "metadata": {},
   "outputs": [
    {
     "name": "stdout",
     "output_type": "stream",
     "text": [
      "Accuracy:80.37\n",
      "   Acierto un 80.37% de veces\n",
      "Recall:81.51\n",
      "   Capto el 81.51% de comentarios positivos\n",
      "Precisión:80.73\n",
      "   Cuando predigo un comentario positivo lo hago con un 80.73% de fiabilidad\n",
      "\n",
      "\n",
      "Matriz de confusión\n"
     ]
    },
    {
     "data": {
      "text/plain": [
       "array([[80510, 21210],\n",
       "       [20154, 88860]], dtype=int64)"
      ]
     },
     "execution_count": 33,
     "metadata": {},
     "output_type": "execute_result"
    }
   ],
   "source": [
    "metricas(amazon_svm,X_test,y_test)"
   ]
  },
  {
   "cell_type": "code",
   "execution_count": 34,
   "metadata": {},
   "outputs": [
    {
     "data": {
      "text/plain": [
       "0.8078407685799818"
      ]
     },
     "execution_count": 34,
     "metadata": {},
     "output_type": "execute_result"
    }
   ],
   "source": [
    "amazon_svm.score(X_train,y_train)"
   ]
  },
  {
   "cell_type": "markdown",
   "metadata": {},
   "source": [
    "<a style='color:green'>Efectivamente la SVM es el modelo con mejores métricas entre todos los modelos probados, este modelo tampoco sobreajusta (80.78 en train y 80.37 en test). Garantizando que sabe generalizar en las predicciones."
   ]
  },
  {
   "cell_type": "markdown",
   "metadata": {},
   "source": [
    "<a style='color:blue'> CONCLUSIONES"
   ]
  },
  {
   "cell_type": "markdown",
   "metadata": {},
   "source": [
    "<a style='color:green'> El modelo más robusto que hemos probado para este caso es es una SVM Lineal. Este modelo ha sido el que mejor accuracy nos ha dado con un 80,37%. \n",
    "\n",
    "Otro modelo recomendado para predicción de texto son las SVM no lineales, pero estos modelos internamente hacen multiplicaciones matriciales que para este caso al tener mas de 700k comentarios con 2500 features, se volvían muy grandes y daban un fallo de memoria.\n",
    "\n",
    "Se intentó hacer pipelines para que vectorizen, estandarizen y entrenen los modelos, pero la memoria de computo fallaba.\n"
   ]
  }
 ],
 "metadata": {
  "kernelspec": {
   "display_name": "Python 3",
   "language": "python",
   "name": "python3"
  },
  "language_info": {
   "codemirror_mode": {
    "name": "ipython",
    "version": 3
   },
   "file_extension": ".py",
   "mimetype": "text/x-python",
   "name": "python",
   "nbconvert_exporter": "python",
   "pygments_lexer": "ipython3",
   "version": "3.7.3"
  }
 },
 "nbformat": 4,
 "nbformat_minor": 1
}
